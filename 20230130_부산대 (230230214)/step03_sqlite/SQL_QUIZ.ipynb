{
 "cells": [
  {
   "cell_type": "code",
   "execution_count": 65,
   "metadata": {},
   "outputs": [
    {
     "data": {
      "text/plain": [
       "<sqlite3.Cursor at 0x234234c0490>"
      ]
     },
     "execution_count": 65,
     "metadata": {},
     "output_type": "execute_result"
    }
   ],
   "source": [
    "import  sqlite3\n",
    "\n",
    "conn = sqlite3.connect(\"address.db\")\n",
    "cursor = conn.cursor()\n",
    "sql =   ''' create table if not exists addr (\n",
    "                id integer not null primary key autoincrement,\n",
    "                name text not null,\n",
    "                mobile text,\n",
    "                email text,\n",
    "                address text);\n",
    "        '''\n",
    "cursor.execute(sql)"
   ]
  },
  {
   "cell_type": "code",
   "execution_count": 66,
   "metadata": {},
   "outputs": [],
   "source": [
    "\n",
    "#\n",
    "def menu():\n",
    "    print('=' * 20)\n",
    "    print('주소록 메뉴')\n",
    "    print('=' * 20)\n",
    "    print('1. 연락처 입력')\n",
    "    print('2. 연락처 출력')\n",
    "    print('3. 연락처 수정')\n",
    "    print('4. 연락처 삭제')\n",
    "    print('5. 연락처 초기화')\n",
    "    print('6. 종료')\n",
    "    print('='*20)\n",
    "    action = int(input('메뉴 선택 :'  ))\n",
    "    return action"
   ]
  },
  {
   "cell_type": "code",
   "execution_count": 67,
   "metadata": {},
   "outputs": [],
   "source": [
    "def insert_record():\n",
    "    print('='* 20)\n",
    "    name = input('이름: ')\n",
    "    phone = input('핸드폰 : ')\n",
    "    email = input('이메일: ')\n",
    "    address = input('주소 : ') \n",
    "    \n",
    "    sql =   ''' insert into addr (name, mobile, email, address) \n",
    "                        values (?,    ?,      ?,     ?);               \n",
    "            ''' \n",
    "    cursor.execute(sql, (name, phone, email, address))\n",
    "    conn.commit()\n"
   ]
  },
  {
   "cell_type": "code",
   "execution_count": 68,
   "metadata": {},
   "outputs": [],
   "source": [
    "# 레코드 수정 함수 \n",
    "def update_record():\n",
    "    print()\n",
    "    print('='*70)\n",
    "    print('레코드 수정')\n",
    "    print('='*70)\n",
    "    id = input('레코드 수정 아이디 ...')\n",
    "    menu = input('수정할 컬럼의 번호 입력 (1.이름 2.핸드폰 3.이메일 4.주소) >> ')\n",
    "    if menu == '1':\n",
    "        name = input('이름 >> ')\n",
    "        sql = \" update addr set name=? where id=?; \"\n",
    "        cursor.execute(sql, (name, id))\n",
    "    elif menu == '2':\n",
    "        mobile = input('핸드폰 >> ')\n",
    "        sql = \" update addr set mobile=? where id=?; \"\n",
    "        cursor.execute(sql, (mobile, id))\n",
    "    elif menu == '3':\n",
    "        email = input('이메일 >> ') \n",
    "        sql = \" update addr set email=? where id=?; \"\n",
    "        cursor.execute(sql, (email, id))           \n",
    "    elif menu == '4':\n",
    "        address = input('주소 >> ')    \n",
    "        sql = \" update addr set address=? where id=?; \"\n",
    "        cursor.execute(sql, (address, id))            \n",
    "    else:\n",
    "        print('입력 오류')\n",
    "        \n",
    "    conn.commit()"
   ]
  },
  {
   "cell_type": "code",
   "execution_count": 69,
   "metadata": {},
   "outputs": [],
   "source": [
    "# 레코드 출력함수 \n",
    "def print_record():\n",
    "    print()\n",
    "    print('='*70)\n",
    "    print('  번호       이름        핸드폰            이메일             주소')\n",
    "    print('='*70)\n",
    "    # 전체 레코드 조회 후 파이썬의 데이타로 저장( 리스트안의 튜플)\n",
    "    cursor.execute(\"select * from addr;\")\n",
    "    data_list = cursor.fetchall()\n",
    "    for id, name, mobile, email, address in data_list:\n",
    "        print(f'{id:>5} {name:>10} {mobile:>15} {email:>20} {address}')"
   ]
  },
  {
   "cell_type": "code",
   "execution_count": 70,
   "metadata": {},
   "outputs": [],
   "source": [
    "# 레코드 삭제 함수 \n",
    "def delete_record():\n",
    "    print()\n",
    "    print('='*70)\n",
    "    print('레코드 삭제')\n",
    "    print('='*70)\n",
    "    id = input('레코드 삭제 아이디 ...')    \n",
    "    sql = \" delete from addr where id=?; \"\n",
    "    cursor.execute(sql, (id,))\n",
    "    conn.commit()\n",
    "    print('레코드 삭제 완료')\n",
    "    "
   ]
  },
  {
   "cell_type": "code",
   "execution_count": 71,
   "metadata": {},
   "outputs": [],
   "source": [
    "# 레코드 전체 삭제함수 \n",
    "def delete_all_record():\n",
    "    print()\n",
    "    sql = \" delete from addr; \"\n",
    "    cursor.execute(sql)\n",
    "    conn.commit()\n",
    "    print('레코드 모두 삭제 완료')\n"
   ]
  },
  {
   "cell_type": "code",
   "execution_count": 72,
   "metadata": {},
   "outputs": [
    {
     "name": "stdout",
     "output_type": "stream",
     "text": [
      "====================\n",
      "주소록 메뉴\n",
      "====================\n",
      "1. 연락처 입력\n",
      "2. 연락처 출력\n",
      "3. 연락처 수정\n",
      "4. 연락처 삭제\n",
      "5. 연락처 초기화\n",
      "6. 종료\n",
      "====================\n",
      "\n",
      "======================================================================\n",
      "레코드 수정\n",
      "======================================================================\n",
      "====================\n",
      "주소록 메뉴\n",
      "====================\n",
      "1. 연락처 입력\n",
      "2. 연락처 출력\n",
      "3. 연락처 수정\n",
      "4. 연락처 삭제\n",
      "5. 연락처 초기화\n",
      "6. 종료\n",
      "====================\n",
      "\n",
      "======================================================================\n",
      "  번호       이름        핸드폰            이메일             주소\n",
      "======================================================================\n",
      "    1        홍길동        123-1234    hionf@buasn.co.kr 부산 금정 부산대\n",
      "    2        성춘향        123-2345     sunf@akkao.co.kr 전남 이;동정 \n",
      "    3   Jams dim        234-2343          jms@usa.com USA\n",
      "====================\n",
      "주소록 메뉴\n",
      "====================\n",
      "1. 연락처 입력\n",
      "2. 연락처 출력\n",
      "3. 연락처 수정\n",
      "4. 연락처 삭제\n",
      "5. 연락처 초기화\n",
      "6. 종료\n",
      "====================\n",
      "종료합니다\n"
     ]
    }
   ],
   "source": [
    "while True:\n",
    "    action = menu() \n",
    "    if action ==1 :\n",
    "        insert_record()\n",
    "    elif action ==2:\n",
    "        print_record()\n",
    "    elif action == 3:\n",
    "        update_record()\n",
    "    elif action == 4:\n",
    "        delete_record()\n",
    "    elif action == 5:\n",
    "        delete_all_record()\n",
    "    elif action == 6:\n",
    "        print('종료합니다')\n",
    "        break\n",
    "    else:\n",
    "        print('선택 오류')\n",
    "    \n",
    "\n",
    "conn.commit()"
   ]
  }
 ],
 "metadata": {
  "kernelspec": {
   "display_name": "base",
   "language": "python",
   "name": "python3"
  },
  "language_info": {
   "codemirror_mode": {
    "name": "ipython",
    "version": 3
   },
   "file_extension": ".py",
   "mimetype": "text/x-python",
   "name": "python",
   "nbconvert_exporter": "python",
   "pygments_lexer": "ipython3",
   "version": "3.9.13"
  },
  "orig_nbformat": 4,
  "vscode": {
   "interpreter": {
    "hash": "ad2bdc8ecc057115af97d19610ffacc2b4e99fae6737bb82f5d7fb13d2f2c186"
   }
  }
 },
 "nbformat": 4,
 "nbformat_minor": 2
}
