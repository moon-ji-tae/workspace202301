{
 "cells": [
  {
   "cell_type": "code",
   "execution_count": 1,
   "metadata": {},
   "outputs": [
    {
     "name": "stdout",
     "output_type": "stream",
     "text": [
      "<class 'sqlite3.Cursor'>\n"
     ]
    }
   ],
   "source": [
    "# 1) 관련 모듈 임포트 \n",
    "import sqlite3\n",
    "\n",
    "# 2) 데이타베이스 연결 - 경로에 없으면 새로 생성. 있으면 연결 \n",
    "# 연결변수명 = sqlite3.connect(데이타베이스파일경로)\n",
    "conn = sqlite3.connect(\"book.db\")\n",
    "# sql실행객체 생성\n",
    "# 커서변수명 = 연결변수명.\n",
    "cursor = conn.cursor()\n",
    "print(type(cursor))\n"
   ]
  },
  {
   "cell_type": "code",
   "execution_count": 2,
   "metadata": {},
   "outputs": [
    {
     "data": {
      "text/plain": [
       "<sqlite3.Cursor at 0x23fe43588f0>"
      ]
     },
     "execution_count": 2,
     "metadata": {},
     "output_type": "execute_result"
    }
   ],
   "source": [
    "# 3) 테이블 생성 \n",
    "# 커서변수명.execute(SQL명령)\n",
    "# 아이디, 책제목, 저자, 페이지수, 가격 => book1 테이블 \n",
    "cursor.execute(''' \n",
    "               create table if not exists book1 (\n",
    "                   id integer not null primary key autoincrement,\n",
    "                   title text not null,\n",
    "                   writer text,\n",
    "                   page integer,\n",
    "                   price integer\n",
    "               );\n",
    "''')\n",
    "\n",
    "# 4) 레코드 추가 1 \n",
    "# cursor.execute(''' \n",
    "#                  insert into book1 (title, writer, page, price)\n",
    "#                     values ('파이썬완전정복', '김파이', 200, 45000);   \n",
    "# ''')\n",
    "\n",
    "# 5) 레코드 추가 2 \n",
    "# 커서변수.executemany(sql명령변수, 데이타리스트)\n",
    "# sql 명령 변수 설정. 실제데이타값은 ? 로 처리 \n",
    "sql = '''\n",
    "        insert into book1 (title, writer, page, price)\n",
    "                    values (?, ?, ?, ?);\n",
    "'''\n",
    "# 데이타리스트 - 2차원 \n",
    "data_list = [ ('슬램덩크1', '이노우에 다케히코', 200, 15000),\n",
    "              ('슬램덩크2', '이노우에 다케히코', 200, 15000),\n",
    "              ('슬램덩크3', '이노우에 다케히코', 200, 15000) ]\n",
    "# 명령 실행 \n",
    "cursor.executemany(sql, data_list)\n"
   ]
  },
  {
   "cell_type": "code",
   "execution_count": 3,
   "metadata": {},
   "outputs": [],
   "source": [
    "# 데이타베이스 반영 \n",
    "conn.commit()\n",
    "\n",
    "# 데이타베이스 종료 \n",
    "# 자원반납 = 마지막 명령어로 사용 \n",
    "conn.close()"
   ]
  }
 ],
 "metadata": {
  "kernelspec": {
   "display_name": "base",
   "language": "python",
   "name": "python3"
  },
  "language_info": {
   "codemirror_mode": {
    "name": "ipython",
    "version": 3
   },
   "file_extension": ".py",
   "mimetype": "text/x-python",
   "name": "python",
   "nbconvert_exporter": "python",
   "pygments_lexer": "ipython3",
   "version": "3.9.13"
  },
  "orig_nbformat": 4,
  "vscode": {
   "interpreter": {
    "hash": "ad2bdc8ecc057115af97d19610ffacc2b4e99fae6737bb82f5d7fb13d2f2c186"
   }
  }
 },
 "nbformat": 4,
 "nbformat_minor": 2
}
