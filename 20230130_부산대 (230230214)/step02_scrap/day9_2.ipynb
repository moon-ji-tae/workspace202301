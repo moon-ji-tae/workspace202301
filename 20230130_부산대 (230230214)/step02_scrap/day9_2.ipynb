{
 "cells": [
  {
   "cell_type": "markdown",
   "id": "d547a241",
   "metadata": {},
   "source": [
    "# 네이버 댓글 데이타 수집하기 \n",
    "\n",
    "- 1 페이지 \n",
    "- n 개 페이지 \n",
    "- 전체 페이지 "
   ]
  },
  {
   "cell_type": "code",
   "execution_count": 1,
   "id": "528c87c9",
   "metadata": {},
   "outputs": [],
   "source": [
    "# 관련모듈 임포트 \n",
    "import requests\n",
    "from bs4 import BeautifulSoup\n",
    "import pandas as pd"
   ]
  },
  {
   "cell_type": "markdown",
   "id": "2ea91620",
   "metadata": {},
   "source": [
    "## 한페이지 댓글"
   ]
  },
  {
   "cell_type": "code",
   "execution_count": 2,
   "id": "40e069fe",
   "metadata": {},
   "outputs": [
    {
     "name": "stdout",
     "output_type": "stream",
     "text": [
      "<class 'bs4.BeautifulSoup'>\n"
     ]
    }
   ],
   "source": [
    "# 1) 웹페이지 주소 요청 => 문자열 데이타 => 숩객체 \n",
    "\n",
    "url = 'https://movie.naver.com/movie/point/af/list.naver?st=mcode&sword=167697&target=after&page=1'\n",
    "res = requests.get(url)\n",
    "\n",
    "html_str = res.text\n",
    "\n",
    "soup = BeautifulSoup(html_str, 'html.parser')\n",
    "print(type(soup))"
   ]
  },
  {
   "cell_type": "code",
   "execution_count": 5,
   "id": "9187fc64",
   "metadata": {},
   "outputs": [
    {
     "name": "stdout",
     "output_type": "stream",
     "text": [
      "10\n"
     ]
    }
   ],
   "source": [
    "# 2) 파싱 \n",
    "# 영화제목, 평점, 댓글, 작성자, 날짜 \n",
    "target_list = soup.select('tbody > tr')\n",
    "print(len(target_list))\n",
    "# print(target_list[0])"
   ]
  },
  {
   "cell_type": "code",
   "execution_count": 24,
   "id": "eee5c33a",
   "metadata": {},
   "outputs": [
    {
     "name": "stdout",
     "output_type": "stream",
     "text": [
      "제목 : 신과함께-인과 연\n",
      "평점 : 10\n",
      "댓글 : 지루하지않고 재밌었다인물간 얽혀있는 이야기를 보여주는 방식이 좋았음\n",
      "작성자 : oliv****\n",
      "날짜 : 23.01.23\n"
     ]
    }
   ],
   "source": [
    "# 데이타 추출 \n",
    "# 영화제목, 평점, 댓글, 작성자, 날짜 \n",
    "print('제목 :', target_list[0].select_one('a').text)\n",
    "print('평점 :', target_list[0].em.text)\n",
    "# br 태그의 다음 요소로 접근\n",
    "print('댓글 :', target_list[0].select_one('br').next_sibling.strip())\n",
    "print('작성자 :', target_list[0].select_one('.author').text)\n",
    "# td 태그 3번째 에서 br 태그 다음요소 접근\n",
    "print('날짜 :', target_list[0].select('td')[2].select_one('br').next_sibling)"
   ]
  },
  {
   "cell_type": "code",
   "execution_count": null,
   "id": "4a30c722",
   "metadata": {},
   "outputs": [],
   "source": [
    "<tr>\n",
    "\t<td class=\"ac num\">18699331</td>\n",
    "\t<td class=\"title\">\n",
    "\t\t<a href=\"/movie/bi/mi/basic.naver?code=167697\" class=\"movie color_b\">신과함께-인과 연</a>\n",
    "\t\t\t<div class=\"list_netizen_score\">\n",
    "\t\t\t\t<span class=\"st_off\"><span class=\"st_on\" style=\"width:100%\">별점 - 총 10점 중</span></span><em>10</em>\n",
    "\t\t\t</div>\n",
    "\t\t\t<br>지루하지않고 재밌었다인물간 얽혀있는 이야기를 보여주는 방식이 좋았음 \n",
    "\t\t\t<a href=\"#\" onclick=\"report('oliv****', 'b302SgPzvFGwOd7jHwYDNYh2oahD4BHjDPjmxmV4xzk=', '지루하지않고 재밌었다인물간 얽혀있는 이야기를 보여주는 방식이 좋았음', '18699331', 'point_after');\" class=\"report\" style=\"color:#8F8F8F\" title=\"새 창\">신고</a>\n",
    "\t</td>\n",
    "\t<td class=\"num\"><a href=\"javascript:find_list('nickname','18699331');\" class=\"author\">oliv****</a><br>23.01.23</td>\n",
    "</tr>"
   ]
  },
  {
   "cell_type": "code",
   "execution_count": 26,
   "id": "5e49e926",
   "metadata": {},
   "outputs": [],
   "source": [
    "# 3) 테이블 구조 데이타 ( 2차원 리스트 )\n",
    "result_list = []\n",
    "for tag in target_list:\n",
    "    title = tag.select_one('a').text\n",
    "    score = tag.em.text\n",
    "    contents = tag.select_one('br').next_sibling.strip()\n",
    "    writer = tag.select_one('.author').text\n",
    "    date = tag.select('td')[2].select_one('br').next_sibling\n",
    "    result_list.append([title, score, writer, date, contents])"
   ]
  },
  {
   "cell_type": "code",
   "execution_count": 28,
   "id": "18612f69",
   "metadata": {
    "scrolled": true
   },
   "outputs": [
    {
     "data": {
      "text/html": [
       "<div>\n",
       "<style scoped>\n",
       "    .dataframe tbody tr th:only-of-type {\n",
       "        vertical-align: middle;\n",
       "    }\n",
       "\n",
       "    .dataframe tbody tr th {\n",
       "        vertical-align: top;\n",
       "    }\n",
       "\n",
       "    .dataframe thead th {\n",
       "        text-align: right;\n",
       "    }\n",
       "</style>\n",
       "<table border=\"1\" class=\"dataframe\">\n",
       "  <thead>\n",
       "    <tr style=\"text-align: right;\">\n",
       "      <th></th>\n",
       "      <th>영화 제목</th>\n",
       "      <th>평점</th>\n",
       "      <th>작성자</th>\n",
       "      <th>날짜</th>\n",
       "      <th>댓글</th>\n",
       "    </tr>\n",
       "  </thead>\n",
       "  <tbody>\n",
       "    <tr>\n",
       "      <th>0</th>\n",
       "      <td>신과함께-인과 연</td>\n",
       "      <td>10</td>\n",
       "      <td>oliv****</td>\n",
       "      <td>23.01.23</td>\n",
       "      <td>지루하지않고 재밌었다인물간 얽혀있는 이야기를 보여주는 방식이 좋았음</td>\n",
       "    </tr>\n",
       "    <tr>\n",
       "      <th>1</th>\n",
       "      <td>신과함께-인과 연</td>\n",
       "      <td>2</td>\n",
       "      <td>ckdg****</td>\n",
       "      <td>23.01.10</td>\n",
       "      <td>뇌절에 뇌절…뇌빼고만드신줄</td>\n",
       "    </tr>\n",
       "    <tr>\n",
       "      <th>2</th>\n",
       "      <td>신과함께-인과 연</td>\n",
       "      <td>7</td>\n",
       "      <td>greg****</td>\n",
       "      <td>23.01.08</td>\n",
       "      <td>음. 좋다 마른 영화 좀 별로...</td>\n",
       "    </tr>\n",
       "    <tr>\n",
       "      <th>3</th>\n",
       "      <td>신과함께-인과 연</td>\n",
       "      <td>10</td>\n",
       "      <td>kkin****</td>\n",
       "      <td>23.01.02</td>\n",
       "      <td>대박...이란말밖에</td>\n",
       "    </tr>\n",
       "    <tr>\n",
       "      <th>4</th>\n",
       "      <td>신과함께-인과 연</td>\n",
       "      <td>3</td>\n",
       "      <td>elec****</td>\n",
       "      <td>23.01.01</td>\n",
       "      <td>아무리 봐도 내 스타일의 영화는 아니다.</td>\n",
       "    </tr>\n",
       "    <tr>\n",
       "      <th>5</th>\n",
       "      <td>신과함께-인과 연</td>\n",
       "      <td>8</td>\n",
       "      <td>epah****</td>\n",
       "      <td>22.12.28</td>\n",
       "      <td>판 벌여놓고 그대로 튈생각은 아니겠지</td>\n",
       "    </tr>\n",
       "    <tr>\n",
       "      <th>6</th>\n",
       "      <td>신과함께-인과 연</td>\n",
       "      <td>10</td>\n",
       "      <td>hune****</td>\n",
       "      <td>22.12.25</td>\n",
       "      <td>반전도 조금 있고 한번쯤은  꼭봐야하는 영화</td>\n",
       "    </tr>\n",
       "    <tr>\n",
       "      <th>7</th>\n",
       "      <td>신과함께-인과 연</td>\n",
       "      <td>10</td>\n",
       "      <td>hune****</td>\n",
       "      <td>22.12.25</td>\n",
       "      <td>반전도 조금 있고 한번쯤은  꼭봐야하는 영화</td>\n",
       "    </tr>\n",
       "    <tr>\n",
       "      <th>8</th>\n",
       "      <td>신과함께-인과 연</td>\n",
       "      <td>10</td>\n",
       "      <td>hune****</td>\n",
       "      <td>22.12.25</td>\n",
       "      <td>반전도 조금 있고 한번쯤은  꼭봐야하는 영화</td>\n",
       "    </tr>\n",
       "    <tr>\n",
       "      <th>9</th>\n",
       "      <td>신과함께-인과 연</td>\n",
       "      <td>6</td>\n",
       "      <td>harr****</td>\n",
       "      <td>22.12.04</td>\n",
       "      <td>투섬스업!!투썸서업!</td>\n",
       "    </tr>\n",
       "  </tbody>\n",
       "</table>\n",
       "</div>"
      ],
      "text/plain": [
       "       영화 제목  평점       작성자        날짜                                     댓글\n",
       "0  신과함께-인과 연  10  oliv****  23.01.23  지루하지않고 재밌었다인물간 얽혀있는 이야기를 보여주는 방식이 좋았음\n",
       "1  신과함께-인과 연   2  ckdg****  23.01.10                         뇌절에 뇌절…뇌빼고만드신줄\n",
       "2  신과함께-인과 연   7  greg****  23.01.08                    음. 좋다 마른 영화 좀 별로...\n",
       "3  신과함께-인과 연  10  kkin****  23.01.02                             대박...이란말밖에\n",
       "4  신과함께-인과 연   3  elec****  23.01.01                 아무리 봐도 내 스타일의 영화는 아니다.\n",
       "5  신과함께-인과 연   8  epah****  22.12.28                   판 벌여놓고 그대로 튈생각은 아니겠지\n",
       "6  신과함께-인과 연  10  hune****  22.12.25               반전도 조금 있고 한번쯤은  꼭봐야하는 영화\n",
       "7  신과함께-인과 연  10  hune****  22.12.25               반전도 조금 있고 한번쯤은  꼭봐야하는 영화\n",
       "8  신과함께-인과 연  10  hune****  22.12.25               반전도 조금 있고 한번쯤은  꼭봐야하는 영화\n",
       "9  신과함께-인과 연   6  harr****  22.12.04                            투섬스업!!투썸서업!"
      ]
     },
     "execution_count": 28,
     "metadata": {},
     "output_type": "execute_result"
    }
   ],
   "source": [
    "# 4) 판다스의 데이타프레임 구조로 변경하기 \n",
    "df = pd.DataFrame(result_list, \n",
    "                  columns=['영화 제목', '평점', '작성자','날짜', '댓글'])\n",
    "df"
   ]
  },
  {
   "cell_type": "markdown",
   "id": "a6392679",
   "metadata": {},
   "source": [
    "## 여러 페이지 댓글 - 범위가 정해진 경우 "
   ]
  },
  {
   "cell_type": "markdown",
   "id": "68ea6f4e",
   "metadata": {},
   "source": [
    "### 페이지 주소 만들기 "
   ]
  },
  {
   "cell_type": "code",
   "execution_count": 31,
   "id": "2360c09d",
   "metadata": {},
   "outputs": [
    {
     "name": "stdout",
     "output_type": "stream",
     "text": [
      "https://movie.naver.com/movie/point/af/list.naver?st=mcode&sword=167697&target=after&page=1\n",
      "https://movie.naver.com/movie/point/af/list.naver?st=mcode&sword=167697&target=after&page=2\n",
      "https://movie.naver.com/movie/point/af/list.naver?st=mcode&sword=167697&target=after&page=3\n",
      "https://movie.naver.com/movie/point/af/list.naver?st=mcode&sword=167697&target=after&page=4\n",
      "https://movie.naver.com/movie/point/af/list.naver?st=mcode&sword=167697&target=after&page=5\n"
     ]
    }
   ],
   "source": [
    "base_url = 'https://movie.naver.com/movie/point/af/list.naver?st=mcode&sword=167697&target=after&page='\n",
    "# n개의 페이지 주소 \n",
    "n = 5\n",
    "# 결과 리스트 초기화 \n",
    "result_list = []\n",
    "\n",
    "for i in range(1, n+1):\n",
    "    # 1) 주소 생성 \n",
    "    movie_url = base_url+str(i)\n",
    "    print(movie_url)\n",
    "    \n",
    "    # 2) 데이타요청 => 문자열 => 숩객체\n",
    "    res = requests.get(movie_url)\n",
    "    html_str = res.text\n",
    "    soup = BeautifulSoup(html_str, 'html.parser')\n",
    "    \n",
    "    # 3) 파싱\n",
    "    target_list = soup.select('tbody > tr')\n",
    "    \n",
    "    # 4) 테이블 구조 데이타 ( 2차원 리스트 )\n",
    "    for tag in target_list:\n",
    "        title = tag.select_one('a').text\n",
    "        score = tag.em.text\n",
    "        contents = tag.select_one('br').next_sibling.strip()\n",
    "        writer = tag.select_one('.author').text\n",
    "        date = tag.select('td')[2].select_one('br').next_sibling\n",
    "        \n",
    "        result_list.append([title, score, writer, date, contents])"
   ]
  },
  {
   "cell_type": "code",
   "execution_count": 32,
   "id": "514aa9c0",
   "metadata": {},
   "outputs": [
    {
     "name": "stdout",
     "output_type": "stream",
     "text": [
      "50\n"
     ]
    }
   ],
   "source": [
    "# 댓글 갯수 확인 \n",
    "print(len(result_list))"
   ]
  },
  {
   "cell_type": "code",
   "execution_count": 34,
   "id": "1fb13f70",
   "metadata": {},
   "outputs": [
    {
     "data": {
      "text/html": [
       "<div>\n",
       "<style scoped>\n",
       "    .dataframe tbody tr th:only-of-type {\n",
       "        vertical-align: middle;\n",
       "    }\n",
       "\n",
       "    .dataframe tbody tr th {\n",
       "        vertical-align: top;\n",
       "    }\n",
       "\n",
       "    .dataframe thead th {\n",
       "        text-align: right;\n",
       "    }\n",
       "</style>\n",
       "<table border=\"1\" class=\"dataframe\">\n",
       "  <thead>\n",
       "    <tr style=\"text-align: right;\">\n",
       "      <th></th>\n",
       "      <th>영화 제목</th>\n",
       "      <th>평점</th>\n",
       "      <th>작성자</th>\n",
       "      <th>날짜</th>\n",
       "      <th>댓글</th>\n",
       "    </tr>\n",
       "  </thead>\n",
       "  <tbody>\n",
       "    <tr>\n",
       "      <th>47</th>\n",
       "      <td>신과함께-인과 연</td>\n",
       "      <td>10</td>\n",
       "      <td>bbbh****</td>\n",
       "      <td>22.02.12</td>\n",
       "      <td></td>\n",
       "    </tr>\n",
       "    <tr>\n",
       "      <th>48</th>\n",
       "      <td>신과함께-인과 연</td>\n",
       "      <td>4</td>\n",
       "      <td>head****</td>\n",
       "      <td>22.01.31</td>\n",
       "      <td>신과 함께는신파 랑께</td>\n",
       "    </tr>\n",
       "    <tr>\n",
       "      <th>49</th>\n",
       "      <td>신과함께-인과 연</td>\n",
       "      <td>7</td>\n",
       "      <td>acec****</td>\n",
       "      <td>22.01.31</td>\n",
       "      <td>억지 감성팔이가 줄어서 좋았습니다</td>\n",
       "    </tr>\n",
       "  </tbody>\n",
       "</table>\n",
       "</div>"
      ],
      "text/plain": [
       "        영화 제목  평점       작성자        날짜                  댓글\n",
       "47  신과함께-인과 연  10  bbbh****  22.02.12                    \n",
       "48  신과함께-인과 연   4  head****  22.01.31         신과 함께는신파 랑께\n",
       "49  신과함께-인과 연   7  acec****  22.01.31  억지 감성팔이가 줄어서 좋았습니다"
      ]
     },
     "execution_count": 34,
     "metadata": {},
     "output_type": "execute_result"
    }
   ],
   "source": [
    "# 5) 판다스의 데이타프레임 구조로 변경하기 \n",
    "df = pd.DataFrame(result_list, \n",
    "                  columns=['영화 제목', '평점', '작성자','날짜', '댓글'])\n",
    "df.tail(3)"
   ]
  },
  {
   "cell_type": "code",
   "execution_count": 35,
   "id": "70f3ecfc",
   "metadata": {},
   "outputs": [],
   "source": [
    "# 6) csv 파일로 저장 \n",
    "df.to_csv('output/신과함께_댓글.csv', index=False, encoding='cp949')"
   ]
  },
  {
   "cell_type": "markdown",
   "id": "e2ccd283",
   "metadata": {},
   "source": [
    "## 전체 페이지 댓글 "
   ]
  },
  {
   "cell_type": "markdown",
   "id": "43a3d950",
   "metadata": {},
   "source": [
    "### 다음 버튼 파싱\n",
    "\n",
    "- url : 키드 \n",
    "https://movie.naver.com/movie/point/af/list.naver?st=mcode&sword=13558&target=after&page=1"
   ]
  },
  {
   "cell_type": "code",
   "execution_count": 39,
   "id": "1b3d3835",
   "metadata": {},
   "outputs": [
    {
     "name": "stdout",
     "output_type": "stream",
     "text": [
      "<a class=\"pg_next\" href=\"/movie/point/af/list.naver?st=mcode&amp;sword=13558&amp;target=after&amp;page=2\" title=\"다음\"><em>다음</em></a>\n"
     ]
    }
   ],
   "source": [
    "# 1) 웹페이지 주소 요청 => 문자열 데이타 => 숩객체 \n",
    "url = 'https://movie.naver.com/movie/point/af/list.naver?st=mcode&sword=13558&target=after&page=1'\n",
    "res = requests.get(url)\n",
    "html_str = res.text\n",
    "soup = BeautifulSoup(html_str, 'html.parser')\n",
    "\n",
    "# 2) 다음 버튼 파싱 \n",
    "next_btn = soup.select_one('.pg_next')\n",
    "print(next_btn)\n",
    "# 없다면 (마지막 페이지) none"
   ]
  },
  {
   "cell_type": "code",
   "execution_count": null,
   "id": "fdcd0072",
   "metadata": {},
   "outputs": [],
   "source": [
    "# 다음 페이지 버튼 소스 확인 \n",
    "<a href=\"/movie/point/af/list.naver?st=mcode&amp;sword=13558&amp;target=after&amp;page=2\" \n",
    "title=\"다음\" class=\"pg_next\">\n",
    "    <em>다음</em>\n",
    "</a>"
   ]
  },
  {
   "cell_type": "markdown",
   "id": "5af42e0d",
   "metadata": {},
   "source": [
    "### 페이지 주소 만들기 "
   ]
  },
  {
   "cell_type": "code",
   "execution_count": 47,
   "id": "1b833533",
   "metadata": {},
   "outputs": [
    {
     "name": "stdout",
     "output_type": "stream",
     "text": [
      "https://movie.naver.com/movie/point/af/list.naver?st=mcode&sword=13558&target=after&page=1\n",
      "https://movie.naver.com/movie/point/af/list.naver?st=mcode&sword=13558&target=after&page=2\n",
      "https://movie.naver.com/movie/point/af/list.naver?st=mcode&sword=13558&target=after&page=3\n",
      "https://movie.naver.com/movie/point/af/list.naver?st=mcode&sword=13558&target=after&page=4\n",
      "https://movie.naver.com/movie/point/af/list.naver?st=mcode&sword=13558&target=after&page=5\n",
      "https://movie.naver.com/movie/point/af/list.naver?st=mcode&sword=13558&target=after&page=6\n",
      "https://movie.naver.com/movie/point/af/list.naver?st=mcode&sword=13558&target=after&page=7\n",
      "https://movie.naver.com/movie/point/af/list.naver?st=mcode&sword=13558&target=after&page=8\n",
      "https://movie.naver.com/movie/point/af/list.naver?st=mcode&sword=13558&target=after&page=9\n",
      "https://movie.naver.com/movie/point/af/list.naver?st=mcode&sword=13558&target=after&page=10\n",
      "https://movie.naver.com/movie/point/af/list.naver?st=mcode&sword=13558&target=after&page=11\n",
      "https://movie.naver.com/movie/point/af/list.naver?st=mcode&sword=13558&target=after&page=12\n",
      "https://movie.naver.com/movie/point/af/list.naver?st=mcode&sword=13558&target=after&page=13\n",
      "https://movie.naver.com/movie/point/af/list.naver?st=mcode&sword=13558&target=after&page=14\n",
      "https://movie.naver.com/movie/point/af/list.naver?st=mcode&sword=13558&target=after&page=15\n"
     ]
    }
   ],
   "source": [
    "# 페이지 주소 확인 \n",
    "# 키드 = 13558\n",
    "base_url = 'https://movie.naver.com/movie/point/af/list.naver?st=mcode&sword=13558&target=after&page='\n",
    "page = 1\n",
    "# 결과 리스트 초기화 \n",
    "result_list = []\n",
    "\n",
    "while True:\n",
    "    # 1) 주소 생성 \n",
    "    movie_url = base_url+str(page)\n",
    "    print(movie_url)\n",
    "    \n",
    "    # 2) 페이지 요청 후 숩 객체 생성 \n",
    "    res = requests.get(movie_url)\n",
    "    html_str = res.text\n",
    "    soup = BeautifulSoup(html_str, 'html.parser')\n",
    "    \n",
    "    # 3) 다음 버튼 파싱 \n",
    "    next_btn = soup.select_one('.pg_next')  \n",
    "    \n",
    "    # 4) 마지막 페이지인지 검사\n",
    "    if next_btn == None:\n",
    "        break\n",
    "        \n",
    "    # 페이지 번호 증가     \n",
    "    page += 1"
   ]
  },
  {
   "cell_type": "markdown",
   "id": "b36baf48",
   "metadata": {},
   "source": [
    "### 전체 페이지 데이타 저장"
   ]
  },
  {
   "cell_type": "code",
   "execution_count": 48,
   "id": "bd60e372",
   "metadata": {
    "scrolled": true
   },
   "outputs": [
    {
     "name": "stdout",
     "output_type": "stream",
     "text": [
      "https://movie.naver.com/movie/point/af/list.naver?st=mcode&sword=13558&target=after&page=1\n",
      "https://movie.naver.com/movie/point/af/list.naver?st=mcode&sword=13558&target=after&page=2\n",
      "https://movie.naver.com/movie/point/af/list.naver?st=mcode&sword=13558&target=after&page=3\n",
      "https://movie.naver.com/movie/point/af/list.naver?st=mcode&sword=13558&target=after&page=4\n",
      "https://movie.naver.com/movie/point/af/list.naver?st=mcode&sword=13558&target=after&page=5\n",
      "https://movie.naver.com/movie/point/af/list.naver?st=mcode&sword=13558&target=after&page=6\n",
      "https://movie.naver.com/movie/point/af/list.naver?st=mcode&sword=13558&target=after&page=7\n",
      "https://movie.naver.com/movie/point/af/list.naver?st=mcode&sword=13558&target=after&page=8\n",
      "https://movie.naver.com/movie/point/af/list.naver?st=mcode&sword=13558&target=after&page=9\n",
      "https://movie.naver.com/movie/point/af/list.naver?st=mcode&sword=13558&target=after&page=10\n",
      "https://movie.naver.com/movie/point/af/list.naver?st=mcode&sword=13558&target=after&page=11\n",
      "https://movie.naver.com/movie/point/af/list.naver?st=mcode&sword=13558&target=after&page=12\n",
      "https://movie.naver.com/movie/point/af/list.naver?st=mcode&sword=13558&target=after&page=13\n",
      "https://movie.naver.com/movie/point/af/list.naver?st=mcode&sword=13558&target=after&page=14\n",
      "https://movie.naver.com/movie/point/af/list.naver?st=mcode&sword=13558&target=after&page=15\n"
     ]
    }
   ],
   "source": [
    "# 페이지 주소 확인 \n",
    "# 키드 = 13558\n",
    "base_url = 'https://movie.naver.com/movie/point/af/list.naver?st=mcode&sword=13558&target=after&page='\n",
    "page = 1\n",
    "# 결과 리스트 초기화 \n",
    "result_list = []\n",
    "\n",
    "while True:\n",
    "    # 1) 주소 생성 \n",
    "    movie_url = base_url+str(page)\n",
    "    print(movie_url)\n",
    "    \n",
    "    # 2) 페이지 요청 후 숩 객체 생성 \n",
    "    res = requests.get(movie_url)\n",
    "    html_str = res.text\n",
    "    soup = BeautifulSoup(html_str, 'html.parser')\n",
    "    \n",
    "    # 3)  파싱 \n",
    "    next_btn = soup.select_one('.pg_next')  \n",
    "    target_list = soup.select('tbody > tr')\n",
    "    \n",
    "    # 4) 테이블 구조 데이타 ( 2차원 리스트 )\n",
    "    for tag in target_list:\n",
    "        title = tag.select_one('a').text\n",
    "        score = tag.em.text\n",
    "        contents = tag.select_one('br').next_sibling.strip()\n",
    "        writer = tag.select_one('.author').text\n",
    "        date = tag.select('td')[2].select_one('br').next_sibling\n",
    "        \n",
    "        result_list.append([title, score, writer, date, contents])\n",
    "     \n",
    "    # 5) 마지막 페이지인지 검사\n",
    "    if next_btn == None:\n",
    "        break\n",
    "        \n",
    "    # 6) 페이지 번호 증가     \n",
    "    page += 1"
   ]
  },
  {
   "cell_type": "code",
   "execution_count": 49,
   "id": "4c78980c",
   "metadata": {},
   "outputs": [
    {
     "data": {
      "text/plain": [
       "146"
      ]
     },
     "execution_count": 49,
     "metadata": {},
     "output_type": "execute_result"
    }
   ],
   "source": [
    "# 전체 갯수 확인 \n",
    "len(result_list)"
   ]
  },
  {
   "cell_type": "code",
   "execution_count": 50,
   "id": "bb8c3b54",
   "metadata": {},
   "outputs": [
    {
     "data": {
      "text/html": [
       "<div>\n",
       "<style scoped>\n",
       "    .dataframe tbody tr th:only-of-type {\n",
       "        vertical-align: middle;\n",
       "    }\n",
       "\n",
       "    .dataframe tbody tr th {\n",
       "        vertical-align: top;\n",
       "    }\n",
       "\n",
       "    .dataframe thead th {\n",
       "        text-align: right;\n",
       "    }\n",
       "</style>\n",
       "<table border=\"1\" class=\"dataframe\">\n",
       "  <thead>\n",
       "    <tr style=\"text-align: right;\">\n",
       "      <th></th>\n",
       "      <th>영화 제목</th>\n",
       "      <th>평점</th>\n",
       "      <th>작성자</th>\n",
       "      <th>날짜</th>\n",
       "      <th>댓글</th>\n",
       "    </tr>\n",
       "  </thead>\n",
       "  <tbody>\n",
       "    <tr>\n",
       "      <th>143</th>\n",
       "      <td>키드</td>\n",
       "      <td>10</td>\n",
       "      <td>pby1****</td>\n",
       "      <td>04.10.10</td>\n",
       "      <td>감동적인 드라마.</td>\n",
       "    </tr>\n",
       "    <tr>\n",
       "      <th>144</th>\n",
       "      <td>키드</td>\n",
       "      <td>10</td>\n",
       "      <td>litt****</td>\n",
       "      <td>04.09.16</td>\n",
       "      <td>웃음으로 포장한 가슴 아픈 비극</td>\n",
       "    </tr>\n",
       "    <tr>\n",
       "      <th>145</th>\n",
       "      <td>키드</td>\n",
       "      <td>9</td>\n",
       "      <td>sjzs****</td>\n",
       "      <td>03.12.26</td>\n",
       "      <td>따뜻한 아빠 채플린과 귀여운 아이</td>\n",
       "    </tr>\n",
       "  </tbody>\n",
       "</table>\n",
       "</div>"
      ],
      "text/plain": [
       "    영화 제목  평점       작성자        날짜                  댓글\n",
       "143    키드  10  pby1****  04.10.10           감동적인 드라마.\n",
       "144    키드  10  litt****  04.09.16   웃음으로 포장한 가슴 아픈 비극\n",
       "145    키드   9  sjzs****  03.12.26  따뜻한 아빠 채플린과 귀여운 아이"
      ]
     },
     "execution_count": 50,
     "metadata": {},
     "output_type": "execute_result"
    }
   ],
   "source": [
    "# 7) 판다스의 데이타프레임 구조로 변경하기 \n",
    "df = pd.DataFrame(result_list, \n",
    "                  columns=['영화 제목', '평점', '작성자','날짜', '댓글'])\n",
    "df.tail(3)"
   ]
  },
  {
   "cell_type": "code",
   "execution_count": 51,
   "id": "520c7985",
   "metadata": {},
   "outputs": [],
   "source": [
    "# 8) csv 파일로 저장 \n",
    "df.to_csv('output/키드_댓글.csv', index=False, encoding='cp949')"
   ]
  },
  {
   "cell_type": "markdown",
   "id": "dd7e1e51",
   "metadata": {},
   "source": [
    "# 퀴즈 - 슬라이드 116\n",
    "\n",
    "- Yes24 국내도서 종합 베스트 셀러\n",
    "- http://www.yes24.com/24/category/bestseller?CategoryNumber=001&sumgb=06&fetchSize=40&PageNumber=1\n",
    "- 1~999위 까지 CSV 파일로 저장하여라\n",
    "- 순위 / 책제목 / 저자 / 정가 / 할인가 / 책 상세 URL / 표지 URL"
   ]
  },
  {
   "cell_type": "markdown",
   "id": "dda3f95a",
   "metadata": {},
   "source": [
    "### 주소 만들기 "
   ]
  },
  {
   "cell_type": "code",
   "execution_count": 65,
   "id": "d41d61ca",
   "metadata": {},
   "outputs": [
    {
     "name": "stdout",
     "output_type": "stream",
     "text": [
      "http://www.yes24.com/24/category/bestseller?categorynumber=001&sumgb=06&fetchsize=40&pagenumber=1\n",
      "http://www.yes24.com/24/category/bestseller?categorynumber=001&sumgb=06&fetchsize=40&pagenumber=2\n",
      "http://www.yes24.com/24/category/bestseller?categorynumber=001&sumgb=06&fetchsize=40&pagenumber=3\n",
      "http://www.yes24.com/24/category/bestseller?categorynumber=001&sumgb=06&fetchsize=40&pagenumber=4\n",
      "http://www.yes24.com/24/category/bestseller?categorynumber=001&sumgb=06&fetchsize=40&pagenumber=5\n",
      "http://www.yes24.com/24/category/bestseller?categorynumber=001&sumgb=06&fetchsize=40&pagenumber=6\n",
      "http://www.yes24.com/24/category/bestseller?categorynumber=001&sumgb=06&fetchsize=40&pagenumber=7\n",
      "http://www.yes24.com/24/category/bestseller?categorynumber=001&sumgb=06&fetchsize=40&pagenumber=8\n",
      "http://www.yes24.com/24/category/bestseller?categorynumber=001&sumgb=06&fetchsize=40&pagenumber=9\n",
      "http://www.yes24.com/24/category/bestseller?categorynumber=001&sumgb=06&fetchsize=40&pagenumber=10\n",
      "http://www.yes24.com/24/category/bestseller?categorynumber=001&sumgb=06&fetchsize=40&pagenumber=11\n",
      "http://www.yes24.com/24/category/bestseller?categorynumber=001&sumgb=06&fetchsize=40&pagenumber=12\n",
      "http://www.yes24.com/24/category/bestseller?categorynumber=001&sumgb=06&fetchsize=40&pagenumber=13\n",
      "http://www.yes24.com/24/category/bestseller?categorynumber=001&sumgb=06&fetchsize=40&pagenumber=14\n",
      "http://www.yes24.com/24/category/bestseller?categorynumber=001&sumgb=06&fetchsize=40&pagenumber=15\n",
      "http://www.yes24.com/24/category/bestseller?categorynumber=001&sumgb=06&fetchsize=40&pagenumber=16\n",
      "http://www.yes24.com/24/category/bestseller?categorynumber=001&sumgb=06&fetchsize=40&pagenumber=17\n",
      "http://www.yes24.com/24/category/bestseller?categorynumber=001&sumgb=06&fetchsize=40&pagenumber=18\n",
      "http://www.yes24.com/24/category/bestseller?categorynumber=001&sumgb=06&fetchsize=40&pagenumber=19\n",
      "http://www.yes24.com/24/category/bestseller?categorynumber=001&sumgb=06&fetchsize=40&pagenumber=20\n",
      "http://www.yes24.com/24/category/bestseller?categorynumber=001&sumgb=06&fetchsize=40&pagenumber=21\n",
      "http://www.yes24.com/24/category/bestseller?categorynumber=001&sumgb=06&fetchsize=40&pagenumber=22\n",
      "http://www.yes24.com/24/category/bestseller?categorynumber=001&sumgb=06&fetchsize=40&pagenumber=23\n",
      "http://www.yes24.com/24/category/bestseller?categorynumber=001&sumgb=06&fetchsize=40&pagenumber=24\n",
      "http://www.yes24.com/24/category/bestseller?categorynumber=001&sumgb=06&fetchsize=40&pagenumber=25\n"
     ]
    }
   ],
   "source": [
    "# 페이지 주소 확인 \n",
    "base_url = 'http://www.yes24.com/24/category/bestseller?categorynumber=001&sumgb=06&fetchsize=40&pagenumber='\n",
    "page = 0\n",
    "# 결과 리스트 초기화 \n",
    "result_list = []\n",
    "\n",
    "while True:\n",
    "    # 1) 주소 생성\n",
    "    # 페이지 번호 증가     \n",
    "    page += 1\n",
    "    url = base_url+str(page)\n",
    "    \n",
    "    # 2) 페이지 요청 후 숩 객체 생성 \n",
    "    res = requests.get(url)\n",
    "    html_str = res.text\n",
    "    soup = BeautifulSoup(html_str, 'html.parser')\n",
    "    \n",
    "    # 3) 파싱 \n",
    "    contents = soup.select('tr')  \n",
    "    \n",
    "    # 4) 마지막 페이지인지 검사\n",
    "    if len(contents):\n",
    "        print(url)\n",
    "    else:\n",
    "        break"
   ]
  },
  {
   "cell_type": "code",
   "execution_count": 61,
   "id": "9645d2a0",
   "metadata": {},
   "outputs": [
    {
     "name": "stdout",
     "output_type": "stream",
     "text": [
      "http://www.yes24.com/24/category/bestseller?categorynumber=001&sumgb=06&fetchsize=40&pagenumber=26\n",
      "[]\n"
     ]
    }
   ],
   "source": [
    "# 페이지 주소 확인 \n",
    "base_url = 'http://www.yes24.com/24/category/bestseller?categorynumber=001&sumgb=06&fetchsize=40&pagenumber='\n",
    "page = 26\n",
    "url = base_url+str(page)\n",
    "print(url)\n",
    "\n",
    "res = requests.get(url)\n",
    "html_str = res.text\n",
    "soup = BeautifulSoup(html_str, 'html.parser')\n",
    "contents = soup.select('tr')\n",
    "print(contents)"
   ]
  },
  {
   "cell_type": "code",
   "execution_count": null,
   "id": "89d8bfeb",
   "metadata": {},
   "outputs": [],
   "source": []
  },
  {
   "cell_type": "code",
   "execution_count": null,
   "id": "5126d16f",
   "metadata": {},
   "outputs": [],
   "source": []
  }
 ],
 "metadata": {
  "kernelspec": {
   "display_name": "Python 3 (ipykernel)",
   "language": "python",
   "name": "python3"
  },
  "language_info": {
   "codemirror_mode": {
    "name": "ipython",
    "version": 3
   },
   "file_extension": ".py",
   "mimetype": "text/x-python",
   "name": "python",
   "nbconvert_exporter": "python",
   "pygments_lexer": "ipython3",
   "version": "3.9.13"
  }
 },
 "nbformat": 4,
 "nbformat_minor": 5
}
