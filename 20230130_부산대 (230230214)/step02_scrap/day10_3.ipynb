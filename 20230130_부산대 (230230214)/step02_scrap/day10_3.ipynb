{
 "cells": [
  {
   "cell_type": "markdown",
   "id": "7065d423",
   "metadata": {},
   "source": [
    "# Open API"
   ]
  },
  {
   "cell_type": "markdown",
   "id": "48230735",
   "metadata": {},
   "source": [
    "## JSON 활용 \n",
    "\n",
    "- 데이타 요청 request\n",
    "- 문자열 => 파이썬 데이타(리스트안의 딕셔너리) "
   ]
  },
  {
   "cell_type": "code",
   "execution_count": 1,
   "id": "73f1d3be",
   "metadata": {},
   "outputs": [],
   "source": [
    "# 0) 관련 모듈 임포트 \n",
    "import requests\n",
    "import json \n",
    "import pandas as pd "
   ]
  },
  {
   "cell_type": "code",
   "execution_count": 5,
   "id": "51d21e4a",
   "metadata": {},
   "outputs": [
    {
     "name": "stdout",
     "output_type": "stream",
     "text": [
      "<class 'str'>\n"
     ]
    }
   ],
   "source": [
    "# 1) json 데이타 요청 \n",
    "# https://jsonplaceholder.typicode.com/users\n",
    "url = 'https://jsonplaceholder.typicode.com/users'\n",
    "res = requests.get(url)\n",
    "\n",
    "# 2) 문자열 형태로 저장 \n",
    "json_str = res.text\n",
    "print(type(json_str))\n",
    "# print(json_str)"
   ]
  },
  {
   "cell_type": "code",
   "execution_count": null,
   "id": "6b7084be",
   "metadata": {},
   "outputs": [],
   "source": [
    "print(json_str[0])"
   ]
  },
  {
   "cell_type": "code",
   "execution_count": 9,
   "id": "17dc2e5f",
   "metadata": {},
   "outputs": [
    {
     "name": "stdout",
     "output_type": "stream",
     "text": [
      "<class 'list'>\n",
      "<class 'dict'>\n",
      "{'id': 1, 'name': 'Leanne Graham', 'username': 'Bret', 'email': 'Sincere@april.biz', 'address': {'street': 'Kulas Light', 'suite': 'Apt. 556', 'city': 'Gwenborough', 'zipcode': '92998-3874', 'geo': {'lat': '-37.3159', 'lng': '81.1496'}}, 'phone': '1-770-736-8031 x56442', 'website': 'hildegard.org', 'company': {'name': 'Romaguera-Crona', 'catchPhrase': 'Multi-layered client-server neural-net', 'bs': 'harness real-time e-markets'}}\n"
     ]
    }
   ],
   "source": [
    "# 3) 문자열 => 리스트 구조 (리스트안의 딕셔너리 )\n",
    "user_list = json.loads(json_str)\n",
    "print(type(user_list))\n",
    "print(type(user_list[0]))\n",
    "print(user_list[0])"
   ]
  },
  {
   "cell_type": "code",
   "execution_count": 12,
   "id": "ffad6106",
   "metadata": {},
   "outputs": [
    {
     "name": "stdout",
     "output_type": "stream",
     "text": [
      "{'id': 1, 'name': 'Leanne Graham', 'username': 'Bret', 'email': 'Sincere@april.biz', 'address': {'street': 'Kulas Light', 'suite': 'Apt. 556', 'city': 'Gwenborough', 'zipcode': '92998-3874', 'geo': {'lat': '-37.3159', 'lng': '81.1496'}}, 'phone': '1-770-736-8031 x56442', 'website': 'hildegard.org', 'company': {'name': 'Romaguera-Crona', 'catchPhrase': 'Multi-layered client-server neural-net', 'bs': 'harness real-time e-markets'}}\n"
     ]
    }
   ],
   "source": [
    "print(user_list[0])"
   ]
  },
  {
   "cell_type": "code",
   "execution_count": 19,
   "id": "87938804",
   "metadata": {},
   "outputs": [
    {
     "name": "stdout",
     "output_type": "stream",
     "text": [
      "id => 1\n",
      "name => Leanne Graham\n",
      "address => {'street': 'Kulas Light', 'suite': 'Apt. 556', 'city': 'Gwenborough', 'zipcode': '92998-3874', 'geo': {'lat': '-37.3159', 'lng': '81.1496'}}\n",
      "city => Gwenborough\n",
      "geo => {'lat': '-37.3159', 'lng': '81.1496'}\n",
      "lat => -37.3159\n",
      "lng => 81.1496\n"
     ]
    }
   ],
   "source": [
    "# 4) 개별 회원 정보 출력 \n",
    "print('id =>', user_list[0]['id'])\n",
    "print('name =>', user_list[0]['name'])\n",
    "print('address =>', user_list[0]['address'])\n",
    "print('city =>', user_list[0]['address']['city'])\n",
    "print('geo =>', user_list[0]['address']['geo'])\n",
    "print('lat =>', user_list[0]['address']['geo']['lat'])\n",
    "print('lng =>', user_list[0]['address']['geo']['lng'])"
   ]
  },
  {
   "cell_type": "code",
   "execution_count": 24,
   "id": "4ec20026",
   "metadata": {},
   "outputs": [
    {
     "name": "stdout",
     "output_type": "stream",
     "text": [
      "id =1,name = Leanne Graham,city=Gwenborough\n",
      "id =2,name = Ervin Howell,city=Wisokyburgh\n",
      "id =3,name = Clementine Bauch,city=McKenziehaven\n",
      "id =4,name = Patricia Lebsack,city=South Elvis\n",
      "id =5,name = Chelsey Dietrich,city=Roscoeview\n",
      "id =6,name = Mrs. Dennis Schulist,city=South Christy\n",
      "id =7,name = Kurtis Weissnat,city=Howemouth\n",
      "id =8,name = Nicholas Runolfsdottir V,city=Aliyaview\n",
      "id =9,name = Glenna Reichert,city=Bartholomebury\n",
      "id =10,name = Clementina DuBuque,city=Lebsackbury\n"
     ]
    }
   ],
   "source": [
    "# 5) 전체회원의 아이디, 이름, 도시 만 출력 \n",
    "for user in user_list:\n",
    "    print(f\"id ={user['id']},name = {user['name']},city={user['address']['city']}\")"
   ]
  },
  {
   "cell_type": "code",
   "execution_count": 25,
   "id": "e142c176",
   "metadata": {},
   "outputs": [
    {
     "name": "stdout",
     "output_type": "stream",
     "text": [
      "id =3,name = Clementine Bauch\n",
      "id =5,name = Chelsey Dietrich\n",
      "id =10,name = Clementina DuBuque\n"
     ]
    }
   ],
   "source": [
    "# 6) 이름이 C 로 시작하는 회원의 아이디와 이름 출력 \n",
    "for user in user_list:\n",
    "    if user['name'][0] == 'C':\n",
    "        print(f\"id ={user['id']},name = {user['name']}\")"
   ]
  },
  {
   "cell_type": "code",
   "execution_count": 28,
   "id": "4747095b",
   "metadata": {},
   "outputs": [
    {
     "data": {
      "text/html": [
       "<div>\n",
       "<style scoped>\n",
       "    .dataframe tbody tr th:only-of-type {\n",
       "        vertical-align: middle;\n",
       "    }\n",
       "\n",
       "    .dataframe tbody tr th {\n",
       "        vertical-align: top;\n",
       "    }\n",
       "\n",
       "    .dataframe thead th {\n",
       "        text-align: right;\n",
       "    }\n",
       "</style>\n",
       "<table border=\"1\" class=\"dataframe\">\n",
       "  <thead>\n",
       "    <tr style=\"text-align: right;\">\n",
       "      <th></th>\n",
       "      <th>name</th>\n",
       "      <th>email</th>\n",
       "      <th>city</th>\n",
       "      <th>company_name</th>\n",
       "    </tr>\n",
       "  </thead>\n",
       "  <tbody>\n",
       "    <tr>\n",
       "      <th>0</th>\n",
       "      <td>Leanne Graham</td>\n",
       "      <td>Sincere@april.biz</td>\n",
       "      <td>Gwenborough</td>\n",
       "      <td>Romaguera-Crona</td>\n",
       "    </tr>\n",
       "    <tr>\n",
       "      <th>1</th>\n",
       "      <td>Ervin Howell</td>\n",
       "      <td>Shanna@melissa.tv</td>\n",
       "      <td>Wisokyburgh</td>\n",
       "      <td>Deckow-Crist</td>\n",
       "    </tr>\n",
       "    <tr>\n",
       "      <th>2</th>\n",
       "      <td>Clementine Bauch</td>\n",
       "      <td>Nathan@yesenia.net</td>\n",
       "      <td>McKenziehaven</td>\n",
       "      <td>Romaguera-Jacobson</td>\n",
       "    </tr>\n",
       "    <tr>\n",
       "      <th>3</th>\n",
       "      <td>Patricia Lebsack</td>\n",
       "      <td>Julianne.OConner@kory.org</td>\n",
       "      <td>South Elvis</td>\n",
       "      <td>Robel-Corkery</td>\n",
       "    </tr>\n",
       "    <tr>\n",
       "      <th>4</th>\n",
       "      <td>Chelsey Dietrich</td>\n",
       "      <td>Lucio_Hettinger@annie.ca</td>\n",
       "      <td>Roscoeview</td>\n",
       "      <td>Keebler LLC</td>\n",
       "    </tr>\n",
       "    <tr>\n",
       "      <th>5</th>\n",
       "      <td>Mrs. Dennis Schulist</td>\n",
       "      <td>Karley_Dach@jasper.info</td>\n",
       "      <td>South Christy</td>\n",
       "      <td>Considine-Lockman</td>\n",
       "    </tr>\n",
       "    <tr>\n",
       "      <th>6</th>\n",
       "      <td>Kurtis Weissnat</td>\n",
       "      <td>Telly.Hoeger@billy.biz</td>\n",
       "      <td>Howemouth</td>\n",
       "      <td>Johns Group</td>\n",
       "    </tr>\n",
       "    <tr>\n",
       "      <th>7</th>\n",
       "      <td>Nicholas Runolfsdottir V</td>\n",
       "      <td>Sherwood@rosamond.me</td>\n",
       "      <td>Aliyaview</td>\n",
       "      <td>Abernathy Group</td>\n",
       "    </tr>\n",
       "    <tr>\n",
       "      <th>8</th>\n",
       "      <td>Glenna Reichert</td>\n",
       "      <td>Chaim_McDermott@dana.io</td>\n",
       "      <td>Bartholomebury</td>\n",
       "      <td>Yost and Sons</td>\n",
       "    </tr>\n",
       "    <tr>\n",
       "      <th>9</th>\n",
       "      <td>Clementina DuBuque</td>\n",
       "      <td>Rey.Padberg@karina.biz</td>\n",
       "      <td>Lebsackbury</td>\n",
       "      <td>Hoeger LLC</td>\n",
       "    </tr>\n",
       "  </tbody>\n",
       "</table>\n",
       "</div>"
      ],
      "text/plain": [
       "                       name                      email            city  \\\n",
       "0             Leanne Graham          Sincere@april.biz     Gwenborough   \n",
       "1              Ervin Howell          Shanna@melissa.tv     Wisokyburgh   \n",
       "2          Clementine Bauch         Nathan@yesenia.net   McKenziehaven   \n",
       "3          Patricia Lebsack  Julianne.OConner@kory.org     South Elvis   \n",
       "4          Chelsey Dietrich   Lucio_Hettinger@annie.ca      Roscoeview   \n",
       "5      Mrs. Dennis Schulist    Karley_Dach@jasper.info   South Christy   \n",
       "6           Kurtis Weissnat     Telly.Hoeger@billy.biz       Howemouth   \n",
       "7  Nicholas Runolfsdottir V       Sherwood@rosamond.me       Aliyaview   \n",
       "8           Glenna Reichert    Chaim_McDermott@dana.io  Bartholomebury   \n",
       "9        Clementina DuBuque     Rey.Padberg@karina.biz     Lebsackbury   \n",
       "\n",
       "         company_name  \n",
       "0     Romaguera-Crona  \n",
       "1        Deckow-Crist  \n",
       "2  Romaguera-Jacobson  \n",
       "3       Robel-Corkery  \n",
       "4         Keebler LLC  \n",
       "5   Considine-Lockman  \n",
       "6         Johns Group  \n",
       "7     Abernathy Group  \n",
       "8       Yost and Sons  \n",
       "9          Hoeger LLC  "
      ]
     },
     "execution_count": 28,
     "metadata": {},
     "output_type": "execute_result"
    }
   ],
   "source": [
    "# 7) 데이타프레임 구조로 변경하기 \n",
    "# name, email, city, 회사명\n",
    "result_list=[]\n",
    "for user in user_list:\n",
    "    name = user['name']\n",
    "    email = user['email']\n",
    "    city = user['address']['city']\n",
    "    company_name = user['company']['name']\n",
    "    result_list.append([name, email, city, company_name])\n",
    "\n",
    "df = pd.DataFrame(result_list, \n",
    "                  columns=['name', 'email', 'city', 'company_name'])\n",
    "df"
   ]
  },
  {
   "cell_type": "code",
   "execution_count": 26,
   "id": "378e65fa",
   "metadata": {},
   "outputs": [
    {
     "data": {
      "text/plain": [
       "{'id': 1,\n",
       " 'name': 'Leanne Graham',\n",
       " 'username': 'Bret',\n",
       " 'email': 'Sincere@april.biz',\n",
       " 'address': {'street': 'Kulas Light',\n",
       "  'suite': 'Apt. 556',\n",
       "  'city': 'Gwenborough',\n",
       "  'zipcode': '92998-3874',\n",
       "  'geo': {'lat': '-37.3159', 'lng': '81.1496'}},\n",
       " 'phone': '1-770-736-8031 x56442',\n",
       " 'website': 'hildegard.org',\n",
       " 'company': {'name': 'Romaguera-Crona',\n",
       "  'catchPhrase': 'Multi-layered client-server neural-net',\n",
       "  'bs': 'harness real-time e-markets'}}"
      ]
     },
     "execution_count": 26,
     "metadata": {},
     "output_type": "execute_result"
    }
   ],
   "source": [
    "user_list[0]"
   ]
  },
  {
   "cell_type": "code",
   "execution_count": 32,
   "id": "2f83e13d",
   "metadata": {},
   "outputs": [],
   "source": [
    "# 퀴즈) phone 이 '210.067.6132'인 회원은 누구인가?"
   ]
  },
  {
   "cell_type": "code",
   "execution_count": 31,
   "id": "989b8e0e",
   "metadata": {},
   "outputs": [
    {
     "name": "stdout",
     "output_type": "stream",
     "text": [
      "id =7,name = Kurtis Weissnat\n"
     ]
    }
   ],
   "source": [
    "for user in user_list:\n",
    "    if user['phone'] == '210.067.6132':\n",
    "        # print(user)\n",
    "        print(f\"id ={user['id']},name = {user['name']}\")"
   ]
  },
  {
   "cell_type": "markdown",
   "id": "1c56a7f1",
   "metadata": {},
   "source": [
    "## 퀴즈\n",
    "\n",
    "```\n",
    "1) json 샘플 사이트를 이용하여 딕셔너리 리스트 형태로 변경하고 \n",
    "첫번째 데이타만 출력하여라\n",
    "\n",
    "https://jsonplaceholder.typicode.com/todos\n",
    "\n",
    "2) 총 갯수는?\n",
    "3) completed 키값이 true인 데이타만 출력하여라\n",
    "4) id 가 100 인 데이타만 출력하여라 \n",
    "5) id 가 10~19번인 데이타만 출력하여라 \n",
    "6) 판다스의 데이타프레임으로 변경하여라\n",
    "7) todos.csv 파일로 저장하여라 \n",
    "```"
   ]
  },
  {
   "cell_type": "code",
   "execution_count": 34,
   "id": "e130fca9",
   "metadata": {},
   "outputs": [
    {
     "name": "stdout",
     "output_type": "stream",
     "text": [
      "<class 'str'>\n",
      "{'userId': 1, 'id': 1, 'title': 'delectus aut autem', 'completed': False}\n"
     ]
    }
   ],
   "source": [
    "# 1) json 데이타 요청 \n",
    "url = 'https://jsonplaceholder.typicode.com/todos'\n",
    "res = requests.get(url)\n",
    "\n",
    "# 2) 문자열 형태로 저장 \n",
    "json_str = res.text\n",
    "print(type(json_str))\n",
    "\n",
    "# 3) 문자열 => 리스트 구조 (리스트안의 딕셔너리 )\n",
    "todos_list = json.loads(json_str)\n",
    "\n",
    "# 4) 첫번째 데이타만 출력 \n",
    "print(todos_list[0])"
   ]
  },
  {
   "cell_type": "markdown",
   "id": "08a4638b",
   "metadata": {},
   "source": [
    "### 2) 총 갯수는?"
   ]
  },
  {
   "cell_type": "code",
   "execution_count": 35,
   "id": "e87810cf",
   "metadata": {},
   "outputs": [
    {
     "name": "stdout",
     "output_type": "stream",
     "text": [
      "200\n"
     ]
    }
   ],
   "source": [
    "print(len(todos_list))"
   ]
  },
  {
   "cell_type": "markdown",
   "id": "79e75778",
   "metadata": {},
   "source": [
    "### 3) completed 키값이 true인 데이타만 출력하여라"
   ]
  },
  {
   "cell_type": "code",
   "execution_count": 41,
   "id": "7f9b1ceb",
   "metadata": {},
   "outputs": [
    {
     "name": "stdout",
     "output_type": "stream",
     "text": [
      "110\n"
     ]
    }
   ],
   "source": [
    "count = 0\n",
    "for todo in todos_list:\n",
    "    if todo['completed']:\n",
    "        pass\n",
    "    else:\n",
    "#         print(todo)\n",
    "        count += 1\n",
    "\n",
    "print(count)"
   ]
  },
  {
   "cell_type": "markdown",
   "id": "25b596f3",
   "metadata": {},
   "source": [
    "### 4) id 가 100 인 데이타만 출력하여라 "
   ]
  },
  {
   "cell_type": "code",
   "execution_count": 42,
   "id": "dd27c3d0",
   "metadata": {},
   "outputs": [
    {
     "name": "stdout",
     "output_type": "stream",
     "text": [
      "{'userId': 5, 'id': 100, 'title': 'excepturi a et neque qui expedita vel voluptate', 'completed': False}\n"
     ]
    }
   ],
   "source": [
    "for todo in todos_list:\n",
    "    if todo['id'] == 100:\n",
    "        print(todo)"
   ]
  },
  {
   "cell_type": "markdown",
   "id": "6a08aa3a",
   "metadata": {},
   "source": [
    "### 5) id 가 10~19번인 데이타만 출력하여라"
   ]
  },
  {
   "cell_type": "code",
   "execution_count": 43,
   "id": "30be55bc",
   "metadata": {
    "scrolled": true
   },
   "outputs": [
    {
     "name": "stdout",
     "output_type": "stream",
     "text": [
      "{'userId': 1, 'id': 10, 'title': 'illo est ratione doloremque quia maiores aut', 'completed': True}\n",
      "{'userId': 1, 'id': 11, 'title': 'vero rerum temporibus dolor', 'completed': True}\n",
      "{'userId': 1, 'id': 12, 'title': 'ipsa repellendus fugit nisi', 'completed': True}\n",
      "{'userId': 1, 'id': 13, 'title': 'et doloremque nulla', 'completed': False}\n",
      "{'userId': 1, 'id': 14, 'title': 'repellendus sunt dolores architecto voluptatum', 'completed': True}\n",
      "{'userId': 1, 'id': 15, 'title': 'ab voluptatum amet voluptas', 'completed': True}\n",
      "{'userId': 1, 'id': 16, 'title': 'accusamus eos facilis sint et aut voluptatem', 'completed': True}\n",
      "{'userId': 1, 'id': 17, 'title': 'quo laboriosam deleniti aut qui', 'completed': True}\n",
      "{'userId': 1, 'id': 18, 'title': 'dolorum est consequatur ea mollitia in culpa', 'completed': False}\n",
      "{'userId': 1, 'id': 19, 'title': 'molestiae ipsa aut voluptatibus pariatur dolor nihil', 'completed': True}\n"
     ]
    }
   ],
   "source": [
    "for todo in todos_list:\n",
    "    if 10 <= todo['id'] <= 19:\n",
    "        print(todo)"
   ]
  },
  {
   "cell_type": "markdown",
   "id": "ec1c4788",
   "metadata": {},
   "source": [
    "### 6) 판다스의 데이타프레임으로 변경하여라"
   ]
  },
  {
   "cell_type": "code",
   "execution_count": 45,
   "id": "93c5a1b6",
   "metadata": {},
   "outputs": [
    {
     "data": {
      "text/html": [
       "<div>\n",
       "<style scoped>\n",
       "    .dataframe tbody tr th:only-of-type {\n",
       "        vertical-align: middle;\n",
       "    }\n",
       "\n",
       "    .dataframe tbody tr th {\n",
       "        vertical-align: top;\n",
       "    }\n",
       "\n",
       "    .dataframe thead th {\n",
       "        text-align: right;\n",
       "    }\n",
       "</style>\n",
       "<table border=\"1\" class=\"dataframe\">\n",
       "  <thead>\n",
       "    <tr style=\"text-align: right;\">\n",
       "      <th></th>\n",
       "      <th>userId</th>\n",
       "      <th>id</th>\n",
       "      <th>title</th>\n",
       "      <th>completed</th>\n",
       "    </tr>\n",
       "  </thead>\n",
       "  <tbody>\n",
       "    <tr>\n",
       "      <th>0</th>\n",
       "      <td>1</td>\n",
       "      <td>1</td>\n",
       "      <td>delectus aut autem</td>\n",
       "      <td>False</td>\n",
       "    </tr>\n",
       "    <tr>\n",
       "      <th>1</th>\n",
       "      <td>1</td>\n",
       "      <td>2</td>\n",
       "      <td>quis ut nam facilis et officia qui</td>\n",
       "      <td>False</td>\n",
       "    </tr>\n",
       "    <tr>\n",
       "      <th>2</th>\n",
       "      <td>1</td>\n",
       "      <td>3</td>\n",
       "      <td>fugiat veniam minus</td>\n",
       "      <td>False</td>\n",
       "    </tr>\n",
       "    <tr>\n",
       "      <th>3</th>\n",
       "      <td>1</td>\n",
       "      <td>4</td>\n",
       "      <td>et porro tempora</td>\n",
       "      <td>True</td>\n",
       "    </tr>\n",
       "    <tr>\n",
       "      <th>4</th>\n",
       "      <td>1</td>\n",
       "      <td>5</td>\n",
       "      <td>laboriosam mollitia et enim quasi adipisci qui...</td>\n",
       "      <td>False</td>\n",
       "    </tr>\n",
       "    <tr>\n",
       "      <th>...</th>\n",
       "      <td>...</td>\n",
       "      <td>...</td>\n",
       "      <td>...</td>\n",
       "      <td>...</td>\n",
       "    </tr>\n",
       "    <tr>\n",
       "      <th>195</th>\n",
       "      <td>10</td>\n",
       "      <td>196</td>\n",
       "      <td>consequuntur aut ut fugit similique</td>\n",
       "      <td>True</td>\n",
       "    </tr>\n",
       "    <tr>\n",
       "      <th>196</th>\n",
       "      <td>10</td>\n",
       "      <td>197</td>\n",
       "      <td>dignissimos quo nobis earum saepe</td>\n",
       "      <td>True</td>\n",
       "    </tr>\n",
       "    <tr>\n",
       "      <th>197</th>\n",
       "      <td>10</td>\n",
       "      <td>198</td>\n",
       "      <td>quis eius est sint explicabo</td>\n",
       "      <td>True</td>\n",
       "    </tr>\n",
       "    <tr>\n",
       "      <th>198</th>\n",
       "      <td>10</td>\n",
       "      <td>199</td>\n",
       "      <td>numquam repellendus a magnam</td>\n",
       "      <td>True</td>\n",
       "    </tr>\n",
       "    <tr>\n",
       "      <th>199</th>\n",
       "      <td>10</td>\n",
       "      <td>200</td>\n",
       "      <td>ipsam aperiam voluptates qui</td>\n",
       "      <td>False</td>\n",
       "    </tr>\n",
       "  </tbody>\n",
       "</table>\n",
       "<p>200 rows × 4 columns</p>\n",
       "</div>"
      ],
      "text/plain": [
       "     userId   id                                              title  completed\n",
       "0         1    1                                 delectus aut autem      False\n",
       "1         1    2                 quis ut nam facilis et officia qui      False\n",
       "2         1    3                                fugiat veniam minus      False\n",
       "3         1    4                                   et porro tempora       True\n",
       "4         1    5  laboriosam mollitia et enim quasi adipisci qui...      False\n",
       "..      ...  ...                                                ...        ...\n",
       "195      10  196                consequuntur aut ut fugit similique       True\n",
       "196      10  197                  dignissimos quo nobis earum saepe       True\n",
       "197      10  198                       quis eius est sint explicabo       True\n",
       "198      10  199                       numquam repellendus a magnam       True\n",
       "199      10  200                       ipsam aperiam voluptates qui      False\n",
       "\n",
       "[200 rows x 4 columns]"
      ]
     },
     "execution_count": 45,
     "metadata": {},
     "output_type": "execute_result"
    }
   ],
   "source": [
    "result_list=[]\n",
    "for todo in todos_list:\n",
    "    userId = todo['userId']\n",
    "    id = todo['id']\n",
    "    title = todo['title']\n",
    "    completed = todo['completed']\n",
    "    result_list.append([userId, id, title, completed])\n",
    "\n",
    "df = pd.DataFrame(result_list, \n",
    "                  columns=['userId', 'id', 'title', 'completed'])\n",
    "df"
   ]
  },
  {
   "cell_type": "markdown",
   "id": "1930dedb",
   "metadata": {},
   "source": [
    "### 7) todos.csv 파일로 저장하여라 "
   ]
  },
  {
   "cell_type": "code",
   "execution_count": 47,
   "id": "0a97a975",
   "metadata": {},
   "outputs": [],
   "source": [
    "df.to_csv('output/todos.csv', index=False)"
   ]
  },
  {
   "cell_type": "code",
   "execution_count": null,
   "id": "5acce14c",
   "metadata": {},
   "outputs": [],
   "source": []
  },
  {
   "cell_type": "code",
   "execution_count": null,
   "id": "3f0cb821",
   "metadata": {},
   "outputs": [],
   "source": []
  }
 ],
 "metadata": {
  "kernelspec": {
   "display_name": "Python 3 (ipykernel)",
   "language": "python",
   "name": "python3"
  },
  "language_info": {
   "codemirror_mode": {
    "name": "ipython",
    "version": 3
   },
   "file_extension": ".py",
   "mimetype": "text/x-python",
   "name": "python",
   "nbconvert_exporter": "python",
   "pygments_lexer": "ipython3",
   "version": "3.9.13"
  }
 },
 "nbformat": 4,
 "nbformat_minor": 5
}
