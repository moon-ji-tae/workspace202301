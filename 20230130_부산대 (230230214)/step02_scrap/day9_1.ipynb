{
 "cells": [
  {
   "cell_type": "markdown",
   "id": "3f21450b",
   "metadata": {},
   "source": [
    "# Review\n",
    "\n",
    "- 웹수집 단계 \n",
    "    - 데이타 요청\n",
    "    - 문자열 데이타 (html 페이지) \n",
    "    - 파싱(데이타 추출) => 문자열 \n",
    "    - 테이블 구조 데이타 ( 2차원 리스트, 리스트 딕셔너리 ) \n",
    "    - 텍스트 파일\n",
    "    - csv 파일\n",
    "        - 판다스의 데이타프레임 구조 \n",
    "        \n",
    "## 데이타 요청        \n",
    "    - requests \n",
    "    - urllib \n",
    "\n",
    "## 파싱 \n",
    "    - 뷰티풀숩\n",
    "    - 셀레니움 \n",
    "\n",
    "## 뷰티풀숩\n",
    "    - 도트 방식으로 찾기 \n",
    "    - find(), find_all()\n",
    "    - select_one(), select()\n",
    "    - text, name, attrs"
   ]
  },
  {
   "cell_type": "markdown",
   "id": "2ed504b4",
   "metadata": {},
   "source": [
    "# 퀴즈 \n",
    "- 슬라이드 94\n",
    "- https://www.gogung.go.kr/gogung/pgm/psgudMng/appointList.do?gubunCd=PSGUD_006&menuNo=800067\n",
    "- 지정문화재 페이지에서 제목, 상세설명, 이미지URL 정보 추출 \n",
    "- 텍스트 파일로 최종 저장 "
   ]
  },
  {
   "cell_type": "code",
   "execution_count": 1,
   "id": "4a95fc83",
   "metadata": {},
   "outputs": [],
   "source": [
    "# 0) 모듈 임포트 \n",
    "\n",
    "import requests\n",
    "from bs4 import BeautifulSoup\n",
    "import pandas as pd"
   ]
  },
  {
   "cell_type": "code",
   "execution_count": 3,
   "id": "99bd578b",
   "metadata": {},
   "outputs": [
    {
     "name": "stdout",
     "output_type": "stream",
     "text": [
      "<class 'bs4.BeautifulSoup'>\n"
     ]
    }
   ],
   "source": [
    "# 1) 웹페이지 주소 요청 => 문자열 데이타 => 숩객체 \n",
    "\n",
    "url = 'https://www.gogung.go.kr/gogung/pgm/psgudMng/appointList.do?gubunCd=PSGUD_006&menuNo=800067'\n",
    "res = requests.get(url)\n",
    "\n",
    "html_str = res.text\n",
    "\n",
    "soup = BeautifulSoup(html_str, 'html.parser')\n",
    "print(type(soup))"
   ]
  },
  {
   "cell_type": "code",
   "execution_count": 9,
   "id": "d0580eb2",
   "metadata": {},
   "outputs": [
    {
     "name": "stdout",
     "output_type": "stream",
     "text": [
      "5\n",
      "<a href=\"appointView.do?psgudSn=358107&amp;menuNo=800067&amp;gubunCd=PSGUD_006\" title=\"백자달항아리 페이지 이동\">\n",
      "<span class=\"img\">\n",
      "<img alt=\"백자달항아리\" src=\"/cmmn/file/imageSrc.do?atchFileId=00006726JP&amp;fileSn=1&amp;thumb=Y\"/>\n",
      "</span>\n",
      "<span class=\"subject ellipsis-line2\">백자달항아리</span>\n",
      "<span class=\"text ellipsis-line3\">조선시대에 제작한 백자이다. \r\n",
      "둥글고 유백색(乳白色)의 형태가 둥근 달을 연상하게 되어 ‘달항아리’라고 부른다. 이 백자는 완전한 좌우대칭은 아니지만 약간 비틀어지고 변...</span>\n",
      "</a>\n"
     ]
    }
   ],
   "source": [
    "# 2) 파싱 \n",
    "# target = soup.select('.board-gallery.type2 li a')\n",
    "target_list = soup.select('.board-gallery.type2 > li > a')\n",
    "print(len(target_list))\n",
    "\n",
    "print(target_list[-1])"
   ]
  },
  {
   "cell_type": "code",
   "execution_count": 20,
   "id": "838f99f6",
   "metadata": {},
   "outputs": [
    {
     "name": "stdout",
     "output_type": "stream",
     "text": [
      "제목 : 창경궁 자격루 항아리\n",
      "제목 : 창경궁 자격루 항아리\n",
      "설명 : ‘스스로 치는 시계’라는 뜻의 자격루는 물의 증가나 감소에 따라 자동으로 시각을 알려주는 첨단 물시계로, 조선 시대의 국가 표준시계였다. 자격루 누기는 자격루를 구성하는 장치들 중...\n",
      "이미지 URL : https://www.gogung.go.kr/cmmn/file/imageSrc.do?atchFileId=00022463TB&fileSn=1&thumb=Y\n",
      "--------------------\n",
      "<a href=\"appointView.do?psgudSn=370348&amp;menuNo=800067&amp;gubunCd=PSGUD_006\" title=\"창경궁 자격루 항아리 페이지 이동\">\n",
      "<span class=\"img\">\n",
      "<img alt=\"창경궁 자격루 항아리\" src=\"/cmmn/file/imageSrc.do?atchFileId=00022463TB&amp;fileSn=1&amp;thumb=Y\"/>\n",
      "</span>\n",
      "<span class=\"subject ellipsis-line2\">창경궁 자격루 항아리</span>\n",
      "<span class=\"text ellipsis-line3\">‘스스로 치는 시계’라는 뜻의 자격루는 물의 증가나 감소에 따라 자동으로 시각을 알려주는 첨단 물시계로, 조선 시대의 국가 표준시계였다. 자격루 누기는 자격루를 구성하는 장치들 중...</span>\n",
      "</a>\n"
     ]
    }
   ],
   "source": [
    "# 첫번째 태그에서 데이타 추출 \n",
    "# 제목, 설명, 이미지URL\n",
    "print('제목 :', target_list[0].select_one('.subject').text)\n",
    "print('제목 :', target_list[0].select_one('img')['alt'])\n",
    "print('설명 :', target_list[0].select_one('.text').text)\n",
    "base_url = 'https://www.gogung.go.kr'\n",
    "print('이미지 URL :', base_url+target_list[0].select_one('img')['src'])\n",
    "print('-'*20)\n",
    "print(target_list[0])"
   ]
  },
  {
   "cell_type": "code",
   "execution_count": 95,
   "id": "f0d7bb22",
   "metadata": {},
   "outputs": [],
   "source": [
    "# 3) 테이블 구조 데이타 ( 2차원 리스트 )\n",
    "result_list = []\n",
    "for tag in target_list:\n",
    "    title = tag.select_one('.subject').text\n",
    "    # 글문단에서 개행및 여백 정리 \n",
    "    # csv 파일로 저장할 때 에러 해결을 위해 \n",
    "    # .replace('\\xa0',' ') 추가 필요  \n",
    "    contents = tag.select_one('.text').text.replace('  ','').strip().replace('\\n',' ').replace('\\xa0',' ')\n",
    "#     contents = tag.select_one('.text').text.replace('  ','').strip().replace('\\n',' ')\n",
    "    img_url = base_url+tag.select_one('img')['src']\n",
    "    # 리스트 생성후 데이타 삽입\n",
    "    result_list.append([title, contents, img_url])"
   ]
  },
  {
   "cell_type": "code",
   "execution_count": 96,
   "id": "50d276a3",
   "metadata": {},
   "outputs": [
    {
     "name": "stdout",
     "output_type": "stream",
     "text": [
      "제목 : 창경궁 자격루 항아리\n",
      "내용 : ‘스스로 치는 시계’라는 뜻의 자격루는 물의 증가나 감소에 따라 자동으로 시각을 알려주는 첨단 물시계로, 조선 시대의 국가 표준시계였다. 자격루 누기는 자격루를 구성하는 장치들 중...\n",
      "이미지URL : https://www.gogung.go.kr/cmmn/file/imageSrc.do?atchFileId=00022463TB&fileSn=1&thumb=Y\n",
      "==============================\n",
      "제목 : 조선왕조실록 오대산 사고본\n",
      "내용 : 『조선왕조실록(朝鮮王朝實錄)』은 조선 태조에서부터 조선 철종 때까지 25대 472년간(1392∼1863)의 역사를 일어난 순서대로 기록한 책이다. 이 중 오대산사고본(五臺山史庫本)...\n",
      "이미지URL : https://www.gogung.go.kr/cmmn/file/imageSrc.do?atchFileId=00018144HF&fileSn=1&thumb=Y\n",
      "==============================\n",
      "제목 : 창덕궁 이문원 측우대\n",
      "내용 : 조선시대 강우량을 측정하는 측우기를 올려 놓았던 대석(臺石)이다. \r",
      "  원래는 측우기와 측우대는 창덕궁 내 이문원...\n",
      "이미지URL : https://www.gogung.go.kr/cmmn/file/imageSrc.do?atchFileId=00006752XQ&fileSn=1&thumb=Y\n",
      "==============================\n",
      "제목 : 천상열차분야지도 각석\n",
      "내용 : 천체의 형상을 직육면체의 돌에 새겨 놓은 지도이다. \r",
      " 이 지도의 내용은 두 부분으로 구성...\n",
      "이미지URL : https://www.gogung.go.kr/cmmn/file/imageSrc.do?atchFileId=00006730AC&fileSn=1&thumb=Y\n",
      "==============================\n",
      "제목 : 백자달항아리\n",
      "내용 : 조선시대에 제작한 백자이다. \r",
      " 둥글고 유백색(乳白色)의 형태가 둥근 달을 연상하게 되어 ‘달항아리’라고 부른다. 이 백자는 완전한 좌우대칭은 아니지만 약간 비틀어지고 변...\n",
      "이미지URL : https://www.gogung.go.kr/cmmn/file/imageSrc.do?atchFileId=00006726JP&fileSn=1&thumb=Y\n",
      "==============================\n"
     ]
    }
   ],
   "source": [
    "for title, contents, img_url in result_list:\n",
    "    print(f'제목 : {title}')\n",
    "    print(f'내용 : {contents}')\n",
    "    print(f'이미지URL : {img_url}')\n",
    "    print('='*30)"
   ]
  },
  {
   "cell_type": "code",
   "execution_count": 97,
   "id": "89e61514",
   "metadata": {},
   "outputs": [],
   "source": [
    "# 4) 텍스트파일로 저장하기 \n",
    "with open('output/지정문화재.txt','w', encoding='utf-8') as f:\n",
    "    for title, contents, img_url in result_list:\n",
    "        f.write(f'제목 : {title}\\n')\n",
    "        f.write(f'내용 : {contents}\\n')\n",
    "        f.write(f'이미지URL : {img_url}\\n')\n",
    "        f.write('='*30)\n",
    "        f.write('\\n')"
   ]
  },
  {
   "cell_type": "code",
   "execution_count": 98,
   "id": "d7a10ab4",
   "metadata": {},
   "outputs": [
    {
     "data": {
      "text/html": [
       "<div>\n",
       "<style scoped>\n",
       "    .dataframe tbody tr th:only-of-type {\n",
       "        vertical-align: middle;\n",
       "    }\n",
       "\n",
       "    .dataframe tbody tr th {\n",
       "        vertical-align: top;\n",
       "    }\n",
       "\n",
       "    .dataframe thead th {\n",
       "        text-align: right;\n",
       "    }\n",
       "</style>\n",
       "<table border=\"1\" class=\"dataframe\">\n",
       "  <thead>\n",
       "    <tr style=\"text-align: right;\">\n",
       "      <th></th>\n",
       "      <th>제목</th>\n",
       "      <th>내용</th>\n",
       "      <th>이미지 URL</th>\n",
       "    </tr>\n",
       "  </thead>\n",
       "  <tbody>\n",
       "    <tr>\n",
       "      <th>0</th>\n",
       "      <td>창경궁 자격루 항아리</td>\n",
       "      <td>‘스스로 치는 시계’라는 뜻의 자격루는 물의 증가나 감소에 따라 자동으로 시각을 알...</td>\n",
       "      <td>https://www.gogung.go.kr/cmmn/file/imageSrc.do...</td>\n",
       "    </tr>\n",
       "    <tr>\n",
       "      <th>1</th>\n",
       "      <td>조선왕조실록 오대산 사고본</td>\n",
       "      <td>『조선왕조실록(朝鮮王朝實錄)』은 조선 태조에서부터 조선 철종 때까지 25대 472년...</td>\n",
       "      <td>https://www.gogung.go.kr/cmmn/file/imageSrc.do...</td>\n",
       "    </tr>\n",
       "    <tr>\n",
       "      <th>2</th>\n",
       "      <td>창덕궁 이문원 측우대</td>\n",
       "      <td>조선시대 강우량을 측정하는 측우기를 올려 놓았던 대석(臺石)이다. \\r  원래는 측...</td>\n",
       "      <td>https://www.gogung.go.kr/cmmn/file/imageSrc.do...</td>\n",
       "    </tr>\n",
       "    <tr>\n",
       "      <th>3</th>\n",
       "      <td>천상열차분야지도 각석</td>\n",
       "      <td>천체의 형상을 직육면체의 돌에 새겨 놓은 지도이다. \\r 이 지도의 내용은 두 부분...</td>\n",
       "      <td>https://www.gogung.go.kr/cmmn/file/imageSrc.do...</td>\n",
       "    </tr>\n",
       "    <tr>\n",
       "      <th>4</th>\n",
       "      <td>백자달항아리</td>\n",
       "      <td>조선시대에 제작한 백자이다. \\r 둥글고 유백색(乳白色)의 형태가 둥근 달을 연상하...</td>\n",
       "      <td>https://www.gogung.go.kr/cmmn/file/imageSrc.do...</td>\n",
       "    </tr>\n",
       "  </tbody>\n",
       "</table>\n",
       "</div>"
      ],
      "text/plain": [
       "               제목                                                 내용  \\\n",
       "0     창경궁 자격루 항아리  ‘스스로 치는 시계’라는 뜻의 자격루는 물의 증가나 감소에 따라 자동으로 시각을 알...   \n",
       "1  조선왕조실록 오대산 사고본  『조선왕조실록(朝鮮王朝實錄)』은 조선 태조에서부터 조선 철종 때까지 25대 472년...   \n",
       "2     창덕궁 이문원 측우대  조선시대 강우량을 측정하는 측우기를 올려 놓았던 대석(臺石)이다. \\r  원래는 측...   \n",
       "3     천상열차분야지도 각석  천체의 형상을 직육면체의 돌에 새겨 놓은 지도이다. \\r 이 지도의 내용은 두 부분...   \n",
       "4          백자달항아리  조선시대에 제작한 백자이다. \\r 둥글고 유백색(乳白色)의 형태가 둥근 달을 연상하...   \n",
       "\n",
       "                                             이미지 URL  \n",
       "0  https://www.gogung.go.kr/cmmn/file/imageSrc.do...  \n",
       "1  https://www.gogung.go.kr/cmmn/file/imageSrc.do...  \n",
       "2  https://www.gogung.go.kr/cmmn/file/imageSrc.do...  \n",
       "3  https://www.gogung.go.kr/cmmn/file/imageSrc.do...  \n",
       "4  https://www.gogung.go.kr/cmmn/file/imageSrc.do...  "
      ]
     },
     "execution_count": 98,
     "metadata": {},
     "output_type": "execute_result"
    }
   ],
   "source": [
    "# 5) 판다스의 데이타프레임 구조로 변경하기 \n",
    "df = pd.DataFrame(result_list, \n",
    "                  columns=['제목', '내용', '이미지 URL'])\n",
    "df"
   ]
  },
  {
   "cell_type": "code",
   "execution_count": 99,
   "id": "a29ea968",
   "metadata": {},
   "outputs": [],
   "source": [
    "# 6) csv 파일로 저장하기 \n",
    "# index=False 행인덱스 제거해서 저장 \n",
    "# df.to_csv('output/지정문화재.csv', index=False)\n",
    "df.to_csv('output/지정문화재.csv', index=False, encoding='cp949')"
   ]
  },
  {
   "cell_type": "code",
   "execution_count": 101,
   "id": "30523825",
   "metadata": {
    "scrolled": true
   },
   "outputs": [],
   "source": [
    "# ls output"
   ]
  },
  {
   "cell_type": "markdown",
   "id": "6eaf6d63",
   "metadata": {},
   "source": [
    "# W3schools의 color  \n",
    "\n",
    "- 영문색상명, 16진수색상코드값, 페이지URL\n",
    "- https://www.w3schools.com/colors/colors_names.asp\n",
    "- 최종 결과물 => csv"
   ]
  },
  {
   "cell_type": "code",
   "execution_count": 104,
   "id": "3793b5a0",
   "metadata": {},
   "outputs": [],
   "source": [
    "# 1) 웹페이지 주소 요청 => 문자열 데이타 => 숩객체 \n",
    "\n",
    "url = 'https://www.w3schools.com/colors/colors_names.asp'\n",
    "res = requests.get(url)\n",
    "\n",
    "html_str = res.text\n",
    "\n",
    "soup = BeautifulSoup(html_str, 'html.parser')\n",
    "# print(soup)"
   ]
  },
  {
   "cell_type": "code",
   "execution_count": 117,
   "id": "4d248b96",
   "metadata": {},
   "outputs": [
    {
     "name": "stdout",
     "output_type": "stream",
     "text": [
      "148\n",
      "\n"
     ]
    }
   ],
   "source": [
    "# 2) 파싱 \n",
    "# 소스 파악 \n",
    "# 클래스명 확인 innerbox\n",
    "target_list = soup.find_all(class_='innerbox')\n",
    "# target_list = soup.select('.innerbox')\n",
    "print(len(target_list))\n",
    "# print(target_list[0])\n",
    "print()\n",
    "# print(target_list[-1])"
   ]
  },
  {
   "cell_type": "code",
   "execution_count": 115,
   "id": "b2223a9f",
   "metadata": {},
   "outputs": [
    {
     "name": "stdout",
     "output_type": "stream",
     "text": [
      "영문색상명 => AliceBlue\n",
      "16진수색상코드값 => #F0F8FF\n",
      "페이지URL => https://www.w3schools.com/colors/color_tryit.asp?color=AliceBlue\n"
     ]
    }
   ],
   "source": [
    "# 개별 데이타 추출 테스트 \n",
    "# 영문색상명, 16진수색상코드값, 페이지URL\n",
    "base_url ='https://www.w3schools.com'\n",
    "print('영문색상명 =>', target_list[0].a.text)\n",
    "print('16진수색상코드값 =>', \n",
    "      target_list[0].find(class_='colorhexspan').text)\n",
    "print('페이지URL =>', \n",
    "      base_url+target_list[0].a['href'])"
   ]
  },
  {
   "cell_type": "code",
   "execution_count": 118,
   "id": "0e32ead5",
   "metadata": {},
   "outputs": [],
   "source": [
    "# 3) 테이블 구조 데이타 ( 2차원 리스트 )\n",
    "result_list = []\n",
    "for tag in target_list:\n",
    "    color_name = tag.a.text\n",
    "    hexcode = tag.find(class_='colorhexspan').text\n",
    "    url = base_url + tag.a['href']\n",
    "    result_list.append([color_name, hexcode, url])"
   ]
  },
  {
   "cell_type": "code",
   "execution_count": 120,
   "id": "3fec90a3",
   "metadata": {},
   "outputs": [],
   "source": [
    "# for color_name, hexcode, url in result_list:\n",
    "#     print(f'영문색상명 : {color_name}')\n",
    "#     print(f'16진수 : {hexcode}')\n",
    "#     print(f'URL : {url}')\n",
    "#     print('='*30)"
   ]
  },
  {
   "cell_type": "code",
   "execution_count": 126,
   "id": "d4d7c4fb",
   "metadata": {},
   "outputs": [],
   "source": [
    "# 4) 판다스의 데이타프레임 구조로 변경한 후 csv 파일로 저장하기 \n",
    "df = pd.DataFrame(result_list, \n",
    "                  columns=['색상명', '16진수', 'URL'])\n",
    "# df # 전체보기\n",
    "# df.head() # 앞에 5 행만 \n",
    "# df.tail() # 마지막 5개만 "
   ]
  },
  {
   "cell_type": "code",
   "execution_count": 124,
   "id": "93ac781b",
   "metadata": {},
   "outputs": [],
   "source": [
    "df.to_csv('output/웹색상.csv', index=False, encoding='cp949')"
   ]
  },
  {
   "cell_type": "code",
   "execution_count": 125,
   "id": "d0dd569c",
   "metadata": {},
   "outputs": [
    {
     "name": "stdout",
     "output_type": "stream",
     "text": [
      " C 드라이브의 볼륨에는 이름이 없습니다.\n",
      " 볼륨 일련 번호: F2CA-487A\n",
      "\n",
      " c:\\pyclass\\output 디렉터리\n",
      "\n",
      "2023-02-08  오후 04:54               579 블로터랭킹.csv\n",
      "2023-02-09  오전 11:30            12,437 웹색상.csv\n",
      "2023-02-09  오전 10:55             1,287 지정문화재.csv\n",
      "               3개 파일              14,303 바이트\n",
      "               0개 디렉터리  928,626,999,296 바이트 남음\n"
     ]
    }
   ],
   "source": [
    "ls output\\*.csv"
   ]
  },
  {
   "cell_type": "markdown",
   "id": "c93413bf",
   "metadata": {},
   "source": [
    "# 퀴즈 - 슬라이드 101\n",
    "\n",
    "\n",
    "## Yes24 베스트셀러 정보 저장하기\n",
    "\n",
    "- http://www.yes24.com/Main/default.aspx\n",
    "- 국내 도서 1~10 위의 데이타를 CSV 파일로 저장하여라\n",
    "- 추출정보 : 순위, 책제목, 저자, 출판사, 표지URL, URL"
   ]
  },
  {
   "cell_type": "code",
   "execution_count": 128,
   "id": "09c1f6fa",
   "metadata": {},
   "outputs": [],
   "source": [
    "# 1) 웹페이지 주소 요청 => 문자열 데이타 => 숩객체 \n",
    "\n",
    "url = 'http://www.yes24.com/Main/default.aspx'\n",
    "res = requests.get(url)\n",
    "\n",
    "html_str = res.text\n",
    "\n",
    "soup = BeautifulSoup(html_str, 'html.parser')\n",
    "# print(soup)"
   ]
  },
  {
   "cell_type": "code",
   "execution_count": 133,
   "id": "9fdb8ef4",
   "metadata": {},
   "outputs": [
    {
     "name": "stdout",
     "output_type": "stream",
     "text": [
      "10\n"
     ]
    }
   ],
   "source": [
    "# 2) 파싱 \n",
    "# 클래스명 확인 tp02\n",
    "target_list = soup.find_all(class_='tp02')\n",
    "print(len(target_list))\n",
    "# print(target_list[0])\n",
    "# print()\n",
    "# print(target_list[-1])"
   ]
  },
  {
   "cell_type": "code",
   "execution_count": 159,
   "id": "89bb2fab",
   "metadata": {},
   "outputs": [
    {
     "name": "stdout",
     "output_type": "stream",
     "text": [
      "순위 =>  10위\n",
      "책제목 =>  슬램덩크 신장재편판 19\n",
      "저자 =>  이노우에 타케히코 글,그림\n",
      "출판사 =>  대원\n",
      "표지URL =>  https://image.yes24.com/Goods/66360835/S\n",
      "상세 페이지 URL =>  http://www.yes24.com/Product/Goods/66360835\n"
     ]
    }
   ],
   "source": [
    "# 데이타 추출\n",
    "# 순위, 책제목, 저자, 출판사, 표지URL, URL\n",
    "print('순위 => ', target_list[-1].strong.text)\n",
    "# img 태그의 alt 속성값 \n",
    "print('책제목 => ', target_list[-1].img['alt'])\n",
    "# 2개의 em 태그중 2번째의 텍스트로 추출\n",
    "print('저자 => ', target_list[-1].select('em')[1].text)\n",
    "# title 속성값에서 마지막 단어 \n",
    "# split() => 공백을 기준으로 리스트로 생성 \n",
    "# print('출판사 => ', target_list[0].a['title'])\n",
    "print('출판사 => ', target_list[-1].a['title'].split()[-1])\n",
    "print('표지URL => ', target_list[-1].img['src'])\n",
    "base_url = 'http://www.yes24.com'\n",
    "print('상세 페이지 URL => ', base_url+target_list[-1].a['href'])"
   ]
  },
  {
   "cell_type": "code",
   "execution_count": 162,
   "id": "50e932e4",
   "metadata": {},
   "outputs": [],
   "source": [
    "# 3) 테이블 구조 데이타 ( 2차원 리스트 )\n",
    "result_list = []\n",
    "for tag in target_list:\n",
    "    rank = tag.strong.text\n",
    "    title = tag.img['alt']\n",
    "    writer = tag.select('em')[1].text\n",
    "    pub = tag.a['title'].split()[-1]\n",
    "    book_img = tag.img['src']\n",
    "    link = base_url+tag.a['href']\n",
    "    result_list.append([rank,title,writer, pub, book_img, link])"
   ]
  },
  {
   "cell_type": "code",
   "execution_count": 164,
   "id": "5ad02004",
   "metadata": {},
   "outputs": [
    {
     "data": {
      "text/plain": [
       "['1위',\n",
       " '만일 내가 인생을 다시 산다면 (10만 부 기념 스페셜 에디션)',\n",
       " '김혜남 저',\n",
       " '메이븐',\n",
       " 'https://image.yes24.com/Goods/115142458/S',\n",
       " 'http://www.yes24.com/Product/Goods/115142458']"
      ]
     },
     "execution_count": 164,
     "metadata": {},
     "output_type": "execute_result"
    }
   ],
   "source": [
    "result_list[0]"
   ]
  },
  {
   "cell_type": "code",
   "execution_count": 170,
   "id": "66a4c3e6",
   "metadata": {},
   "outputs": [],
   "source": [
    "# 4) 판다스의 데이타프레임 구조로 변경한 후 csv 파일로 저장하기 \n",
    "df = pd.DataFrame(result_list, \n",
    "         columns=['순위','책제목','저자','출판사','표지','링크'])\n",
    "# df # 전체보기\n",
    "# df.head(1) # 앞에 1행만 \n",
    "# df.tail(1) # 마지막 1개만 "
   ]
  },
  {
   "cell_type": "code",
   "execution_count": 169,
   "id": "1ebf2361",
   "metadata": {},
   "outputs": [],
   "source": [
    "df.to_csv('output/예스24랭킹.csv', index=False, encoding='cp949')"
   ]
  },
  {
   "cell_type": "markdown",
   "id": "695baff0",
   "metadata": {},
   "source": [
    "# 퀴즈 - 슬라이드 103\n",
    "\n",
    "\n",
    "## 네이버 요일별 웹툰 저장하기\n",
    "\n",
    "- https://comic.naver.com/webtoon/weekday\n",
    "- 요일별 전체 웹툰 영역의 웹툰 정보를 CSV 파일로 저장하여라\n",
    "- 요일 / 웹툰제목 / 관련 URL"
   ]
  },
  {
   "cell_type": "code",
   "execution_count": 174,
   "id": "a89c674a",
   "metadata": {},
   "outputs": [],
   "source": [
    "# 1) 웹페이지 주소 요청 => 문자열 데이타 => 숩객체 \n",
    "\n",
    "url = 'https://comic.naver.com/webtoon/weekday'\n",
    "res = requests.get(url)\n",
    "\n",
    "html_str = res.text\n",
    "\n",
    "soup = BeautifulSoup(html_str, 'html.parser')\n",
    "# print(soup)"
   ]
  },
  {
   "cell_type": "code",
   "execution_count": 177,
   "id": "18253360",
   "metadata": {},
   "outputs": [
    {
     "name": "stdout",
     "output_type": "stream",
     "text": [
      "574\n",
      "<div class=\"thumb\">\n",
      "<a href=\"/webtoon/list?titleId=648419&amp;weekday=mon\" onclick=\"nclk_v2(event,'thm*m.img','','1')\">\n",
      "<img alt=\"뷰티풀 군바리\" height=\"107\" onerror=\"this.src='https://ssl.pstatic.net/static/comic/images/migration/common/blank.gif'\" src=\"https://shared-comic.pstatic.net/thumb/webtoon/648419/thumbnail/thumbnail_IMAG21_d9398229-cbfd-47dc-9208-0a6fb936f3a7.jpg\" title=\"뷰티풀 군바리\" width=\"83\"/><span class=\"mask\"></span>\n",
      "</a>\n",
      "</div>\n",
      "\n",
      "<div class=\"thumb\">\n",
      "<a href=\"/webtoon/list?titleId=801428&amp;weekday=sun\" onclick=\"nclk_v2(event,'thm*S.img','','85')\">\n",
      "<img alt=\"천년간 노려왔습니다\" height=\"107\" onerror=\"this.src='https://ssl.pstatic.net/static/comic/images/migration/common/blank.gif'\" src=\"https://shared-comic.pstatic.net/thumb/webtoon/801428/thumbnail/thumbnail_IMAG21_50e8a89e-b0b6-44ad-8a98-0850328943b4.jpg\" title=\"천년간 노려왔습니다\" width=\"83\"/><span class=\"mask\"></span>\n",
      "</a>\n",
      "</div>\n"
     ]
    }
   ],
   "source": [
    "# 2) 파싱 \n",
    "# target_list = soup.find_all(class_='thumb')\n",
    "target_list = soup.select('.thumb')\n",
    "print(len(target_list))\n",
    "print(target_list[0])\n",
    "print()\n",
    "print(target_list[-1])"
   ]
  },
  {
   "cell_type": "code",
   "execution_count": null,
   "id": "1459887a",
   "metadata": {},
   "outputs": [],
   "source": [
    "<div class=\"thumb\">\n",
    "\t<a href=\"/webtoon/list?titleId=774863&amp;weekday=mon\" \n",
    "       onclick=\"nclk_v2(event,'thm*m.img','','5')\">\n",
    "\t\t<img onerror=\"this.src='https://ssl.pstatic.net/static/comic/images/migration/common/blank.gif'\" \n",
    "           src=\"https://shared-comic.pstatic.net/thumb/webtoon/774863/thumbnail/thumbnail_IMAG21_3689684179498578529.jpg\" \n",
    "            width=\"83\" height=\"107\" \n",
    "            title=\"팔이피플\" \n",
    "            alt=\"팔이피플\">\n",
    "        <span class=\"mask\"></span>\n",
    "\t</a>\n",
    "</div>"
   ]
  },
  {
   "cell_type": "code",
   "execution_count": 206,
   "id": "d88d01ea",
   "metadata": {},
   "outputs": [
    {
     "name": "stdout",
     "output_type": "stream",
     "text": [
      "요일 =>  mon\n",
      "요일값 =  mon\n",
      "인덱스 추출하기 =  0\n",
      "해당 요일은?  월요일\n",
      "\n",
      "웹툰제목 =  뷰티풀 군바리\n",
      "URL =  https://comic.naver.com/webtoon/list?titleId=648419&weekday=mon\n"
     ]
    }
   ],
   "source": [
    "# 데이타 추출\n",
    "# 요일 / 웹툰제목 / 관련 URL\n",
    "base_url = 'https://comic.naver.com'\n",
    "week_list1 = ['mon', 'tue', 'wed', 'thu', 'fri', 'sat', 'sun']\n",
    "week_list2 = ['월요일', '화요일', '수요일', '목요일', '금요일', '토요일', '일요일']\n",
    "print('요일 => ', target_list[0].a['href'][-3:])\n",
    "# = 를 기준으로 분리 => 리스트\n",
    "# print('요일 => ', target_list[0].a['href'])\n",
    "# print('요일 => ', target_list[0].a['href'].split('=')[-1])\n",
    "# 리스트명.index(데이타값) => 데이타값에 해당하는 인덱스값 추출 \n",
    "print('요일값 = ', target_list[0].a['href'][-3:])\n",
    "idx = week_list1.index(target_list[0].a['href'][-3:])\n",
    "print('인덱스 추출하기 = ', idx)\n",
    "print('해당 요일은? ', week_list2[idx])\n",
    "print()\n",
    "print('웹툰제목 = ', target_list[0].img['alt'])\n",
    "print('URL = ', base_url+target_list[0].a['href'])"
   ]
  },
  {
   "cell_type": "code",
   "execution_count": 207,
   "id": "5a0026be",
   "metadata": {},
   "outputs": [],
   "source": [
    "# 3) 테이블 구조 데이타 ( 2차원 리스트 )\n",
    "result_list = []\n",
    "base_url = 'https://comic.naver.com'\n",
    "week_list1 = ['mon', 'tue', 'wed', 'thu', 'fri', 'sat', 'sun']\n",
    "week_list2 = ['월요일', '화요일', '수요일', '목요일', '금요일', '토요일', '일요일']\n",
    "for tag in target_list:\n",
    "    # 요일값 추출하기 \n",
    "    temp = tag.a['href'][-3:]\n",
    "    idx = week_list1.index(temp)\n",
    "    week = week_list2[idx]\n",
    "    # 웹툰제목 \n",
    "    title = tag.img['alt']\n",
    "    # url 상세 주소\n",
    "    url = base_url+tag.a['href']\n",
    "    result_list.append([week, title, url])"
   ]
  },
  {
   "cell_type": "code",
   "execution_count": 209,
   "id": "6ca0b2ef",
   "metadata": {},
   "outputs": [
    {
     "data": {
      "text/html": [
       "<div>\n",
       "<style scoped>\n",
       "    .dataframe tbody tr th:only-of-type {\n",
       "        vertical-align: middle;\n",
       "    }\n",
       "\n",
       "    .dataframe tbody tr th {\n",
       "        vertical-align: top;\n",
       "    }\n",
       "\n",
       "    .dataframe thead th {\n",
       "        text-align: right;\n",
       "    }\n",
       "</style>\n",
       "<table border=\"1\" class=\"dataframe\">\n",
       "  <thead>\n",
       "    <tr style=\"text-align: right;\">\n",
       "      <th></th>\n",
       "      <th>요일</th>\n",
       "      <th>웹툰제목</th>\n",
       "      <th>링크</th>\n",
       "    </tr>\n",
       "  </thead>\n",
       "  <tbody>\n",
       "    <tr>\n",
       "      <th>562</th>\n",
       "      <td>일요일</td>\n",
       "      <td>하렘에서 살아남기</td>\n",
       "      <td>https://comic.naver.com/webtoon/list?titleId=7...</td>\n",
       "    </tr>\n",
       "    <tr>\n",
       "      <th>136</th>\n",
       "      <td>화요일</td>\n",
       "      <td>내남친 킹카만들기</td>\n",
       "      <td>https://comic.naver.com/webtoon/list?titleId=7...</td>\n",
       "    </tr>\n",
       "    <tr>\n",
       "      <th>60</th>\n",
       "      <td>월요일</td>\n",
       "      <td>모스크바의 여명</td>\n",
       "      <td>https://comic.naver.com/webtoon/list?titleId=7...</td>\n",
       "    </tr>\n",
       "    <tr>\n",
       "      <th>373</th>\n",
       "      <td>금요일</td>\n",
       "      <td>절대복종</td>\n",
       "      <td>https://comic.naver.com/webtoon/list?titleId=7...</td>\n",
       "    </tr>\n",
       "    <tr>\n",
       "      <th>278</th>\n",
       "      <td>목요일</td>\n",
       "      <td>트롤트랩</td>\n",
       "      <td>https://comic.naver.com/webtoon/list?titleId=7...</td>\n",
       "    </tr>\n",
       "  </tbody>\n",
       "</table>\n",
       "</div>"
      ],
      "text/plain": [
       "      요일       웹툰제목                                                 링크\n",
       "562  일요일  하렘에서 살아남기  https://comic.naver.com/webtoon/list?titleId=7...\n",
       "136  화요일  내남친 킹카만들기  https://comic.naver.com/webtoon/list?titleId=7...\n",
       "60   월요일   모스크바의 여명  https://comic.naver.com/webtoon/list?titleId=7...\n",
       "373  금요일       절대복종  https://comic.naver.com/webtoon/list?titleId=7...\n",
       "278  목요일       트롤트랩  https://comic.naver.com/webtoon/list?titleId=7..."
      ]
     },
     "execution_count": 209,
     "metadata": {},
     "output_type": "execute_result"
    }
   ],
   "source": [
    "# 4) 판다스의 데이타프레임 구조로 변경한 후 csv 파일로 저장하기 \n",
    "df = pd.DataFrame(result_list, \n",
    "         columns=['요일','웹툰제목','링크'])\n",
    "# df # 전체보기\n",
    "# 랜덤하게 샘플 뽑아서 출력\n",
    "df.sample(5)"
   ]
  },
  {
   "cell_type": "code",
   "execution_count": 210,
   "id": "3557cafd",
   "metadata": {},
   "outputs": [],
   "source": [
    "df.to_csv('output/네이버_요일별웹툰.csv', index=False, encoding='cp949')"
   ]
  },
  {
   "cell_type": "code",
   "execution_count": null,
   "id": "0472dbe7",
   "metadata": {},
   "outputs": [],
   "source": []
  }
 ],
 "metadata": {
  "kernelspec": {
   "display_name": "Python 3 (ipykernel)",
   "language": "python",
   "name": "python3"
  },
  "language_info": {
   "codemirror_mode": {
    "name": "ipython",
    "version": 3
   },
   "file_extension": ".py",
   "mimetype": "text/x-python",
   "name": "python",
   "nbconvert_exporter": "python",
   "pygments_lexer": "ipython3",
   "version": "3.9.13"
  }
 },
 "nbformat": 4,
 "nbformat_minor": 5
}
