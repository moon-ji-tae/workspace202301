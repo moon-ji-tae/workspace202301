{
 "cells": [
  {
   "cell_type": "markdown",
   "id": "42e5c0ef",
   "metadata": {},
   "source": [
    "# Selenium + BS4"
   ]
  },
  {
   "cell_type": "code",
   "execution_count": 2,
   "id": "d3bde064",
   "metadata": {},
   "outputs": [],
   "source": [
    "# 관련 모듈 임포트 \n",
    "import time\n",
    "import pandas as pd\n",
    "import requests\n",
    "from bs4 import BeautifulSoup\n",
    "from selenium import webdriver\n",
    "from selenium.webdriver.common.by import By"
   ]
  },
  {
   "cell_type": "markdown",
   "id": "fc40cb65",
   "metadata": {},
   "source": [
    "# 구글 하단 메뉴 - requests+bs4 ?"
   ]
  },
  {
   "cell_type": "code",
   "execution_count": 3,
   "id": "49bf74b5",
   "metadata": {},
   "outputs": [
    {
     "name": "stdout",
     "output_type": "stream",
     "text": [
      "<Response [200]>\n",
      "<class 'bs4.BeautifulSoup'>\n"
     ]
    }
   ],
   "source": [
    "# 1) 웹페이지 주소 요청 => 문자열 데이타 => 숩객체 \n",
    "url = 'http://google.com'\n",
    "res = requests.get(url)\n",
    "print(res)\n",
    "html_str = res.text\n",
    "\n",
    "soup = BeautifulSoup(html_str, 'html.parser')\n",
    "print(type(soup))"
   ]
  },
  {
   "cell_type": "code",
   "execution_count": 5,
   "id": "7c3616e5",
   "metadata": {},
   "outputs": [],
   "source": [
    "# print(soup)"
   ]
  },
  {
   "cell_type": "code",
   "execution_count": 6,
   "id": "a305132a",
   "metadata": {},
   "outputs": [
    {
     "name": "stdout",
     "output_type": "stream",
     "text": [
      "None\n"
     ]
    }
   ],
   "source": [
    "# 2) 하단 메뉴 소스 확인\n",
    "target = soup.select_one('.pHiOh')\n",
    "print(target)"
   ]
  },
  {
   "cell_type": "code",
   "execution_count": null,
   "id": "a8a2ad26",
   "metadata": {},
   "outputs": [],
   "source": [
    "<a class=\"pHiOh\" href=\"https://www.google.com/intl/ko_kr/ads/?subid=ww-ww-et-g-awa-a-g_hpafoot1_1!o2&amp;utm_source=google.com&amp;utm_medium=referral&amp;utm_campaign=google_hpafooter&amp;fg=1\" ping=\"/url?sa=t&amp;rct=j&amp;source=webhp&amp;url=https://www.google.com/intl/ko_kr/ads/%3Fsubid%3Dww-ww-et-g-awa-a-g_hpafoot1_1!o2%26utm_source%3Dgoogle.com%26utm_medium%3Dreferral%26utm_campaign%3Dgoogle_hpafooter%26fg%3D1&amp;ved=0ahUKEwi8yf3a74n9AhUE23MBHTKvDYgQkdQCCBI\">광고</a>"
   ]
  },
  {
   "cell_type": "markdown",
   "id": "a79f2ba6",
   "metadata": {},
   "source": [
    "# 구글 하단 메뉴 - selenium+bs4 "
   ]
  },
  {
   "cell_type": "code",
   "execution_count": 7,
   "id": "0f060572",
   "metadata": {},
   "outputs": [
    {
     "name": "stderr",
     "output_type": "stream",
     "text": [
      "C:\\Users\\user\\AppData\\Local\\Temp\\ipykernel_18648\\3164744740.py:2: DeprecationWarning: executable_path has been deprecated, please pass in a Service object\n",
      "  driver = webdriver.Chrome('chromedriver.exe')\n"
     ]
    }
   ],
   "source": [
    "# 1) 셀레니움 드라이버 객체 생성 후 크롬웹브라우저 구동 \n",
    "driver = webdriver.Chrome('chromedriver.exe')\n",
    "\n",
    "# 2) 페이지 이동 \n",
    "time.sleep(2)\n",
    "url = 'https://www.google.com/'\n",
    "driver.get(url)"
   ]
  },
  {
   "cell_type": "code",
   "execution_count": 8,
   "id": "ac823170",
   "metadata": {},
   "outputs": [
    {
     "name": "stdout",
     "output_type": "stream",
     "text": [
      "<class 'str'>\n"
     ]
    }
   ],
   "source": [
    "# 3) 현재 페이지 소스를 문자열 데이타로 저장하기 \n",
    "html_str = driver.page_source\n",
    "print(type(html_str))"
   ]
  },
  {
   "cell_type": "code",
   "execution_count": 12,
   "id": "bde114b8",
   "metadata": {},
   "outputs": [
    {
     "name": "stdout",
     "output_type": "stream",
     "text": [
      "5\n"
     ]
    }
   ],
   "source": [
    "# 4) 숩객체로 변경하고 파싱하기 \n",
    "soup = BeautifulSoup(html_str, 'html.parser')\n",
    "# 태그명.클래스명 \n",
    "# a 태그에 적용된 클래스 \n",
    "target_list = soup.select('a.pHiOh')\n",
    "print(len(target_list))"
   ]
  },
  {
   "cell_type": "code",
   "execution_count": 17,
   "id": "1603eefc",
   "metadata": {},
   "outputs": [
    {
     "name": "stdout",
     "output_type": "stream",
     "text": [
      "광고\n",
      "https://www.google.com/intl/ko_kr/ads/?subid=ww-ww-et-g-awa-a-g_hpafoot1_1!o2&utm_source=google.com&utm_medium=referral&utm_campaign=google_hpafooter&fg=1\n",
      "\n",
      "비즈니스\n",
      "https://www.google.com/services/?subid=ww-ww-et-g-awa-a-g_hpbfoot1_1!o2&utm_source=google.com&utm_medium=referral&utm_campaign=google_hpbfooter&fg=1\n",
      "\n",
      "검색의 원리\n",
      "https://google.com/search/howsearchworks/?fg=1\n",
      "\n",
      "개인정보처리방침\n",
      "https://policies.google.com/privacy?hl=ko&fg=1\n",
      "\n",
      "약관\n",
      "https://policies.google.com/terms?hl=ko&fg=1\n",
      "\n"
     ]
    }
   ],
   "source": [
    "for tag in target_list:\n",
    "    print(tag.text.strip())\n",
    "    print(tag['href'])\n",
    "    print()"
   ]
  },
  {
   "cell_type": "markdown",
   "id": "b5486094",
   "metadata": {},
   "source": [
    "# 멜론차트 (셀레니움 + BS4)\n",
    "\n",
    "- 순위, 곡명, 아티스트, 앨범명,앨범이미지, 앨범url\n",
    "- https://www.melon.com/chart/"
   ]
  },
  {
   "cell_type": "code",
   "execution_count": 21,
   "id": "be5882a2",
   "metadata": {},
   "outputs": [
    {
     "name": "stdout",
     "output_type": "stream",
     "text": [
      "<Response [406]>\n",
      "\n",
      "<class 'bs4.BeautifulSoup'>\n",
      "\n"
     ]
    }
   ],
   "source": [
    "# requests 요청 테스트 \n",
    "url = 'https://www.melon.com/chart/'\n",
    "res = requests.get(url)\n",
    "print(res)\n",
    "html_str = res.text\n",
    "print(html_str)\n",
    "\n",
    "soup = BeautifulSoup(html_str, 'html.parser')\n",
    "print(type(soup))\n",
    "print(soup)"
   ]
  },
  {
   "cell_type": "markdown",
   "id": "28b812f3",
   "metadata": {},
   "source": [
    "### 셀레니움 활용 "
   ]
  },
  {
   "cell_type": "code",
   "execution_count": 22,
   "id": "a50d9062",
   "metadata": {},
   "outputs": [
    {
     "name": "stderr",
     "output_type": "stream",
     "text": [
      "C:\\Users\\user\\AppData\\Local\\Temp\\ipykernel_18648\\2252573219.py:2: DeprecationWarning: executable_path has been deprecated, please pass in a Service object\n",
      "  driver = webdriver.Chrome('chromedriver.exe')\n"
     ]
    }
   ],
   "source": [
    "# 1) 셀레니움 드라이버 객체 생성 후 크롬웹브라우저 구동 \n",
    "driver = webdriver.Chrome('chromedriver.exe')\n",
    "\n",
    "# 2) 페이지 이동 \n",
    "time.sleep(2)\n",
    "url = 'https://www.melon.com/chart/'\n",
    "driver.get(url)"
   ]
  },
  {
   "cell_type": "code",
   "execution_count": 24,
   "id": "31c080fc",
   "metadata": {},
   "outputs": [
    {
     "name": "stdout",
     "output_type": "stream",
     "text": [
      "<class 'str'>\n"
     ]
    }
   ],
   "source": [
    "# 3) 현재 페이지 소스를 문자열 데이타로 저장하기 \n",
    "html_str = driver.page_source\n",
    "print(type(html_str))\n",
    "\n",
    "# 4) 숩객체로 변경하기 \n",
    "soup = BeautifulSoup(html_str, 'html.parser')\n",
    "# print(soup)"
   ]
  },
  {
   "cell_type": "code",
   "execution_count": 26,
   "id": "b5af9b6e",
   "metadata": {},
   "outputs": [
    {
     "name": "stdout",
     "output_type": "stream",
     "text": [
      "100\n"
     ]
    }
   ],
   "source": [
    "# 5) 데이타 파싱 \n",
    "target_list = soup.select('tbody tr')\n",
    "print(len(target_list))"
   ]
  },
  {
   "cell_type": "code",
   "execution_count": 29,
   "id": "3f9bdcdc",
   "metadata": {
    "scrolled": true
   },
   "outputs": [],
   "source": [
    "# target_list[0]"
   ]
  },
  {
   "cell_type": "code",
   "execution_count": 61,
   "id": "e5308322",
   "metadata": {
    "scrolled": false
   },
   "outputs": [
    {
     "name": "stdout",
     "output_type": "stream",
     "text": [
      "순위 :  1\n",
      "곡명 :  Ditto\n",
      "아티스트 :  NewJeans\n",
      "앨범명 :  NewJeans 'OMG'\n",
      "앨범 이미지 :  https://cdnimg.melon.co.kr/cm2/album/images/111/27/145/11127145_20230102135733_500.jpg/melon/resize/120/quality/80/optimize\n",
      "앨범 url :  https://www.melon.com/album/detail.htm?albumId=11127145\n"
     ]
    }
   ],
   "source": [
    "# 데이타 추출 \n",
    "# 순위, 곡명, 아티스트, 앨범명,앨범이미지, 앨범url\n",
    "rank = target_list[0].select_one('span.rank').text\n",
    "title = target_list[0].select_one('.ellipsis').text.strip()\n",
    "artist = target_list[0].select_one('.checkEllipsis').text.strip()\n",
    "album = target_list[0].select_one('.ellipsis.rank03').text.strip()\n",
    "album_img = target_list[0].select_one('img')['src']\n",
    "# link = target_list[0].select_one('a')['href']\n",
    "base_album_url = 'https://www.melon.com/album/detail.htm?albumId='\n",
    "link = base_album_url + target_list[0].select_one('a')['href'].split(\"'\")[1]\n",
    "print('순위 : ', rank)\n",
    "print('곡명 : ', title)\n",
    "print('아티스트 : ', artist)\n",
    "print('앨범명 : ', album)\n",
    "print('앨범 이미지 : ', album_img)\n",
    "# https://www.melon.com/album/detail.htm?albumId=11127145\n",
    "# https://www.melon.com/album/detail.htm?albumId=11127145\n",
    "print('앨범 url : ', link)"
   ]
  },
  {
   "cell_type": "code",
   "execution_count": 60,
   "id": "7c7a7537",
   "metadata": {},
   "outputs": [
    {
     "name": "stdout",
     "output_type": "stream",
     "text": [
      "javascript:melon.link.goAlbumDetail('11127145');\n",
      "['javascript:melon.link.goAlbumDetail(', '11127145', ');']\n",
      "11127145\n",
      "11127145\n",
      "https://www.melon.com/album/detail.htm?albumId=11127145\n"
     ]
    }
   ],
   "source": [
    "# 앨범주소 \n",
    "# https://www.melon.com/album/detail.htm?albumId=11127145\n",
    "# \n",
    "print(target_list[0].select_one('a')['href'])\n",
    "# 홑따움표를 기준으로 문자열 분리 \n",
    "# split(구분자)\n",
    "print(target_list[0].select_one('a')['href'].split(\"'\"))\n",
    "print(target_list[0].select_one('a')['href'].split(\"'\")[1])\n",
    "album_base_url = 'https://www.melon.com/album/detail.htm?albumId='\n",
    "print(album_base_url+target_list[0].select_one('a')['href'].split(\"'\")[1])"
   ]
  },
  {
   "cell_type": "code",
   "execution_count": 62,
   "id": "20b4f0bf",
   "metadata": {},
   "outputs": [],
   "source": [
    "base_album_url = 'https://www.melon.com/album/detail.htm?albumId='\n",
    "result_list = []\n",
    "\n",
    "for tag in target_list:\n",
    "    rank = tag.select_one('span.rank').text\n",
    "    title = tag.select_one('.ellipsis').text.strip()\n",
    "    artist = tag.select_one('.checkEllipsis').text.strip()\n",
    "    album = tag.select_one('.ellipsis.rank03').text.strip()\n",
    "    album_img = tag.select_one('img')['src']\n",
    "    link = base_album_url + tag.select_one('a')['href'].split(\"'\")[1]\n",
    "   \n",
    "    result_list.append([rank, title, artist, album, album_img, link])\n",
    "    \n",
    "df = pd.DataFrame(result_list, \n",
    "                     columns = ['순위', '곡명', '아티스트', '앨범명', '앨범이미지', '링크'])"
   ]
  },
  {
   "cell_type": "code",
   "execution_count": 65,
   "id": "fdc131c8",
   "metadata": {},
   "outputs": [
    {
     "data": {
      "text/html": [
       "<div>\n",
       "<style scoped>\n",
       "    .dataframe tbody tr th:only-of-type {\n",
       "        vertical-align: middle;\n",
       "    }\n",
       "\n",
       "    .dataframe tbody tr th {\n",
       "        vertical-align: top;\n",
       "    }\n",
       "\n",
       "    .dataframe thead th {\n",
       "        text-align: right;\n",
       "    }\n",
       "</style>\n",
       "<table border=\"1\" class=\"dataframe\">\n",
       "  <thead>\n",
       "    <tr style=\"text-align: right;\">\n",
       "      <th></th>\n",
       "      <th>순위</th>\n",
       "      <th>곡명</th>\n",
       "      <th>아티스트</th>\n",
       "      <th>앨범명</th>\n",
       "      <th>앨범이미지</th>\n",
       "      <th>링크</th>\n",
       "    </tr>\n",
       "  </thead>\n",
       "  <tbody>\n",
       "    <tr>\n",
       "      <th>95</th>\n",
       "      <td>96</td>\n",
       "      <td>Faster</td>\n",
       "      <td>NCT 127</td>\n",
       "      <td>Ay-Yo - The 4th Album Repackage</td>\n",
       "      <td>https://cdnimg.melon.co.kr/cm2/album/images/11...</td>\n",
       "      <td>https://www.melon.com/album/detail.htm?albumId...</td>\n",
       "    </tr>\n",
       "    <tr>\n",
       "      <th>96</th>\n",
       "      <td>97</td>\n",
       "      <td>Fallin' Flower (Korean Ver.)</td>\n",
       "      <td>세븐틴</td>\n",
       "      <td>SEVENTEEN 4th Album Repackage ‘SECTOR 17'</td>\n",
       "      <td>https://cdnimg.melon.co.kr/cm2/album/images/10...</td>\n",
       "      <td>https://www.melon.com/album/detail.htm?albumId...</td>\n",
       "    </tr>\n",
       "    <tr>\n",
       "      <th>97</th>\n",
       "      <td>98</td>\n",
       "      <td>CHEERS</td>\n",
       "      <td>세븐틴</td>\n",
       "      <td>SEVENTEEN 4th Album Repackage ‘SECTOR 17'</td>\n",
       "      <td>https://cdnimg.melon.co.kr/cm2/album/images/10...</td>\n",
       "      <td>https://www.melon.com/album/detail.htm?albumId...</td>\n",
       "    </tr>\n",
       "    <tr>\n",
       "      <th>98</th>\n",
       "      <td>99</td>\n",
       "      <td>봄여름가을겨울 (Still Life)</td>\n",
       "      <td>BIGBANG (빅뱅)</td>\n",
       "      <td>봄여름가을겨울 (Still Life)</td>\n",
       "      <td>https://cdnimg.melon.co.kr/cm2/album/images/10...</td>\n",
       "      <td>https://www.melon.com/album/detail.htm?albumId...</td>\n",
       "    </tr>\n",
       "    <tr>\n",
       "      <th>99</th>\n",
       "      <td>100</td>\n",
       "      <td>Designer</td>\n",
       "      <td>NCT 127</td>\n",
       "      <td>Ay-Yo - The 4th Album Repackage</td>\n",
       "      <td>https://cdnimg.melon.co.kr/cm2/album/images/11...</td>\n",
       "      <td>https://www.melon.com/album/detail.htm?albumId...</td>\n",
       "    </tr>\n",
       "  </tbody>\n",
       "</table>\n",
       "</div>"
      ],
      "text/plain": [
       "     순위                            곡명          아티스트  \\\n",
       "95   96                        Faster       NCT 127   \n",
       "96   97  Fallin' Flower (Korean Ver.)           세븐틴   \n",
       "97   98                        CHEERS           세븐틴   \n",
       "98   99          봄여름가을겨울 (Still Life)  BIGBANG (빅뱅)   \n",
       "99  100                      Designer       NCT 127   \n",
       "\n",
       "                                          앨범명  \\\n",
       "95            Ay-Yo - The 4th Album Repackage   \n",
       "96  SEVENTEEN 4th Album Repackage ‘SECTOR 17'   \n",
       "97  SEVENTEEN 4th Album Repackage ‘SECTOR 17'   \n",
       "98                       봄여름가을겨울 (Still Life)   \n",
       "99            Ay-Yo - The 4th Album Repackage   \n",
       "\n",
       "                                                앨범이미지  \\\n",
       "95  https://cdnimg.melon.co.kr/cm2/album/images/11...   \n",
       "96  https://cdnimg.melon.co.kr/cm2/album/images/10...   \n",
       "97  https://cdnimg.melon.co.kr/cm2/album/images/10...   \n",
       "98  https://cdnimg.melon.co.kr/cm2/album/images/10...   \n",
       "99  https://cdnimg.melon.co.kr/cm2/album/images/11...   \n",
       "\n",
       "                                                   링크  \n",
       "95  https://www.melon.com/album/detail.htm?albumId...  \n",
       "96  https://www.melon.com/album/detail.htm?albumId...  \n",
       "97  https://www.melon.com/album/detail.htm?albumId...  \n",
       "98  https://www.melon.com/album/detail.htm?albumId...  \n",
       "99  https://www.melon.com/album/detail.htm?albumId...  "
      ]
     },
     "execution_count": 65,
     "metadata": {},
     "output_type": "execute_result"
    }
   ],
   "source": [
    "df.tail()"
   ]
  },
  {
   "cell_type": "code",
   "execution_count": null,
   "id": "809e5089",
   "metadata": {},
   "outputs": [],
   "source": []
  },
  {
   "cell_type": "code",
   "execution_count": null,
   "id": "1d5d0801",
   "metadata": {},
   "outputs": [],
   "source": []
  }
 ],
 "metadata": {
  "kernelspec": {
   "display_name": "Python 3 (ipykernel)",
   "language": "python",
   "name": "python3"
  },
  "language_info": {
   "codemirror_mode": {
    "name": "ipython",
    "version": 3
   },
   "file_extension": ".py",
   "mimetype": "text/x-python",
   "name": "python",
   "nbconvert_exporter": "python",
   "pygments_lexer": "ipython3",
   "version": "3.9.13"
  }
 },
 "nbformat": 4,
 "nbformat_minor": 5
}
