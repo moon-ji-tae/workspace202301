{
 "cells": [
  {
   "cell_type": "code",
   "execution_count": 1,
   "id": "61560ffa",
   "metadata": {},
   "outputs": [],
   "source": [
    "# 관련모듈 임포트 \n",
    "import requests\n",
    "from bs4 import BeautifulSoup\n",
    "import pandas as pd"
   ]
  },
  {
   "cell_type": "markdown",
   "id": "9479ab39",
   "metadata": {},
   "source": [
    "# 퀴즈 - 슬라이드 116\n",
    "\n",
    "- Yes24 국내도서 종합 베스트 셀러\n",
    "- http://www.yes24.com/24/category/bestseller?CategoryNumber=001&sumgb=06&fetchSize=40&PageNumber=1\n",
    "- 1~999위 까지 CSV 파일로 저장하여라\n",
    "- 순위 / 책제목 / 저자 / 정가 / 할인가 / 책 상세 URL / 표지 URL"
   ]
  },
  {
   "cell_type": "code",
   "execution_count": 2,
   "id": "94c45dc5",
   "metadata": {},
   "outputs": [
    {
     "name": "stdout",
     "output_type": "stream",
     "text": [
      "http://www.yes24.com/24/category/bestseller?categorynumber=001&sumgb=06&fetchsize=40&pagenumber=1\n",
      "http://www.yes24.com/24/category/bestseller?categorynumber=001&sumgb=06&fetchsize=40&pagenumber=2\n",
      "http://www.yes24.com/24/category/bestseller?categorynumber=001&sumgb=06&fetchsize=40&pagenumber=3\n",
      "http://www.yes24.com/24/category/bestseller?categorynumber=001&sumgb=06&fetchsize=40&pagenumber=4\n",
      "http://www.yes24.com/24/category/bestseller?categorynumber=001&sumgb=06&fetchsize=40&pagenumber=5\n",
      "http://www.yes24.com/24/category/bestseller?categorynumber=001&sumgb=06&fetchsize=40&pagenumber=6\n",
      "http://www.yes24.com/24/category/bestseller?categorynumber=001&sumgb=06&fetchsize=40&pagenumber=7\n",
      "http://www.yes24.com/24/category/bestseller?categorynumber=001&sumgb=06&fetchsize=40&pagenumber=8\n",
      "http://www.yes24.com/24/category/bestseller?categorynumber=001&sumgb=06&fetchsize=40&pagenumber=9\n",
      "http://www.yes24.com/24/category/bestseller?categorynumber=001&sumgb=06&fetchsize=40&pagenumber=10\n",
      "http://www.yes24.com/24/category/bestseller?categorynumber=001&sumgb=06&fetchsize=40&pagenumber=11\n",
      "http://www.yes24.com/24/category/bestseller?categorynumber=001&sumgb=06&fetchsize=40&pagenumber=12\n",
      "http://www.yes24.com/24/category/bestseller?categorynumber=001&sumgb=06&fetchsize=40&pagenumber=13\n",
      "http://www.yes24.com/24/category/bestseller?categorynumber=001&sumgb=06&fetchsize=40&pagenumber=14\n",
      "http://www.yes24.com/24/category/bestseller?categorynumber=001&sumgb=06&fetchsize=40&pagenumber=15\n",
      "http://www.yes24.com/24/category/bestseller?categorynumber=001&sumgb=06&fetchsize=40&pagenumber=16\n",
      "http://www.yes24.com/24/category/bestseller?categorynumber=001&sumgb=06&fetchsize=40&pagenumber=17\n",
      "http://www.yes24.com/24/category/bestseller?categorynumber=001&sumgb=06&fetchsize=40&pagenumber=18\n",
      "http://www.yes24.com/24/category/bestseller?categorynumber=001&sumgb=06&fetchsize=40&pagenumber=19\n",
      "http://www.yes24.com/24/category/bestseller?categorynumber=001&sumgb=06&fetchsize=40&pagenumber=20\n",
      "http://www.yes24.com/24/category/bestseller?categorynumber=001&sumgb=06&fetchsize=40&pagenumber=21\n",
      "http://www.yes24.com/24/category/bestseller?categorynumber=001&sumgb=06&fetchsize=40&pagenumber=22\n",
      "http://www.yes24.com/24/category/bestseller?categorynumber=001&sumgb=06&fetchsize=40&pagenumber=23\n",
      "http://www.yes24.com/24/category/bestseller?categorynumber=001&sumgb=06&fetchsize=40&pagenumber=24\n",
      "http://www.yes24.com/24/category/bestseller?categorynumber=001&sumgb=06&fetchsize=40&pagenumber=25\n"
     ]
    }
   ],
   "source": [
    "# 페이지 주소 확인 \n",
    "base_url = 'http://www.yes24.com/24/category/bestseller?categorynumber=001&sumgb=06&fetchsize=40&pagenumber='\n",
    "page = 0\n",
    "# 결과 리스트 초기화 \n",
    "result_list = []\n",
    "\n",
    "while True:\n",
    "    # 1) 주소 생성\n",
    "    # 페이지 번호 증가     \n",
    "    page += 1\n",
    "    url = base_url+str(page)\n",
    "    \n",
    "    # 2) 페이지 요청 후 숩 객체 생성 \n",
    "    res = requests.get(url)\n",
    "    html_str = res.text\n",
    "    soup = BeautifulSoup(html_str, 'html.parser')\n",
    "    \n",
    "    # 3) 파싱 \n",
    "    contents = soup.select('tr')  \n",
    "    \n",
    "    # 4) 마지막 페이지인지 검사\n",
    "    if len(contents):\n",
    "        print(url)\n",
    "    else:\n",
    "        break"
   ]
  },
  {
   "cell_type": "markdown",
   "id": "ce42c037",
   "metadata": {},
   "source": [
    "## 한페이지만 데이타 추출 확인 "
   ]
  },
  {
   "cell_type": "code",
   "execution_count": 83,
   "id": "091a0ff9",
   "metadata": {},
   "outputs": [
    {
     "name": "stdout",
     "output_type": "stream",
     "text": [
      "<class 'bs4.BeautifulSoup'>\n"
     ]
    }
   ],
   "source": [
    "# 1) 데이타 요청 => html 문자열 => 숩객체 \n",
    "base_url = 'http://www.yes24.com/24/category/bestseller?categorynumber=001&sumgb=06&fetchsize=40&pagenumber='\n",
    "page = 1\n",
    "url = base_url + str(page)\n",
    "res = requests.get(url)\n",
    "\n",
    "html_str = res.text\n",
    "\n",
    "soup = BeautifulSoup(html_str, 'html.parser')\n",
    "print(type(soup))\n",
    "# print(soup)"
   ]
  },
  {
   "cell_type": "code",
   "execution_count": 84,
   "id": "20a2e5ee",
   "metadata": {},
   "outputs": [
    {
     "name": "stdout",
     "output_type": "stream",
     "text": [
      "40\n",
      "\n"
     ]
    }
   ],
   "source": [
    "# 2) 파싱\n",
    "# tr : 각 책 항목당 2개 \n",
    "# 홀수번째\n",
    "# 순위 / 책제목 / 저자 / 정가 / 할인가 / 책 상세 URL / 표지 URL\n",
    "# 선택자:nth-child(수식|odd|even)\n",
    "target_list = soup.select('tr:nth-child(odd)')\n",
    "print(len(target_list))\n",
    "# print(target_list[0])\n",
    "print()\n",
    "# print(target_list[1])"
   ]
  },
  {
   "cell_type": "code",
   "execution_count": 88,
   "id": "925b3ba0",
   "metadata": {},
   "outputs": [
    {
     "name": "stdout",
     "output_type": "stream",
     "text": [
      "순위 :  3위\n",
      "책제목 :  슬램덩크 신장재편판 20\n",
      "저자 :  이노우에 타케히코\n",
      "정가 :  7,000원\n",
      "할인가 :  6,300원\n",
      "책 상세 URL :  http://www.yes24.com/Product/Goods/66360837\n",
      "표지 URL :  http://image.yes24.com/goods/66360837/S\n"
     ]
    }
   ],
   "source": [
    "# 데이타 추출 \n",
    "# 순위 / 책제목 / 저자 / 정가 / 할인가 / 책 상세 URL / 표지 URL\n",
    "book_url = 'http://www.yes24.com'\n",
    "print('순위 : ', target_list[2].td.text[:-1]+'위')\n",
    "print('책제목 : ', target_list[2].img['alt'])\n",
    "print('저자 : ', target_list[2].select_one('.aupu a').text)\n",
    "print('정가 : ', target_list[2].select('p')[1].text.split()[0])\n",
    "print('할인가 : ', target_list[2].select_one('.priceB').text)\n",
    "print('책 상세 URL : ', book_url + target_list[2].a['href'])\n",
    "print('표지 URL : ', target_list[2].img['src'])"
   ]
  },
  {
   "cell_type": "code",
   "execution_count": 57,
   "id": "f66ebfb1",
   "metadata": {},
   "outputs": [],
   "source": [
    "# 테이블 구조 데이타 ( 2차원 리스트 )\n",
    "# 순위 / 책제목 / 저자 / 정가 / 할인가 / 책 상세 URL / 표지 URL\n",
    "result_list = []\n",
    "book_url = 'http://www.yes24.com'\n",
    "for tag in target_list:\n",
    "    rank = tag.td.text[:-1]+'위'\n",
    "    title = tag.img['alt']\n",
    "    writer = tag.select_one('.aupu a').text\n",
    "    price = tag.select('p')[1].text.split()[0]\n",
    "    discount = tag.select_one('.priceB').text\n",
    "    link = book_url + tag.a['href']\n",
    "    book_img = tag.img['src']\n",
    "    result_list.append([rank, title, writer, price, discount, link, book_img])"
   ]
  },
  {
   "cell_type": "code",
   "execution_count": 62,
   "id": "a3ba30dc",
   "metadata": {
    "scrolled": true
   },
   "outputs": [
    {
     "data": {
      "text/plain": [
       "['40위',\n",
       " '미스터 프레지던트',\n",
       " '탁현민',\n",
       " '22,000원',\n",
       " '19,800원',\n",
       " 'http://www.yes24.com/Product/Goods/116789002',\n",
       " 'http://image.yes24.com/goods/116789002/S']"
      ]
     },
     "execution_count": 62,
     "metadata": {},
     "output_type": "execute_result"
    }
   ],
   "source": [
    "result_list[-1]"
   ]
  },
  {
   "cell_type": "markdown",
   "id": "ccfd8147",
   "metadata": {},
   "source": [
    "## 전체 페이지 데이타 "
   ]
  },
  {
   "cell_type": "code",
   "execution_count": 96,
   "id": "48f1cf48",
   "metadata": {},
   "outputs": [
    {
     "name": "stdout",
     "output_type": "stream",
     "text": [
      "1 2 3 4 5 6 7 8 9 10 11 12 13 14 15 16 17 18 19 20 21 22 23 24 25 "
     ]
    }
   ],
   "source": [
    "# 페이지 주소 확인 \n",
    "base_url = 'http://www.yes24.com/24/category/bestseller?categorynumber=001&sumgb=06&fetchsize=40&pagenumber='\n",
    "page = 0\n",
    "book_url = 'http://www.yes24.com'\n",
    "\n",
    "# 결과 리스트 초기화 \n",
    "result_list = []\n",
    "\n",
    "while True:\n",
    "    # 1) 주소 생성\n",
    "    # 페이지 번호 증가     \n",
    "    page += 1\n",
    "    url = base_url+str(page)\n",
    "    \n",
    "    # 2) 페이지 요청 후 숩 객체 생성 \n",
    "    res = requests.get(url)\n",
    "    html_str = res.text\n",
    "    soup = BeautifulSoup(html_str, 'html.parser')\n",
    "    \n",
    "    # 3) 파싱 \n",
    "    contents = soup.select('tr')  \n",
    "    target_list = soup.select('tr:nth-child(odd)')\n",
    "\n",
    "    # 4) 테이블 데이타로 저장 \n",
    "    \n",
    "    for tag in target_list:\n",
    "        rank = tag.td.text[:-1]+'위'\n",
    "        title = tag.img['alt']\n",
    "        # writer = tag.select('a')[4].text\n",
    "        # 아래걸로 수정 \n",
    "        writer = tag.select_one('.aupu a').text\n",
    "        price = tag.select('p')[1].text.split()[0]\n",
    "        discount = tag.select_one('.priceB').text\n",
    "        link = book_url + tag.a['href']\n",
    "        book_img = tag.img['src']\n",
    "        result_list.append([rank, title, writer, price, discount, link, book_img])\n",
    "\n",
    "    \n",
    "    # 5) 마지막 페이지인지 검사\n",
    "    if len(contents):\n",
    "        print(page, end=' ')\n",
    "    else:\n",
    "        break"
   ]
  },
  {
   "cell_type": "code",
   "execution_count": 97,
   "id": "63673d90",
   "metadata": {},
   "outputs": [
    {
     "data": {
      "text/html": [
       "<div>\n",
       "<style scoped>\n",
       "    .dataframe tbody tr th:only-of-type {\n",
       "        vertical-align: middle;\n",
       "    }\n",
       "\n",
       "    .dataframe tbody tr th {\n",
       "        vertical-align: top;\n",
       "    }\n",
       "\n",
       "    .dataframe thead th {\n",
       "        text-align: right;\n",
       "    }\n",
       "</style>\n",
       "<table border=\"1\" class=\"dataframe\">\n",
       "  <thead>\n",
       "    <tr style=\"text-align: right;\">\n",
       "      <th></th>\n",
       "      <th>순위</th>\n",
       "      <th>책제목</th>\n",
       "      <th>저자</th>\n",
       "      <th>정가</th>\n",
       "      <th>할인가</th>\n",
       "      <th>책 상세 URL</th>\n",
       "      <th>표지 URL</th>\n",
       "    </tr>\n",
       "  </thead>\n",
       "  <tbody>\n",
       "    <tr>\n",
       "      <th>996</th>\n",
       "      <td>997위</td>\n",
       "      <td>아직 오지 않은 날들을 위하여</td>\n",
       "      <td>파스칼 브뤼크네르</td>\n",
       "      <td>16,000원</td>\n",
       "      <td>14,400원</td>\n",
       "      <td>http://www.yes24.com/Product/Goods/105049435</td>\n",
       "      <td>http://image.yes24.com/goods/105049435/S</td>\n",
       "    </tr>\n",
       "    <tr>\n",
       "      <th>997</th>\n",
       "      <td>998위</td>\n",
       "      <td>군주론</td>\n",
       "      <td>니콜로 마키아벨리</td>\n",
       "      <td>7,700원</td>\n",
       "      <td>6,930원</td>\n",
       "      <td>http://www.yes24.com/Product/Goods/102832804</td>\n",
       "      <td>http://image.yes24.com/goods/102832804/S</td>\n",
       "    </tr>\n",
       "    <tr>\n",
       "      <th>998</th>\n",
       "      <td>999위</td>\n",
       "      <td>세금 내는 아이들</td>\n",
       "      <td>옥효진</td>\n",
       "      <td>14,000원</td>\n",
       "      <td>12,600원</td>\n",
       "      <td>http://www.yes24.com/Product/Goods/102167502</td>\n",
       "      <td>http://image.yes24.com/goods/102167502/S</td>\n",
       "    </tr>\n",
       "  </tbody>\n",
       "</table>\n",
       "</div>"
      ],
      "text/plain": [
       "       순위               책제목         저자       정가      할인가  \\\n",
       "996  997위  아직 오지 않은 날들을 위하여  파스칼 브뤼크네르  16,000원  14,400원   \n",
       "997  998위              군주론   니콜로 마키아벨리   7,700원   6,930원   \n",
       "998  999위         세금 내는 아이들        옥효진  14,000원  12,600원   \n",
       "\n",
       "                                         책 상세 URL  \\\n",
       "996  http://www.yes24.com/Product/Goods/105049435   \n",
       "997  http://www.yes24.com/Product/Goods/102832804   \n",
       "998  http://www.yes24.com/Product/Goods/102167502   \n",
       "\n",
       "                                       표지 URL  \n",
       "996  http://image.yes24.com/goods/105049435/S  \n",
       "997  http://image.yes24.com/goods/102832804/S  \n",
       "998  http://image.yes24.com/goods/102167502/S  "
      ]
     },
     "execution_count": 97,
     "metadata": {},
     "output_type": "execute_result"
    }
   ],
   "source": [
    "# 6) 데이타프레임 구조로 변경 및 csv 파일로 저장 \n",
    "df = pd.DataFrame(result_list, \n",
    "                  columns=['순위','책제목','저자',\n",
    "                           '정가','할인가','책 상세 URL','표지 URL'])\n",
    "df.tail(3)                           "
   ]
  },
  {
   "cell_type": "code",
   "execution_count": 99,
   "id": "37b4db31",
   "metadata": {},
   "outputs": [],
   "source": [
    "df.to_csv('output/예스24_랭킹.csv', encoding='cp949', index=False)"
   ]
  },
  {
   "cell_type": "markdown",
   "id": "81ecabb7",
   "metadata": {},
   "source": [
    "# 셀레니움을 이용한 웹수집\n",
    "\n",
    "### 작업환경구축 \n",
    "- 크롬 웹브라우저 버전 확인 \n",
    "    - 크롬웹브라우저에서 1시방향 옵션버튼 클릭 후 [도움말]-[크롬정보]\n",
    "    - 버전 109.0.5414.120(공식 빌드)\n",
    "- 크롬 드라이버 파일 다운로드    \n",
    "    - https://chromedriver.chromium.org/downloads\n",
    "    - chromedriver_win32.zip\n",
    "- 다운로드받은 압축파일은 쥬피터노트북 파일이 있는 위치에 압축 해제 \n",
    "    - chromedriver.exe\n",
    "- 셀레니움 모듈 설치 및 확인     "
   ]
  },
  {
   "cell_type": "code",
   "execution_count": 101,
   "id": "c7778827",
   "metadata": {},
   "outputs": [
    {
     "name": "stdout",
     "output_type": "stream",
     "text": [
      " C 드라이브의 볼륨에는 이름이 없습니다.\n",
      " 볼륨 일련 번호: F2CA-487A\n",
      "\n",
      " c:\\pyclass 디렉터리\n",
      "\n",
      "2023-02-10  오전 10:47        12,822,528 chromedriver.exe\n",
      "               1개 파일          12,822,528 바이트\n",
      "               0개 디렉터리  927,481,307,136 바이트 남음\n"
     ]
    }
   ],
   "source": [
    "ls *.exe"
   ]
  },
  {
   "cell_type": "code",
   "execution_count": null,
   "id": "68c9d0c0",
   "metadata": {},
   "outputs": [],
   "source": [
    "# 셀레니움 모듈 설치 및 확인"
   ]
  },
  {
   "cell_type": "code",
   "execution_count": 106,
   "id": "b9fe376f",
   "metadata": {},
   "outputs": [],
   "source": [
    "# pip install selenium"
   ]
  },
  {
   "cell_type": "code",
   "execution_count": null,
   "id": "b0266384",
   "metadata": {},
   "outputs": [],
   "source": [
    "# selenium 확인"
   ]
  },
  {
   "cell_type": "code",
   "execution_count": 107,
   "id": "5ecca719",
   "metadata": {},
   "outputs": [],
   "source": [
    "# pip list"
   ]
  },
  {
   "cell_type": "markdown",
   "id": "e68519c6",
   "metadata": {},
   "source": [
    "### 셀레니움 모듈 임포트"
   ]
  },
  {
   "cell_type": "code",
   "execution_count": 1,
   "id": "2758e870",
   "metadata": {},
   "outputs": [],
   "source": [
    "import time\n",
    "import pandas as pd\n",
    "from selenium import webdriver"
   ]
  },
  {
   "cell_type": "code",
   "execution_count": 4,
   "id": "381a072a",
   "metadata": {},
   "outputs": [
    {
     "name": "stdout",
     "output_type": "stream",
     "text": [
      "['ActionChains', 'Chrome', 'ChromeOptions', 'ChromiumEdge', 'DesiredCapabilities', 'Edge', 'EdgeOptions', 'Firefox', 'FirefoxOptions', 'FirefoxProfile', 'Ie', 'IeOptions', 'Keys', 'Proxy', 'Remote', 'Safari', 'WPEWebKit', 'WPEWebKitOptions', 'WebKitGTK', 'WebKitGTKOptions', '__all__', '__builtins__', '__cached__', '__doc__', '__file__', '__loader__', '__name__', '__package__', '__path__', '__spec__', '__version__', 'chrome', 'chromium', 'common', 'edge', 'firefox', 'ie', 'remote', 'safari', 'support', 'webkitgtk', 'wpewebkit']\n"
     ]
    }
   ],
   "source": [
    "print(dir(webdriver))"
   ]
  },
  {
   "cell_type": "markdown",
   "id": "54e8bbfe",
   "metadata": {},
   "source": [
    "# 구글 검색어 결과 데이타 추출하기"
   ]
  },
  {
   "cell_type": "code",
   "execution_count": 5,
   "id": "ac0a12e6",
   "metadata": {},
   "outputs": [
    {
     "name": "stderr",
     "output_type": "stream",
     "text": [
      "C:\\Users\\user\\AppData\\Local\\Temp\\ipykernel_10208\\2031009017.py:2: DeprecationWarning: executable_path has been deprecated, please pass in a Service object\n",
      "  driver = webdriver.Chrome('chromedriver.exe')\n"
     ]
    },
    {
     "name": "stdout",
     "output_type": "stream",
     "text": [
      "<selenium.webdriver.chrome.webdriver.WebDriver (session=\"ece8c03fc2a98de194b0d5dccfb5caa9\")>\n"
     ]
    }
   ],
   "source": [
    "# 1) 셀레니움 드라이버 객체 생성 후 크롬웹브라우저 구동 \n",
    "driver = webdriver.Chrome('chromedriver.exe')\n",
    "print(driver)"
   ]
  },
  {
   "cell_type": "code",
   "execution_count": 6,
   "id": "33631397",
   "metadata": {},
   "outputs": [],
   "source": [
    "# 2) 페이지 이동 \n",
    "time.sleep(1)\n",
    "url = 'https://www.google.com/'\n",
    "driver.get(url)"
   ]
  },
  {
   "cell_type": "code",
   "execution_count": 29,
   "id": "d980121f",
   "metadata": {},
   "outputs": [],
   "source": [
    "# dir(driver)"
   ]
  },
  {
   "cell_type": "code",
   "execution_count": 10,
   "id": "3979af3f",
   "metadata": {},
   "outputs": [],
   "source": [
    "from selenium.webdriver.common.by import By"
   ]
  },
  {
   "cell_type": "code",
   "execution_count": 11,
   "id": "799f151b",
   "metadata": {},
   "outputs": [],
   "source": [
    "# 3) 검색어 입력후 검색버튼 클릭하기 \n",
    "# 검색창 찾기 = 파싱 \n",
    "time.sleep(1)\n",
    "# q 네임값을 갖는 태그 요소 \n",
    "# send_keys(검색어) : 검색어 입력\n",
    "# submit() 전송버튼 클릭 \n",
    "driver.find_element(By.NAME,'q').send_keys('파이썬')\n",
    "driver.find_element(By.NAME,'q').submit()"
   ]
  },
  {
   "cell_type": "code",
   "execution_count": null,
   "id": "084e127b",
   "metadata": {},
   "outputs": [],
   "source": [
    "# 검색창 소스 확인하기 \n",
    "<input class=\"gLFyf\" jsaction=\"paste:puy29d;\" \n",
    "maxlength=\"2048\" name=\"q\" type=\"text\" \n",
    "aria-autocomplete=\"both\" aria-haspopup=\"false\" \n",
    "autocapitalize=\"off\" autocomplete=\"off\" \n",
    "autocorrect=\"off\" autofocus=\"\" role=\"combobox\" \n",
    "spellcheck=\"false\" title=\"검색\" value=\"\" \n",
    "aria-label=\"검색\" data-ved=\"0ahUKEwj1wM3x74n9AhXCUnwKHXOdCVgQ39UDCAY\">"
   ]
  },
  {
   "cell_type": "code",
   "execution_count": 17,
   "id": "96993fd1",
   "metadata": {},
   "outputs": [
    {
     "name": "stdout",
     "output_type": "stream",
     "text": [
      "<selenium.webdriver.remote.webelement.WebElement (session=\"ece8c03fc2a98de194b0d5dccfb5caa9\", element=\"63d6b65d-ed45-407f-bd84-bf6830559943\")>\n",
      "제목 파이썬 자습서 — Python 3.11.1 문서\n",
      "링크 https://docs.python.org/ko/3/tutorial/index.html\n"
     ]
    }
   ],
   "source": [
    "# 4) 검색결과 추출 - 파싱 (한개만)\n",
    "# find_element(By.CSS_SELECTOR, css선택자)     선택자로 추출\n",
    "target = driver.find_element(By.CSS_SELECTOR, '.yuRUbf h3')\n",
    "print(target)\n",
    "print('제목', target.text)\n",
    "target = driver.find_element(By.CSS_SELECTOR, '.yuRUbf a')\n",
    "print('링크', target.get_attribute('href'))"
   ]
  },
  {
   "cell_type": "code",
   "execution_count": 21,
   "id": "66ab06be",
   "metadata": {},
   "outputs": [
    {
     "name": "stdout",
     "output_type": "stream",
     "text": [
      "7\n",
      "파이썬이란 무엇인가요? - Python에 대한 클라우드 초보자 가이드\n",
      "https://aws.amazon.com/ko/what-is/python/\n"
     ]
    }
   ],
   "source": [
    "# 5) 검색결과 추출 - 파싱 (여러개) => 2차원리스트로 저장 \n",
    "target_list = driver.find_elements(By.CSS_SELECTOR, '.yuRUbf')\n",
    "print(len(target_list))\n",
    "# print(target_list)\n",
    "print(target_list[-1].find_element(By.CSS_SELECTOR, 'h3').text)\n",
    "print(target_list[-1].find_element(By.CSS_SELECTOR, 'a')\n",
    "      .get_attribute('href'))"
   ]
  },
  {
   "cell_type": "code",
   "execution_count": 24,
   "id": "76c6e662",
   "metadata": {},
   "outputs": [],
   "source": [
    "result_list = []\n",
    "for tag in target_list:\n",
    "    title = tag.find_element(By.CSS_SELECTOR, 'h3').text\n",
    "    link = tag.find_element(By.CSS_SELECTOR, 'a').get_attribute('href')\n",
    "    result_list.append([title, link])"
   ]
  },
  {
   "cell_type": "code",
   "execution_count": 25,
   "id": "672862b7",
   "metadata": {},
   "outputs": [
    {
     "name": "stdout",
     "output_type": "stream",
     "text": [
      "파이썬 자습서 — Python 3.11.1 문서\n",
      "https://docs.python.org/ko/3/tutorial/index.html\n",
      "===\n",
      "Python - 나무위키:대문\n",
      "https://namu.wiki/w/Python\n",
      "===\n",
      "1. 파이썬 시작하기 - 왕초보를 위한 Python\n",
      "https://wikidocs.net/43\n",
      "===\n",
      "파이썬 - 위키백과, 우리 모두의 백과사전\n",
      "https://ko.wikipedia.org/wiki/%ED%8C%8C%EC%9D%B4%EC%8D%AC\n",
      "===\n",
      "1 장 파이썬(Python) 입문 | 파이썬 프로그래밍 기초\n",
      "http://bigdata.dongguk.ac.kr/lectures/Python/_book/%ED%8C%8C%EC%9D%B4%EC%8D%AC%EC%9E%85%EB%AC%B8.html\n",
      "===\n",
      "2 장 파이썬의 기초\n",
      "http://bigdata.dongguk.ac.kr/lectures/Python/_book/%ED%8C%8C%EC%9D%B4%EC%8D%AC%EC%9D%98-%EA%B8%B0%EC%B4%88.html\n",
      "===\n",
      "파이썬이란 무엇인가요? - Python에 대한 클라우드 초보자 가이드\n",
      "https://aws.amazon.com/ko/what-is/python/\n",
      "===\n"
     ]
    }
   ],
   "source": [
    "for title, link in result_list:\n",
    "    print(title)\n",
    "    print(link)\n",
    "    print('===')"
   ]
  },
  {
   "cell_type": "code",
   "execution_count": 27,
   "id": "55990557",
   "metadata": {},
   "outputs": [],
   "source": [
    "import pandas as pd"
   ]
  },
  {
   "cell_type": "code",
   "execution_count": 28,
   "id": "892e3976",
   "metadata": {},
   "outputs": [
    {
     "data": {
      "text/html": [
       "<div>\n",
       "<style scoped>\n",
       "    .dataframe tbody tr th:only-of-type {\n",
       "        vertical-align: middle;\n",
       "    }\n",
       "\n",
       "    .dataframe tbody tr th {\n",
       "        vertical-align: top;\n",
       "    }\n",
       "\n",
       "    .dataframe thead th {\n",
       "        text-align: right;\n",
       "    }\n",
       "</style>\n",
       "<table border=\"1\" class=\"dataframe\">\n",
       "  <thead>\n",
       "    <tr style=\"text-align: right;\">\n",
       "      <th></th>\n",
       "      <th>제목</th>\n",
       "      <th>링크</th>\n",
       "    </tr>\n",
       "  </thead>\n",
       "  <tbody>\n",
       "    <tr>\n",
       "      <th>0</th>\n",
       "      <td>파이썬 자습서 — Python 3.11.1 문서</td>\n",
       "      <td>https://docs.python.org/ko/3/tutorial/index.html</td>\n",
       "    </tr>\n",
       "    <tr>\n",
       "      <th>1</th>\n",
       "      <td>Python - 나무위키:대문</td>\n",
       "      <td>https://namu.wiki/w/Python</td>\n",
       "    </tr>\n",
       "    <tr>\n",
       "      <th>2</th>\n",
       "      <td>1. 파이썬 시작하기 - 왕초보를 위한 Python</td>\n",
       "      <td>https://wikidocs.net/43</td>\n",
       "    </tr>\n",
       "    <tr>\n",
       "      <th>3</th>\n",
       "      <td>파이썬 - 위키백과, 우리 모두의 백과사전</td>\n",
       "      <td>https://ko.wikipedia.org/wiki/%ED%8C%8C%EC%9D%...</td>\n",
       "    </tr>\n",
       "    <tr>\n",
       "      <th>4</th>\n",
       "      <td>1 장 파이썬(Python) 입문 | 파이썬 프로그래밍 기초</td>\n",
       "      <td>http://bigdata.dongguk.ac.kr/lectures/Python/_...</td>\n",
       "    </tr>\n",
       "    <tr>\n",
       "      <th>5</th>\n",
       "      <td>2 장 파이썬의 기초</td>\n",
       "      <td>http://bigdata.dongguk.ac.kr/lectures/Python/_...</td>\n",
       "    </tr>\n",
       "    <tr>\n",
       "      <th>6</th>\n",
       "      <td>파이썬이란 무엇인가요? - Python에 대한 클라우드 초보자 가이드</td>\n",
       "      <td>https://aws.amazon.com/ko/what-is/python/</td>\n",
       "    </tr>\n",
       "  </tbody>\n",
       "</table>\n",
       "</div>"
      ],
      "text/plain": [
       "                                       제목  \\\n",
       "0              파이썬 자습서 — Python 3.11.1 문서   \n",
       "1                        Python - 나무위키:대문   \n",
       "2            1. 파이썬 시작하기 - 왕초보를 위한 Python   \n",
       "3                 파이썬 - 위키백과, 우리 모두의 백과사전   \n",
       "4       1 장 파이썬(Python) 입문 | 파이썬 프로그래밍 기초   \n",
       "5                             2 장 파이썬의 기초   \n",
       "6  파이썬이란 무엇인가요? - Python에 대한 클라우드 초보자 가이드   \n",
       "\n",
       "                                                  링크  \n",
       "0   https://docs.python.org/ko/3/tutorial/index.html  \n",
       "1                         https://namu.wiki/w/Python  \n",
       "2                            https://wikidocs.net/43  \n",
       "3  https://ko.wikipedia.org/wiki/%ED%8C%8C%EC%9D%...  \n",
       "4  http://bigdata.dongguk.ac.kr/lectures/Python/_...  \n",
       "5  http://bigdata.dongguk.ac.kr/lectures/Python/_...  \n",
       "6          https://aws.amazon.com/ko/what-is/python/  "
      ]
     },
     "execution_count": 28,
     "metadata": {},
     "output_type": "execute_result"
    }
   ],
   "source": [
    "# 6) 데이타프레임 구조로 변경 및 csv 파일로 저장 \n",
    "df = pd.DataFrame(result_list, \n",
    "                  columns=['제목','링크'])\n",
    "df"
   ]
  },
  {
   "cell_type": "markdown",
   "id": "96d79f1a",
   "metadata": {},
   "source": [
    "# 다음 버튼을 이용한 전체 페이지 수 출력"
   ]
  },
  {
   "cell_type": "code",
   "execution_count": 30,
   "id": "992fd36e",
   "metadata": {},
   "outputs": [
    {
     "name": "stderr",
     "output_type": "stream",
     "text": [
      "C:\\Users\\user\\AppData\\Local\\Temp\\ipykernel_10208\\3394629326.py:2: DeprecationWarning: executable_path has been deprecated, please pass in a Service object\n",
      "  driver = webdriver.Chrome('chromedriver.exe')\n"
     ]
    }
   ],
   "source": [
    "# 1) 셀레니움 드라이버 객체 생성 후 크롬웹브라우저 구동 \n",
    "driver = webdriver.Chrome('chromedriver.exe')\n",
    "\n",
    "# 2) 페이지 이동 \n",
    "time.sleep(1)\n",
    "url = 'https://www.google.com/'\n",
    "driver.get(url)\n",
    "\n",
    "# 3) 검색어 입력후 검색버튼 클릭하기 \n",
    "# 검색창 찾기 = 파싱 \n",
    "time.sleep(1)\n",
    "# q 네임값을 갖는 태그 요소 \n",
    "# send_keys(검색어) : 검색어 입력\n",
    "# submit() 전송버튼 클릭 \n",
    "driver.find_element(By.NAME,'q').send_keys('빅데이타')\n",
    "driver.find_element(By.NAME,'q').submit()"
   ]
  },
  {
   "cell_type": "code",
   "execution_count": 34,
   "id": "024b4f69",
   "metadata": {},
   "outputs": [
    {
     "name": "stdout",
     "output_type": "stream",
     "text": [
      "<selenium.webdriver.remote.webelement.WebElement (session=\"74bb71241a7eeb71688a6315c0372349\", element=\"5ecfc541-d02d-426f-ade9-30a360d8cc64\")>\n",
      "다음\n"
     ]
    }
   ],
   "source": [
    "# 다음 버튼 : 마지막 페이지에는 없음 \n",
    "next_btn = driver.find_element(By.CSS_SELECTOR, '#pnnext')\n",
    "print(next_btn)\n",
    "print(next_btn.text)\n",
    "\n",
    "# 동작 클릭 click() => 다음 페이지 이동\n",
    "time.sleep(1)\n",
    "next_btn.click()"
   ]
  },
  {
   "cell_type": "code",
   "execution_count": null,
   "id": "b83cc01f",
   "metadata": {},
   "outputs": [],
   "source": [
    "# 소스 확인 \n",
    "<a href=\"/search?q=%EB%B9%85%EB%8D%B0%EC%9D%B4%ED%84%B0&amp;ei=CMPlY8yvI--G3LUPk4abwAU&amp;start=10&amp;sa=N&amp;ved=2ahUKEwjM0-aZior9AhVvA7cAHRPDBlgQ8NMDegQIBxAW\" \n",
    "  id=\"pnnext\" style=\"text-align:left\">\n",
    "<span class=\"SJajHc NVbCr\" style=\"background:url(/images/nav_logo321.webp) no-repeat;background-position:-96px 0;background-size:167px;width:71px\"></span>\n",
    "<span style=\"display:block;margin-left:53px\">다음</span>\n",
    "</a>"
   ]
  },
  {
   "cell_type": "markdown",
   "id": "ab6b352c",
   "metadata": {},
   "source": [
    "## 전체 페이지 수 출력 "
   ]
  },
  {
   "cell_type": "code",
   "execution_count": 38,
   "id": "bf3f0fd2",
   "metadata": {},
   "outputs": [
    {
     "name": "stderr",
     "output_type": "stream",
     "text": [
      "C:\\Users\\user\\AppData\\Local\\Temp\\ipykernel_10208\\1081137393.py:2: DeprecationWarning: executable_path has been deprecated, please pass in a Service object\n",
      "  driver = webdriver.Chrome('chromedriver.exe')\n"
     ]
    }
   ],
   "source": [
    "# 1) 셀레니움 드라이버 객체 생성 후 크롬웹브라우저 구동 \n",
    "driver = webdriver.Chrome('chromedriver.exe')\n",
    "\n",
    "# 2) 페이지 이동 \n",
    "time.sleep(1)\n",
    "url = 'https://www.google.com/'\n",
    "driver.get(url)"
   ]
  },
  {
   "cell_type": "code",
   "execution_count": null,
   "id": "7391fe45",
   "metadata": {},
   "outputs": [],
   "source": [
    "# 3) 검색어 입력후 검색버튼 클릭하기 \n",
    "# 검색창 찾기 = 파싱 \n",
    "time.sleep(2)\n",
    "# q 네임값을 갖는 태그 요소 \n",
    "# send_keys(검색어) : 검색어 입력\n",
    "# submit() 전송버튼 클릭 \n",
    "driver.find_element(By.NAME,'q').send_keys('빅데이타')\n",
    "driver.find_element(By.NAME,'q').submit()"
   ]
  },
  {
   "cell_type": "code",
   "execution_count": 40,
   "id": "630caa1f",
   "metadata": {},
   "outputs": [
    {
     "name": "stdout",
     "output_type": "stream",
     "text": [
      "1 2 3 4 5 6 7 8 9 10 11 12 13 14 15 16 17 18 19 20 21 22 23 마지막 페이지\n",
      "================================================================================\n"
     ]
    }
   ],
   "source": [
    "# 4) 다음 버튼 찾기 + 페이지 출력 \n",
    "page = 1\n",
    "while True:\n",
    "    try:\n",
    "        next_btn = driver.find_element(By.CSS_SELECTOR, '#pnnext')\n",
    "    except:\n",
    "        print('마지막 페이지')\n",
    "        break\n",
    "    else:\n",
    "        print(page, end=' ')\n",
    "        page += 1\n",
    "        time.sleep(3)\n",
    "        next_btn.click()\n",
    "        \n",
    "print('===='*20)        "
   ]
  },
  {
   "cell_type": "markdown",
   "id": "7ad9e2e1",
   "metadata": {},
   "source": [
    "## 전체 페이지의 데이타 저장"
   ]
  },
  {
   "cell_type": "code",
   "execution_count": 46,
   "id": "aba1441b",
   "metadata": {},
   "outputs": [
    {
     "name": "stderr",
     "output_type": "stream",
     "text": [
      "C:\\Users\\user\\AppData\\Local\\Temp\\ipykernel_10208\\3164744740.py:2: DeprecationWarning: executable_path has been deprecated, please pass in a Service object\n",
      "  driver = webdriver.Chrome('chromedriver.exe')\n"
     ]
    }
   ],
   "source": [
    "# 1) 셀레니움 드라이버 객체 생성 후 크롬웹브라우저 구동 \n",
    "driver = webdriver.Chrome('chromedriver.exe')\n",
    "\n",
    "# 2) 페이지 이동 \n",
    "time.sleep(2)\n",
    "url = 'https://www.google.com/'\n",
    "driver.get(url)"
   ]
  },
  {
   "cell_type": "code",
   "execution_count": 52,
   "id": "36b50a76",
   "metadata": {},
   "outputs": [],
   "source": [
    "# 3) 검색어 입력후 검색버튼 클릭하기 \n",
    "# 검색창 찾기 = 파싱 \n",
    "time.sleep(2)\n",
    "# q 네임값을 갖는 태그 요소 \n",
    "# send_keys(검색어) : 검색어 입력\n",
    "# submit() 전송버튼 클릭 \n",
    "driver.find_element(By.NAME,'q').send_keys('부산대학교 기계공학부')\n",
    "driver.find_element(By.NAME,'q').submit()"
   ]
  },
  {
   "cell_type": "code",
   "execution_count": 53,
   "id": "771b3ef4",
   "metadata": {},
   "outputs": [],
   "source": [
    "# 4) 전체 데이타 저장 => 2차원 리스트 \n",
    "page = 1\n",
    "result_list = []"
   ]
  },
  {
   "cell_type": "code",
   "execution_count": 54,
   "id": "6f84e095",
   "metadata": {},
   "outputs": [
    {
     "name": "stdout",
     "output_type": "stream",
     "text": [
      "1 2 3 4 5 마지막 페이지\n",
      "================================================================================\n"
     ]
    }
   ],
   "source": [
    "while True:\n",
    "    time.sleep(3)\n",
    "    # 데이타 파싱 \n",
    "    target_list = driver.find_elements(By.CSS_SELECTOR, '.yuRUbf')\n",
    "    for tag in target_list:\n",
    "        title = tag.find_element(By.CSS_SELECTOR, 'h3').text\n",
    "        link = tag.find_element(By.CSS_SELECTOR, 'a').get_attribute('href')\n",
    "        \n",
    "        result_list.append([title, link])\n",
    "    \n",
    "    try:\n",
    "        time.sleep(3)\n",
    "        next_btn = driver.find_element(By.CSS_SELECTOR, '#pnnext')\n",
    "    except:\n",
    "        print('마지막 페이지')\n",
    "        break\n",
    "    else:\n",
    "        print(page, end=' ')\n",
    "        page += 1\n",
    "        time.sleep(3)\n",
    "        next_btn.click()\n",
    "        \n",
    "print('===='*20)        "
   ]
  },
  {
   "cell_type": "code",
   "execution_count": null,
   "id": "e93b0943",
   "metadata": {},
   "outputs": [],
   "source": [
    "# 5) 데이타프레임으로 저장 "
   ]
  },
  {
   "cell_type": "code",
   "execution_count": 55,
   "id": "06e2b810",
   "metadata": {},
   "outputs": [
    {
     "data": {
      "text/html": [
       "<div>\n",
       "<style scoped>\n",
       "    .dataframe tbody tr th:only-of-type {\n",
       "        vertical-align: middle;\n",
       "    }\n",
       "\n",
       "    .dataframe tbody tr th {\n",
       "        vertical-align: top;\n",
       "    }\n",
       "\n",
       "    .dataframe thead th {\n",
       "        text-align: right;\n",
       "    }\n",
       "</style>\n",
       "<table border=\"1\" class=\"dataframe\">\n",
       "  <thead>\n",
       "    <tr style=\"text-align: right;\">\n",
       "      <th></th>\n",
       "      <th>제목</th>\n",
       "      <th>링크</th>\n",
       "    </tr>\n",
       "  </thead>\n",
       "  <tbody>\n",
       "    <tr>\n",
       "      <th>0</th>\n",
       "      <td>부산대학교 기계공학부</td>\n",
       "      <td>https://me.pusan.ac.kr/</td>\n",
       "    </tr>\n",
       "    <tr>\n",
       "      <th>1</th>\n",
       "      <td>부산대학교/학부/공과대학 - 나무위키:대문</td>\n",
       "      <td>https://namu.wiki/w/%EB%B6%80%EC%82%B0%EB%8C%8...</td>\n",
       "    </tr>\n",
       "    <tr>\n",
       "      <th>2</th>\n",
       "      <td>부산대학교 기계공학부 - 대학 후기 - 대학백과</td>\n",
       "      <td>https://www.univ100.kr/review/157/6645</td>\n",
       "    </tr>\n",
       "    <tr>\n",
       "      <th>3</th>\n",
       "      <td>부산대학교 기계공학부 산업체 인력 양성</td>\n",
       "      <td>http://meindustry.org/</td>\n",
       "    </tr>\n",
       "    <tr>\n",
       "      <th>4</th>\n",
       "      <td>부산대학교 기계공학부 (@pnu_me) • Instagram ... - Instagram</td>\n",
       "      <td>https://www.instagram.com/pnu_me/</td>\n",
       "    </tr>\n",
       "    <tr>\n",
       "      <th>5</th>\n",
       "      <td>[부산대 건물 투어] 부산대학교 기계관을 소개합니다!</td>\n",
       "      <td>https://blog.naver.com/pnupurm/222053440613</td>\n",
       "    </tr>\n",
       "    <tr>\n",
       "      <th>6</th>\n",
       "      <td>부산대학교 기계공학부 정해도 - 김박사넷</td>\n",
       "      <td>https://phdkim.net/professor/4567/info/</td>\n",
       "    </tr>\n",
       "    <tr>\n",
       "      <th>7</th>\n",
       "      <td>【부산 대학교 기계 공학부】 [Y3U571] - ekspert.edu.pl</td>\n",
       "      <td>https://uz.ekspert.edu.pl/mc/%EB%B6%80%EC%82%B...</td>\n",
       "    </tr>\n",
       "    <tr>\n",
       "      <th>8</th>\n",
       "      <td>부산대학교 기계공학부 편입 전공시험 - 갓준표의 4대역학</td>\n",
       "      <td>https://godjunpyo.com/?kboard_content_redirect...</td>\n",
       "    </tr>\n",
       "    <tr>\n",
       "      <th>9</th>\n",
       "      <td>부산대 기계공 - Avseetv100 -</td>\n",
       "      <td>https://avseetv100.xyz/%EB%B6%80%EC%82%B0%EB%8...</td>\n",
       "    </tr>\n",
       "    <tr>\n",
       "      <th>10</th>\n",
       "      <td>부산대학교, 기계공학부 김경천 교수, 'Highly Cited Paper of ...</td>\n",
       "      <td>http://www.lecturernews.com/news/articleView.h...</td>\n",
       "    </tr>\n",
       "    <tr>\n",
       "      <th>11</th>\n",
       "      <td>부산 기계 공고 동문회</td>\n",
       "      <td>https://bo-mi1.fr/vagor/</td>\n",
       "    </tr>\n",
       "    <tr>\n",
       "      <th>12</th>\n",
       "      <td>부산대학교 - 위키백과, 우리 모두의 백과사전</td>\n",
       "      <td>https://ko.wikipedia.org/wiki/%EB%B6%80%EC%82%...</td>\n",
       "    </tr>\n",
       "    <tr>\n",
       "      <th>13</th>\n",
       "      <td>기계공학 - 동의대학교</td>\n",
       "      <td>https://nme.deu.ac.kr/</td>\n",
       "    </tr>\n",
       "    <tr>\n",
       "      <th>14</th>\n",
       "      <td>【부산대 전과】 [HTZ57V]</td>\n",
       "      <td>https://sa.ambulanzeprivate.roma.it/ow/%EB%B6%...</td>\n",
       "    </tr>\n",
       "    <tr>\n",
       "      <th>15</th>\n",
       "      <td>부산대학교 기계공학부 (@pnu_me) • Instagram. 부산대학교 ...</td>\n",
       "      <td>https://breakupcoach.pl/sprawdz-kim-jest-break...</td>\n",
       "    </tr>\n",
       "    <tr>\n",
       "      <th>16</th>\n",
       "      <td>부산대 물리학과 - 신비한 화석</td>\n",
       "      <td>https://yqomak.grupobernarda.es/nuguwa/</td>\n",
       "    </tr>\n",
       "    <tr>\n",
       "      <th>17</th>\n",
       "      <td>부산대 경영학과 - 사람 검색</td>\n",
       "      <td>https://vewizip.panaderiapastelerialazaropetis...</td>\n",
       "    </tr>\n",
       "    <tr>\n",
       "      <th>18</th>\n",
       "      <td>요구 pdf iatf 사항 16949</td>\n",
       "      <td>https://zl.korycki-graczyk.edu.pl/ek/iatf-1694...</td>\n",
       "    </tr>\n",
       "    <tr>\n",
       "      <th>19</th>\n",
       "      <td>대학교 기숙사 룸메가 신기하고 나랑 너무 안맞는 후기..ㅋㅋ ...</td>\n",
       "      <td>https://mua.acadiennes-residence.fr/cc1707</td>\n",
       "    </tr>\n",
       "    <tr>\n",
       "      <th>20</th>\n",
       "      <td>학부모를 위한 AI 패권과 인재전쟁 - Google 도서 검색결과</td>\n",
       "      <td>https://books.google.co.kr/books?id=TfF5EAAAQB...</td>\n",
       "    </tr>\n",
       "    <tr>\n",
       "      <th>21</th>\n",
       "      <td>2014 디자인백서 - 39페이지 - Google 도서 검색결과</td>\n",
       "      <td>https://books.google.co.kr/books?id=yvGhCwAAQB...</td>\n",
       "    </tr>\n",
       "    <tr>\n",
       "      <th>22</th>\n",
       "      <td>포스트 코로나, 뉴노멀 시대 의료기기산업 일자리는 어떻게 변하나?: 전자산업 인적자...</td>\n",
       "      <td>https://books.google.co.kr/books?id=CMf0DwAAQB...</td>\n",
       "    </tr>\n",
       "    <tr>\n",
       "      <th>23</th>\n",
       "      <td>경남대 순위 - DFUP</td>\n",
       "      <td>https://pu.dfup.edu.pl/cq/%EA%B2%BD%EB%82%A8%E...</td>\n",
       "    </tr>\n",
       "    <tr>\n",
       "      <th>24</th>\n",
       "      <td>경희대 기계 공학과 - Avseetv30 -</td>\n",
       "      <td>https://h.avseetv30.pp.ua/%EA%B2%BD%ED%9D%AC%E...</td>\n",
       "    </tr>\n",
       "    <tr>\n",
       "      <th>25</th>\n",
       "      <td>부산대 캠퍼스 - Avseetv30 -</td>\n",
       "      <td>https://h.avseetv30.pp.ua/%EB%B6%80%EC%82%B0%E...</td>\n",
       "    </tr>\n",
       "    <tr>\n",
       "      <th>26</th>\n",
       "      <td>편입 부산대</td>\n",
       "      <td>https://ow.youimage.co.it/zs/%EB%B6%80%EC%82%B...</td>\n",
       "    </tr>\n",
       "    <tr>\n",
       "      <th>27</th>\n",
       "      <td>포스텍 기계 공학과</td>\n",
       "      <td>https://bewoxuqo.lechaffetois-renovation.fr/xu...</td>\n",
       "    </tr>\n",
       "    <tr>\n",
       "      <th>28</th>\n",
       "      <td>【부산대 현장실습센터】 [ZK9DAB]</td>\n",
       "      <td>https://mw.apple.rimini.it/ht/%EB%B6%80%EC%82%...</td>\n",
       "    </tr>\n",
       "    <tr>\n",
       "      <th>29</th>\n",
       "      <td>고급두뇌를 위한 하이브레인넷(hibrain.net)</td>\n",
       "      <td>https://www.hibrain.net/</td>\n",
       "    </tr>\n",
       "    <tr>\n",
       "      <th>30</th>\n",
       "      <td>한권으로 완성하는 수학 2019 미적분 (상): 한완수 미적분(상)</td>\n",
       "      <td>https://books.google.co.kr/books?id=3EpSDwAAQB...</td>\n",
       "    </tr>\n",
       "    <tr>\n",
       "      <th>31</th>\n",
       "      <td>부산대 경영학과 - 세종 고속 버스 터미널</td>\n",
       "      <td>https://uguvokoc.webinar-nipro-spain.es/pereky/</td>\n",
       "    </tr>\n",
       "    <tr>\n",
       "      <th>32</th>\n",
       "      <td>부산대, `우리시대 질문총서` 저·역자 초청 북토크 개최 - 부산일보</td>\n",
       "      <td>https://www.busan.com/view/busan/view.php?code...</td>\n",
       "    </tr>\n",
       "    <tr>\n",
       "      <th>33</th>\n",
       "      <td>부산대학교 - 더위키</td>\n",
       "      <td>https://thewiki.kr/w/%EB%B6%80%EC%82%B0%EB%8C%...</td>\n",
       "    </tr>\n",
       "    <tr>\n",
       "      <th>34</th>\n",
       "      <td>【공대 학과】 |P4DL7Z|</td>\n",
       "      <td>https://ck.ite.edu.pl/rp/%EA%B3%B5%EB%8C%80-%E...</td>\n",
       "    </tr>\n",
       "    <tr>\n",
       "      <th>35</th>\n",
       "      <td>울산과학대학교</td>\n",
       "      <td>https://www.uc.ac.kr/www/?pCode=main</td>\n",
       "    </tr>\n",
       "    <tr>\n",
       "      <th>36</th>\n",
       "      <td>부산대 『우리시대 질문총서』 저·역자 초청 북토크 개최</td>\n",
       "      <td>http://www.kookje.co.kr/news2011/asp/newsbody....</td>\n",
       "    </tr>\n",
       "    <tr>\n",
       "      <th>37</th>\n",
       "      <td>국립 한국해양대학교</td>\n",
       "      <td>https://www.kmou.ac.kr/kmou/main.do</td>\n",
       "    </tr>\n",
       "    <tr>\n",
       "      <th>38</th>\n",
       "      <td>dcinside. 대학원 - 디시인사이드</td>\n",
       "      <td>https://de.ciekaweszycie.edu.pl/ju/dcinside.-%...</td>\n",
       "    </tr>\n",
       "    <tr>\n",
       "      <th>39</th>\n",
       "      <td>【기계 공학회】 {WDCSGA}</td>\n",
       "      <td>https://bw.whatever.edu.pl/rx/%EA%B8%B0%EA%B3%...</td>\n",
       "    </tr>\n",
       "    <tr>\n",
       "      <th>40</th>\n",
       "      <td>부산대 입학처</td>\n",
       "      <td>https://vz.salutecoop.so.it/jn/%EB%B6%80%EC%82...</td>\n",
       "    </tr>\n",
       "    <tr>\n",
       "      <th>41</th>\n",
       "      <td>부산대, '우리시대 질문총서' 저역자 초청 북토크..오는 9일 운죽 ...</td>\n",
       "      <td>http://kpenews.com/View.aspx?No=2718861</td>\n",
       "    </tr>\n",
       "    <tr>\n",
       "      <th>42</th>\n",
       "      <td>열린미래 꿈이있는 대학, 동아대학교</td>\n",
       "      <td>https://www.donga.ac.kr/</td>\n",
       "    </tr>\n",
       "    <tr>\n",
       "      <th>43</th>\n",
       "      <td>서준호</td>\n",
       "      <td>https://voxuli.chalet-pommedepin-superbesse.fr...</td>\n",
       "    </tr>\n",
       "    <tr>\n",
       "      <th>44</th>\n",
       "      <td>입학홈페이지 - 동명대학교</td>\n",
       "      <td>https://www.tu.ac.kr/iphak/index.do</td>\n",
       "    </tr>\n",
       "    <tr>\n",
       "      <th>45</th>\n",
       "      <td>한국항공대학교</td>\n",
       "      <td>http://www.hangkong.ac.kr/</td>\n",
       "    </tr>\n",
       "    <tr>\n",
       "      <th>46</th>\n",
       "      <td>김박사넷</td>\n",
       "      <td>https://in.sp4lublin.edu.pl/fw/%EA%B9%80%EB%B0...</td>\n",
       "    </tr>\n",
       "    <tr>\n",
       "      <th>47</th>\n",
       "      <td>정지환</td>\n",
       "      <td>https://kv.akademiasukcesu.edu.pl/tz/%EC%A0%95...</td>\n",
       "    </tr>\n",
       "    <tr>\n",
       "      <th>48</th>\n",
       "      <td>울산과학대학교, SEVeN 거버넌스 협의회 및 2 ... - 울산종합일보</td>\n",
       "      <td>http://www.ujnews.co.kr/news/newsview.php?ncod...</td>\n",
       "    </tr>\n",
       "    <tr>\n",
       "      <th>49</th>\n",
       "      <td>서울과학기술대학교</td>\n",
       "      <td>https://www.seoultech.ac.kr/index.jsp</td>\n",
       "    </tr>\n",
       "    <tr>\n",
       "      <th>50</th>\n",
       "      <td>부산대, '우리시대 질문총서' 저·역자 초청 북토크 개최</td>\n",
       "      <td>http://www.enewstoday.co.kr/news/articleView.h...</td>\n",
       "    </tr>\n",
       "    <tr>\n",
       "      <th>51</th>\n",
       "      <td>동국대 공대</td>\n",
       "      <td>https://ce.commercialista24.roma.it/yh/%EB%8F%...</td>\n",
       "    </tr>\n",
       "    <tr>\n",
       "      <th>52</th>\n",
       "      <td>경북대 학생증 - 音 灵</td>\n",
       "      <td>https://racemyx.pharmaciecousaert-lille.fr/fir...</td>\n",
       "    </tr>\n",
       "  </tbody>\n",
       "</table>\n",
       "</div>"
      ],
      "text/plain": [
       "                                                   제목  \\\n",
       "0                                         부산대학교 기계공학부   \n",
       "1                             부산대학교/학부/공과대학 - 나무위키:대문   \n",
       "2                          부산대학교 기계공학부 - 대학 후기 - 대학백과   \n",
       "3                               부산대학교 기계공학부 산업체 인력 양성   \n",
       "4   부산대학교 기계공학부 (@pnu_me) • Instagram ... - Instagram   \n",
       "5                       [부산대 건물 투어] 부산대학교 기계관을 소개합니다!   \n",
       "6                              부산대학교 기계공학부 정해도 - 김박사넷   \n",
       "7           【부산 대학교 기계 공학부】 [Y3U571] - ekspert.edu.pl   \n",
       "8                     부산대학교 기계공학부 편입 전공시험 - 갓준표의 4대역학   \n",
       "9                              부산대 기계공 - Avseetv100 -   \n",
       "10    부산대학교, 기계공학부 김경천 교수, 'Highly Cited Paper of ...   \n",
       "11                                       부산 기계 공고 동문회   \n",
       "12                          부산대학교 - 위키백과, 우리 모두의 백과사전   \n",
       "13                                       기계공학 - 동의대학교   \n",
       "14                                  【부산대 전과】 [HTZ57V]   \n",
       "15       부산대학교 기계공학부 (@pnu_me) • Instagram. 부산대학교 ...   \n",
       "16                                  부산대 물리학과 - 신비한 화석   \n",
       "17                                   부산대 경영학과 - 사람 검색   \n",
       "18                               요구 pdf iatf 사항 16949   \n",
       "19              대학교 기숙사 룸메가 신기하고 나랑 너무 안맞는 후기..ㅋㅋ ...   \n",
       "20               학부모를 위한 AI 패권과 인재전쟁 - Google 도서 검색결과   \n",
       "21                2014 디자인백서 - 39페이지 - Google 도서 검색결과   \n",
       "22  포스트 코로나, 뉴노멀 시대 의료기기산업 일자리는 어떻게 변하나?: 전자산업 인적자...   \n",
       "23                                      경남대 순위 - DFUP   \n",
       "24                           경희대 기계 공학과 - Avseetv30 -   \n",
       "25                              부산대 캠퍼스 - Avseetv30 -   \n",
       "26                                             편입 부산대   \n",
       "27                                         포스텍 기계 공학과   \n",
       "28                              【부산대 현장실습센터】 [ZK9DAB]   \n",
       "29                       고급두뇌를 위한 하이브레인넷(hibrain.net)   \n",
       "30              한권으로 완성하는 수학 2019 미적분 (상): 한완수 미적분(상)   \n",
       "31                            부산대 경영학과 - 세종 고속 버스 터미널   \n",
       "32             부산대, `우리시대 질문총서` 저·역자 초청 북토크 개최 - 부산일보   \n",
       "33                                        부산대학교 - 더위키   \n",
       "34                                   【공대 학과】 |P4DL7Z|   \n",
       "35                                            울산과학대학교   \n",
       "36                     부산대 『우리시대 질문총서』 저·역자 초청 북토크 개최   \n",
       "37                                         국립 한국해양대학교   \n",
       "38                             dcinside. 대학원 - 디시인사이드   \n",
       "39                                  【기계 공학회】 {WDCSGA}   \n",
       "40                                            부산대 입학처   \n",
       "41          부산대, '우리시대 질문총서' 저역자 초청 북토크..오는 9일 운죽 ...   \n",
       "42                                열린미래 꿈이있는 대학, 동아대학교   \n",
       "43                                                서준호   \n",
       "44                                     입학홈페이지 - 동명대학교   \n",
       "45                                            한국항공대학교   \n",
       "46                                               김박사넷   \n",
       "47                                                정지환   \n",
       "48           울산과학대학교, SEVeN 거버넌스 협의회 및 2 ... - 울산종합일보   \n",
       "49                                          서울과학기술대학교   \n",
       "50                    부산대, '우리시대 질문총서' 저·역자 초청 북토크 개최   \n",
       "51                                             동국대 공대   \n",
       "52                                      경북대 학생증 - 音 灵   \n",
       "\n",
       "                                                   링크  \n",
       "0                             https://me.pusan.ac.kr/  \n",
       "1   https://namu.wiki/w/%EB%B6%80%EC%82%B0%EB%8C%8...  \n",
       "2              https://www.univ100.kr/review/157/6645  \n",
       "3                              http://meindustry.org/  \n",
       "4                   https://www.instagram.com/pnu_me/  \n",
       "5         https://blog.naver.com/pnupurm/222053440613  \n",
       "6             https://phdkim.net/professor/4567/info/  \n",
       "7   https://uz.ekspert.edu.pl/mc/%EB%B6%80%EC%82%B...  \n",
       "8   https://godjunpyo.com/?kboard_content_redirect...  \n",
       "9   https://avseetv100.xyz/%EB%B6%80%EC%82%B0%EB%8...  \n",
       "10  http://www.lecturernews.com/news/articleView.h...  \n",
       "11                           https://bo-mi1.fr/vagor/  \n",
       "12  https://ko.wikipedia.org/wiki/%EB%B6%80%EC%82%...  \n",
       "13                             https://nme.deu.ac.kr/  \n",
       "14  https://sa.ambulanzeprivate.roma.it/ow/%EB%B6%...  \n",
       "15  https://breakupcoach.pl/sprawdz-kim-jest-break...  \n",
       "16            https://yqomak.grupobernarda.es/nuguwa/  \n",
       "17  https://vewizip.panaderiapastelerialazaropetis...  \n",
       "18  https://zl.korycki-graczyk.edu.pl/ek/iatf-1694...  \n",
       "19         https://mua.acadiennes-residence.fr/cc1707  \n",
       "20  https://books.google.co.kr/books?id=TfF5EAAAQB...  \n",
       "21  https://books.google.co.kr/books?id=yvGhCwAAQB...  \n",
       "22  https://books.google.co.kr/books?id=CMf0DwAAQB...  \n",
       "23  https://pu.dfup.edu.pl/cq/%EA%B2%BD%EB%82%A8%E...  \n",
       "24  https://h.avseetv30.pp.ua/%EA%B2%BD%ED%9D%AC%E...  \n",
       "25  https://h.avseetv30.pp.ua/%EB%B6%80%EC%82%B0%E...  \n",
       "26  https://ow.youimage.co.it/zs/%EB%B6%80%EC%82%B...  \n",
       "27  https://bewoxuqo.lechaffetois-renovation.fr/xu...  \n",
       "28  https://mw.apple.rimini.it/ht/%EB%B6%80%EC%82%...  \n",
       "29                           https://www.hibrain.net/  \n",
       "30  https://books.google.co.kr/books?id=3EpSDwAAQB...  \n",
       "31    https://uguvokoc.webinar-nipro-spain.es/pereky/  \n",
       "32  https://www.busan.com/view/busan/view.php?code...  \n",
       "33  https://thewiki.kr/w/%EB%B6%80%EC%82%B0%EB%8C%...  \n",
       "34  https://ck.ite.edu.pl/rp/%EA%B3%B5%EB%8C%80-%E...  \n",
       "35               https://www.uc.ac.kr/www/?pCode=main  \n",
       "36  http://www.kookje.co.kr/news2011/asp/newsbody....  \n",
       "37                https://www.kmou.ac.kr/kmou/main.do  \n",
       "38  https://de.ciekaweszycie.edu.pl/ju/dcinside.-%...  \n",
       "39  https://bw.whatever.edu.pl/rx/%EA%B8%B0%EA%B3%...  \n",
       "40  https://vz.salutecoop.so.it/jn/%EB%B6%80%EC%82...  \n",
       "41            http://kpenews.com/View.aspx?No=2718861  \n",
       "42                           https://www.donga.ac.kr/  \n",
       "43  https://voxuli.chalet-pommedepin-superbesse.fr...  \n",
       "44                https://www.tu.ac.kr/iphak/index.do  \n",
       "45                         http://www.hangkong.ac.kr/  \n",
       "46  https://in.sp4lublin.edu.pl/fw/%EA%B9%80%EB%B0...  \n",
       "47  https://kv.akademiasukcesu.edu.pl/tz/%EC%A0%95...  \n",
       "48  http://www.ujnews.co.kr/news/newsview.php?ncod...  \n",
       "49              https://www.seoultech.ac.kr/index.jsp  \n",
       "50  http://www.enewstoday.co.kr/news/articleView.h...  \n",
       "51  https://ce.commercialista24.roma.it/yh/%EB%8F%...  \n",
       "52  https://racemyx.pharmaciecousaert-lille.fr/fir...  "
      ]
     },
     "execution_count": 55,
     "metadata": {},
     "output_type": "execute_result"
    }
   ],
   "source": [
    "df = pd.DataFrame(result_list, \n",
    "                  columns=['제목','링크'])\n",
    "df"
   ]
  },
  {
   "cell_type": "code",
   "execution_count": null,
   "id": "fdf0863f",
   "metadata": {},
   "outputs": [],
   "source": []
  },
  {
   "cell_type": "code",
   "execution_count": null,
   "id": "e3a06e8a",
   "metadata": {},
   "outputs": [],
   "source": []
  }
 ],
 "metadata": {
  "kernelspec": {
   "display_name": "Python 3 (ipykernel)",
   "language": "python",
   "name": "python3"
  },
  "language_info": {
   "codemirror_mode": {
    "name": "ipython",
    "version": 3
   },
   "file_extension": ".py",
   "mimetype": "text/x-python",
   "name": "python",
   "nbconvert_exporter": "python",
   "pygments_lexer": "ipython3",
   "version": "3.9.13"
  }
 },
 "nbformat": 4,
 "nbformat_minor": 5
}
