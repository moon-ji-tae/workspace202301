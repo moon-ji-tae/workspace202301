{
 "cells": [
  {
   "cell_type": "markdown",
   "id": "13334b86",
   "metadata": {},
   "source": [
    "# XML \n",
    "- 자료를 표현하는 언어 \n",
    "- https://www.w3schools.com/xml/xml_tree.asp"
   ]
  },
  {
   "cell_type": "markdown",
   "id": "aa3b61ef",
   "metadata": {},
   "source": [
    "# xml 파싱 테스트\n",
    "\n",
    "- 데이타 요청 \n",
    "- 파싱(bs4) \n",
    "- 데이타프레임 \n",
    "- csv 파일 변환"
   ]
  },
  {
   "cell_type": "code",
   "execution_count": 1,
   "id": "dcf79f47",
   "metadata": {},
   "outputs": [],
   "source": [
    "# 0) 모듈 임포트 \n",
    "from bs4 import BeautifulSoup\n",
    "import pandas as pd"
   ]
  },
  {
   "cell_type": "code",
   "execution_count": 3,
   "id": "71dd6027",
   "metadata": {},
   "outputs": [
    {
     "name": "stdout",
     "output_type": "stream",
     "text": [
      "<class 'str'>\n",
      "<?xml version=\"1.0\" encoding=\"UTF-8\"?>\n",
      "<bookstore>\n",
      "  <book category=\"cooking\">\n",
      "    <title lang=\"en\">Everyday Italian</title>\n",
      "    <author>Giada De Laurentiis</author>\n",
      "    <year>2005</year>\n",
      "    <price>30.00</price>\n",
      "  </book>\n",
      "  <book category=\"children\">\n",
      "    <title lang=\"en\">Harry Potter</title>\n",
      "    <author>J K. Rowling</author>\n",
      "    <year>2005</year>\n",
      "    <price>29.99</price>\n",
      "  </book>\n",
      "  <book category=\"web\">\n",
      "    <title lang=\"en\">Learning XML</title>\n",
      "    <author>Erik T. Ray</author>\n",
      "    <year>2003</year>\n",
      "    <price>39.95</price>\n",
      "  </book>\n",
      "</bookstore>\n",
      "\n"
     ]
    }
   ],
   "source": [
    "# 1) 데이타요청 <= xml 파일\n",
    "with open('boostore.xml', 'r') as f:\n",
    "    xml_str = f.read()\n",
    "    print(type(xml_str))\n",
    "    print(xml_str)"
   ]
  },
  {
   "cell_type": "code",
   "execution_count": 2,
   "id": "dda190ce",
   "metadata": {},
   "outputs": [
    {
     "name": "stdout",
     "output_type": "stream",
     "text": [
      " C 드라이브의 볼륨에는 이름이 없습니다.\n",
      " 볼륨 일련 번호: F2CA-487A\n",
      "\n",
      " c:\\pyclass 디렉터리\n",
      "\n",
      "2023-02-13  오후 03:11               554 boostore.xml\n",
      "               1개 파일                 554 바이트\n",
      "               0개 디렉터리  925,038,317,568 바이트 남음\n"
     ]
    }
   ],
   "source": [
    "ls *.xml"
   ]
  },
  {
   "cell_type": "code",
   "execution_count": 5,
   "id": "bb018450",
   "metadata": {},
   "outputs": [
    {
     "name": "stdout",
     "output_type": "stream",
     "text": [
      "<class 'bs4.BeautifulSoup'>\n"
     ]
    }
   ],
   "source": [
    "# 2) 문자열 데이타 => 숩객체 \n",
    "# xml 로 지정 \n",
    "soup = BeautifulSoup(xml_str, 'xml')\n",
    "print(type(soup))"
   ]
  },
  {
   "cell_type": "code",
   "execution_count": 7,
   "id": "a8ac7576",
   "metadata": {},
   "outputs": [
    {
     "name": "stdout",
     "output_type": "stream",
     "text": [
      "<book category=\"cooking\">\n",
      "<title lang=\"en\">Everyday Italian</title>\n",
      "<author>Giada De Laurentiis</author>\n",
      "<year>2005</year>\n",
      "<price>30.00</price>\n",
      "</book>\n",
      "\n",
      "[<book category=\"cooking\">\n",
      "<title lang=\"en\">Everyday Italian</title>\n",
      "<author>Giada De Laurentiis</author>\n",
      "<year>2005</year>\n",
      "<price>30.00</price>\n",
      "</book>, <book category=\"children\">\n",
      "<title lang=\"en\">Harry Potter</title>\n",
      "<author>J K. Rowling</author>\n",
      "<year>2005</year>\n",
      "<price>29.99</price>\n",
      "</book>, <book category=\"web\">\n",
      "<title lang=\"en\">Learning XML</title>\n",
      "<author>Erik T. Ray</author>\n",
      "<year>2003</year>\n",
      "<price>39.95</price>\n",
      "</book>]\n"
     ]
    }
   ],
   "source": [
    "# 3) 메서드 적용해서 데이타 추출 \n",
    "# find() => 1개\n",
    "# find_all() => 리스트 \n",
    "# text\n",
    "# [속성], get(속성)\n",
    "\n",
    "# 첫번째 book \n",
    "print(soup.find('book'))\n",
    "print()\n",
    "# 전체 book 태그 \n",
    "print(soup.find_all('book'))"
   ]
  },
  {
   "cell_type": "code",
   "execution_count": 9,
   "id": "e226ba5a",
   "metadata": {},
   "outputs": [
    {
     "name": "stdout",
     "output_type": "stream",
     "text": [
      "책 제목 :  Everyday Italian\n",
      "종류 :  cooking\n",
      "저자 :  Giada De Laurentiis\n",
      "출판년도 :  2005\n",
      "가격 :  30.00\n"
     ]
    }
   ],
   "source": [
    "# 리스트화 \n",
    "book_list = soup.find_all('book')\n",
    "# 개별 데이타 \n",
    "title = book_list[0].title.text\n",
    "category = book_list[0]['category']\n",
    "author = book_list[0].author.text\n",
    "year = book_list[0].year.text\n",
    "price = book_list[0].price.text\n",
    "print('책 제목 : ', title)\n",
    "print('종류 : ', category)\n",
    "print('저자 : ', author)\n",
    "print('출판년도 : ', year)\n",
    "print('가격 : ', price)"
   ]
  },
  {
   "cell_type": "code",
   "execution_count": 10,
   "id": "8648bf38",
   "metadata": {},
   "outputs": [
    {
     "data": {
      "text/html": [
       "<div>\n",
       "<style scoped>\n",
       "    .dataframe tbody tr th:only-of-type {\n",
       "        vertical-align: middle;\n",
       "    }\n",
       "\n",
       "    .dataframe tbody tr th {\n",
       "        vertical-align: top;\n",
       "    }\n",
       "\n",
       "    .dataframe thead th {\n",
       "        text-align: right;\n",
       "    }\n",
       "</style>\n",
       "<table border=\"1\" class=\"dataframe\">\n",
       "  <thead>\n",
       "    <tr style=\"text-align: right;\">\n",
       "      <th></th>\n",
       "      <th>책제목</th>\n",
       "      <th>종류</th>\n",
       "      <th>저자</th>\n",
       "      <th>출판년도</th>\n",
       "      <th>가격</th>\n",
       "    </tr>\n",
       "  </thead>\n",
       "  <tbody>\n",
       "    <tr>\n",
       "      <th>0</th>\n",
       "      <td>Everyday Italian</td>\n",
       "      <td>cooking</td>\n",
       "      <td>Giada De Laurentiis</td>\n",
       "      <td>2005</td>\n",
       "      <td>None</td>\n",
       "    </tr>\n",
       "    <tr>\n",
       "      <th>1</th>\n",
       "      <td>Harry Potter</td>\n",
       "      <td>children</td>\n",
       "      <td>J K. Rowling</td>\n",
       "      <td>2005</td>\n",
       "      <td>None</td>\n",
       "    </tr>\n",
       "    <tr>\n",
       "      <th>2</th>\n",
       "      <td>Learning XML</td>\n",
       "      <td>web</td>\n",
       "      <td>Erik T. Ray</td>\n",
       "      <td>2003</td>\n",
       "      <td>None</td>\n",
       "    </tr>\n",
       "  </tbody>\n",
       "</table>\n",
       "</div>"
      ],
      "text/plain": [
       "                책제목        종류                   저자  출판년도    가격\n",
       "0  Everyday Italian   cooking  Giada De Laurentiis  2005  None\n",
       "1      Harry Potter  children         J K. Rowling  2005  None\n",
       "2      Learning XML       web          Erik T. Ray  2003  None"
      ]
     },
     "execution_count": 10,
     "metadata": {},
     "output_type": "execute_result"
    }
   ],
   "source": [
    "# 4) 2차원 데이타 구조 => 데이타프레임\n",
    "result_list = []\n",
    "for book in book_list:\n",
    "    title = book.title.text\n",
    "    category = book['category']\n",
    "    author = book.author.text\n",
    "    year = book.year.text\n",
    "    price = book.price.tex   \n",
    "    result_list.append([title, category, author, year, price])\n",
    "\n",
    "df = pd.DataFrame(result_list, \n",
    "                  columns=['책제목', '종류', '저자', '출판년도', '가격'])\n",
    "df"
   ]
  },
  {
   "cell_type": "markdown",
   "id": "e5362d6a",
   "metadata": {},
   "source": [
    "# xml 퀴즈 - 슬라이드 40"
   ]
  },
  {
   "cell_type": "code",
   "execution_count": 30,
   "id": "0caf570e",
   "metadata": {},
   "outputs": [],
   "source": [
    "with open('data/country.xml', 'r') as f:\n",
    "    xml_str = f.read()"
   ]
  },
  {
   "cell_type": "code",
   "execution_count": 31,
   "id": "614838b1",
   "metadata": {},
   "outputs": [],
   "source": [
    "soup = BeautifulSoup(xml_str, 'xml')"
   ]
  },
  {
   "cell_type": "code",
   "execution_count": 32,
   "id": "fef07cea",
   "metadata": {},
   "outputs": [
    {
     "data": {
      "text/plain": [
       "<?xml version=\"1.0\" encoding=\"utf-8\"?>\n",
       "<data>\n",
       "<country name=\"Liechtenstein\">\n",
       "<rank>1</rank>\n",
       "<year>2008</year>\n",
       "<gdppc>141100</gdppc>\n",
       "<neighbor direction=\"E\" name=\"Austria\"/>\n",
       "<neighbor direction=\"W\" name=\"Switzerland\"/>\n",
       "</country>\n",
       "<country name=\"Singapore\">\n",
       "<rank>4</rank>\n",
       "<year>2011</year>\n",
       "<gdppc>59900</gdppc>\n",
       "<neighbor direction=\"N\" name=\"Malaysia\"/>\n",
       "</country>\n",
       "<country name=\"Panama\">\n",
       "<rank>68</rank>\n",
       "<year>2011</year>\n",
       "<gdppc>13600</gdppc>\n",
       "<neighbor direction=\"W\" name=\"Costa Rica\"/>\n",
       "<neighbor direction=\"E\" name=\"Colombia\"/>\n",
       "</country>\n",
       "</data>"
      ]
     },
     "execution_count": 32,
     "metadata": {},
     "output_type": "execute_result"
    }
   ],
   "source": [
    "soup"
   ]
  },
  {
   "cell_type": "code",
   "execution_count": 33,
   "id": "b00bf155",
   "metadata": {},
   "outputs": [],
   "source": [
    "target_list = soup.find_all('country')"
   ]
  },
  {
   "cell_type": "code",
   "execution_count": 34,
   "id": "0335dcf5",
   "metadata": {},
   "outputs": [],
   "source": [
    "# 테이블 구조로 변경 \n",
    "result_list = []\n",
    "for country in target_list:\n",
    "    name = country['name']\n",
    "    rank = country.rank.text\n",
    "    year = country.year.text\n",
    "    gdppc = country.gdppc.text\n",
    "    # 리스트안의 튜플 (이웃나라이름, 방향)\n",
    "    neighbor_list = country.find_all('neighbor')\n",
    "    if neighbor_list:\n",
    "        temp = []\n",
    "        for neighbor in neighbor_list:\n",
    "            temp.append((neighbor['name'], neighbor['direction']))\n",
    "    else:\n",
    "        temp = None\n",
    "        \n",
    "    result_list.append([name, rank, year, gdppc, temp])"
   ]
  },
  {
   "cell_type": "code",
   "execution_count": 36,
   "id": "a8f400c5",
   "metadata": {},
   "outputs": [
    {
     "name": "stdout",
     "output_type": "stream",
     "text": [
      "['Liechtenstein', '1', '2008', '141100', [('Austria', 'E'), ('Switzerland', 'W')]]\n",
      "\n",
      "['Singapore', '4', '2011', '59900', [('Malaysia', 'N')]]\n",
      "\n",
      "['Panama', '68', '2011', '13600', [('Costa Rica', 'W'), ('Colombia', 'E')]]\n"
     ]
    }
   ],
   "source": [
    "print(result_list[0])\n",
    "print()\n",
    "print(result_list[1])\n",
    "print()\n",
    "print(result_list[-1])"
   ]
  },
  {
   "cell_type": "code",
   "execution_count": 29,
   "id": "594e8730",
   "metadata": {},
   "outputs": [
    {
     "data": {
      "text/html": [
       "<div>\n",
       "<style scoped>\n",
       "    .dataframe tbody tr th:only-of-type {\n",
       "        vertical-align: middle;\n",
       "    }\n",
       "\n",
       "    .dataframe tbody tr th {\n",
       "        vertical-align: top;\n",
       "    }\n",
       "\n",
       "    .dataframe thead th {\n",
       "        text-align: right;\n",
       "    }\n",
       "</style>\n",
       "<table border=\"1\" class=\"dataframe\">\n",
       "  <thead>\n",
       "    <tr style=\"text-align: right;\">\n",
       "      <th></th>\n",
       "      <th>name</th>\n",
       "      <th>rank</th>\n",
       "      <th>year</th>\n",
       "      <th>gdppc</th>\n",
       "      <th>neighbor</th>\n",
       "    </tr>\n",
       "  </thead>\n",
       "  <tbody>\n",
       "    <tr>\n",
       "      <th>0</th>\n",
       "      <td>Liechtenstein</td>\n",
       "      <td>1</td>\n",
       "      <td>2008</td>\n",
       "      <td>141100</td>\n",
       "      <td>[(Austria, E), (Switzerland, W)]</td>\n",
       "    </tr>\n",
       "    <tr>\n",
       "      <th>1</th>\n",
       "      <td>Singapore</td>\n",
       "      <td>4</td>\n",
       "      <td>2011</td>\n",
       "      <td>59900</td>\n",
       "      <td>[(Malaysia, N)]</td>\n",
       "    </tr>\n",
       "    <tr>\n",
       "      <th>2</th>\n",
       "      <td>Panama</td>\n",
       "      <td>68</td>\n",
       "      <td>2011</td>\n",
       "      <td>13600</td>\n",
       "      <td>[(Costa Rica, W), (Colombia, E)]</td>\n",
       "    </tr>\n",
       "  </tbody>\n",
       "</table>\n",
       "</div>"
      ],
      "text/plain": [
       "            name rank  year   gdppc                          neighbor\n",
       "0  Liechtenstein    1  2008  141100  [(Austria, E), (Switzerland, W)]\n",
       "1      Singapore    4  2011   59900                   [(Malaysia, N)]\n",
       "2         Panama   68  2011   13600  [(Costa Rica, W), (Colombia, E)]"
      ]
     },
     "execution_count": 29,
     "metadata": {},
     "output_type": "execute_result"
    }
   ],
   "source": [
    "df = pd.DataFrame(result_list, \n",
    "                  columns=['name', 'rank', 'year', 'gdppc', 'neighbor'])\n",
    "df"
   ]
  },
  {
   "cell_type": "markdown",
   "id": "90d6aa94",
   "metadata": {},
   "source": [
    "# 기상청 - RSS 활용"
   ]
  },
  {
   "cell_type": "code",
   "execution_count": 37,
   "id": "770f309c",
   "metadata": {},
   "outputs": [],
   "source": [
    "# 0) 모듈 임포트 \n",
    "from bs4 import BeautifulSoup\n",
    "import pandas as pd\n",
    "import requests"
   ]
  },
  {
   "cell_type": "code",
   "execution_count": 39,
   "id": "1368cb09",
   "metadata": {},
   "outputs": [],
   "source": [
    "# 1) 데이타 요청 \n",
    "# 동네예보 요청 주소 \n",
    "# https://www.weather.go.kr/w/pop/rss-guide.do?sido=2600000000&gugun=2641000000&dong=2641060000\n",
    "# 부산광역시 금정구 장전1동 \n",
    "url = 'http://www.kma.go.kr/wid/queryDFSRSS.jsp?zone=2641060000'\n",
    "response = requests.get(url)\n",
    "xml_str = response.text\n",
    "# print(xml_str)"
   ]
  },
  {
   "cell_type": "code",
   "execution_count": 43,
   "id": "d2dac73a",
   "metadata": {},
   "outputs": [],
   "source": [
    "# 2) 숩객체화 \n",
    "soup = BeautifulSoup(xml_str)\n",
    "# print(soup)"
   ]
  },
  {
   "cell_type": "code",
   "execution_count": 45,
   "id": "12c0a080",
   "metadata": {},
   "outputs": [
    {
     "name": "stdout",
     "output_type": "stream",
     "text": [
      "19\n",
      "<data seq=\"0\">\n",
      "<hour>18</hour>\n",
      "<day>0</day>\n",
      "<temp>7.0</temp>\n",
      "<tmx>-999.0</tmx>\n",
      "<tmn>-999.0</tmn>\n",
      "<sky>4</sky>\n",
      "<pty>0</pty>\n",
      "<wfkor>흐림</wfkor>\n",
      "<wfen>Cloudy</wfen>\n",
      "<pop>30</pop>\n",
      "<r12>0.0</r12>\n",
      "<s12>0.0</s12>\n",
      "<ws>2.5</ws>\n",
      "<wd>1</wd>\n",
      "<wdkor>북동</wdkor>\n",
      "<wden>NE</wden>\n",
      "<reh>60</reh>\n",
      "<r06>0.0</r06>\n",
      "<s06>0.0</s06>\n",
      "</data>\n"
     ]
    }
   ],
   "source": [
    "# 3) 데이타 리스트화 \n",
    "target_list = soup.find_all('data')\n",
    "print(len(target_list))\n",
    "print(target_list[0])"
   ]
  },
  {
   "cell_type": "code",
   "execution_count": 55,
   "id": "2ff70837",
   "metadata": {},
   "outputs": [
    {
     "name": "stdout",
     "output_type": "stream",
     "text": [
      "날짜  시간 기온  하늘상태 강수확률\n",
      "오늘 18 7.0 흐림 30%\n"
     ]
    }
   ],
   "source": [
    "# 4) 데이타 가공 \n",
    "# day (오늘 0 /내일 1 / 모레 2)\n",
    "day_dict = {'0':'오늘', '1':'내일', '2':'모레'}\n",
    "# day = target_list[0].day.text\n",
    "day = day_dict[target_list[0].day.text]\n",
    "hour = target_list[0].hour.text\n",
    "temp = target_list[0].temp.text\n",
    "# 하늘 상태 :  [맑음(1), 구름많음(3), 흐림(4)]\n",
    "sky_dict = {'1':'맑음', '3':'구름많음', '4':'흐림'}\n",
    "sky = sky_dict[target_list[0].sky.text]\n",
    "pop = target_list[0].pop.text + '%'\n",
    "print('날짜  시간 기온  하늘상태 강수확률')\n",
    "print(day, hour, temp, sky, pop)"
   ]
  },
  {
   "cell_type": "code",
   "execution_count": 58,
   "id": "d078e5d0",
   "metadata": {},
   "outputs": [],
   "source": [
    "# 5) 2차원 데이타 \n",
    "day_dict = {'0':'오늘', '1':'내일', '2':'모레'}\n",
    "sky_dict = {'1':'맑음', '3':'구름많음', '4':'흐림'}\n",
    "result_list = []\n",
    "for target in target_list:\n",
    "    day = day_dict[target.day.text]\n",
    "    hour = target.hour.text\n",
    "    temp = target.temp.text\n",
    "    sky = sky_dict[target.sky.text]\n",
    "    pop = target.pop.text + '%'\n",
    "    result_list.append([day, hour, temp, sky, pop])"
   ]
  },
  {
   "cell_type": "code",
   "execution_count": 59,
   "id": "8eeb49b8",
   "metadata": {},
   "outputs": [
    {
     "data": {
      "text/html": [
       "<div>\n",
       "<style scoped>\n",
       "    .dataframe tbody tr th:only-of-type {\n",
       "        vertical-align: middle;\n",
       "    }\n",
       "\n",
       "    .dataframe tbody tr th {\n",
       "        vertical-align: top;\n",
       "    }\n",
       "\n",
       "    .dataframe thead th {\n",
       "        text-align: right;\n",
       "    }\n",
       "</style>\n",
       "<table border=\"1\" class=\"dataframe\">\n",
       "  <thead>\n",
       "    <tr style=\"text-align: right;\">\n",
       "      <th></th>\n",
       "      <th>날짜</th>\n",
       "      <th>시간</th>\n",
       "      <th>기온</th>\n",
       "      <th>하늘상태</th>\n",
       "      <th>강수량</th>\n",
       "    </tr>\n",
       "  </thead>\n",
       "  <tbody>\n",
       "    <tr>\n",
       "      <th>0</th>\n",
       "      <td>오늘</td>\n",
       "      <td>18</td>\n",
       "      <td>7.0</td>\n",
       "      <td>흐림</td>\n",
       "      <td>30%</td>\n",
       "    </tr>\n",
       "    <tr>\n",
       "      <th>1</th>\n",
       "      <td>오늘</td>\n",
       "      <td>21</td>\n",
       "      <td>5.0</td>\n",
       "      <td>구름많음</td>\n",
       "      <td>20%</td>\n",
       "    </tr>\n",
       "    <tr>\n",
       "      <th>2</th>\n",
       "      <td>오늘</td>\n",
       "      <td>24</td>\n",
       "      <td>4.0</td>\n",
       "      <td>흐림</td>\n",
       "      <td>30%</td>\n",
       "    </tr>\n",
       "    <tr>\n",
       "      <th>3</th>\n",
       "      <td>내일</td>\n",
       "      <td>3</td>\n",
       "      <td>4.0</td>\n",
       "      <td>흐림</td>\n",
       "      <td>30%</td>\n",
       "    </tr>\n",
       "    <tr>\n",
       "      <th>4</th>\n",
       "      <td>내일</td>\n",
       "      <td>6</td>\n",
       "      <td>3.0</td>\n",
       "      <td>흐림</td>\n",
       "      <td>30%</td>\n",
       "    </tr>\n",
       "    <tr>\n",
       "      <th>5</th>\n",
       "      <td>내일</td>\n",
       "      <td>9</td>\n",
       "      <td>5.0</td>\n",
       "      <td>구름많음</td>\n",
       "      <td>20%</td>\n",
       "    </tr>\n",
       "    <tr>\n",
       "      <th>6</th>\n",
       "      <td>내일</td>\n",
       "      <td>12</td>\n",
       "      <td>9.0</td>\n",
       "      <td>맑음</td>\n",
       "      <td>0%</td>\n",
       "    </tr>\n",
       "    <tr>\n",
       "      <th>7</th>\n",
       "      <td>내일</td>\n",
       "      <td>15</td>\n",
       "      <td>10.0</td>\n",
       "      <td>맑음</td>\n",
       "      <td>0%</td>\n",
       "    </tr>\n",
       "    <tr>\n",
       "      <th>8</th>\n",
       "      <td>내일</td>\n",
       "      <td>18</td>\n",
       "      <td>7.0</td>\n",
       "      <td>맑음</td>\n",
       "      <td>0%</td>\n",
       "    </tr>\n",
       "    <tr>\n",
       "      <th>9</th>\n",
       "      <td>내일</td>\n",
       "      <td>21</td>\n",
       "      <td>5.0</td>\n",
       "      <td>맑음</td>\n",
       "      <td>0%</td>\n",
       "    </tr>\n",
       "  </tbody>\n",
       "</table>\n",
       "</div>"
      ],
      "text/plain": [
       "   날짜  시간    기온  하늘상태  강수량\n",
       "0  오늘  18   7.0    흐림  30%\n",
       "1  오늘  21   5.0  구름많음  20%\n",
       "2  오늘  24   4.0    흐림  30%\n",
       "3  내일   3   4.0    흐림  30%\n",
       "4  내일   6   3.0    흐림  30%\n",
       "5  내일   9   5.0  구름많음  20%\n",
       "6  내일  12   9.0    맑음   0%\n",
       "7  내일  15  10.0    맑음   0%\n",
       "8  내일  18   7.0    맑음   0%\n",
       "9  내일  21   5.0    맑음   0%"
      ]
     },
     "execution_count": 59,
     "metadata": {},
     "output_type": "execute_result"
    }
   ],
   "source": [
    "df = pd.DataFrame(result_list, \n",
    "                     columns=['날짜', '시간', '기온', '하늘상태', '강수량'])\n",
    "df.head(10)"
   ]
  },
  {
   "cell_type": "code",
   "execution_count": null,
   "id": "adf4fca2",
   "metadata": {},
   "outputs": [],
   "source": []
  }
 ],
 "metadata": {
  "kernelspec": {
   "display_name": "Python 3 (ipykernel)",
   "language": "python",
   "name": "python3"
  },
  "language_info": {
   "codemirror_mode": {
    "name": "ipython",
    "version": 3
   },
   "file_extension": ".py",
   "mimetype": "text/x-python",
   "name": "python",
   "nbconvert_exporter": "python",
   "pygments_lexer": "ipython3",
   "version": "3.9.13"
  }
 },
 "nbformat": 4,
 "nbformat_minor": 5
}
