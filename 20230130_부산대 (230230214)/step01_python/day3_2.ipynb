{
 "cells": [
  {
   "cell_type": "markdown",
   "id": "0c2b0056",
   "metadata": {},
   "source": [
    "# for 반복문 \n",
    "- for ... in range()\n",
    "- for ... in 문자열|리스트|딕셔너리|튜플\n",
    "- 리스트내포  "
   ]
  },
  {
   "cell_type": "code",
   "execution_count": 5,
   "id": "9ef9be9f",
   "metadata": {},
   "outputs": [
    {
     "name": "stdout",
     "output_type": "stream",
     "text": [
      "range(1, 11)\n",
      "[1, 2, 3, 4, 5, 6, 7, 8, 9, 10]\n",
      "(10, 9, 8, 7, 6, 5, 4, 3, 2, 1)\n"
     ]
    }
   ],
   "source": [
    "# range(start,end, step)\n",
    "# start는 생략시 0\n",
    "# step 은 생략시 1\n",
    "# start ~ end-1 까지 생성\n",
    "print(range(1,11))\n",
    "numlist = list(range(1,11))\n",
    "numtuple = tuple(range(10,0,-1))\n",
    "print(numlist)\n",
    "print(numtuple)"
   ]
  },
  {
   "cell_type": "code",
   "execution_count": 11,
   "id": "67f6f1f9",
   "metadata": {},
   "outputs": [
    {
     "name": "stdout",
     "output_type": "stream",
     "text": [
      "1 2 3 4 5 6 7 8 9 10 \n",
      "20 18 16 14 12 10 8 6 4 2 "
     ]
    }
   ],
   "source": [
    "# for 카운팅변수 in range(start,end,step):\n",
    "#     명령문 \n",
    "\n",
    "# 1~10까지 출력 \n",
    "for i in range(1,11):\n",
    "    print(i, end = ' ')\n",
    "\n",
    "# 20~1 까지 출력 \n",
    "print()\n",
    "for i in range(20, 0, -2):\n",
    "    print(i, end = ' ')    "
   ]
  },
  {
   "cell_type": "code",
   "execution_count": 18,
   "id": "ec58de62",
   "metadata": {},
   "outputs": [
    {
     "name": "stdout",
     "output_type": "stream",
     "text": [
      " 1   2   3   4   5  \n",
      " 6   7   8   9  10  \n",
      "11  12  13  14  15  \n",
      "16  17  18  19  20  \n",
      "21  22  23  24  25  \n"
     ]
    }
   ],
   "source": [
    "# for 문 + if 문 \n",
    "# 1~25까지 출력 \n",
    "# 한줄에 5개씩 출력\n",
    "for i in range(1,26):\n",
    "#     print(f'{i:>3}', end = ' ')\n",
    "#     print(f'{i:<3}', end = ' ')\n",
    "    print(f'{i:^3}', end = ' ')\n",
    "    if (i%5 == 0):\n",
    "        print()\n",
    "    \n"
   ]
  },
  {
   "cell_type": "code",
   "execution_count": 19,
   "id": "4b2566d6",
   "metadata": {},
   "outputs": [],
   "source": [
    "# 퀴즈 \n",
    "# 빈 리스트를 생성하고 데이타를 입력받아 리스트에 추가한다.\n",
    "# 리스트에 삽입되는 데이타는 숫자이어야 한다.\n",
    "# 음수의 숫자도 입력 대상이다\n",
    "# 데이타 총 입력 횟수는 10번이며 리스트의 길이가 5이면 입력을 중단한다"
   ]
  },
  {
   "cell_type": "code",
   "execution_count": 25,
   "id": "57aff454",
   "metadata": {},
   "outputs": [
    {
     "name": "stdout",
     "output_type": "stream",
     "text": [
      "0\n",
      "데이타를 입력하세요...45\n",
      "1\n",
      "데이타를 입력하세요...66\n",
      "2\n",
      "데이타를 입력하세요...-90\n",
      "3\n",
      "데이타를 입력하세요...rrr\n",
      "4\n",
      "데이타를 입력하세요...100\n",
      "5\n",
      "데이타를 입력하세요...80\n",
      "['45', '66', '-90', '100', '80']\n"
     ]
    }
   ],
   "source": [
    "# isdigit() 문자열이 숫자이면 True\n",
    "# 음수 : - + 숫자형태\n",
    "mylist = []\n",
    "\n",
    "for i in range(10):\n",
    "    # 리스트의 길이가 5라면 강제 종료 \n",
    "    if (len(mylist) == 5):\n",
    "        break   \n",
    "    print(i)\n",
    "    data = input('데이타를 입력하세요...')     \n",
    "    # 모두숫자이거나 첫글자가 -이고 나머지가 숫자라면 \n",
    "    # 리스트에 추가 \n",
    "    if data.isdigit() or (data[0] == '-' and data[1:].isdigit()): \n",
    "        mylist.append(data)\n",
    "\n",
    "print(mylist)    "
   ]
  },
  {
   "cell_type": "code",
   "execution_count": 28,
   "id": "b3cb763c",
   "metadata": {},
   "outputs": [
    {
     "name": "stdout",
     "output_type": "stream",
     "text": [
      "\n",
      "1\n",
      "==================== 1\n",
      "==================== 2\n",
      "==================== 3\n",
      "\n",
      "2\n",
      "==================== 1\n",
      "==================== 2\n",
      "==================== 3\n",
      "\n",
      "3\n",
      "==================== 1\n",
      "==================== 2\n",
      "==================== 3\n",
      "\n",
      "4\n",
      "==================== 1\n",
      "==================== 2\n",
      "==================== 3\n"
     ]
    }
   ],
   "source": [
    "# 다중 for 문 \n",
    "for i in range(1,5):\n",
    "    print()\n",
    "    print(i)\n",
    "    for j in range(1,4):\n",
    "        print('='*20, j)\n",
    "        "
   ]
  },
  {
   "cell_type": "code",
   "execution_count": 35,
   "id": "6b0eed8e",
   "metadata": {},
   "outputs": [
    {
     "name": "stdout",
     "output_type": "stream",
     "text": [
      "    2 단\n",
      "2 X 1 = 2  \n",
      "2 X 2 = 4  \n",
      "2 X 3 = 6  \n",
      "2 X 4 = 8  \n",
      "2 X 5 = 10 \n",
      "2 X 6 = 12 \n",
      "2 X 7 = 14 \n",
      "2 X 8 = 16 \n",
      "2 X 9 = 18 \n",
      "\n",
      "    3 단\n",
      "3 X 1 = 3  \n",
      "3 X 2 = 6  \n",
      "3 X 3 = 9  \n",
      "3 X 4 = 12 \n",
      "3 X 5 = 15 \n",
      "3 X 6 = 18 \n",
      "3 X 7 = 21 \n",
      "3 X 8 = 24 \n",
      "3 X 9 = 27 \n",
      "\n",
      "    4 단\n",
      "4 X 1 = 4  \n",
      "4 X 2 = 8  \n",
      "4 X 3 = 12 \n",
      "4 X 4 = 16 \n",
      "4 X 5 = 20 \n",
      "4 X 6 = 24 \n",
      "4 X 7 = 28 \n",
      "4 X 8 = 32 \n",
      "4 X 9 = 36 \n",
      "\n",
      "    5 단\n",
      "5 X 1 = 5  \n",
      "5 X 2 = 10 \n",
      "5 X 3 = 15 \n",
      "5 X 4 = 20 \n",
      "5 X 5 = 25 \n",
      "5 X 6 = 30 \n",
      "5 X 7 = 35 \n",
      "5 X 8 = 40 \n",
      "5 X 9 = 45 \n",
      "\n",
      "    6 단\n",
      "6 X 1 = 6  \n",
      "6 X 2 = 12 \n",
      "6 X 3 = 18 \n",
      "6 X 4 = 24 \n",
      "6 X 5 = 30 \n",
      "6 X 6 = 36 \n",
      "6 X 7 = 42 \n",
      "6 X 8 = 48 \n",
      "6 X 9 = 54 \n",
      "\n",
      "    7 단\n",
      "7 X 1 = 7  \n",
      "7 X 2 = 14 \n",
      "7 X 3 = 21 \n",
      "7 X 4 = 28 \n",
      "7 X 5 = 35 \n",
      "7 X 6 = 42 \n",
      "7 X 7 = 49 \n",
      "7 X 8 = 56 \n",
      "7 X 9 = 63 \n",
      "\n",
      "    8 단\n",
      "8 X 1 = 8  \n",
      "8 X 2 = 16 \n",
      "8 X 3 = 24 \n",
      "8 X 4 = 32 \n",
      "8 X 5 = 40 \n",
      "8 X 6 = 48 \n",
      "8 X 7 = 56 \n",
      "8 X 8 = 64 \n",
      "8 X 9 = 72 \n",
      "\n",
      "    9 단\n",
      "9 X 1 = 9  \n",
      "9 X 2 = 18 \n",
      "9 X 3 = 27 \n",
      "9 X 4 = 36 \n",
      "9 X 5 = 45 \n",
      "9 X 6 = 54 \n",
      "9 X 7 = 63 \n",
      "9 X 8 = 72 \n",
      "9 X 9 = 81 \n",
      "\n"
     ]
    }
   ],
   "source": [
    "# 구구단 출력 \n",
    "for i in range(2, 10):\n",
    "    print(f'{i:>5} 단')\n",
    "    \n",
    "    for j in range(1,10):\n",
    "        print(f'{i} X {j} = {(i*j):<3}')\n",
    "    \n",
    "    print()    "
   ]
  },
  {
   "cell_type": "code",
   "execution_count": 39,
   "id": "0dc76268",
   "metadata": {},
   "outputs": [
    {
     "name": "stdout",
     "output_type": "stream",
     "text": [
      "1    a\n",
      "2      b\n",
      "3        c\n",
      "4          d\n",
      "5            e\n"
     ]
    }
   ],
   "source": [
    "# for 아이템변수 in 문자열|튜플|리스트|집합:\n",
    "#      명령문 \n",
    "\n",
    "txt = 'abcde'\n",
    "count = 1\n",
    "for item in txt:\n",
    "    print(count, '  '*count, item)\n",
    "    count += 1\n",
    "    "
   ]
  },
  {
   "cell_type": "code",
   "execution_count": 42,
   "id": "ae492756",
   "metadata": {},
   "outputs": [
    {
     "name": "stdout",
     "output_type": "stream",
     "text": [
      "토끼\n",
      "참새\n"
     ]
    }
   ],
   "source": [
    "# 리스트 순회 \n",
    "# 2글자인 데이타만 출력 \n",
    "myList = ['강아지', '호랑이', '토끼', '은하수', '참새']\n",
    "for item in myList:\n",
    "    if (len(item) == 2):\n",
    "        print(item)"
   ]
  },
  {
   "cell_type": "code",
   "execution_count": 46,
   "id": "5d5f826e",
   "metadata": {},
   "outputs": [
    {
     "name": "stdout",
     "output_type": "stream",
     "text": [
      " 1 번 학생 : 90\n",
      " 3 번 학생 : 67\n",
      " 5 번 학생 : 80\n"
     ]
    }
   ],
   "source": [
    "# for in + if + continue\n",
    "# 60점 이상인 학생 데이타 출력 \n",
    "score = [90, 25, 67, 34, 80]\n",
    "count = 0\n",
    "for item in score:\n",
    "    count += 1\n",
    "# if 하단에 명령어가 1행인 경우에는 \n",
    "# 같은 행으로 프로그래밍 가능     \n",
    "#     if (item <  60):\n",
    "#         continue\n",
    "    if (item <  60): continue        \n",
    "    print(f' {count} 번 학생 : {item}')"
   ]
  },
  {
   "cell_type": "code",
   "execution_count": 48,
   "id": "1a961e37",
   "metadata": {},
   "outputs": [
    {
     "name": "stdout",
     "output_type": "stream",
     "text": [
      "{'참새', '강아지', '은하수', '호랑이', '토끼'}\n",
      "참새\n",
      "강아지\n",
      "은하수\n",
      "호랑이\n",
      "토끼\n"
     ]
    }
   ],
   "source": [
    "# 집합 순회 테스트 \n",
    "mySet = {'강아지', '호랑이', '토끼', '은하수', '참새'}\n",
    "print(mySet)\n",
    "for item in mySet:\n",
    "    print(item)"
   ]
  },
  {
   "cell_type": "code",
   "execution_count": 54,
   "id": "68b8194b",
   "metadata": {},
   "outputs": [
    {
     "name": "stdout",
     "output_type": "stream",
     "text": [
      "apple cat dress\n",
      " 키 a , 값 apple \n",
      " 키 c , 값 cat \n",
      " 키 d , 값 dress \n"
     ]
    }
   ],
   "source": [
    "# 딕셔너리 순차접근 \n",
    "myDict = {'a':'apple', \n",
    "          'c':'cat', \n",
    "          'd':'dress'}\n",
    "print(myDict['a'], myDict['c'], myDict['d'])\n",
    "\n",
    "for key in myDict:\n",
    "    print(f' 키 {key} , 값 {myDict[key]} ')"
   ]
  },
  {
   "cell_type": "code",
   "execution_count": 58,
   "id": "41519097",
   "metadata": {},
   "outputs": [
    {
     "name": "stdout",
     "output_type": "stream",
     "text": [
      "[('a', 'apple'), ('c', 'cat'), ('d', 'dress')]\n",
      " 키 a , 값 apple \n",
      " 키 c , 값 cat \n",
      " 키 d , 값 dress \n"
     ]
    }
   ],
   "source": [
    "# 키와 값 변수를 이용한 딕셔너리 접근 \n",
    "myDict = {'a':'apple', \n",
    "          'c':'cat', \n",
    "          'd':'dress'}\n",
    "# items()함수는 딕셔너리 키와 값을 \n",
    "# 튜플로 그룹화 한 후 리스트 스타일로 변경\n",
    "# 리스트안의 튜플 \n",
    "print(list(myDict.items()))\n",
    "\n",
    "for k, v in myDict.items():\n",
    "    print(f' 키 {k} , 값 {v} ')"
   ]
  },
  {
   "cell_type": "code",
   "execution_count": 64,
   "id": "19ae4372",
   "metadata": {},
   "outputs": [
    {
     "name": "stdout",
     "output_type": "stream",
     "text": [
      "africa\n",
      "say\n",
      "drama\n",
      " 총갯수는? 3\n"
     ]
    }
   ],
   "source": [
    "# 딕셔너리 값에 a 글자가 있는 아이템만 표시하고 \n",
    "# 총 갯수를 출력하여라.\n",
    "\n",
    "# in 연산자 \n",
    "# 특정 글자가 있다면 True\n",
    "# print('a' in 'say')\n",
    "# print('a' in 'coffee')\n",
    "\n",
    "word_dict = {'a': 'africa', 's': 'say', \n",
    "             'c': 'coffee', 'd': 'drama', \n",
    "             'y':'yes'}\n",
    "\n",
    "count = 0\n",
    "for key in word_dict:\n",
    "    if ('a' in word_dict[key]):\n",
    "        print(word_dict[key])\n",
    "        count += 1\n",
    "\n",
    "print(f' 총갯수는? {count}')        "
   ]
  },
  {
   "cell_type": "code",
   "execution_count": 67,
   "id": "6758c7b4",
   "metadata": {},
   "outputs": [
    {
     "name": "stdout",
     "output_type": "stream",
     "text": [
      "100\n",
      "2000\n",
      "\n",
      "[1, 2]\n",
      "[100, 200]\n",
      "[1000, 2000]\n",
      "\n",
      "1 2 \n",
      "100 200 \n",
      "1000 2000 \n"
     ]
    }
   ],
   "source": [
    "# 중첩 리스트 for 문 사용 \n",
    "mylist = [ [1, 2], [100, 200], [1000, 2000]]\n",
    "\n",
    "# 중첩 리스트 인덱싱 \n",
    "# 리스트명[행][열]\n",
    "print(mylist[1][0])\n",
    "print(mylist[2][1])\n",
    "print()\n",
    "for i in range(3):\n",
    "    print(mylist[i])\n",
    "print()\n",
    "for i in range(3):\n",
    "    for j in range(2):\n",
    "        print(mylist[i][j], end=' ')\n",
    "    print()"
   ]
  },
  {
   "cell_type": "code",
   "execution_count": 68,
   "id": "0cc93d99",
   "metadata": {},
   "outputs": [
    {
     "name": "stdout",
     "output_type": "stream",
     "text": [
      " i=1  j=2\n",
      " i=100  j=200\n",
      " i=1000  j=2000\n"
     ]
    }
   ],
   "source": [
    "# 중첩 리스트 for 문 사용 \n",
    "mylist = [ [1, 2], [100, 200], [1000, 2000]]\n",
    "\n",
    "for (i, j) in mylist:\n",
    "    print(f' i={i}  j={j}')"
   ]
  },
  {
   "cell_type": "code",
   "execution_count": 83,
   "id": "2f140301",
   "metadata": {},
   "outputs": [
    {
     "name": "stdout",
     "output_type": "stream",
     "text": [
      "==================================================\n",
      " 학생명  국어  수학  영어  총점   평균\n",
      "==================================================\n",
      "  김태희   30   50   55    135   45.00\n",
      "  신민아   50   90   80    220   73.33\n",
      "  박지민   50   90   40    180   60.00\n",
      "  김소희   60   50   56    166   55.33\n",
      "  윤준희   90   88   66    244   81.33\n"
     ]
    }
   ],
   "source": [
    "# 퀴즈 \n",
    "# 학생이름, 국어, 영어, 수학 으로 구성된 2차원 리스트를 생성하고\n",
    "# for 문을 이용하여 아래와 같이 출력하여라\n",
    "\n",
    "stGradeList = [ ['김태희', 30, 50, 55],\n",
    "                ['신민아', 50, 90, 80],\n",
    "                ['박지민', 50, 90, 40],\n",
    "                ['김소희', 60, 50, 56],\n",
    "                ['윤준희', 90, 88, 66]]\n",
    "print('='*50)\n",
    "print(' 학생명  국어  수학  영어  총점   평균')\n",
    "print('='*50)\n",
    "for (name, kor, math, eng) in stGradeList:\n",
    "    print(f'{name:>5} {kor:>4} {math:>4} {eng:>4} \n",
    "             {kor+math+eng:>6}   {(kor+math+eng)/3:.2f}')"
   ]
  },
  {
   "cell_type": "code",
   "execution_count": 86,
   "id": "44b33303",
   "metadata": {},
   "outputs": [
    {
     "name": "stdout",
     "output_type": "stream",
     "text": [
      "<zip object at 0x000001669C053A00>\n",
      "[('홍길동', 90, 55), ('신민아', 67, 89), ('김소희', 77, 100)]\n",
      "홍길동 90 55\n",
      "신민아 67 89\n",
      "김소희 77 100\n"
     ]
    }
   ],
   "source": [
    "# zip()\n",
    "# 개별 리스트|튜플 들을 그룹화한다 \n",
    "st_name = [ '홍길동', '신민아', '김소희']\n",
    "kor = [ 90, 67, 77 ]\n",
    "math = [ 55, 89, 100 ]\n",
    "print(zip(st_name, kor, math))\n",
    "\n",
    "# 리스트로 변경 \n",
    "print(list(zip(st_name, kor, math)))\n",
    "print()\n",
    "\n",
    "# for 문 + zip()\n",
    "for name, kor, math in zip(st_name, kor, math):\n",
    "    print(name, kor, math)"
   ]
  },
  {
   "cell_type": "code",
   "execution_count": 88,
   "id": "17d17253",
   "metadata": {},
   "outputs": [
    {
     "name": "stdout",
     "output_type": "stream",
     "text": [
      "[3, 6, 9, 12, 15, 18, 21, 24, 27]\n",
      "[3, 6, 9, 12, 15, 18, 21, 24, 27]\n"
     ]
    }
   ],
   "source": [
    "#  리스트내포 \n",
    "# [ 최종값 for 변수 in range(start, end, step) ]\n",
    "\n",
    "# 3단의 결과로 리스트 생성 \n",
    "# 빈리스트 생성 후 데이타를 추가하는 방식 \n",
    "result = []\n",
    "for i in range(1, 10):\n",
    "    result.append(3*i)\n",
    "print(result)   \n",
    "\n",
    "# 리스트 내포 방식으로 변환 \n",
    "result = [ 3*i for i in range(1, 10)]\n",
    "print(result) "
   ]
  },
  {
   "cell_type": "code",
   "execution_count": 91,
   "id": "c459e411",
   "metadata": {},
   "outputs": [
    {
     "name": "stdout",
     "output_type": "stream",
     "text": [
      "['python1', 'python2', 'python3', 'python4', 'python5']\n",
      "['python1', 'python2', 'python3', 'python4', 'python5']\n"
     ]
    }
   ],
   "source": [
    "# 문자열+숫자 구성된 데이타로 리스트 생성 \n",
    "result = []\n",
    "for i in range(1, 6):\n",
    "    # 형변환 필요 \n",
    "    result.append('python'+ str(i))\n",
    "print(result)   \n",
    "\n",
    "# 리스트 내포 방식으로 변환 \n",
    "result = [ 'python'+ str(i) for i in range(1, 6)]\n",
    "print(result) \n"
   ]
  },
  {
   "cell_type": "code",
   "execution_count": 94,
   "id": "e310a628",
   "metadata": {},
   "outputs": [
    {
     "name": "stdout",
     "output_type": "stream",
     "text": [
      "[2, 4, 6, 8, 10, 12, 14, 16, 18, 3, 6, 9, 12, 15, 18, 21, 24, 27, 4, 8, 12, 16, 20, 24, 28, 32, 36, 5, 10, 15, 20, 25, 30, 35, 40, 45, 6, 12, 18, 24, 30, 36, 42, 48, 54, 7, 14, 21, 28, 35, 42, 49, 56, 63, 8, 16, 24, 32, 40, 48, 56, 64, 72]\n",
      "\n",
      "[2, 4, 6, 8, 10, 12, 14, 16, 18, 3, 6, 9, 12, 15, 18, 21, 24, 27, 4, 8, 12, 16, 20, 24, 28, 32, 36, 5, 10, 15, 20, 25, 30, 35, 40, 45, 6, 12, 18, 24, 30, 36, 42, 48, 54, 7, 14, 21, 28, 35, 42, 49, 56, 63, 8, 16, 24, 32, 40, 48, 56, 64, 72]\n"
     ]
    }
   ],
   "source": [
    "# 구구단의 결과값을 리스트로 저장 \n",
    "\n",
    "result = []\n",
    "for i in range(2, 9):\n",
    "    for j in range(1, 10):\n",
    "        result.append(i*j)\n",
    "print(result)   \n",
    "print()\n",
    "\n",
    "# 리스트 내포 방식으로 변환 \n",
    "result = [ i*j for i in range(2, 9) for j in range(1, 10) ]\n",
    "print(result) "
   ]
  },
  {
   "cell_type": "code",
   "execution_count": 97,
   "id": "9509fa11",
   "metadata": {},
   "outputs": [
    {
     "name": "stdout",
     "output_type": "stream",
     "text": [
      "[3, 6, 7, 9, 12, 14, 15, 18, 21, 24, 27, 28, 30, 33, 35, 36, 39, 42, 45, 48, 49]\n",
      "[3, 6, 7, 9, 12, 14, 15, 18, 21, 24, 27, 28, 30, 33, 35, 36, 39, 42, 45, 48, 49]\n"
     ]
    }
   ],
   "source": [
    "# 리스트내포 + if 문 \n",
    "# 1~50 사이의 숫자중에서 3의 배수이거나 7의 배수만 리스트로 생성 \n",
    "result = []\n",
    "for i in range(1, 51):\n",
    "    if (i%3 == 0) or (i%7 == 0):\n",
    "        result.append(i)\n",
    "print(result)   \n",
    "\n",
    "# 리스트 내포 방식으로 변환 \n",
    "result = [ i for i in range(1, 51) if (i%3 == 0) or (i%7 == 0) ]\n",
    "print(result) "
   ]
  },
  {
   "cell_type": "markdown",
   "id": "079b7b93",
   "metadata": {},
   "source": [
    "# 함수 \n",
    "\n",
    "- 매개변수 = agument = 파라미터 = 인자 \n",
    "- 반환값 return \n",
    "- 파라미터 X,  반환값 X\n",
    "- 파라미터 O,  반환값 X\n",
    "- 파라미터 O,  반환값 O"
   ]
  },
  {
   "cell_type": "code",
   "execution_count": 98,
   "id": "81025116",
   "metadata": {},
   "outputs": [
    {
     "name": "stdout",
     "output_type": "stream",
     "text": [
      "이름을 입력해주세요...홍길동\n",
      " 홍길동 고객님!!! 오늘도 좋은 하루되세요!!!\n",
      "====================\n"
     ]
    }
   ],
   "source": [
    "# 파라미터 X, 반환값 X\n",
    "# 함수 정의\n",
    "# def 함수명():\n",
    "#     명령문 \n",
    "\n",
    "# 함수 호출은?\n",
    "# 함수명()\n",
    "\n",
    "# 고객명을 입력받아서 인사말 출력하기 \n",
    "# 함수 정의 \n",
    "def hello():\n",
    "    user = input('이름을 입력해주세요...')\n",
    "    print(f' {user} 고객님!!! 오늘도 좋은 하루되세요!!!')\n",
    "    print('='*20)\n",
    "\n",
    "# 함수 호출 \n",
    "hello()"
   ]
  },
  {
   "cell_type": "code",
   "execution_count": 99,
   "id": "d948860f",
   "metadata": {},
   "outputs": [
    {
     "name": "stdout",
     "output_type": "stream",
     "text": [
      "이름을 입력해주세요...줄리아\n",
      " 줄리아 고객님!!! 오늘도 좋은 하루되세요!!!\n",
      "====================\n"
     ]
    }
   ],
   "source": [
    "hello()"
   ]
  },
  {
   "cell_type": "code",
   "execution_count": 102,
   "id": "3382ebdb",
   "metadata": {},
   "outputs": [
    {
     "name": "stdout",
     "output_type": "stream",
     "text": [
      " 10 + 3 = 13\n",
      " 10 - 3 = 7\n",
      " 10 x 3 = 30\n",
      " 10 / 3 = 3.33\n",
      "====================\n",
      " 5 + 8 = 13\n",
      " 5 - 8 = -3\n",
      " 5 x 8 = 40\n",
      " 5 / 8 = 0.62\n",
      "====================\n"
     ]
    }
   ],
   "source": [
    "# 파라미터 O, 반환값 X\n",
    "# 함수 정의\n",
    "# def 함수명(파라미터1, 파라미터2 ...):\n",
    "#     명령문 \n",
    "\n",
    "# 함수 호출은?\n",
    "# 함수명( 값1, 값2 ...)\n",
    "\n",
    "# 2개의 값을 받아서 연산자(+,-,/,*,%)를 이용하여 \n",
    "# 연산결과 출력하기\n",
    "\n",
    "# 함수 정의 \n",
    "def calc(x, y):\n",
    "    print(f' {x} + {y} = {x+y}')\n",
    "    print(f' {x} - {y} = {x-y}')\n",
    "    print(f' {x} x {y} = {x*y}')\n",
    "    print(f' {x} / {y} = {x/y:.2f}')\n",
    "    print('='*20)\n",
    "    \n",
    "# 함수 호출 \n",
    "calc(10, 3)\n",
    "calc(5, 8)"
   ]
  },
  {
   "cell_type": "code",
   "execution_count": 103,
   "id": "0b3ff074",
   "metadata": {},
   "outputs": [
    {
     "name": "stdout",
     "output_type": "stream",
     "text": [
      "\n",
      " 5 단\n",
      " 5 X 1 = 5\n",
      " 5 X 2 = 10\n",
      " 5 X 3 = 15\n",
      " 5 X 4 = 20\n",
      " 5 X 5 = 25\n",
      " 5 X 6 = 30\n",
      " 5 X 7 = 35\n",
      " 5 X 8 = 40\n",
      " 5 X 9 = 45\n",
      "\n",
      " 13 단\n",
      " 13 X 1 = 13\n",
      " 13 X 2 = 26\n",
      " 13 X 3 = 39\n",
      " 13 X 4 = 52\n",
      " 13 X 5 = 65\n",
      " 13 X 6 = 78\n",
      " 13 X 7 = 91\n",
      " 13 X 8 = 104\n",
      " 13 X 9 = 117\n"
     ]
    }
   ],
   "source": [
    "# 특정 단을 출력하는 구구단 함수를 정의한 후 호출하여라\n",
    "def gugu(n):\n",
    "    print()\n",
    "    print(f' {n} 단')\n",
    "    for i in range(1, 10):\n",
    "        print(f' {n} X {i} = {n*i}')\n",
    "\n",
    "# 구구단 호출 \n",
    "gugu(5)\n",
    "gugu(13)"
   ]
  },
  {
   "cell_type": "code",
   "execution_count": 105,
   "id": "6154209d",
   "metadata": {},
   "outputs": [
    {
     "name": "stdout",
     "output_type": "stream",
     "text": [
      "첫번째 숫자는? ㅇㅇㅎㅇㅇㅎ\n",
      "두번째 숫자는? ㅇㅎㅇㅎㅇㅎ\n"
     ]
    },
    {
     "data": {
      "text/plain": [
       "'계산 불가능'"
      ]
     },
     "execution_count": 105,
     "metadata": {},
     "output_type": "execute_result"
    }
   ],
   "source": [
    "# 파라미터 X, 반환값 O\n",
    "# 함수 정의\n",
    "# def 함수명():\n",
    "#     명령문 \n",
    "#     return 변수|값 \n",
    "\n",
    "# 함수 호출은?\n",
    "# 함수명()\n",
    "\n",
    "# 입력 데이타를 받은 후 \n",
    "# 계산식 결과 출력하기 \n",
    "def calcAdd():\n",
    "    x = input('첫번째 숫자는? ')\n",
    "    y = input('두번째 숫자는? ')\n",
    "    if x.isdigit() and y.isdigit():\n",
    "        return f' {x} + {y} = {int(x)+int(y)}'\n",
    "    else:\n",
    "        return '계산 불가능'\n",
    "\n",
    "# 함수 호출\n",
    "calcAdd()    "
   ]
  }
 ],
 "metadata": {
  "kernelspec": {
   "display_name": "Python 3 (ipykernel)",
   "language": "python",
   "name": "python3"
  },
  "language_info": {
   "codemirror_mode": {
    "name": "ipython",
    "version": 3
   },
   "file_extension": ".py",
   "mimetype": "text/x-python",
   "name": "python",
   "nbconvert_exporter": "python",
   "pygments_lexer": "ipython3",
   "version": "3.9.13"
  }
 },
 "nbformat": 4,
 "nbformat_minor": 5
}
