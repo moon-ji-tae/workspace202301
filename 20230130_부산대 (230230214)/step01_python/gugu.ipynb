{
 "cells": [
  {
   "cell_type": "code",
   "execution_count": null,
   "id": "7b0314ac",
   "metadata": {},
   "outputs": [],
   "source": [
    "# gugu.py \n",
    "# n 단 출력 함수 정의 \n",
    "def gugu_print1():\n",
    "    data = int(input('출력할 단의 숫자를 입력하세요?...'))\n",
    "    for i in range(1,10):\n",
    "        print(f'{data} X {i} = {data*i}')\n",
    "\n",
    "# 전체 구구단 출력 함수 정의 \n",
    "def gugu_print2():\n",
    "    for i in range(2,10):\n",
    "        for j in range(1,10):\n",
    "            print(f'{i} X {j} = {i*j}')"
   ]
  }
 ],
 "metadata": {
  "kernelspec": {
   "display_name": "Python 3 (ipykernel)",
   "language": "python",
   "name": "python3"
  },
  "language_info": {
   "codemirror_mode": {
    "name": "ipython",
    "version": 3
   },
   "file_extension": ".py",
   "mimetype": "text/x-python",
   "name": "python",
   "nbconvert_exporter": "python",
   "pygments_lexer": "ipython3",
   "version": "3.9.13"
  }
 },
 "nbformat": 4,
 "nbformat_minor": 5
}
