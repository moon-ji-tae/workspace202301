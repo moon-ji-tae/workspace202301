{
 "cells": [
  {
   "cell_type": "code",
   "execution_count": null,
   "id": "cbaf34a1",
   "metadata": {},
   "outputs": [],
   "source": [
    "# 로또 함수 정의 \n",
    "def make_lotto3():\n",
    "    # 1~46 개로 구성된 숫자 리스트 생성 \n",
    "    num_list = list(range(1,47))\n",
    "    # 6개 뽑기 \n",
    "    lotto_list = random.sample(num_list, 6)\n",
    "    # 숫자 정렬 \n",
    "    return print(f'이번주 로또 당첨 번호 {sorted(lotto_list)}')"
   ]
  }
 ],
 "metadata": {
  "kernelspec": {
   "display_name": "Python 3 (ipykernel)",
   "language": "python",
   "name": "python3"
  },
  "language_info": {
   "codemirror_mode": {
    "name": "ipython",
    "version": 3
   },
   "file_extension": ".py",
   "mimetype": "text/x-python",
   "name": "python",
   "nbconvert_exporter": "python",
   "pygments_lexer": "ipython3",
   "version": "3.9.13"
  }
 },
 "nbformat": 4,
 "nbformat_minor": 5
}
