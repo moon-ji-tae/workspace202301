{
 "cells": [
  {
   "cell_type": "markdown",
   "id": "576fea8c",
   "metadata": {},
   "source": [
    "# 모듈 \n",
    "\n",
    "- 모듈 = 파일\n",
    "- 기본자료형 < 그룹형(리스트, 튜플, 딕셔너리...) \n",
    "- 함수 \n",
    "- 클래스 ( 속성 + 메서드) \n",
    "\n",
    "### import \n",
    "\n",
    "- import 모듈명\n",
    "    - 모듈명.함수()\n",
    "- import 모듈명 as 별칭\n",
    "    - 별칭.함수()\n",
    "- from 모듈명 import 함수\n",
    "    - 함수()"
   ]
  },
  {
   "cell_type": "markdown",
   "id": "59df1644",
   "metadata": {},
   "source": [
    "# math "
   ]
  },
  {
   "cell_type": "code",
   "execution_count": 6,
   "id": "4c185835",
   "metadata": {},
   "outputs": [
    {
     "name": "stdout",
     "output_type": "stream",
     "text": [
      "['__doc__', '__loader__', '__name__', '__package__', '__spec__', 'acos', 'acosh', 'asin', 'asinh', 'atan', 'atan2', 'atanh', 'ceil', 'comb', 'copysign', 'cos', 'cosh', 'degrees', 'dist', 'e', 'erf', 'erfc', 'exp', 'expm1', 'fabs', 'factorial', 'floor', 'fmod', 'frexp', 'fsum', 'gamma', 'gcd', 'hypot', 'inf', 'isclose', 'isfinite', 'isinf', 'isnan', 'isqrt', 'lcm', 'ldexp', 'lgamma', 'log', 'log10', 'log1p', 'log2', 'modf', 'nan', 'nextafter', 'perm', 'pi', 'pow', 'prod', 'radians', 'remainder', 'sin', 'sinh', 'sqrt', 'tan', 'tanh', 'tau', 'trunc', 'ulp']\n"
     ]
    }
   ],
   "source": [
    "# math 모듈 임포트 \n",
    "import math\n",
    "\n",
    "# math 확인하기 \n",
    "# dir(모듈명)\n",
    "print(dir(math))"
   ]
  },
  {
   "cell_type": "code",
   "execution_count": 10,
   "id": "1f20221d",
   "metadata": {},
   "outputs": [],
   "source": [
    "# 모듈명.함수()\n",
    "math.sin?"
   ]
  },
  {
   "cell_type": "code",
   "execution_count": 12,
   "id": "052f5e36",
   "metadata": {},
   "outputs": [
    {
     "name": "stdout",
     "output_type": "stream",
     "text": [
      "0.8939966636005579\n",
      "3.141592653589793\n"
     ]
    }
   ],
   "source": [
    "print(math.sin(90))\n",
    "print(math.pi)"
   ]
  },
  {
   "cell_type": "code",
   "execution_count": 13,
   "id": "84c7739b",
   "metadata": {},
   "outputs": [
    {
     "name": "stdout",
     "output_type": "stream",
     "text": [
      "['__doc__', '__loader__', '__name__', '__package__', '__spec__', 'acos', 'acosh', 'asin', 'asinh', 'atan', 'atan2', 'atanh', 'ceil', 'comb', 'copysign', 'cos', 'cosh', 'degrees', 'dist', 'e', 'erf', 'erfc', 'exp', 'expm1', 'fabs', 'factorial', 'floor', 'fmod', 'frexp', 'fsum', 'gamma', 'gcd', 'hypot', 'inf', 'isclose', 'isfinite', 'isinf', 'isnan', 'isqrt', 'lcm', 'ldexp', 'lgamma', 'log', 'log10', 'log1p', 'log2', 'modf', 'nan', 'nextafter', 'perm', 'pi', 'pow', 'prod', 'radians', 'remainder', 'sin', 'sinh', 'sqrt', 'tan', 'tanh', 'tau', 'trunc', 'ulp']\n"
     ]
    }
   ],
   "source": [
    "# 별칭을 이용한 math 모듈 임포트 \n",
    "import math as m\n",
    "\n",
    "# dir(모듈명)\n",
    "print(dir(m))"
   ]
  },
  {
   "cell_type": "code",
   "execution_count": 14,
   "id": "0e8c088d",
   "metadata": {},
   "outputs": [
    {
     "name": "stdout",
     "output_type": "stream",
     "text": [
      "0.8939966636005579\n",
      "3.141592653589793\n"
     ]
    }
   ],
   "source": [
    "# 별칭.함수() \n",
    "print(m.sin(90))\n",
    "print(m.pi)"
   ]
  },
  {
   "cell_type": "code",
   "execution_count": 15,
   "id": "0ba13062",
   "metadata": {},
   "outputs": [],
   "source": [
    "# math 모듈에서 특정 함수 기능만 사용하기 \n",
    "from math import sin, pi"
   ]
  },
  {
   "cell_type": "code",
   "execution_count": 16,
   "id": "493551e7",
   "metadata": {},
   "outputs": [],
   "source": [
    "sin?"
   ]
  },
  {
   "cell_type": "code",
   "execution_count": 17,
   "id": "523df71d",
   "metadata": {},
   "outputs": [
    {
     "name": "stdout",
     "output_type": "stream",
     "text": [
      "0.8939966636005579\n",
      "3.141592653589793\n"
     ]
    }
   ],
   "source": [
    "# 함수명으로 사용하기 \n",
    "print(sin(90))\n",
    "print(pi)"
   ]
  },
  {
   "cell_type": "markdown",
   "id": "61025998",
   "metadata": {},
   "source": [
    "# random "
   ]
  },
  {
   "cell_type": "code",
   "execution_count": 18,
   "id": "34c39e09",
   "metadata": {},
   "outputs": [
    {
     "name": "stdout",
     "output_type": "stream",
     "text": [
      "['BPF', 'LOG4', 'NV_MAGICCONST', 'RECIP_BPF', 'Random', 'SG_MAGICCONST', 'SystemRandom', 'TWOPI', '_Sequence', '_Set', '__all__', '__builtins__', '__cached__', '__doc__', '__file__', '__loader__', '__name__', '__package__', '__spec__', '_accumulate', '_acos', '_bisect', '_ceil', '_cos', '_e', '_exp', '_floor', '_inst', '_log', '_os', '_pi', '_random', '_repeat', '_sha512', '_sin', '_sqrt', '_test', '_test_generator', '_urandom', '_warn', 'betavariate', 'choice', 'choices', 'expovariate', 'gammavariate', 'gauss', 'getrandbits', 'getstate', 'lognormvariate', 'normalvariate', 'paretovariate', 'randbytes', 'randint', 'random', 'randrange', 'sample', 'seed', 'setstate', 'shuffle', 'triangular', 'uniform', 'vonmisesvariate', 'weibullvariate']\n"
     ]
    }
   ],
   "source": [
    "# 모듈 임포트 \n",
    "import random\n",
    "\n",
    "print(dir(random))"
   ]
  },
  {
   "cell_type": "code",
   "execution_count": 20,
   "id": "927fdf27",
   "metadata": {},
   "outputs": [],
   "source": [
    "random.randrange?"
   ]
  },
  {
   "cell_type": "code",
   "execution_count": 88,
   "id": "ef7a1508",
   "metadata": {},
   "outputs": [
    {
     "name": "stdout",
     "output_type": "stream",
     "text": [
      "3\n",
      "9\n",
      "2\n",
      "0\n",
      "10\n"
     ]
    }
   ],
   "source": [
    "# 0~10 사이의 숫자중에서 무작위로 뽑기 \n",
    "print(random.randrange(11))\n",
    "print(random.randrange(11))\n",
    "print(random.randrange(11))\n",
    "print(random.randrange(11))\n",
    "print(random.randrange(11))"
   ]
  },
  {
   "cell_type": "code",
   "execution_count": null,
   "id": "12cb513e",
   "metadata": {},
   "outputs": [],
   "source": []
  }
 ],
 "metadata": {
  "kernelspec": {
   "display_name": "Python 3 (ipykernel)",
   "language": "python",
   "name": "python3"
  },
  "language_info": {
   "codemirror_mode": {
    "name": "ipython",
    "version": 3
   },
   "file_extension": ".py",
   "mimetype": "text/x-python",
   "name": "python",
   "nbconvert_exporter": "python",
   "pygments_lexer": "ipython3",
   "version": "3.9.13"
  }
 },
 "nbformat": 4,
 "nbformat_minor": 5
}
