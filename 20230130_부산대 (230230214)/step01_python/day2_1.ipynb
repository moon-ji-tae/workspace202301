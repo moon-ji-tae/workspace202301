{
 "cells": [
  {
   "cell_type": "markdown",
   "id": "3ab571a1",
   "metadata": {},
   "source": [
    "# Day1 Review\n",
    "\n",
    "- 작업환경 설정 (아나콘다 + 쥬피터노트북) \n",
    "- 주석 #\n",
    "- 출력문 print()\n",
    "- 입력문 input()\n",
    "- 산술연산자 +, -, *, **, /, //, %\n",
    "- 변수\n",
    "- 기본자료형 : 정수, 실수, 문자열, 논리형(True, False)\n",
    "- 문자열 정의, 인덱싱, 슬라이싱, 포맷팅, 문자열 함수 \n",
    "- 리스트 : CRUD 정의, 추가, 삭제, 인덱싱, 슬라이싱 "
   ]
  },
  {
   "cell_type": "markdown",
   "id": "16a08273",
   "metadata": {},
   "source": [
    "# 그룹형 자료형 \n",
    "\n",
    "- 리스트 [] CRUD\n",
    "- 딕셔너리 CUD  키워드인덱싱X  \n",
    "- 튜플 () CR U-추가 내용수정불가능 readOnly  \n",
    "- 집합 {} CUD 인덱싱X, 슬라이싱X\n"
   ]
  },
  {
   "cell_type": "markdown",
   "id": "1143720b",
   "metadata": {},
   "source": [
    "# 튜플 \n",
    "\n",
    "- 튜플 정의 \n",
    "- 인덱싱, 슬라이싱 \n",
    "- 데이타형변환 : tuple(), list(), str(), join()"
   ]
  },
  {
   "cell_type": "code",
   "execution_count": 1,
   "id": "639c0144",
   "metadata": {},
   "outputs": [
    {
     "name": "stdout",
     "output_type": "stream",
     "text": [
      "('홍길동', '고길동', '최길동') <class 'tuple'>\n",
      "('홍길동', '고길동', '최길동') <class 'tuple'>\n",
      "홍길동 <class 'str'>\n",
      "('홍길동',) <class 'tuple'>\n"
     ]
    }
   ],
   "source": [
    "# 튜플 생성 - 초기값 지정방식 \n",
    "t1 = ('홍길동', '고길동', '최길동')\n",
    "t2 = '홍길동', '고길동', '최길동' # 괄호 생략가능\n",
    "t3 = ('홍길동') # 튜플X, 문자열\n",
    "t4 = ('홍길동',) # 튜플O\n",
    "print(t1, type(t1))\n",
    "print(t2, type(t2))\n",
    "print(t3, type(t3))\n",
    "print(t4, type(t4))"
   ]
  },
  {
   "cell_type": "code",
   "execution_count": 6,
   "id": "59ae4eee",
   "metadata": {},
   "outputs": [
    {
     "name": "stdout",
     "output_type": "stream",
     "text": [
      "() <class 'tuple'> 0\n",
      "(100,) <class 'tuple'> 1\n",
      "(100, 1000, 500) <class 'tuple'> 3\n"
     ]
    }
   ],
   "source": [
    "# 튜플 생성 - 빈튜플생성후 데이타 추가\n",
    "# += 연산자 이용 \n",
    "t5 = ()\n",
    "print(t5, type(t5), len(t5))\n",
    "t5 += (100,) \n",
    "# t5 += (100) # TypeError\n",
    "print(t5, type(t5), len(t5))\n",
    "t5 += (1000, 500) \n",
    "print(t5, type(t5), len(t5))"
   ]
  },
  {
   "cell_type": "code",
   "execution_count": 9,
   "id": "c4486273",
   "metadata": {
    "scrolled": true
   },
   "outputs": [
    {
     "name": "stdout",
     "output_type": "stream",
     "text": [
      " myTuple = ('홍길동', '고길동', '최길동', '이길동', '김길동') \n",
      " 첫번째 데이타는? 홍길동 \n",
      " 마지막 데이타는? 김길동 \n",
      " 2, 3번 데이타는? ('고길동', '최길동') \n",
      " 2,4번 데이타는? ('고길동', '이길동') \n",
      " 전체튜플을 2번 출력 : ('홍길동', '고길동', '최길동', '이길동', '김길동', '홍길동', '고길동', '최길동', '이길동', '김길동') \n",
      " 전체튜플을 2번 출력 : ('홍길동', '고길동', '최길동', '이길동', '김길동', '홍길동', '고길동', '최길동', '이길동', '김길동') \n"
     ]
    }
   ],
   "source": [
    "# 튜플 인덱싱, 슬라이싱 \n",
    "# 튜플 연산자 +, *\n",
    "myTuple = ('홍길동', '고길동', \n",
    "           '최길동', '이길동', '김길동')\n",
    "print(f' myTuple = {myTuple} ')\n",
    "print(f' 첫번째 데이타는? {myTuple[0]} ')\n",
    "print(f' 마지막 데이타는? {myTuple[-1]} ')\n",
    "print(f' 2, 3번 데이타는? {myTuple[1:3]} ')\n",
    "print(f' 2,4번 데이타는? {myTuple[1::2]} ')\n",
    "print(f' 전체튜플을 2번 출력 : {myTuple+myTuple} ')\n",
    "print(f' 전체튜플을 2번 출력 : {myTuple*2} ')"
   ]
  },
  {
   "cell_type": "code",
   "execution_count": 11,
   "id": "9a9919ac",
   "metadata": {},
   "outputs": [
    {
     "name": "stdout",
     "output_type": "stream",
     "text": [
      "('최길동', '남', 4.0)\n",
      " 학생명 : 최길동\n",
      " 학생명 : 최길동\n",
      "최길동 남 4.0\n"
     ]
    }
   ],
   "source": [
    "# 튜플 구성 데이타를 변수로 설정 \n",
    "student = ( name, gender, grade ) = ( '최길동', '남', 4.0 )\n",
    "print(student)\n",
    "print(f' 학생명 : {name}')\n",
    "print(f' 학생명 : {student[0]}')\n",
    "print(name, gender, grade )"
   ]
  },
  {
   "cell_type": "code",
   "execution_count": 12,
   "id": "4c867101",
   "metadata": {},
   "outputs": [
    {
     "name": "stdout",
     "output_type": "stream",
     "text": [
      "((1, 2), (3, 4), (5, 6))\n",
      "(1, 2)\n",
      "6\n",
      "[(1, 2), (3, 4), (5, 6)] <class 'list'>\n",
      "(5, 6) <class 'tuple'>\n",
      "6 <class 'int'>\n"
     ]
    }
   ],
   "source": [
    "# 다차원 튜플 \n",
    "t1 = ( (1, 2), (3, 4), (5, 6)) # 튜플안의 튜플 \n",
    "t2 = [ (1, 2), (3, 4), (5, 6) ] # 리스트안의 튜플 \n",
    "print(t1)\n",
    "print(t1[0])\n",
    "print(t1[-1][-1]) # 마지막요소 \n",
    "print(t2, type(t2))\n",
    "print(t2[-1], type(t2[-1]))\n",
    "print(t2[-1][-1], type(t2[-1][-1]))"
   ]
  },
  {
   "cell_type": "code",
   "execution_count": 18,
   "id": "c9a041bd",
   "metadata": {},
   "outputs": [
    {
     "name": "stdout",
     "output_type": "stream",
     "text": [
      "('홍길동', '고길동', '최길동', '이길동', '김길동') <class 'tuple'>\n",
      "['홍길동', '고길동', '최길동', '이길동', '김길동'] <class 'list'>\n",
      "('홍길동', '고길동', '최길동') <class 'tuple'>\n"
     ]
    }
   ],
   "source": [
    "# 데이타형변환 : tuple(), list(), str(), join()\n",
    "myTuple1 = ('홍길동', '고길동','최길동', '이길동', '김길동')\n",
    "myTuple2 = ( 10, 20, 30 )\n",
    "print(myTuple1, type(myTuple1))\n",
    "# 리스트 변경 \n",
    "myList1 = list(myTuple1)\n",
    "print(myList1, type(myList1))\n",
    "# myList1 에서 1, 2번 데이타 추출해서 튜플로 생성 \n",
    "myTuple3 = tuple(myList1[:3])\n",
    "print(myTuple3, type(myTuple3))"
   ]
  },
  {
   "cell_type": "code",
   "execution_count": 20,
   "id": "075528ea",
   "metadata": {},
   "outputs": [
    {
     "name": "stdout",
     "output_type": "stream",
     "text": [
      "('홍', '고', '최', '이', '김') <class 'tuple'>\n",
      "('홍', '고', '최', '이', '김') <class 'str'>\n",
      "홍고최이김 <class 'str'>\n"
     ]
    }
   ],
   "source": [
    "# 튜플 => 문자열 \n",
    "myTuple1 = ('홍','고','최','이','김')\n",
    "print(myTuple1, type(myTuple1))\n",
    "myText1 = str(myTuple1)\n",
    "print(myText1, type(myText1))\n",
    "# 데이타 사이에 공백 삽입해서 문자열로 변경\n",
    "myText2 = ''.join(myTuple1)\n",
    "print(myText2, type(myText2))"
   ]
  },
  {
   "cell_type": "code",
   "execution_count": 23,
   "id": "68650137",
   "metadata": {},
   "outputs": [
    {
     "name": "stdout",
     "output_type": "stream",
     "text": [
      "102030 <class 'str'>\n"
     ]
    }
   ],
   "source": [
    "# 숫자로 구성된 튜플 \n",
    "# myTuple2 = ( 10, 20, 30 ) # TypeError \n",
    "myTuple2 = ( '10', '20', '30' )\n",
    "myText2 = ''.join(myTuple2)\n",
    "print(myText2, type(myText2))"
   ]
  },
  {
   "cell_type": "code",
   "execution_count": 27,
   "id": "80fdebcd",
   "metadata": {},
   "outputs": [
    {
     "name": "stdout",
     "output_type": "stream",
     "text": [
      " Before : ('fun-coding1', 'fun-coding2', 'fun-coding3') \n",
      "['fun-coding1', 'fun-coding2', 'fun-coding3']\n",
      "['fun-coding0', 'fun-coding1', 'fun-coding2', 'fun-coding3']\n",
      " After : ('fun-coding0', 'fun-coding1', 'fun-coding2', 'fun-coding3') \n"
     ]
    }
   ],
   "source": [
    "# 다음 튜플 데이터의 첫번째에 \n",
    "# 'fun-coding0' 데이터를 추가하여라\n",
    "tupledata = ('fun-coding1', 'fun-coding2', 'fun-coding3')\n",
    "print(f' Before : {tupledata} ')\n",
    "# 튜플 => 리스트 \n",
    "temp = list(tupledata)\n",
    "print(temp)\n",
    "# 데이타 추가 \n",
    "temp.insert(0, 'fun-coding0')\n",
    "print(temp)\n",
    "# 리스트 => 튜플 \n",
    "tupledata = tuple(temp)\n",
    "print(f' After : {tupledata} ')"
   ]
  },
  {
   "cell_type": "markdown",
   "id": "c3c00269",
   "metadata": {},
   "source": [
    "# 딕셔너리 \n",
    "\n",
    "- 정의 \n",
    "- 키인덱싱 \n",
    "- 데이타값 변경 \n",
    "- 관련함수 : values(), keys(), items()\n",
    "- 중첩구조 \n",
    "- 데이형변환 : list(), tuple(), str(), join(), dict(), enumerate()"
   ]
  },
  {
   "cell_type": "code",
   "execution_count": 35,
   "id": "03f6d11a",
   "metadata": {},
   "outputs": [
    {
     "name": "stdout",
     "output_type": "stream",
     "text": [
      "{'a': 'apart', 'c': 'cat', 's': 'side'} <class 'dict'> 3\n",
      "apart 도라지실 나라\n"
     ]
    }
   ],
   "source": [
    "# 딕셔너리 정의 - 초기값 지정방식 \n",
    "# 딕셔너리명 = {키1:값1, ...}\n",
    "dict1 = {'a':'apart', 'c':'cat', 's':'side'}\n",
    "dict2 = {101:'무궁화실', 102:'도라지실'}\n",
    "dict3 = {'가':'가로수', '나':'나라', '다':'다리미'}\n",
    "print(dict1, type(dict1), len(dict1))\n",
    "# 키값으로 데이타 출력\n",
    "print(dict1['a'], dict2[102], dict3['나'])\n",
    "# 아래는 에러 발생. 위치인덱싱 불가능 \n",
    "# print(dict1[0]) # KeyError"
   ]
  },
  {
   "cell_type": "code",
   "execution_count": 38,
   "id": "cb39c5ce",
   "metadata": {},
   "outputs": [
    {
     "name": "stdout",
     "output_type": "stream",
     "text": [
      "{} <class 'dict'> 0\n",
      "{'c1': '파이썬', 'c2': '웹수집'} <class 'dict'> 2\n",
      "{'c1': '파이썬', 'c2': '장고'} <class 'dict'> 2\n"
     ]
    }
   ],
   "source": [
    "# 딕셔너리 정의 - 빈딕셔너리 생성후 데이타 추가 \n",
    "# 딕셔너리명[키값] = 데이타값 \n",
    "# 데이타값은 중복가능, 키값은 중복 허용 X\n",
    "myDict = {}\n",
    "print(myDict, type(myDict), len(myDict))\n",
    "myDict['c1'] = '파이썬' \n",
    "myDict['c2'] = '웹수집' \n",
    "print(myDict, type(myDict), len(myDict))\n",
    "# 기존에 해당키가 있다면 데이타값이 업데이트 => 데이타값 교체\n",
    "myDict['c2'] = '장고'\n",
    "print(myDict, type(myDict), len(myDict))"
   ]
  },
  {
   "cell_type": "code",
   "execution_count": 43,
   "id": "3a6393ce",
   "metadata": {},
   "outputs": [
    {
     "name": "stdout",
     "output_type": "stream",
     "text": [
      "{'a': 'apart', 'c': 'cat', 's': 'side'} 3\n",
      "{'a': 'apart', 'c': '커피', 's': 'side'} 3\n",
      "{'a': 'apart', 'c': 'coffee', 's': 'side'} 3\n",
      "{'a': 'apart', 's': 'side'} 2\n",
      "{} 0\n"
     ]
    }
   ],
   "source": [
    "# 데이타 값 변경 update(키=값)\n",
    "# 데이타 삭제 pop(키), clear()\n",
    "dict1 = {'a':'apart', 'c':'cat', 's':'side'}\n",
    "print(dict1, len(dict1))\n",
    "dict1.update(c = '커피')\n",
    "print(dict1, len(dict1))\n",
    "dict1['c'] = 'coffee'\n",
    "print(dict1, len(dict1))\n",
    "dict1.pop('c')\n",
    "print(dict1, len(dict1))\n",
    "dict1.clear()\n",
    "print(dict1, len(dict1))"
   ]
  },
  {
   "cell_type": "code",
   "execution_count": 45,
   "id": "49f32abc",
   "metadata": {},
   "outputs": [
    {
     "name": "stdout",
     "output_type": "stream",
     "text": [
      "{'a': 'apart', 'c': 'cat', 's': 'side'} <class 'dict'>\n",
      "dict_values(['apart', 'cat', 'side']) <class 'dict_values'>\n",
      "dict_keys(['a', 'c', 's']) <class 'dict_keys'>\n",
      "dict_items([('a', 'apart'), ('c', 'cat'), ('s', 'side')]) <class 'dict_items'>\n"
     ]
    }
   ],
   "source": [
    "# 딕셔너리 관련함수 \n",
    "# values(), keys(), items()\n",
    "dict1 = {'a':'apart', 'c':'cat', 's':'side'}\n",
    "dict2 = dict1.values() # dict_values 리스트 스타일 \n",
    "dict3 = dict1.keys() # dict_keys 리스트 스타일 \n",
    "dict4 = dict1.items() # dict_items 리스트안에 튜플 스타일 \n",
    "print(dict1, type(dict1))\n",
    "print(dict2, type(dict2))\n",
    "print(dict3, type(dict3))\n",
    "print(dict4, type(dict4))"
   ]
  },
  {
   "cell_type": "code",
   "execution_count": 47,
   "id": "a6029c41",
   "metadata": {},
   "outputs": [
    {
     "name": "stdout",
     "output_type": "stream",
     "text": [
      "['a', 'c', 's'] <class 'list'>\n"
     ]
    }
   ],
   "source": [
    "# 딕셔너리에서 키값만 리스트로 만들어라 \n",
    "dict1 = {'a':'apart', 'c':'cat', 's':'side'}\n",
    "result = list(dict1.keys())\n",
    "print(result, type(result))"
   ]
  },
  {
   "cell_type": "code",
   "execution_count": 48,
   "id": "92b40030",
   "metadata": {},
   "outputs": [
    {
     "name": "stdout",
     "output_type": "stream",
     "text": [
      "{'그룹명': '아이브', '멤버': {'보컬': ['안유진', '장원영', '리즈', '이서'], '래퍼': ['가을', '레이'], '리더': '안유진'}} <class 'dict'>\n",
      "아이브 <class 'str'>\n",
      "{'보컬': ['안유진', '장원영', '리즈', '이서'], '래퍼': ['가을', '레이'], '리더': '안유진'} <class 'dict'>\n",
      "['안유진', '장원영', '리즈', '이서'] <class 'list'>\n",
      "이서 <class 'str'>\n"
     ]
    }
   ],
   "source": [
    "# 딕셔너리 중첩 구조 표현 \n",
    "idol = {\n",
    "    '그룹명' : '아이브', \n",
    "    '멤버': {\n",
    "        '보컬':['안유진', '장원영', '리즈', '이서'],\n",
    "        '래퍼':['가을', '레이'],\n",
    "        '리더':'안유진'\n",
    "    }\n",
    "}\n",
    "\n",
    "print(idol, type(idol))\n",
    "print(idol['그룹명'], type(idol['그룹명']))\n",
    "print(idol['멤버'], type(idol['멤버']))\n",
    "print(idol['멤버']['보컬'], type(idol['멤버']['보컬']))\n",
    "print(idol['멤버']['보컬'][3], type(idol['멤버']['보컬'][3]))"
   ]
  },
  {
   "cell_type": "code",
   "execution_count": 52,
   "id": "c8677b59",
   "metadata": {},
   "outputs": [
    {
     "name": "stdout",
     "output_type": "stream",
     "text": [
      "['안유진', '장원영', '리즈', '이서'] <class 'list'>\n",
      "<enumerate object at 0x0000020CF412DD40> <class 'enumerate'>\n",
      "[(0, '안유진'), (1, '장원영'), (2, '리즈'), (3, '이서')] <class 'list'>\n",
      "{0: '안유진', 1: '장원영', 2: '리즈', 3: '이서'} <class 'dict'>\n"
     ]
    }
   ],
   "source": [
    "# 데이형변환 : dict(), enumerate()\n",
    "member = ['안유진', '장원영', '리즈', '이서']\n",
    "print(member, type(member))\n",
    "# enumerate(리스트|튜플) => enumerate 객체 \n",
    "temp = enumerate(member)\n",
    "print(temp, type(temp))\n",
    "# enumerate 객체 => 리스트안의 튜플 \n",
    "temp = list(temp)\n",
    "print(temp, type(temp))\n",
    "# enumerate 객체 => 딕셔너리 \n",
    "temp = dict(temp)\n",
    "print(temp, type(temp))"
   ]
  },
  {
   "cell_type": "code",
   "execution_count": 55,
   "id": "7ea87e61",
   "metadata": {},
   "outputs": [
    {
     "name": "stdout",
     "output_type": "stream",
     "text": [
      "{'a': 'apart', 'c': 'cat', 's': 'side'}\n",
      "['apart', 'cat', 'side']\n",
      "apart , cat , side <class 'str'>\n"
     ]
    }
   ],
   "source": [
    "# 딕셔너리에서 값만 추출해서 문자열로 변경 \n",
    "# 결과 예시 : 값1 , 값2 \n",
    "dict1 = {'a':'apart', 'c':'cat', 's':'side'}\n",
    "print(dict1)\n",
    "# 값만 추출해서 리스트로 변경 \n",
    "temp = list(dict1.values())\n",
    "print(temp)\n",
    "# 리스트에서 문자열로 변경 \n",
    "temp = ' , '.join(temp)\n",
    "print(temp, type(temp))"
   ]
  },
  {
   "cell_type": "markdown",
   "id": "26dbf725",
   "metadata": {},
   "source": [
    "# 집합 \n",
    "\n",
    "- 생성 : {}, set()\n",
    "- 추가 : add(), update()\n",
    "- 연산자 |, -, &, ^\n",
    "- 관련함수 \n",
    "- 캐스팅"
   ]
  },
  {
   "cell_type": "code",
   "execution_count": 58,
   "id": "0351022f",
   "metadata": {},
   "outputs": [
    {
     "name": "stdout",
     "output_type": "stream",
     "text": [
      "{'b', 'a', 'd', 'c'} <class 'set'>\n",
      "{'side', 'cat', 'apart'} <class 'set'>\n",
      "{'나', '바', '사', '가', '마', '다', '라'} <class 'set'>\n",
      "{'c', 'a', 's'} <class 'set'>\n"
     ]
    }
   ],
   "source": [
    "# 집합 생성 - 초기값 지정방식 \n",
    "s1 = { 'a', 'b', 'c', 'd'}\n",
    "# 리스트 => 집합 \n",
    "s2 = set(['apart', 'cat', 'side'])\n",
    "# 문자열 => 집합\n",
    "s3 = set('가나다라마바사')\n",
    "# 딕셔너리 키만 => 집합\n",
    "s4 = set({'a': 'apart', 'c': 'cat', 's': 'side'})\n",
    "print(s1, type(s1))\n",
    "print(s2, type(s2))\n",
    "print(s3, type(s3))\n",
    "print(s4, type(s4))"
   ]
  },
  {
   "cell_type": "code",
   "execution_count": 60,
   "id": "3bae8b3b",
   "metadata": {},
   "outputs": [
    {
     "name": "stdout",
     "output_type": "stream",
     "text": [
      "{'side', 'cat', 'apart'} <class 'set'>\n"
     ]
    }
   ],
   "source": [
    "# 딕셔너리 값만 => 집합\n",
    "dict1 = {'a': 'apart', 'c': 'cat', 's': 'side'}\n",
    "s5 = set(dict1.values())\n",
    "print(s5, type(s5))"
   ]
  },
  {
   "cell_type": "code",
   "execution_count": 65,
   "id": "bdfea245",
   "metadata": {},
   "outputs": [
    {
     "name": "stdout",
     "output_type": "stream",
     "text": [
      "set() <class 'set'>\n",
      "{} <class 'dict'>\n",
      "{10, 20, 30} 3\n",
      "{'아', '강', 10, '지', 20, 30} 6\n",
      "{'아', '강', 10, '지', 20, '강아지', 30} 7\n",
      "{'아', '치타', '강', 10, '호랑이', '지', 20, '고양이', '강아지', 30} 10\n"
     ]
    }
   ],
   "source": [
    "# 집합 생성 - 빈 집합 생성후 데이타 추가 \n",
    "# add(), update()\n",
    "s1 = set() # 빈 집합 \n",
    "s2 = {} # 빈 딕셔너리\n",
    "print(s1, type(s1))\n",
    "print(s2, type(s2))\n",
    "# add() 를 이용한 데이타 추가 \n",
    "s1.add(10)\n",
    "s1.add(20)\n",
    "s1.add(30)\n",
    "print(s1, len(s1))\n",
    "# update() 를 이용한 데이타 추가 \n",
    "# 문자열을 데이타로 지정하면 낱글자로 집합에 추가 \n",
    "s1.update('강아지')\n",
    "print(s1, len(s1))\n",
    "# 리스트로 데이타 지정 \n",
    "s1.update(['강아지'])\n",
    "print(s1, len(s1))\n",
    "s1.update(['고양이', '치타', '호랑이'])\n",
    "print(s1, len(s1))"
   ]
  },
  {
   "cell_type": "code",
   "execution_count": 68,
   "id": "a25ac1d5",
   "metadata": {},
   "outputs": [
    {
     "name": "stdout",
     "output_type": "stream",
     "text": [
      "{'b', 'a', 'd', 'c'}\n",
      "{'b', 'a', 'd'}\n",
      "set()\n"
     ]
    }
   ],
   "source": [
    "# 데이타 삭제  \n",
    "# remove(값)\n",
    "s1 = { 'a', 'b', 'c', 'd'}\n",
    "print(s1)\n",
    "s1.remove('c')\n",
    "print(s1)\n",
    "s1.clear() # 데이타 모두 삭제\n",
    "print(s1)"
   ]
  },
  {
   "cell_type": "code",
   "execution_count": 71,
   "id": "a666d862",
   "metadata": {},
   "outputs": [
    {
     "name": "stdout",
     "output_type": "stream",
     "text": [
      "{'b', 'a', 'd', 'c'} 4\n"
     ]
    }
   ],
   "source": [
    "# 집합 특징 \n",
    "# 인덱싱, 슬라이싱 불가 \n",
    "# 중복값을 허용하지 않는다. \n",
    "s1 = { 'a', 'b', 'c', 'd', 'a', 'a', 'a'}\n",
    "print(s1, len(s1))\n",
    "# TypeError\n",
    "# print(s1[0])"
   ]
  },
  {
   "cell_type": "code",
   "execution_count": 74,
   "id": "2760714c",
   "metadata": {},
   "outputs": [
    {
     "name": "stdout",
     "output_type": "stream",
     "text": [
      " Before : {'b', 'a', 'd', 'c'}\n",
      "['b', 'a', 'd', 'c']\n",
      "['b', 'apple', 'd', 'c']\n",
      " After : {'apple', 'b', 'd', 'c'}\n"
     ]
    }
   ],
   "source": [
    "# 'a' 값을 'apple' 로 변경하여라 \n",
    "# 최종 결과값은 집합\n",
    "s1 = { 'a', 'b', 'c', 'd'}\n",
    "print(f' Before : {s1}')\n",
    "# 리스트 구조로 변경한 후 \n",
    "# 리스트명[인덱스] = 값 \n",
    "s1 = list(s1)\n",
    "print(s1)\n",
    "s1[1] = 'apple'\n",
    "print(s1)\n",
    "# 리스트 => 집합 \n",
    "s1 = set(s1)\n",
    "print(f' After : {s1}')"
   ]
  },
  {
   "cell_type": "code",
   "execution_count": 87,
   "id": "22357734",
   "metadata": {},
   "outputs": [
    {
     "name": "stdout",
     "output_type": "stream",
     "text": [
      "[5, 1, 2, 2, 3, 4, -5, 6, 7, 6, 7, 8, 9, 9, 10, 100]\n",
      "{1, 2, 3, 4, 5, 6, 7, 8, 9, 10, 100, -5} <class 'set'>\n",
      "[1, 2, 3, 4, 5, 6, 7, 8, 9, 10, 100, -5] <class 'list'>\n",
      "[-5, 1, 2, 3, 4, 5, 6, 7, 8, 9, 10, 100]\n",
      "[100, 10, 9, 8, 7, 6, 5, 4, 3, 2, 1, -5]\n"
     ]
    }
   ],
   "source": [
    "# 퀴즈 \n",
    "# number_list에서 중복 숫자를 제거한 후 \n",
    "# 내림차순 형태로 정렬하여라\n",
    "number_list = [ 5, 1, 2, 2, 3,4, -5, 6, 7, 6, \n",
    "                   7, 8, 9, 9, 10, 100 ]\n",
    "print(number_list)\n",
    "# 집합으로 변경 \n",
    "number_list = set(number_list)\n",
    "print(number_list, type(number_list))\n",
    "# 다시 리스트구조로 변경 \n",
    "number_list = list(number_list)\n",
    "print(number_list, type(number_list))\n",
    "# 역순으로 정렬 \n",
    "# print(number_list[::-1])\n",
    "number_list.sort()\n",
    "print(number_list)\n",
    "print(number_list[::-1])"
   ]
  },
  {
   "cell_type": "code",
   "execution_count": 92,
   "id": "1bc229de",
   "metadata": {},
   "outputs": [
    {
     "name": "stdout",
     "output_type": "stream",
     "text": [
      "[100, 10, 9, 9, 8, 7, 6, 7, 6, -5, 4, 3, 2, 2, 1, 5]\n",
      "[5, 1, 2, 2, 3, 4, -5, 6, 7, 6, 7, 8, 9, 9, 10, 100]\n",
      "[100, 10, 9, 9, 8, 7, 6, 7, 6, -5, 4, 3, 2, 2, 1, 5]\n"
     ]
    }
   ],
   "source": [
    "# reverse() => 역순으로 출력. 원본에 적용됨 \n",
    "number_list = [ 5, 1, 2, 2, 3, 4, -5, 6, 7, 6, \n",
    "                   7, 8, 9, 9, 10, 100 ]\n",
    "print(number_list[::-1])\n",
    "print(number_list)\n",
    "number_list.reverse()\n",
    "print(number_list)"
   ]
  },
  {
   "cell_type": "code",
   "execution_count": 95,
   "id": "6e070c50",
   "metadata": {},
   "outputs": [
    {
     "name": "stdout",
     "output_type": "stream",
     "text": [
      "{'윤', '이', '최', '박', '신', '김'} {'윤', '이', '최', '박', '신', '김'}\n",
      "{'최', '김'} {'최', '김'}\n",
      "{'윤', '박'} {'윤', '박'}\n",
      "{'이', '최', '신', '김'} {'이', '최', '신', '김'}\n"
     ]
    }
   ],
   "source": [
    "# 집합 연산자와 함수 적용\n",
    "# 연산자 |, -, &, ^\n",
    "s1 = { '김', '박', '최', '윤' } \n",
    "s2 = { '이', '박', '신', '윤' } \n",
    "print(s1|s2, s1.union(s2)) # 합집합\n",
    "print(s1-s2, s1.difference(s2)) # 차집합\n",
    "print(s1&s2, s1.intersection(s2)) # 교집합\n",
    "print(s1^s2, s1.symmetric_difference(s2)) # 여집합 "
   ]
  },
  {
   "cell_type": "code",
   "execution_count": null,
   "id": "566cfc6f",
   "metadata": {},
   "outputs": [],
   "source": []
  },
  {
   "cell_type": "code",
   "execution_count": null,
   "id": "41a7b95a",
   "metadata": {},
   "outputs": [],
   "source": []
  },
  {
   "cell_type": "code",
   "execution_count": null,
   "id": "e0733d87",
   "metadata": {},
   "outputs": [],
   "source": []
  },
  {
   "cell_type": "code",
   "execution_count": null,
   "id": "feb4ac0b",
   "metadata": {},
   "outputs": [],
   "source": []
  },
  {
   "cell_type": "code",
   "execution_count": null,
   "id": "740d4e80",
   "metadata": {},
   "outputs": [],
   "source": []
  },
  {
   "cell_type": "code",
   "execution_count": null,
   "id": "95fa262d",
   "metadata": {},
   "outputs": [],
   "source": []
  },
  {
   "cell_type": "code",
   "execution_count": null,
   "id": "dcd454ef",
   "metadata": {},
   "outputs": [],
   "source": []
  }
 ],
 "metadata": {
  "kernelspec": {
   "display_name": "Python 3 (ipykernel)",
   "language": "python",
   "name": "python3"
  },
  "language_info": {
   "codemirror_mode": {
    "name": "ipython",
    "version": 3
   },
   "file_extension": ".py",
   "mimetype": "text/x-python",
   "name": "python",
   "nbconvert_exporter": "python",
   "pygments_lexer": "ipython3",
   "version": "3.9.13"
  }
 },
 "nbformat": 4,
 "nbformat_minor": 5
}
