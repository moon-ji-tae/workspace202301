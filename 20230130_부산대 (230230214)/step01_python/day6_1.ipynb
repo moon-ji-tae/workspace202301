{
 "cells": [
  {
   "cell_type": "markdown",
   "id": "80d1cdf7",
   "metadata": {},
   "source": [
    "# Review\n",
    "\n",
    "###  함수 < 모듈(파일) < 패키지(폴더)  \n",
    "\n",
    "### 클래스 \n",
    "- OOP 객체지향 \n",
    "- 속성(변수) + 메서드(함수)\n",
    "- 설계도 \n",
    "- 인스턴스(객체) \n",
    "- 클래스변수 \n",
    "- 상속 \n",
    "- 메서드 오버라이딩 "
   ]
  },
  {
   "cell_type": "markdown",
   "id": "212ca590",
   "metadata": {},
   "source": [
    "# 시계열 데이타 \n",
    "\n",
    "- time 모듈 \n",
    "- datetime 모듈 "
   ]
  },
  {
   "cell_type": "code",
   "execution_count": 1,
   "id": "98a2e509",
   "metadata": {},
   "outputs": [
    {
     "name": "stdout",
     "output_type": "stream",
     "text": [
      "['_STRUCT_TM_ITEMS', '__doc__', '__loader__', '__name__', '__package__', '__spec__', 'altzone', 'asctime', 'ctime', 'daylight', 'get_clock_info', 'gmtime', 'localtime', 'mktime', 'monotonic', 'monotonic_ns', 'perf_counter', 'perf_counter_ns', 'process_time', 'process_time_ns', 'sleep', 'strftime', 'strptime', 'struct_time', 'thread_time', 'thread_time_ns', 'time', 'time_ns', 'timezone', 'tzname']\n"
     ]
    }
   ],
   "source": [
    "# 관련 모듈 임포트 및 스펙 확인 \n",
    "import time\n",
    "\n",
    "print(dir(time))"
   ]
  },
  {
   "cell_type": "code",
   "execution_count": 9,
   "id": "809eb653",
   "metadata": {},
   "outputs": [
    {
     "name": "stdout",
     "output_type": "stream",
     "text": [
      "1675644400.9576461\n",
      "time.struct_time(tm_year=2023, tm_mon=2, tm_mday=6, tm_hour=9, tm_min=46, tm_sec=40, tm_wday=0, tm_yday=37, tm_isdst=0)\n",
      "<class 'time.struct_time'>\n",
      "2023년 2월 6일\n",
      "9시 46분\n",
      "오늘은 월요일입니다\n",
      "37 <class 'int'>\n",
      "올해 남은 날짜는? 328입니다\n"
     ]
    }
   ],
   "source": [
    "# 현재 시간 데이타 생성 \n",
    "\n",
    "# 1970.01.01 ~ 현재 시간 => 실수형태 \n",
    "print(time.time())\n",
    "# time.time() 수치 데이타 => 년월일시분초 데이타 반환 \n",
    "print(time.localtime(time.time()))\n",
    "\n",
    "# 년월일시분초 접근 \n",
    "# tm_wday 요일 (0~6 : 월~일)\n",
    "# tm_yday 올해 누적날짜 \n",
    "# .속성으로 접근 \n",
    "today = time.localtime(time.time())\n",
    "print(type(today))\n",
    "print(f'{today.tm_year}년 {today.tm_mon}월 {today.tm_mday}일')\n",
    "print(f'{today.tm_hour}시 {today.tm_min}분')\n",
    "\n",
    "# 요일 표시 \n",
    "week_day = ['월요일','화요일','수요일','목요일','금요일',\n",
    "            '토요일','일요일']\n",
    "print(f'오늘은 {week_day[today.tm_wday]}입니다')\n",
    "\n",
    "# 누적날짜 테스트 \n",
    "print(today.tm_yday, type(today.tm_yday))\n",
    "print(f'올해 남은 날짜는? {365-today.tm_yday}일 입니다')"
   ]
  },
  {
   "cell_type": "code",
   "execution_count": 10,
   "id": "6bd52ece",
   "metadata": {},
   "outputs": [],
   "source": [
    "# time.ctime() => 월 달 일짜 시간:분:초 년도 => 문자열데이타\n",
    "time.ctime?"
   ]
  },
  {
   "cell_type": "code",
   "execution_count": 14,
   "id": "539fe918",
   "metadata": {},
   "outputs": [
    {
     "name": "stdout",
     "output_type": "stream",
     "text": [
      "Mon Feb  6 09:55:32 2023 <class 'str'>\n",
      "['Mon', 'Feb', '6', '09:55:32', '2023']\n",
      "현재 시간 : 09:55:32\n"
     ]
    }
   ],
   "source": [
    "today = time.ctime()\n",
    "print(today, type(today))\n",
    "# 공백을 기준으로 리스트화\n",
    "today_list = today.split()\n",
    "print(today_list)\n",
    "print(f'현재 시간 : {today_list[3]}')"
   ]
  },
  {
   "cell_type": "code",
   "execution_count": 17,
   "id": "e12b95a0",
   "metadata": {},
   "outputs": [
    {
     "name": "stdout",
     "output_type": "stream",
     "text": [
      "1\n",
      "2\n",
      "3\n",
      "4\n",
      "5\n",
      "6\n",
      "7\n",
      "8\n",
      "9\n",
      "10\n"
     ]
    }
   ],
   "source": [
    "# time.sleep(지연시간)\n",
    "for i in range(1, 11):\n",
    "    print(i)\n",
    "    # 지연시간 \n",
    "    time.sleep(2)"
   ]
  },
  {
   "cell_type": "code",
   "execution_count": 19,
   "id": "7e2d86d0",
   "metadata": {},
   "outputs": [],
   "source": [
    "# time.strftime(포맷터, time.localtime(time.time()))\n",
    "time.strftime?\n",
    "# %Y  Year with century as a decimal number.\n",
    "# %m  Month as a decimal number [01,12].\n",
    "# %d  Day of the month as a decimal number [01,31].\n",
    "# %H  Hour (24-hour clock) as a decimal number [00,23].\n",
    "# %M  Minute as a decimal number [00,59].\n",
    "# %S  Second as a decimal number [00,61].\n",
    "# %z  Time zone offset from UTC.\n",
    "# %a  Locale's abbreviated weekday name.\n",
    "# %A  Locale's full weekday name.\n",
    "# %b  Locale's abbreviated month name.\n",
    "# %B  Locale's full month name.\n",
    "# %c  Locale's appropriate date and time representation.\n",
    "# %I  Hour (12-hour clock) as a decimal number [01,12].\n",
    "# %p  Locale's equivalent of either AM or PM."
   ]
  },
  {
   "cell_type": "code",
   "execution_count": 24,
   "id": "757fcf1b",
   "metadata": {},
   "outputs": [
    {
     "name": "stdout",
     "output_type": "stream",
     "text": [
      "time.struct_time(tm_year=2023, tm_mon=2, tm_mday=6, tm_hour=10, tm_min=11, tm_sec=44, tm_wday=0, tm_yday=37, tm_isdst=0)\n",
      "2023 2023\n",
      "AM 10 11\n"
     ]
    }
   ],
   "source": [
    "today = time.localtime(time.time())\n",
    "print(today)\n",
    "print(today.tm_year, time.strftime('%Y',today))\n",
    "print(time.strftime('%p %I %M',today))"
   ]
  },
  {
   "cell_type": "code",
   "execution_count": 33,
   "id": "69e85d8c",
   "metadata": {},
   "outputs": [
    {
     "name": "stdout",
     "output_type": "stream",
     "text": [
      "['MAXYEAR', 'MINYEAR', '__all__', '__builtins__', '__cached__', '__doc__', '__file__', '__loader__', '__name__', '__package__', '__spec__', 'date', 'datetime', 'datetime_CAPI', 'sys', 'time', 'timedelta', 'timezone', 'tzinfo']\n",
      "\n",
      "['__class__', '__delattr__', '__dir__', '__doc__', '__eq__', '__format__', '__ge__', '__getattribute__', '__gt__', '__hash__', '__init__', '__init_subclass__', '__le__', '__lt__', '__ne__', '__new__', '__reduce__', '__reduce_ex__', '__repr__', '__setattr__', '__sizeof__', '__str__', '__subclasshook__', 'dst', 'fold', 'fromisoformat', 'hour', 'isoformat', 'max', 'microsecond', 'min', 'minute', 'replace', 'resolution', 'second', 'strftime', 'tzinfo', 'tzname', 'utcoffset']\n",
      "\n",
      "['__add__', '__class__', '__delattr__', '__dir__', '__doc__', '__eq__', '__format__', '__ge__', '__getattribute__', '__gt__', '__hash__', '__init__', '__init_subclass__', '__le__', '__lt__', '__ne__', '__new__', '__radd__', '__reduce__', '__reduce_ex__', '__repr__', '__rsub__', '__setattr__', '__sizeof__', '__str__', '__sub__', '__subclasshook__', 'astimezone', 'combine', 'ctime', 'date', 'day', 'dst', 'fold', 'fromisocalendar', 'fromisoformat', 'fromordinal', 'fromtimestamp', 'hour', 'isocalendar', 'isoformat', 'isoweekday', 'max', 'microsecond', 'min', 'minute', 'month', 'now', 'replace', 'resolution', 'second', 'strftime', 'strptime', 'time', 'timestamp', 'timetuple', 'timetz', 'today', 'toordinal', 'tzinfo', 'tzname', 'utcfromtimestamp', 'utcnow', 'utcoffset', 'utctimetuple', 'weekday', 'year']\n"
     ]
    }
   ],
   "source": [
    "# datetime 모듈 임포트 \n",
    "import datetime\n",
    "print(dir(datetime))\n",
    "print()\n",
    "print(dir(datetime.time))\n",
    "print()\n",
    "print(dir(datetime.datetime))"
   ]
  },
  {
   "cell_type": "code",
   "execution_count": 34,
   "id": "93e140b5",
   "metadata": {},
   "outputs": [
    {
     "name": "stdout",
     "output_type": "stream",
     "text": [
      "2023-02-06 10:37:17.592720 <class 'datetime.datetime'>\n"
     ]
    }
   ],
   "source": [
    "# 오늘날짜 데이타 생성 \n",
    "today = datetime.datetime.now()\n",
    "print(today, type(today))"
   ]
  },
  {
   "cell_type": "code",
   "execution_count": 35,
   "id": "be128698",
   "metadata": {},
   "outputs": [],
   "source": [
    "today?"
   ]
  },
  {
   "cell_type": "code",
   "execution_count": 37,
   "id": "ec2584e2",
   "metadata": {},
   "outputs": [
    {
     "name": "stdout",
     "output_type": "stream",
     "text": [
      "2023년 2월 6일\n"
     ]
    }
   ],
   "source": [
    "print(f'{today.year}년 {today.month}월 {today.day}일')"
   ]
  },
  {
   "cell_type": "code",
   "execution_count": 40,
   "id": "a9c109d6",
   "metadata": {},
   "outputs": [
    {
     "name": "stdout",
     "output_type": "stream",
     "text": [
      "10 45\n",
      "<class 'int'>\n"
     ]
    }
   ],
   "source": [
    "# 현재 시간을 기준으로 오전 ?? 시 ?? 분 형식으로 출력하기 \n",
    "today = datetime.datetime.now()\n",
    "print(today.hour, today.minute)\n",
    "print(type(today.hour))    "
   ]
  },
  {
   "cell_type": "code",
   "execution_count": 41,
   "id": "3dd63297",
   "metadata": {},
   "outputs": [],
   "source": [
    "def print_time():\n",
    "    today = datetime.datetime.now()\n",
    "    if today.hour < 12:\n",
    "        print(f'오전 {today.hour}시 {today.minute}분')\n",
    "    else:\n",
    "        print(f'오후 {today.hour}시 {today.minute}분')        "
   ]
  },
  {
   "cell_type": "code",
   "execution_count": 42,
   "id": "85b7e1ff",
   "metadata": {},
   "outputs": [
    {
     "name": "stdout",
     "output_type": "stream",
     "text": [
      "오전 10시 47분\n"
     ]
    }
   ],
   "source": [
    "print_time()"
   ]
  },
  {
   "cell_type": "code",
   "execution_count": 48,
   "id": "e108a941",
   "metadata": {},
   "outputs": [],
   "source": [
    "# 슬라이드 281\n",
    "# 오늘 날짜를 기준으로 봄, 여름, 가을 ,겨울 메시지 출력\n",
    "# 12, 1,2 : 겨울\n",
    "# 3~5 : 봄\n",
    "# 6~8 : 여름\n",
    "# 9~11 : 가을\n",
    "def print_season():\n",
    "    today = datetime.datetime.now()\n",
    "    \n",
    "    if today.month in [3, 4, 5] :\n",
    "#     if 3 <= today.month <=5 :\n",
    "#     if (today.month >=3) and  (today.month <= 5) :\n",
    "        print(f'{today.month}월은 봄')\n",
    "    elif today.month in [6, 7, 8] :\n",
    "        print(f'{today.month}월은 여름')\n",
    "    elif today.month in [9, 10, 11] :\n",
    "        print(f'{today.month}월은 가을')        \n",
    "    else :\n",
    "        print(f'{today.month}월은 겨울')        "
   ]
  },
  {
   "cell_type": "code",
   "execution_count": 49,
   "id": "03d6c1c3",
   "metadata": {},
   "outputs": [
    {
     "name": "stdout",
     "output_type": "stream",
     "text": [
      "2월은 겨울\n"
     ]
    }
   ],
   "source": [
    "print_season()"
   ]
  },
  {
   "cell_type": "markdown",
   "id": "05046f5f",
   "metadata": {},
   "source": [
    "# 예외처리 "
   ]
  },
  {
   "cell_type": "code",
   "execution_count": 51,
   "id": "b15209fe",
   "metadata": {},
   "outputs": [
    {
     "ename": "ZeroDivisionError",
     "evalue": "division by zero",
     "output_type": "error",
     "traceback": [
      "\u001b[1;31m---------------------------------------------------------\u001b[0m",
      "\u001b[1;31mZeroDivisionError\u001b[0m       Traceback (most recent call last)",
      "\u001b[1;32m~\\AppData\\Local\\Temp\\ipykernel_6604\\3706254765.py\u001b[0m in \u001b[0;36m<module>\u001b[1;34m\u001b[0m\n\u001b[0;32m      1\u001b[0m \u001b[1;31m# 에러 테스트\u001b[0m\u001b[1;33m\u001b[0m\u001b[1;33m\u001b[0m\u001b[0m\n\u001b[1;32m----> 2\u001b[1;33m \u001b[0mprint\u001b[0m\u001b[1;33m(\u001b[0m\u001b[1;36m12\u001b[0m\u001b[1;33m/\u001b[0m\u001b[1;36m0\u001b[0m\u001b[1;33m)\u001b[0m\u001b[1;33m\u001b[0m\u001b[1;33m\u001b[0m\u001b[0m\n\u001b[0m",
      "\u001b[1;31mZeroDivisionError\u001b[0m: division by zero"
     ]
    }
   ],
   "source": [
    "# 에러 테스트 \n",
    "# ZeroDivisionError  에러코드 \n",
    "# division by zero 에러 메세지\n",
    "print(12/0)"
   ]
  },
  {
   "cell_type": "code",
   "execution_count": 53,
   "id": "d24a2089",
   "metadata": {},
   "outputs": [
    {
     "name": "stdout",
     "output_type": "stream",
     "text": [
      "4.0\n",
      "0으로 나눌수 없다 division by zero\n",
      "예외처리 테스트 종료\n"
     ]
    }
   ],
   "source": [
    "# try:\n",
    "#     명령문 \n",
    "# except 오류코드 as e:\n",
    "#     오류처리명령 \n",
    "\n",
    "try:\n",
    "    print(12/3) \n",
    "    print(12/0) \n",
    "except ZeroDivisionError as e:\n",
    "    print('0으로 나눌수 없다', e) \n",
    "    \n",
    "print('예외처리 테스트 종료')"
   ]
  },
  {
   "cell_type": "code",
   "execution_count": 59,
   "id": "11689705",
   "metadata": {},
   "outputs": [],
   "source": [
    "# except 구문이 여러개인 경우\n",
    "\n",
    "# try:\n",
    "#     명령문 \n",
    "# except 오류코드1 as e:\n",
    "#     오류처리명령1\n",
    "# except 오류코드2 as e:\n",
    "#     오류처리명령2\n",
    "\n",
    "def calc(x, y):\n",
    "    try:\n",
    "        print(f'{x} 나누기 {y} 은(는) {x/y:.2}')\n",
    "    except ZeroDivisionError as e:\n",
    "        print('0으로 나눌수 없어요', e) \n",
    "    except TypeError as e:\n",
    "        print('잘못된 입력값입니다', e)   \n",
    "    print('테스트 종료 ')\n",
    "    print()"
   ]
  },
  {
   "cell_type": "code",
   "execution_count": 61,
   "id": "c4b80638",
   "metadata": {},
   "outputs": [
    {
     "name": "stdout",
     "output_type": "stream",
     "text": [
      "3 나누기 10 은(는) 0.3\n",
      "테스트 종료 \n",
      "\n",
      "0으로 나눌수 없어요 division by zero\n",
      "테스트 종료 \n",
      "\n",
      "잘못된 입력값입니다 unsupported operand type(s) for /: 'str' and 'int'\n",
      "테스트 종료 \n",
      "\n"
     ]
    }
   ],
   "source": [
    "calc(3, 10)\n",
    "calc(3, 0)\n",
    "calc('백', 10)"
   ]
  },
  {
   "cell_type": "code",
   "execution_count": 62,
   "id": "2935677f",
   "metadata": {},
   "outputs": [],
   "source": [
    "# TypeError 문자열/숫자 \n",
    "# print('a'/34)"
   ]
  },
  {
   "cell_type": "code",
   "execution_count": 63,
   "id": "e44a8e2b",
   "metadata": {},
   "outputs": [],
   "source": [
    "# Exception 키워드를 이용한 예외처리 \n",
    "# try:\n",
    "#     명령문 \n",
    "# except Exception as e:\n",
    "#     오류처리명령\n",
    "\n",
    "def calc2(x, y):\n",
    "    try:\n",
    "        print(f'{x} 나누기 {y} 은(는) {x/y:.2}')\n",
    "    except Exception as e:\n",
    "        print('에러 발생', e)  \n",
    "    print('테스트 종료 ')\n",
    "    print()"
   ]
  },
  {
   "cell_type": "code",
   "execution_count": 64,
   "id": "e7edfddd",
   "metadata": {},
   "outputs": [
    {
     "name": "stdout",
     "output_type": "stream",
     "text": [
      "3 나누기 10 은(는) 0.3\n",
      "테스트 종료 \n",
      "\n",
      "에러 발생 division by zero\n",
      "테스트 종료 \n",
      "\n",
      "에러 발생 unsupported operand type(s) for /: 'str' and 'int'\n",
      "테스트 종료 \n",
      "\n"
     ]
    }
   ],
   "source": [
    "calc2(3, 10)\n",
    "calc2(3, 0)\n",
    "calc2('백', 10)"
   ]
  },
  {
   "cell_type": "code",
   "execution_count": 68,
   "id": "c72e62a0",
   "metadata": {},
   "outputs": [
    {
     "name": "stdout",
     "output_type": "stream",
     "text": [
      "100\n",
      "100\n"
     ]
    }
   ],
   "source": [
    "# abs()함수 테스트 \n",
    "# 절대값함수 \n",
    "print(abs(-100))\n",
    "print(abs(100))\n",
    "# print(abs('일백')) # TypeError "
   ]
  },
  {
   "cell_type": "code",
   "execution_count": 73,
   "id": "d2ba248e",
   "metadata": {},
   "outputs": [],
   "source": [
    "# 리스트에서 숫자데이타만 추출하여 양수로 변경하기 \n",
    "def makeNumber(numList):\n",
    "    result_list = []\n",
    "    for item in numList:\n",
    "        try:\n",
    "            result_list.append(abs(item))\n",
    "        except Exception as e:\n",
    "            pass\n",
    "    return result_list"
   ]
  },
  {
   "cell_type": "code",
   "execution_count": 74,
   "id": "290118d6",
   "metadata": {},
   "outputs": [
    {
     "name": "stdout",
     "output_type": "stream",
     "text": [
      "[10, 90, 100]\n",
      "[1.3, 1, 0, 88.456, 0]\n"
     ]
    }
   ],
   "source": [
    "print(makeNumber([10, '일', '파이썬', -90, -100]))\n",
    "print(makeNumber([-1.3, True, False, '파이썬', -88.456, 0]))"
   ]
  },
  {
   "cell_type": "code",
   "execution_count": 75,
   "id": "78a47a30",
   "metadata": {},
   "outputs": [],
   "source": [
    "# try ... except... else... finally ... 이용한 예외처리 \n",
    "# try:\n",
    "#     명령문 \n",
    "# except Exception as e:\n",
    "#     오류처리명령\n",
    "# else:\n",
    "#     에러가 나지않는 경우 명령문 \n",
    "# finally:\n",
    "#     무조건 실행되는 명령문 \n",
    "\n",
    "def calc3(x, y):\n",
    "    try:\n",
    "        print(f'{x} 나누기 {y} 은(는) {x/y:.2}')\n",
    "    except Exception as e:\n",
    "        print('에러 발생', e)  \n",
    "    else:\n",
    "        print('에러가 검출되지 않음')\n",
    "    finally:\n",
    "        print('테스트 종료 ')\n",
    "        print()"
   ]
  },
  {
   "cell_type": "code",
   "execution_count": 76,
   "id": "86dbf7f2",
   "metadata": {
    "scrolled": true
   },
   "outputs": [
    {
     "name": "stdout",
     "output_type": "stream",
     "text": [
      "3 나누기 10 은(는) 0.3\n",
      "에러가 검출되지 않음\n",
      "테스트 종료 \n",
      "\n",
      "에러 발생 division by zero\n",
      "테스트 종료 \n",
      "\n",
      "에러 발생 unsupported operand type(s) for /: 'str' and 'int'\n",
      "테스트 종료 \n",
      "\n"
     ]
    }
   ],
   "source": [
    "calc3(3, 10)\n",
    "calc3(3, 0)\n",
    "calc3('백', 10)"
   ]
  },
  {
   "cell_type": "code",
   "execution_count": 80,
   "id": "fb5dd3da",
   "metadata": {},
   "outputs": [],
   "source": [
    "# 퀴즈\n",
    "# 입력된 글자가 숫자가 아니라면 에러 메세지 출력, \n",
    "# 입력된 글자가 모두 숫자라면 두 수를 더한 후 출력한다.\n",
    "def add_except():\n",
    "    try:\n",
    "        x = float(input('숫자1 입력...'))\n",
    "        y = float(input('숫자2 입력...'))\n",
    "    except Exception as e:\n",
    "        print('입력한 데이타가 숫자가 아닙니다')\n",
    "        print(f'에러메세지 : {e}')\n",
    "    else:\n",
    "        print(f'{x} + {y} = {x+y}')\n",
    "    finally:\n",
    "        print('테스트 종료')"
   ]
  },
  {
   "cell_type": "code",
   "execution_count": 81,
   "id": "7e5e95a4",
   "metadata": {},
   "outputs": [
    {
     "name": "stdout",
     "output_type": "stream",
     "text": [
      "숫자1 입력...3.14\n",
      "숫자2 입력...5.5\n",
      "3.14 + 5.5 = 8.64\n",
      "테스트 종료\n"
     ]
    }
   ],
   "source": [
    "add_except()"
   ]
  },
  {
   "cell_type": "code",
   "execution_count": 83,
   "id": "015aa878",
   "metadata": {},
   "outputs": [
    {
     "name": "stdout",
     "output_type": "stream",
     "text": [
      "데이타 =>0\n",
      "에러 발생\n"
     ]
    },
    {
     "ename": "Exception",
     "evalue": "",
     "output_type": "error",
     "traceback": [
      "\u001b[1;31m---------------------------------------------------------\u001b[0m",
      "\u001b[1;31mException\u001b[0m               Traceback (most recent call last)",
      "\u001b[1;32m~\\AppData\\Local\\Temp\\ipykernel_6604\\335742103.py\u001b[0m in \u001b[0;36m<module>\u001b[1;34m\u001b[0m\n\u001b[0;32m      7\u001b[0m \u001b[1;32mif\u001b[0m \u001b[0mdata\u001b[0m \u001b[1;33m==\u001b[0m \u001b[1;34m'0'\u001b[0m\u001b[1;33m:\u001b[0m\u001b[1;33m\u001b[0m\u001b[1;33m\u001b[0m\u001b[0m\n\u001b[0;32m      8\u001b[0m     \u001b[0mprint\u001b[0m\u001b[1;33m(\u001b[0m\u001b[1;34m'에러 발생'\u001b[0m\u001b[1;33m)\u001b[0m\u001b[1;33m\u001b[0m\u001b[1;33m\u001b[0m\u001b[0m\n\u001b[1;32m----> 9\u001b[1;33m     \u001b[1;32mraise\u001b[0m \u001b[0mException\u001b[0m\u001b[1;33m\u001b[0m\u001b[1;33m\u001b[0m\u001b[0m\n\u001b[0m\u001b[0;32m     10\u001b[0m \u001b[1;32melse\u001b[0m\u001b[1;33m:\u001b[0m\u001b[1;33m\u001b[0m\u001b[1;33m\u001b[0m\u001b[0m\n\u001b[0;32m     11\u001b[0m     \u001b[1;32mpass\u001b[0m\u001b[1;33m\u001b[0m\u001b[1;33m\u001b[0m\u001b[0m\n",
      "\u001b[1;31mException\u001b[0m: "
     ]
    }
   ],
   "source": [
    "# 사용자정의 에러 \n",
    "# if 조건식:\n",
    "#    raise Exception \n",
    "\n",
    "# 입력값이 0이면 에러발생 \n",
    "data = input('데이타 =>')\n",
    "if data == '0':\n",
    "    print('에러 발생')\n",
    "    raise Exception\n",
    "else:\n",
    "    pass"
   ]
  },
  {
   "cell_type": "code",
   "execution_count": 85,
   "id": "649703a2",
   "metadata": {},
   "outputs": [
    {
     "name": "stdout",
     "output_type": "stream",
     "text": [
      "데이타 =>45566\n",
      "에러 없음\n"
     ]
    }
   ],
   "source": [
    "# try ... except...else 에 적용 \n",
    "# 입력값이 0이면 에러발생 \n",
    "data = input('데이타 =>')\n",
    "try:\n",
    "    # 사용자정의 에러 \n",
    "    if data == '0':\n",
    "        raise Exception\n",
    "except:\n",
    "    print('에러 발생 : 입력값은 0이 될수 없음')\n",
    "else:\n",
    "    print('에러 없음')"
   ]
  },
  {
   "cell_type": "code",
   "execution_count": 91,
   "id": "aba20270",
   "metadata": {},
   "outputs": [],
   "source": [
    "# 슬라이드 295\n",
    "# 퀴즈 : 예외 처리\n",
    "# 학생의 학년을 저장하는 변수 classYear 값은 \n",
    "# 1학년, 2학년, 3학년, 4학년 이어야 한다.\n",
    "# 나머지 값은 raise Exception 을 이용하여 오류를 발생시켜라\n",
    "def class_year():\n",
    "    year_list = ['1', '2', '3', '4']\n",
    "    data = input('학년을 입력하세요(1~4)...')\n",
    "    try: # 1, 2, 3, 4 숫자가 아니라면 에러발생 \n",
    "        if data not in year_list:\n",
    "            raise Exception\n",
    "    except Exception:\n",
    "        print('에러발생 : 해당 학년은 존재하지 않습니다')\n",
    "    else:\n",
    "        print(f'Welcome {data} 학년!!!')"
   ]
  },
  {
   "cell_type": "code",
   "execution_count": 94,
   "id": "08f7dc3a",
   "metadata": {},
   "outputs": [
    {
     "name": "stdout",
     "output_type": "stream",
     "text": [
      "학년을 입력하세요(1~4)...일학년\n",
      "에러발생 : 해당 학년은 존재하지 않습니다\n"
     ]
    }
   ],
   "source": [
    "class_year()"
   ]
  },
  {
   "cell_type": "code",
   "execution_count": 95,
   "id": "84641573",
   "metadata": {},
   "outputs": [
    {
     "name": "stdout",
     "output_type": "stream",
     "text": [
      "학년을 입력하세요(1~4)...3\n",
      "Welcome 3 학년!!!\n"
     ]
    }
   ],
   "source": [
    "class_year()"
   ]
  },
  {
   "cell_type": "markdown",
   "id": "04a69f4a",
   "metadata": {},
   "source": [
    "# 파일 IO"
   ]
  },
  {
   "cell_type": "code",
   "execution_count": 98,
   "id": "8d99c097",
   "metadata": {},
   "outputs": [],
   "source": [
    "# 결과 저장 폴더 생성 \n",
    "import os \n",
    "\n",
    "# print(dir(os))"
   ]
  },
  {
   "cell_type": "code",
   "execution_count": 105,
   "id": "39a1d8a1",
   "metadata": {},
   "outputs": [],
   "source": [
    "# mkdir(폴더명)\n",
    "# output 폴더가 이미 있다면 에러 발생 FileExistsError\n",
    "# 그렇지 않다면 폴더 생성 \n",
    "\n",
    "# 폴더 생성시 에러 발생=> 예외 처리 \n",
    "try: \n",
    "    os.mkdir('output')\n",
    "except Exception:\n",
    "    pass"
   ]
  },
  {
   "cell_type": "code",
   "execution_count": 102,
   "id": "3f16fb11",
   "metadata": {},
   "outputs": [],
   "source": [
    "# output 폴더 생성 확인 "
   ]
  },
  {
   "cell_type": "code",
   "execution_count": 101,
   "id": "c59a51b9",
   "metadata": {},
   "outputs": [
    {
     "name": "stdout",
     "output_type": "stream",
     "text": [
      " C 드라이브의 볼륨에는 이름이 없습니다.\n",
      " 볼륨 일련 번호: F2CA-487A\n",
      "\n",
      " c:\\pyclass 디렉터리\n",
      "\n",
      "2023-02-06  오후 02:24    <DIR>          output\n",
      "               0개 파일                   0 바이트\n",
      "               1개 디렉터리  932,566,040,576 바이트 남음\n"
     ]
    }
   ],
   "source": [
    "ls o*"
   ]
  },
  {
   "cell_type": "markdown",
   "id": "9ad7cb64",
   "metadata": {},
   "source": [
    "### 파일쓰기"
   ]
  },
  {
   "cell_type": "code",
   "execution_count": 112,
   "id": "a83ee794",
   "metadata": {},
   "outputs": [],
   "source": [
    "# 파이썬 데이타 => 텍스트 파일 형태로 저장 \n",
    "# 1) 파일 변수 생성 \n",
    "# open(파일경로, 'w|a', encoding='utf-8')\n",
    "f = open('output/test1.txt', 'w')\n",
    "# 2) 데이타 쓰기 write()\n",
    "# \\n 줄바꿈 이스케이프 문자 \n",
    "# \\t 탭 여백 \n",
    "f.write('Hello world!!!\\n')\n",
    "f.write('\\t\\t Hello Python!!!')\n",
    "# 3) 자원반납 \n",
    "f.close()"
   ]
  },
  {
   "cell_type": "code",
   "execution_count": 110,
   "id": "8e919a98",
   "metadata": {},
   "outputs": [
    {
     "name": "stdout",
     "output_type": "stream",
     "text": [
      " C 드라이브의 볼륨에는 이름이 없습니다.\n",
      " 볼륨 일련 번호: F2CA-487A\n",
      "\n",
      " c:\\pyclass\\output 디렉터리\n",
      "\n",
      "2023-02-06  오후 02:39    <DIR>          .\n",
      "2023-02-06  오후 02:39    <DIR>          ..\n",
      "2023-02-06  오후 02:39                29 test1.txt\n",
      "               1개 파일                  29 바이트\n",
      "               2개 디렉터리  932,565,553,152 바이트 남음\n"
     ]
    }
   ],
   "source": [
    "ls output"
   ]
  },
  {
   "cell_type": "code",
   "execution_count": 118,
   "id": "5fe71a3e",
   "metadata": {},
   "outputs": [],
   "source": [
    "# 1~25 까지 숫자 파일 쓰기 \n",
    "# 1) 파일 변수 생성 \n",
    "# open(파일경로, 'w|a', encoding='utf-8')\n",
    "f = open('output/test2.txt', 'w')\n",
    "# 2) 데이타 쓰기 write()\n",
    "for i in range(1, 26):\n",
    "    # f.write(i) # TypeError\n",
    "    # f.write(str(i)+'\\n') # 문자열로 변경하고 줄바꿈 추가 \n",
    "    f.write(f'{i}\\n')\n",
    "# 3) 자원반납 \n",
    "f.close()"
   ]
  },
  {
   "cell_type": "code",
   "execution_count": 119,
   "id": "429aa26a",
   "metadata": {},
   "outputs": [],
   "source": [
    "# 'w' 모드는 기존 내용 삭제후 \n",
    "# 새로운 내용으로 대체된다. \n",
    "f = open('output/test2.txt', 'w')\n",
    "for i in range(25, 51):\n",
    "    f.write(f'{i}\\n')\n",
    "f.close()    "
   ]
  },
  {
   "cell_type": "code",
   "execution_count": 120,
   "id": "c7fe9b1d",
   "metadata": {},
   "outputs": [],
   "source": [
    "# 'a' 모드는 기존 내용이 있다면 \n",
    "# 내용 추가  \n",
    "f = open('output/test2.txt', 'a')\n",
    "for i in range(51, 76):\n",
    "    f.write(f'== {i}\\n')\n",
    "f.close()    "
   ]
  },
  {
   "cell_type": "markdown",
   "id": "5b195ff9",
   "metadata": {},
   "source": [
    "# 파일 읽기 \n",
    "\n",
    "- 데이타 준비 : 공유자료실 http://naver.me/IMpPesoF\n",
    "- 쥬피터노트북 폴더안에 data.zip 을 압축 해제\n"
   ]
  },
  {
   "cell_type": "code",
   "execution_count": 121,
   "id": "b220fab3",
   "metadata": {
    "scrolled": true
   },
   "outputs": [
    {
     "name": "stdout",
     "output_type": "stream",
     "text": [
      " C 드라이브의 볼륨에는 이름이 없습니다.\n",
      " 볼륨 일련 번호: F2CA-487A\n",
      "\n",
      " c:\\pyclass\\data 디렉터리\n",
      "\n",
      "2023-02-06  오후 03:08    <DIR>          .\n",
      "2023-02-06  오후 03:08    <DIR>          ..\n",
      "2023-02-06  오후 03:08             1,091 2018.csv\n",
      "2023-02-06  오후 03:08               163 addr.csv\n",
      "2023-02-06  오후 03:08               155 animals.json\n",
      "2023-02-06  오후 03:08               871 black.txt\n",
      "2023-02-06  오후 03:08             1,660 book_bestseller.csv\n",
      "2023-02-06  오후 03:08            12,288 bookDb.db\n",
      "2023-02-06  오후 03:08               553 bookstore.xml\n",
      "2023-02-06  오후 03:08             5,832 coding.txt\n",
      "2023-02-06  오후 03:08             5,530 color.txt\n",
      "2023-02-06  오후 03:08               665 country.xml\n",
      "2023-02-06  오후 03:08                65 csv_test.csv\n",
      "2023-02-06  오후 03:08               263 data.csv\n",
      "2023-02-06  오후 03:08                49 data_eng.txt\n",
      "2023-02-06  오후 03:08                48 data_kor.txt\n",
      "2023-02-06  오후 03:08               998 food_menu.xml\n",
      "2023-02-06  오후 03:08            83,637 gapminder.tsv\n",
      "2023-02-06  오후 03:08         4,221,195 gender.csv\n",
      "2023-02-06  오후 03:08               288 gfriend.json\n",
      "2023-02-06  오후 03:08               491 koreaTraffic.csv\n",
      "2023-02-06  오후 03:08             8,192 myDB.db\n",
      "2023-02-06  오후 03:08               546 national_anthem.txt\n",
      "2023-02-06  오후 03:08                53 person.json\n",
      "2023-02-06  오후 03:08                99 person2.json\n",
      "2023-02-06  오후 03:08             1,904 photos.json\n",
      "2023-02-06  오후 03:08             1,904 photos10.json\n",
      "2023-02-06  오후 03:08             1,165 population.csv\n",
      "2023-02-06  오후 03:08             1,097 sabun.csv\n",
      "2023-02-06  오후 03:08             8,343 sample.txt\n",
      "2023-02-06  오후 03:08            10,481 sample.xlsx\n",
      "2023-02-06  오후 03:08           884,736 test.db\n",
      "2023-02-06  오후 03:08            11,183 TrafficAccident2019.xlsx\n",
      "2023-02-06  오후 03:08             5,645 users.json\n",
      "2023-02-06  오후 03:08             9,497 white.txt\n",
      "2023-02-06  오후 03:08               685 Yesterday.txt\n",
      "              34개 파일           5,281,372 바이트\n",
      "               2개 디렉터리  932,549,799,936 바이트 남음\n"
     ]
    }
   ],
   "source": [
    "ls data"
   ]
  },
  {
   "cell_type": "code",
   "execution_count": 125,
   "id": "18b107d7",
   "metadata": {},
   "outputs": [
    {
     "name": "stdout",
     "output_type": "stream",
     "text": [
      "<class 'str'>\n",
      "(1절)\n",
      "\n"
     ]
    }
   ],
   "source": [
    "# 애국가\n",
    "# data\\national_anthem.txt\n",
    "# 텍스트 파일 = > 파이썬 데이타 \n",
    "\n",
    "# 1) 파일 변수 생성 \n",
    "# open(파일경로, 'r', encoding='utf-8')\n",
    "f = open('data/national_anthem.txt', 'r')\n",
    "# 2) 데이타 읽기 \n",
    "# read() 전체내용 | readline() 첫줄 => 텍스트 \n",
    "# readlines() => 리스트\n",
    "# data = f.read() \n",
    "data = f.readline()\n",
    "print(type(data))\n",
    "print(data)\n",
    "# 3) 자원반납 \n",
    "f.close()"
   ]
  },
  {
   "cell_type": "code",
   "execution_count": 130,
   "id": "7e0aff22",
   "metadata": {
    "scrolled": true
   },
   "outputs": [
    {
     "name": "stdout",
     "output_type": "stream",
     "text": [
      "<class 'list'>\n",
      "1 : (1절)\n",
      "2 : 동해물과 백두산이 마르고 닳도록\n",
      "3 : 하느님이 보우하사 우리나라만세\n",
      "4 : (후렴)무궁화 삼천리 화려강산 대한사람 대한으로 길이 보전하세\n",
      "5 : \n",
      "6 : (2절)\n",
      "7 : 남산위에 저 소나무 철갑을 두른듯\n",
      "8 : 바람서리 불변함은 우리기상 일세\n",
      "9 : (후렴)무궁화 삼천리 화려강산 대한사람 대한으로 길이보전하세\n",
      "10 : \n",
      "11 : (3절)\n",
      "12 : 가을하늘 공활한데 높고 구름없이 \n",
      "13 : 밝은달은 우리가슴 일편단심일세\n",
      "14 : (후렴)무궁화 삼천리 화려강산 대한사람 대한으로 길이보전하세\n",
      "15 : \n",
      "16 : (4절)\n",
      "17 : 이 기상과 이 맘으로 충성을 다하여\n",
      "18 : 괴로우나 즐거우나 나라사랑하세\n",
      "19 : (후렴)무궁화 삼천리 화려강산 대한사람 대한으로 길이보전하세\n",
      "20 : \n"
     ]
    }
   ],
   "source": [
    "# 텍스트 파일 => 줄단위의 데이타로 구성된 리스트 \n",
    "\n",
    "# 1) 파일 변수 생성 \n",
    "# open(파일경로, 'r', encoding='utf-8')\n",
    "f = open('data/national_anthem.txt', 'r')\n",
    "# 2) 데이타 읽기 \n",
    "# readlines() => 리스트\n",
    "data_list = f.readlines()\n",
    "print(type(data_list))\n",
    "count = 1\n",
    "for line in data_list:\n",
    "    print(f'{count} : {line}', end='')\n",
    "    count += 1\n",
    "# 3) 자원반납 \n",
    "f.close()"
   ]
  },
  {
   "cell_type": "code",
   "execution_count": 135,
   "id": "f87a4a56",
   "metadata": {},
   "outputs": [
    {
     "name": "stdout",
     "output_type": "stream",
     "text": [
      "['(1절)\\n', '동해물과 백두산이 마르고 닳도록\\n', '하느님이 보우하사 우리나라만세\\n', '(후렴)무궁화 삼천리 화려강산 대한사람 대한으로 길이 보전하세\\n', '\\n', '(2절)\\n', '남산위에 저 소나무 철갑을 두른듯\\n', '바람서리 불변함은 우리기상 일세\\n', '(후렴)무궁화 삼천리 화려강산 대한사람 대한으로 길이보전하세\\n', '\\n', '(3절)\\n', '가을하늘 공활한데 높고 구름없이 \\n', '밝은달은 우리가슴 일편단심일세\\n', '(후렴)무궁화 삼천리 화려강산 대한사람 대한으로 길이보전하세\\n', '\\n', '(4절)\\n', '이 기상과 이 맘으로 충성을 다하여\\n', '괴로우나 즐거우나 나라사랑하세\\n', '(후렴)무궁화 삼천리 화려강산 대한사람 대한으로 길이보전하세\\n', '\\n']\n"
     ]
    }
   ],
   "source": [
    "print(data_list)"
   ]
  },
  {
   "cell_type": "code",
   "execution_count": 134,
   "id": "1c86c737",
   "metadata": {},
   "outputs": [
    {
     "name": "stdout",
     "output_type": "stream",
     "text": [
      "1 : (1절)\n",
      "2 : 동해물과 백두산이 마르고 닳도록\n",
      "3 : 하느님이 보우하사 우리나라만세\n",
      "4 : (후렴)무궁화 삼천리 화려강산 대한사람 대한으로 길이 보전하세\n",
      "5 : (2절)\n",
      "6 : 남산위에 저 소나무 철갑을 두른듯\n",
      "7 : 바람서리 불변함은 우리기상 일세\n",
      "8 : (후렴)무궁화 삼천리 화려강산 대한사람 대한으로 길이보전하세\n",
      "9 : (3절)\n",
      "10 : 가을하늘 공활한데 높고 구름없이\n",
      "11 : 밝은달은 우리가슴 일편단심일세\n",
      "12 : (후렴)무궁화 삼천리 화려강산 대한사람 대한으로 길이보전하세\n",
      "13 : (4절)\n",
      "14 : 이 기상과 이 맘으로 충성을 다하여\n",
      "15 : 괴로우나 즐거우나 나라사랑하세\n",
      "16 : (후렴)무궁화 삼천리 화려강산 대한사람 대한으로 길이보전하세\n"
     ]
    }
   ],
   "source": [
    "# 텍스트 파일 => 줄단위의 데이타로 구성된 리스트 \n",
    "# \\n 데이타 삭제 가공 \n",
    "\n",
    "# 1) 파일 변수 생성 \n",
    "# open(파일경로, 'r', encoding='utf-8')\n",
    "f = open('data/national_anthem.txt', 'r')\n",
    "# 2) 데이타 읽기 \n",
    "# readlines() => 리스트\n",
    "data_list = f.readlines()\n",
    "\n",
    "# \\n 삭제 \n",
    "result_list = []\n",
    "for line in data_list:\n",
    "    # 빈공백줄 형태라면 \n",
    "    if line == '\\n':\n",
    "        pass\n",
    "    else:\n",
    "        result_list.append(line.strip())\n",
    "\n",
    "count = 1\n",
    "for line in result_list:\n",
    "    print(f'{count} : {line}')\n",
    "    count += 1\n",
    "# 3) 자원반납 \n",
    "f.close()"
   ]
  },
  {
   "cell_type": "markdown",
   "id": "e94b749e",
   "metadata": {},
   "source": [
    "## with 문 + 파일입출력 "
   ]
  },
  {
   "cell_type": "code",
   "execution_count": 140,
   "id": "e6efdb54",
   "metadata": {},
   "outputs": [
    {
     "name": "stdout",
     "output_type": "stream",
     "text": [
      "['67\\n', '45\\n', '95\\n', '65\\n', '45\\n', '78\\n', '87\\n', '89\\n', '100\\n', '99\\n', '98\\n', '65\\n']\n",
      "[67, 45, 95, 65, 45, 78, 87, 89, 100, 99, 98, 65]\n",
      "총점 = 933\n",
      "평균 = 77.75\n"
     ]
    }
   ],
   "source": [
    "# with open(파일경로, 'w|a|r', encoding='utf-8') as 파일변수:\n",
    "#     파일변수.write()\n",
    "#     파일변수.read()|readlines()\n",
    "\n",
    "# data_eng.txt 영어점수파일을 이용하여\n",
    "# 총점과 평균 구하기\n",
    "# 1) 파일읽기 \n",
    "with open('data/data_eng.txt', 'r') as f:\n",
    "    data_list = f.readlines()\n",
    "print(data_list)  \n",
    "# 2) 숫자형 리스트로 형변환 \n",
    "eng_list = []\n",
    "for data in data_list:\n",
    "    eng_list.append(int(data))\n",
    "print(eng_list)\n",
    "# 3) 총점과 평균 구하기 \n",
    "print(f'총점 = {sum(eng_list)}')\n",
    "print(f'평균 = {sum(eng_list)/len(eng_list):.2f}')"
   ]
  },
  {
   "cell_type": "code",
   "execution_count": 143,
   "id": "57948e68",
   "metadata": {},
   "outputs": [],
   "source": [
    "# 4) 학생 번호 , 점수 , 전체학생의 총점과 평균\n",
    "# 파일 쓰기 \n",
    "with open('output/eng_score.txt', 'w') as f:\n",
    "    for i in range(1, len(data_list)+1):\n",
    "        f.write(str(i)+'번 학생 = ' + data_list[i-1])        \n",
    "    f.write('='*20)\n",
    "    f.write(f'\\n총점 = {sum(eng_list)}')\n",
    "    f.write(f'\\n평균 = {sum(eng_list)/len(eng_list):.2f}')"
   ]
  },
  {
   "cell_type": "code",
   "execution_count": null,
   "id": "abd9f407",
   "metadata": {},
   "outputs": [],
   "source": []
  },
  {
   "cell_type": "code",
   "execution_count": null,
   "id": "41cf9d4f",
   "metadata": {},
   "outputs": [],
   "source": []
  },
  {
   "cell_type": "code",
   "execution_count": null,
   "id": "69d46a62",
   "metadata": {},
   "outputs": [],
   "source": []
  }
 ],
 "metadata": {
  "kernelspec": {
   "display_name": "Python 3 (ipykernel)",
   "language": "python",
   "name": "python3"
  },
  "language_info": {
   "codemirror_mode": {
    "name": "ipython",
    "version": 3
   },
   "file_extension": ".py",
   "mimetype": "text/x-python",
   "name": "python",
   "nbconvert_exporter": "python",
   "pygments_lexer": "ipython3",
   "version": "3.9.13"
  }
 },
 "nbformat": 4,
 "nbformat_minor": 5
}
