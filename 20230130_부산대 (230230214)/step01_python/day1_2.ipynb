{
 "cells": [
  {
   "cell_type": "markdown",
   "id": "dfd7c573",
   "metadata": {},
   "source": [
    "# 수치형 자료형"
   ]
  },
  {
   "cell_type": "code",
   "execution_count": 4,
   "id": "21cddfab",
   "metadata": {},
   "outputs": [
    {
     "name": "stdout",
     "output_type": "stream",
     "text": [
      "10 2\n",
      "2 1010\n",
      "2 a\n"
     ]
    }
   ],
   "source": [
    "# 한줄로 변수 할당 \n",
    "n1, n2 = 10, 0b10\n",
    "print(n1, n2) # 모두 10진수로 표시 \n",
    "\n",
    "# format(숫자, \"b | o | x\")\n",
    "print(n2, format(n1, \"b\"))\n",
    "print(n2, format(n1, \"x\"))"
   ]
  },
  {
   "cell_type": "markdown",
   "id": "e7515b0d",
   "metadata": {},
   "source": [
    "# 문자열 자료형 \n",
    "\n",
    "- 정의 \n",
    "- 인덱싱 \n",
    "- 슬라이싱 \n",
    "- 연산자 (+, *)\n",
    "- 포맷팅 %, format(), f''\n",
    "- 관련함수 replace(), join(), strip() ..."
   ]
  },
  {
   "cell_type": "code",
   "execution_count": 8,
   "id": "ca6f55ab",
   "metadata": {},
   "outputs": [
    {
     "name": "stdout",
     "output_type": "stream",
     "text": [
      "hello world1\n",
      "hello world2\n",
      "hello \n",
      "world3\n"
     ]
    }
   ],
   "source": [
    "txt1 = \"hello world1\"\n",
    "txt2 = 'hello world2'\n",
    "# 줄바꿈이 있는 문자열은 홑따움표나 쌍따움표 3개 이용 \n",
    "txt3 = '''hello \n",
    "world3'''\n",
    "print(txt1)\n",
    "print(txt2)\n",
    "print(txt3)"
   ]
  },
  {
   "cell_type": "code",
   "execution_count": 10,
   "id": "8e3b1f72",
   "metadata": {},
   "outputs": [
    {
     "name": "stdout",
     "output_type": "stream",
     "text": [
      "가나다라마\n",
      "가 마\n",
      "다 다\n"
     ]
    }
   ],
   "source": [
    "# 문자열 인덱싱 \n",
    "# 문자열변수[위치값]\n",
    "# 위치값은 0부터 시작. 음수값인 경우에는 마지막부터 -숫자\n",
    "txt = '가나다라마'\n",
    "print(txt)\n",
    "print(txt[0], txt[-1])\n",
    "print(txt[2], txt[-3])"
   ]
  },
  {
   "cell_type": "code",
   "execution_count": 15,
   "id": "8f84910f",
   "metadata": {},
   "outputs": [
    {
     "name": "stdout",
     "output_type": "stream",
     "text": [
      "012\n",
      "012\n",
      "3456789\n",
      "9876543210\n",
      "97531\n",
      "02468\n",
      "13579\n",
      "789\n",
      "\n",
      "34\n"
     ]
    }
   ],
   "source": [
    "# 문자열 슬라이싱 \n",
    "# 문자열변수[start:end:step]\n",
    "sample = \"0123456789\"\n",
    "print(sample[0:3])\n",
    "print(sample[:3])\n",
    "print(sample[3:])\n",
    "print(sample[::-1]) # 역순\n",
    "print(sample[::-2])\n",
    "print(sample[::2]) # 홀수번째 인덱스\n",
    "print(sample[1::2]) # 짝수번째 인덱스 \n",
    "print(sample[-3:])\n",
    "print(sample[-5:-7]) # 결과값없음 \n",
    "print(sample[-7:-5]) "
   ]
  },
  {
   "cell_type": "code",
   "execution_count": 18,
   "id": "509c353f",
   "metadata": {},
   "outputs": [
    {
     "name": "stdout",
     "output_type": "stream",
     "text": [
      "PythonPythonPython\n",
      "Python*장고\n"
     ]
    }
   ],
   "source": [
    "# 문자열 연산자 \n",
    "# + 연결, * 반복 \n",
    "t1 = 'Python'\n",
    "t2 = '장고'\n",
    "print(t1*3)\n",
    "print(t1+'*'+t2)\n",
    "# print(t1-t2) # TypeError  "
   ]
  },
  {
   "cell_type": "markdown",
   "id": "b76075d2",
   "metadata": {},
   "source": [
    "# 퀴즈\n",
    "\n",
    "홍길동씨의 주민등록번호는 881120-1068234 이다.\n",
    "주민등록번호를 변수로 정의한 후 다음과 같이 출력하여라"
   ]
  },
  {
   "cell_type": "code",
   "execution_count": 30,
   "id": "4aeee5f0",
   "metadata": {},
   "outputs": [
    {
     "name": "stdout",
     "output_type": "stream",
     "text": [
      "연월일 :  881120 881120 881120\n",
      "숫자 :  1068234 1068234\n",
      "881120-*******\n"
     ]
    }
   ],
   "source": [
    "jumin = '881120-1068234'\n",
    "print('연월일 : ', jumin[0:6], jumin[:6], jumin[:-8])\n",
    "print('숫자 : ', jumin[7:], jumin[-7:])\n",
    "jumin2 = jumin[:7] + '*'*7\n",
    "print(jumin2)"
   ]
  },
  {
   "cell_type": "code",
   "execution_count": 36,
   "id": "aa0dccc1",
   "metadata": {},
   "outputs": [
    {
     "name": "stdout",
     "output_type": "stream",
     "text": [
      "학생명 : 홍길동 , 나이 : 25, 키 : 180.123457\n",
      "학생명 : 홍길동 , 나이 : 25 살, 키 : 180.12 cm\n",
      "학생명 : 홍길동 , 나이 : 25 살, 키 : 180.12 cm\n"
     ]
    }
   ],
   "source": [
    "# 문자열 포맷팅 - %  서식자 \n",
    "# %s 문자열, %d 정수, %전체자릿수.소숫점이하자릿수f\n",
    "name = '홍길동'\n",
    "age = 25 \n",
    "height = 180.12345678\n",
    "print('학생명 : %s , 나이 : %d, 키 : %f' % (name, age, height))\n",
    "print('학생명 : %s , 나이 : %d 살, 키 : %.2f cm' % (name, age, height))\n",
    "# 포맷팅 값을 새로운 변수로 할당 \n",
    "student_info = '학생명 : %s , 나이 : %d 살, 키 : %.2f cm' % (name, age, height)\n",
    "print(student_info)"
   ]
  },
  {
   "cell_type": "code",
   "execution_count": 38,
   "id": "b34d53d6",
   "metadata": {},
   "outputs": [
    {
     "name": "stdout",
     "output_type": "stream",
     "text": [
      "학생명 : 홍길동 , 나이 : 25, 키 : 180.12 cm\n"
     ]
    }
   ],
   "source": [
    "# 문자열 포맷팅 - format()\n",
    "# {인덱스:서식자} . format(변수1, 변수2 ....1)\n",
    "# 서식자는 s, d, 전체자릿수.소숫점이하자릿수f\n",
    "name = '홍길동'\n",
    "age = 25 \n",
    "height = 180.12345678\n",
    "print('학생명 : {} , 나이 : {}, 키 : {:.2f} cm'.format(name, age, height))"
   ]
  },
  {
   "cell_type": "code",
   "execution_count": 39,
   "id": "b050c4c8",
   "metadata": {},
   "outputs": [
    {
     "name": "stdout",
     "output_type": "stream",
     "text": [
      "학생명 : 홍길동 , 나이 : 25, 키 : 180.12 cm\n"
     ]
    }
   ],
   "source": [
    "# 문자열 포맷팅 - f''\n",
    "# f' {변수}'\n",
    "# f' {실수변수:전체자릿수.소숫점이하자릿수f}'\n",
    "name = '홍길동'\n",
    "age = 25 \n",
    "height = 180.12345678\n",
    "print(f'학생명 : {name} , 나이 : {age}, 키 : {height:.2f} cm')"
   ]
  },
  {
   "cell_type": "code",
   "execution_count": 45,
   "id": "673360ca",
   "metadata": {},
   "outputs": [
    {
     "name": "stdout",
     "output_type": "stream",
     "text": [
      "$$$홍길동$$$\n",
      "$$$       홍길동$$$\n",
      "$$$홍길동       $$$\n",
      "$$$   홍길동    $$$\n",
      "$$$!!!홍길동!!!!$$$\n"
     ]
    }
   ],
   "source": [
    "# >, <, ^ 사용\n",
    "name = '홍길동'\n",
    "print(f'$$${name}$$$')\n",
    "print(f'$$${name:>10}$$$')\n",
    "print(f'$$${name:<10}$$$')\n",
    "print(f'$$${name:^10}$$$')\n",
    "print(f'$$${name:!^10}$$$')"
   ]
  },
  {
   "cell_type": "code",
   "execution_count": 46,
   "id": "78238cfc",
   "metadata": {},
   "outputs": [],
   "source": [
    "# 퀴즈 \n",
    "# 홍길동 씨의 과목별 점수를 이용하여 평균 점수를 \n",
    "# 소숫점 둘째자리까지\n",
    "# 출력하여라"
   ]
  },
  {
   "cell_type": "code",
   "execution_count": 54,
   "id": "d9418bf6",
   "metadata": {},
   "outputs": [
    {
     "name": "stdout",
     "output_type": "stream",
     "text": [
      "국어 : 86         수학 : 77         영어 : 55        \n",
      "평균 : 72.67\n"
     ]
    }
   ],
   "source": [
    "kor = 86\n",
    "math = 77 \n",
    "eng = 55\n",
    "print(f'국어 : {kor:<10} 수학 : {math:<10} 영어 : {eng:<10}')\n",
    "print(f'평균 : {(kor+math+eng)/3:.2f}')"
   ]
  },
  {
   "cell_type": "markdown",
   "id": "06da5d55",
   "metadata": {},
   "source": [
    "## 문자열 함수 \n",
    "\n",
    "- 문자열변수.함수명(옵션)\n",
    "- count()\n",
    "- upper()\n",
    "- replace()\n",
    "- strip() \n",
    "- join()"
   ]
  },
  {
   "cell_type": "code",
   "execution_count": 55,
   "id": "9c73cf9a",
   "metadata": {},
   "outputs": [],
   "source": [
    "# 샘플 텍스트 문단 변수 생성 \n",
    "# https://www.lipsum.com\n",
    "sample = '''\n",
    "Lorem Ipsum is simply dummy text of the printing \n",
    "and typesetting industry. \n",
    "Lorem Ipsum has been the industry's \n",
    "standard dummy text ever since the 1500s, \n",
    "when an unknown printer took a galley of type \n",
    "and scrambled it to make a type specimen book. \n",
    "It has survived not only five centuries, \n",
    "but also the leap into electronic typesetting, \n",
    "remaining essentially unchanged. \n",
    "It was popularised in the 1960s with \n",
    "the release of Letraset sheets containing \n",
    "Lorem Ipsum passages, and more recently \n",
    "with desktop publishing software \n",
    "like Aldus PageMaker including versions of Lorem Ipsum.\n",
    "'''"
   ]
  },
  {
   "cell_type": "code",
   "execution_count": 60,
   "id": "915cd980",
   "metadata": {
    "scrolled": true
   },
   "outputs": [
    {
     "name": "stdout",
     "output_type": "stream",
     "text": [
      "\n",
      "LOREM IPSUM IS SIMPLY DUMMY TEXT OF THE PRINTING \n",
      "AND TYPESETTING INDUSTRY. \n",
      "LOREM IPSUM HAS BEEN THE INDUSTRY'S \n",
      "STANDARD DUMMY TEXT EVER SINCE THE 1500S, \n",
      "WHEN AN UNKNOWN PRINTER TOOK A GALLEY OF TYPE \n",
      "AND SCRAMBLED IT TO MAKE A TYPE SPECIMEN BOOK. \n",
      "IT HAS SURVIVED NOT ONLY FIVE CENTURIES, \n",
      "BUT ALSO THE LEAP INTO ELECTRONIC TYPESETTING, \n",
      "REMAINING ESSENTIALLY UNCHANGED. \n",
      "IT WAS POPULARISED IN THE 1960S WITH \n",
      "THE RELEASE OF LETRASET SHEETS CONTAINING \n",
      "LOREM IPSUM PASSAGES, AND MORE RECENTLY \n",
      "WITH DESKTOP PUBLISHING SOFTWARE \n",
      "LIKE ALDUS PAGEMAKER INCLUDING VERSIONS OF LOREM IPSUM.\n",
      "\n"
     ]
    }
   ],
   "source": [
    "# 모두 대문자로 변환 \n",
    "print(sample.upper())"
   ]
  },
  {
   "cell_type": "code",
   "execution_count": 61,
   "id": "a118489e",
   "metadata": {},
   "outputs": [
    {
     "name": "stdout",
     "output_type": "stream",
     "text": [
      "\n",
      "Lorem Ipsum was simply dummy text of the printing \n",
      "and typesetting industry. \n",
      "Lorem Ipsum has been the industry's \n",
      "standard dummy text ever since the 1500s, \n",
      "when an unknown printer took a galley of type \n",
      "and scrambled it to make a type specimen book. \n",
      "It has survived not only five centuries, \n",
      "but also the leap into electronic typesetting, \n",
      "remaining essentially unchanged. \n",
      "It was popularwased in the 1960s with \n",
      "the release of Letraset sheets containing \n",
      "Lorem Ipsum passages, and more recently \n",
      "with desktop publwashing software \n",
      "like Aldus PageMaker including versions of Lorem Ipsum.\n",
      "\n"
     ]
    }
   ],
   "source": [
    "# replace(old, new)\n",
    "# 도우미 기능은 [shift] + [tab]\n",
    "print(sample.replace('is', 'was'))"
   ]
  },
  {
   "cell_type": "code",
   "execution_count": 68,
   "id": "ef04d8f0",
   "metadata": {},
   "outputs": [
    {
     "name": "stdout",
     "output_type": "stream",
     "text": [
      "$$$   파  이  썬   $$$\n",
      "$$$파  이  썬$$$\n",
      "$$$파이썬$$$\n"
     ]
    }
   ],
   "source": [
    "# 여백 제거 strip()\n",
    "txt = \"   파  이  썬   \"\n",
    "print(f'$$${txt}$$$')\n",
    "print(f'$$${txt.strip()}$$$')\n",
    "print(f'$$${txt.replace(\" \", \"\")}$$$')"
   ]
  },
  {
   "cell_type": "code",
   "execution_count": 69,
   "id": "36cae7cc",
   "metadata": {},
   "outputs": [
    {
     "name": "stdout",
     "output_type": "stream",
     "text": [
      "파 , 이 , 썬\n"
     ]
    }
   ],
   "source": [
    "# 대체문자.join(문자열변수|리스트|튜플)\n",
    "txt = \"파이썬\"\n",
    "print(' , '.join(txt))"
   ]
  },
  {
   "cell_type": "markdown",
   "id": "0a7b025a",
   "metadata": {},
   "source": [
    "# 리스트 \n",
    "\n",
    "- 선언 Create\n",
    "- 인덱싱  Read\n",
    "- 슬라이싱 Read\n",
    "- 리스트함수 : 추가, 삭제  Update, Detele\n",
    "- 형변환 "
   ]
  },
  {
   "cell_type": "code",
   "execution_count": 71,
   "id": "f89f0c7e",
   "metadata": {},
   "outputs": [
    {
     "name": "stdout",
     "output_type": "stream",
     "text": [
      "[10, 20, 3.14, True, False, '파이썬']\n",
      "<class 'list'>\n",
      "6\n"
     ]
    }
   ],
   "source": [
    "# 리스트 선언1 - 초기값 설정 방식 \n",
    "# 리스트명 = [ 값1, 값2 .... ]\n",
    "myList = [10, 20, 3.14, True, False, '파이썬']\n",
    "print(myList)\n",
    "print(type(myList)) # 자료형 확인 \n",
    "print(len(myList)) # 자료형의 길이 확인 "
   ]
  },
  {
   "cell_type": "code",
   "execution_count": 79,
   "id": "5e139d6b",
   "metadata": {},
   "outputs": [
    {
     "name": "stdout",
     "output_type": "stream",
     "text": [
      "[] 0\n",
      "[100, 200] 2\n",
      "['파이썬', 100, 200] 3\n",
      "['파이썬', 100, 200, True, False] 5\n",
      "['파이썬', 100, 200, True, False, [True, False]] 6\n"
     ]
    }
   ],
   "source": [
    "# 리스트 선언2 \n",
    "# 빈리스트 생성후 \n",
    "# append(), insert(), extend(리스트) 데이타 추가\n",
    "# insert(인덱스, 값)\n",
    "myList = []\n",
    "print(myList, len(myList))\n",
    "myList.append(100)\n",
    "myList.append(200)\n",
    "print(myList, len(myList))\n",
    "myList.insert(0, '파이썬')\n",
    "print(myList, len(myList))\n",
    "# 여러개의 리스트를 맨뒤에 추가 \n",
    "myList.extend([True, False])\n",
    "print(myList, len(myList))\n",
    "# 리스트안에 리스트가 삽입 \n",
    "myList.append([True, False])\n",
    "print(myList, len(myList))"
   ]
  },
  {
   "cell_type": "code",
   "execution_count": 88,
   "id": "fd92926b",
   "metadata": {},
   "outputs": [
    {
     "name": "stdout",
     "output_type": "stream",
     "text": [
      "[10, 20, 30, 40, 50, 'Python']\n",
      "10 Python\n",
      "[20, 30] [30, 40]\n",
      "['Python', 50, 40, 30, 20, 10]\n",
      "[20, 40, 'Python']\n",
      "n\n"
     ]
    }
   ],
   "source": [
    "# 리스트 인덱싱과 슬라이싱 \n",
    "myList = [10, 20, 30, 40, 50, 'Python']\n",
    "print(myList)\n",
    "print(myList[0], myList[-1])\n",
    "print(myList[1:3], myList[-4:-2])\n",
    "print(myList[::-1]) # 역순\n",
    "print(myList[1::2]) # 짝수번째 \n",
    "# 마지막 인덱스에 해당하는 문자열에서 마지막 문자 \n",
    "print(myList[-1][-1]) "
   ]
  },
  {
   "cell_type": "code",
   "execution_count": 95,
   "id": "6852e368",
   "metadata": {},
   "outputs": [
    {
     "name": "stdout",
     "output_type": "stream",
     "text": [
      "[10, 20, 30, 40, 30, 50] 6\n",
      "[10, 20, 30, 40, 30] 5\n",
      "[20, 30, 40, 30] 4\n",
      "[20, 40, 30] 3\n",
      "[] 0\n"
     ]
    }
   ],
   "source": [
    "# 삭제 \n",
    "# pop() 마지막 요소 삭제 \n",
    "# pop(인덱스) 인덱스위치값에 해당하는 요소 삭제 \n",
    "# remove(값) : 해당값을 리스트에서 삭제 \n",
    "# clear() : 모든 요소 삭제 \n",
    "myList = [10, 20, 30, 40, 30, 50]\n",
    "print(myList, len(myList))\n",
    "myList.pop()\n",
    "print(myList, len(myList))\n",
    "myList.pop(0)\n",
    "print(myList, len(myList))\n",
    "myList.remove(30)\n",
    "print(myList, len(myList))\n",
    "myList.clear()\n",
    "print(myList, len(myList))"
   ]
  },
  {
   "cell_type": "code",
   "execution_count": 98,
   "id": "7429c2d9",
   "metadata": {},
   "outputs": [
    {
     "name": "stdout",
     "output_type": "stream",
     "text": [
      "[100, 10, 3000, 30, 50]\n",
      "[10, 30, 50, 100, 3000]\n"
     ]
    }
   ],
   "source": [
    "# 정렬 \n",
    "myList = [100, 10, 3000, 30, 50]\n",
    "print(myList)\n",
    "# sort() 함수는 print() 문안에서는 사용하지 않음 \n",
    "# print(myList.sort()) # None\n",
    "myList.sort()\n",
    "print(myList)"
   ]
  },
  {
   "cell_type": "code",
   "execution_count": 99,
   "id": "12b84f77",
   "metadata": {},
   "outputs": [],
   "source": [
    "# 퀴즈 \n",
    "# 데이터를 입력받은 후 리스트에 추가하고 결과를 출력하여라.\n",
    "# ( input() 이용, 리스트의 원소는 5개로 한다. )"
   ]
  },
  {
   "cell_type": "code",
   "execution_count": 103,
   "id": "99cad896",
   "metadata": {},
   "outputs": [
    {
     "name": "stdout",
     "output_type": "stream",
     "text": [
      "좋아하는 음식은? ...초밥\n",
      "최근 본 영화는? ...아바타\n",
      "좋아하는 가수는? ...BTS\n",
      "좋아하는 숫자? ...11\n",
      "최근 여행지? ...부산\n",
      "당신에 관한 리스트 : ['초밥', '아바타', 'BTS', '11', '부산'] \n"
     ]
    }
   ],
   "source": [
    "myList = [] # 빈리스트 생성\n",
    "\n",
    "item = input('좋아하는 음식은? ...') # 데이타 입력받기\n",
    "myList.append(item) # 데이타 추가 \n",
    "\n",
    "myList.append(input('최근 본 영화는? ...'))\n",
    "myList.append(input('좋아하는 가수는? ...'))\n",
    "myList.append(input('좋아하는 숫자? ...'))\n",
    "myList.append(input('최근 여행지? ...'))\n",
    "\n",
    "print(f'당신에 관한 리스트 : {myList} ') # 리스트 출력 "
   ]
  },
  {
   "cell_type": "code",
   "execution_count": 107,
   "id": "c3e5ea66",
   "metadata": {},
   "outputs": [],
   "source": [
    "# 주석 단축키 [ctrl] + [/]\n",
    "# 퀴즈 \n",
    "# 태어난 년도를 입력받은 후 태어난 년도에 대한 띠를 출력한다\n",
    "# 태어난 년도를 12로 나눈후 나머지를 구한다. 나머지에 \n",
    "# 따라서 띠를 출력한다.\n",
    "# 띠 = 태어난년도%12\n",
    "# 원숭이, 닭, 개, 돼지, 쥐, 소, 범, 토끼, 용, 뱀, 말, 양 (0 ........ 11)"
   ]
  },
  {
   "cell_type": "code",
   "execution_count": 111,
   "id": "0a62d46a",
   "metadata": {},
   "outputs": [
    {
     "name": "stdout",
     "output_type": "stream",
     "text": [
      "태어난 년도는? ...2023\n",
      "2023 <class 'str'>\n",
      "2023 <class 'int'>\n",
      " 2023 년도생은 토끼 띠입니다\n"
     ]
    }
   ],
   "source": [
    "# 띠 리스트 생성 \n",
    "animal = ['원숭이', '닭', '개', '돼지', \n",
    "          '쥐', '소', '범', '토끼', '용', '뱀','말', '양']\n",
    "\n",
    "# 년도 입력받기 \n",
    "year = input('태어난 년도는? ...')\n",
    "print(year, type(year))\n",
    "\n",
    "# 숫자로 형변환 \n",
    "# int(), float()\n",
    "year = int(year)\n",
    "print(year, type(year))\n",
    "\n",
    "# 년도에 해당하는 띠의 인덱스값 구하기 \n",
    "target = year%12\n",
    "\n",
    "# 출력하기 \n",
    "print(f' {year} 년도생은 {animal[target]} 띠입니다')"
   ]
  },
  {
   "cell_type": "markdown",
   "id": "55286bd0",
   "metadata": {},
   "source": [
    "# 다차원 리스트"
   ]
  },
  {
   "cell_type": "code",
   "execution_count": 116,
   "id": "8ab019f9",
   "metadata": {},
   "outputs": [
    {
     "name": "stdout",
     "output_type": "stream",
     "text": [
      "['PYTHON', [1, 2, 3, 4], [100, 200]] 3\n",
      "PYTHON 6\n",
      "[1, 2, 3, 4] 4 2\n",
      "[100, 200] 2 200\n"
     ]
    }
   ],
   "source": [
    "myList = [ 'PYTHON',\n",
    "            [1, 2, 3, 4], \n",
    "            [100, 200]\n",
    "         ]\n",
    "print(myList, len(myList))\n",
    "print(myList[0], len(myList[0]))\n",
    "print(myList[1], len(myList[1]), myList[1][1] )\n",
    "print(myList[2], len(myList[2]), myList[2][-1] )"
   ]
  },
  {
   "cell_type": "code",
   "execution_count": 119,
   "id": "e86ffcbc",
   "metadata": {},
   "outputs": [
    {
     "name": "stdout",
     "output_type": "stream",
     "text": [
      "[[100, 80, 85], [55, 70, 35], [80, 80, 100]]\n",
      " 국어 총점 : 265, 국어 평균 : 88.33\n"
     ]
    }
   ],
   "source": [
    "# 1차원리스트를 이용해서 2차원리스트로 생성 \n",
    "kor = [100, 80, 85]\n",
    "math = [55, 70, 35]\n",
    "eng = [80, 80, 100]\n",
    "grade = [kor, math, eng]\n",
    "print(grade)\n",
    "# grade 리스트 기준으로 국어 점수의 합계와 평균 구하기 \n",
    "kor_tot = grade[0][0] + grade[0][1] + grade[0][2]\n",
    "print(f' 국어 총점 : {kor_tot}, 국어 평균 : {kor_tot/3:.2f}')"
   ]
  },
  {
   "cell_type": "code",
   "execution_count": null,
   "id": "929c1118",
   "metadata": {},
   "outputs": [],
   "source": []
  },
  {
   "cell_type": "code",
   "execution_count": null,
   "id": "8874808d",
   "metadata": {},
   "outputs": [],
   "source": []
  },
  {
   "cell_type": "code",
   "execution_count": null,
   "id": "af101c21",
   "metadata": {},
   "outputs": [],
   "source": []
  },
  {
   "cell_type": "code",
   "execution_count": null,
   "id": "d950b3e4",
   "metadata": {},
   "outputs": [],
   "source": []
  }
 ],
 "metadata": {
  "kernelspec": {
   "display_name": "Python 3 (ipykernel)",
   "language": "python",
   "name": "python3"
  },
  "language_info": {
   "codemirror_mode": {
    "name": "ipython",
    "version": 3
   },
   "file_extension": ".py",
   "mimetype": "text/x-python",
   "name": "python",
   "nbconvert_exporter": "python",
   "pygments_lexer": "ipython3",
   "version": "3.9.13"
  }
 },
 "nbformat": 4,
 "nbformat_minor": 5
}
