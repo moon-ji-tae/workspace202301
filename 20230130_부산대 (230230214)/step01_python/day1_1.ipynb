{
 "cells": [
  {
   "cell_type": "code",
   "execution_count": 7,
   "id": "a78c2af3",
   "metadata": {},
   "outputs": [
    {
     "name": "stdout",
     "output_type": "stream",
     "text": [
      "Hello world\n"
     ]
    }
   ],
   "source": [
    "print(\"Hello world\")"
   ]
  },
  {
   "cell_type": "code",
   "execution_count": 9,
   "id": "06f4df13",
   "metadata": {},
   "outputs": [
    {
     "name": "stdout",
     "output_type": "stream",
     "text": [
      "190\n"
     ]
    }
   ],
   "source": [
    "print(34+56+100)"
   ]
  },
  {
   "cell_type": "code",
   "execution_count": 10,
   "id": "dff86b1b",
   "metadata": {},
   "outputs": [
    {
     "data": {
      "text/plain": [
       "190"
      ]
     },
     "execution_count": 10,
     "metadata": {},
     "output_type": "execute_result"
    }
   ],
   "source": [
    "34+56+100"
   ]
  },
  {
   "cell_type": "code",
   "execution_count": 12,
   "id": "8b3afd80",
   "metadata": {},
   "outputs": [
    {
     "data": {
      "text/plain": [
       "-74"
      ]
     },
     "execution_count": 12,
     "metadata": {},
     "output_type": "execute_result"
    }
   ],
   "source": [
    "34+56+100\n",
    "56+70-200"
   ]
  },
  {
   "cell_type": "code",
   "execution_count": 15,
   "id": "477574ca",
   "metadata": {},
   "outputs": [
    {
     "name": "stdout",
     "output_type": "stream",
     "text": [
      "190\n",
      "-74\n"
     ]
    }
   ],
   "source": [
    "# 2줄 이상의 명령을 실행할 경우에는 print() 생략 불가능 \n",
    "print(34+56+100)\n",
    "print(56+70-200)"
   ]
  },
  {
   "cell_type": "markdown",
   "id": "98d11a3d",
   "metadata": {},
   "source": [
    "# 마크다운 모드의 제목달기 \n",
    "\n",
    "## 단축키는 마크다운모드인 경우 m, 파이썬 코딩은 y\n",
    "\n",
    "###  목록 문단 만들기 \n",
    "\n",
    "- 파이썬 주석\n",
    "- 출력문\n",
    "- 입력문 \n",
    "- 문자열\n",
    "\n",
    "### html 태그 입력 가능 \n",
    "\n",
    "<a href='http://google.com'> 구글 사이트로 가기 </a>\n"
   ]
  },
  {
   "cell_type": "code",
   "execution_count": 19,
   "id": "f829e1f8",
   "metadata": {},
   "outputs": [
    {
     "name": "stdout",
     "output_type": "stream",
     "text": [
      "11.333333333333334\n",
      "11\n",
      "1\n",
      "8\n"
     ]
    }
   ],
   "source": [
    "# 산술 연산자 (교재 34)\n",
    "# +, -, *, /, //, % , **\n",
    "print(34/3)\n",
    "print(34//3) # 정수몫\n",
    "print(34%3) # 나머지 \n",
    "print(2**3) "
   ]
  },
  {
   "cell_type": "markdown",
   "id": "edd8c5e1",
   "metadata": {},
   "source": [
    "## 변수 "
   ]
  },
  {
   "cell_type": "code",
   "execution_count": 24,
   "id": "aba7b2b8",
   "metadata": {},
   "outputs": [
    {
     "name": "stdout",
     "output_type": "stream",
     "text": [
      "10 + 3 = 13\n",
      "10 - 3 = 7\n",
      "10 * 3 = 30\n",
      "10 / 3 = 3.3333333333333335\n"
     ]
    }
   ],
   "source": [
    "num1 = 10 \n",
    "num2 = 3\n",
    "print(num1, '+', num2, '=', num1+num2)\n",
    "print(num1, '-', num2, '=', num1-num2)\n",
    "print(num1, '*', num2, '=', num1*num2)\n",
    "print(num1, '/', num2, '=', num1/num2)"
   ]
  },
  {
   "cell_type": "code",
   "execution_count": 25,
   "id": "af5ee4ab",
   "metadata": {},
   "outputs": [
    {
     "name": "stdout",
     "output_type": "stream",
     "text": [
      "['False', 'None', 'True', '__peg_parser__', 'and', 'as', 'assert', 'async', 'await', 'break', 'class', 'continue', 'def', 'del', 'elif', 'else', 'except', 'finally', 'for', 'from', 'global', 'if', 'import', 'in', 'is', 'lambda', 'nonlocal', 'not', 'or', 'pass', 'raise', 'return', 'try', 'while', 'with', 'yield']\n",
      "키워드 갯수 =  36\n"
     ]
    }
   ],
   "source": [
    "# 파이썬 예약어 확인하기 \n",
    "import keyword\n",
    "print(keyword.kwlist)\n",
    "print('키워드 갯수 = ', len(keyword.kwlist))\n"
   ]
  }
 ],
 "metadata": {
  "kernelspec": {
   "display_name": "Python 3 (ipykernel)",
   "language": "python",
   "name": "python3"
  },
  "language_info": {
   "codemirror_mode": {
    "name": "ipython",
    "version": 3
   },
   "file_extension": ".py",
   "mimetype": "text/x-python",
   "name": "python",
   "nbconvert_exporter": "python",
   "pygments_lexer": "ipython3",
   "version": "3.9.13"
  }
 },
 "nbformat": 4,
 "nbformat_minor": 5
}
