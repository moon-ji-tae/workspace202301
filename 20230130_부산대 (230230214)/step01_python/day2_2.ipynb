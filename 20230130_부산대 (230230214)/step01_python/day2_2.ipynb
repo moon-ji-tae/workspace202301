{
 "cells": [
  {
   "cell_type": "markdown",
   "id": "393de6d5",
   "metadata": {},
   "source": [
    "# 관계연산자 , 논리연산자 \n",
    "\n",
    "- 결과값은 True, False\n",
    "- ==, !=, >, <, >=, <=\n",
    "- or, and, not "
   ]
  },
  {
   "cell_type": "code",
   "execution_count": 4,
   "id": "9c1de64a",
   "metadata": {},
   "outputs": [
    {
     "name": "stdout",
     "output_type": "stream",
     "text": [
      "False\n",
      "True\n",
      "True\n",
      "False\n",
      "False\n",
      "True\n"
     ]
    }
   ],
   "source": [
    "user_id = 'admin'\n",
    "user_pwd ='1234'\n",
    "user_age = 20\n",
    "print(user_age < 20)\n",
    "print(not(user_age < 20))\n",
    "print( (user_id == 'admin') or (user_pwd =='가나다라'))\n",
    "print( (user_id == 'admin') and (user_pwd =='가나다라'))\n",
    "print( (user_age < 20) or (user_pwd =='가나다라'))\n",
    "print( (user_age >= 20) and (user_pwd =='1234'))"
   ]
  },
  {
   "cell_type": "markdown",
   "id": "7c16e1a8",
   "metadata": {},
   "source": [
    "# 조건문 \n",
    "\n",
    "- 단순 if \n",
    "- if ~ else ~\n",
    "- 다중 if : if ~ elif ~ else \n"
   ]
  },
  {
   "cell_type": "code",
   "execution_count": 8,
   "id": "45256606",
   "metadata": {},
   "outputs": [
    {
     "name": "stdout",
     "output_type": "stream",
     "text": [
      " 5 값은 홀수 \n",
      "테스트 종료\n"
     ]
    }
   ],
   "source": [
    "# 단순 if 문 \n",
    "# if 조건식 :\n",
    "#    명령문 \n",
    "\n",
    "# 홀수값이면 출력 \n",
    "# num = 10\n",
    "num = 5\n",
    "if (num%2 != 0) :\n",
    "    print(f' {num} 값은 홀수 ')\n",
    "    \n",
    "print('테스트 종료')"
   ]
  },
  {
   "cell_type": "code",
   "execution_count": 13,
   "id": "357e8083",
   "metadata": {},
   "outputs": [
    {
     "name": "stdout",
     "output_type": "stream",
     "text": [
      "숫자를 입력하세요...7\n",
      "5의 배수도 2의 배수도 아니다\n",
      "테스트 종료\n"
     ]
    }
   ],
   "source": [
    "# 입력값이 5의 배수이거나 2의 배수이면 \n",
    "# 메세지 출력 \n",
    "data = int(input('숫자를 입력하세요...'))\n",
    "if ( data%5 == 0 ) or ( data%2 == 0 ):\n",
    "    print('5의 배수이거나 2의 배수이다')\n",
    "\n",
    "if not(( data%5 == 0 ) or ( data%2 == 0 )):\n",
    "    print('5의 배수도 2의 배수도 아니다')\n",
    "    \n",
    "print('테스트 종료')"
   ]
  },
  {
   "cell_type": "code",
   "execution_count": 19,
   "id": "b24bcdb5",
   "metadata": {},
   "outputs": [
    {
     "name": "stdout",
     "output_type": "stream",
     "text": [
      " 참이다 \n",
      "테스트 종료\n"
     ]
    }
   ],
   "source": [
    "# 조건식 대신에 데이타 사용 \n",
    "# False 값은 0, None, '', \"\", [], (), {}\n",
    "\n",
    "# target = 0\n",
    "# target = -100\n",
    "# target = None\n",
    "# target = '홍길동'\n",
    "# target = []\n",
    "target = ['사과', '바나나']\n",
    "if target:\n",
    "    print(f' 참이다 ')\n",
    "print('테스트 종료')"
   ]
  },
  {
   "cell_type": "code",
   "execution_count": 21,
   "id": "951f82c8",
   "metadata": {},
   "outputs": [
    {
     "name": "stdout",
     "output_type": "stream",
     "text": [
      " 5 값은 홀수 \n",
      "테스트 종료\n"
     ]
    }
   ],
   "source": [
    "# if ~ else 문 \n",
    "# if 조건식 :\n",
    "#    명령문1 \n",
    "# else:\n",
    "#    명령문2\n",
    "\n",
    "# 홀수 짝수 판별 \n",
    "# num = 10\n",
    "num = 5\n",
    "if (num%2 != 0) :\n",
    "    print(f' {num} 값은 홀수 ')\n",
    "else:\n",
    "    print(f' {num} 값은 짝수 ')\n",
    "    \n",
    "print('테스트 종료')"
   ]
  },
  {
   "cell_type": "code",
   "execution_count": 24,
   "id": "e4794e16",
   "metadata": {},
   "outputs": [
    {
     "name": "stdout",
     "output_type": "stream",
     "text": [
      "0\n",
      "테스트 종료\n"
     ]
    }
   ],
   "source": [
    "# if ~ elif~ else 문 \n",
    "# if 조건식 :\n",
    "#    명령문1 \n",
    "# elif 조건식 :\n",
    "#    명령문2\n",
    "# else:\n",
    "#    명령문3\n",
    "\n",
    "# 홀수, 짝수, 0 인지 출력 \n",
    "# num = 5\n",
    "num = 0\n",
    "if num == 0 :\n",
    "    print(0)\n",
    "elif (num%2 == 0) :\n",
    "    print(f' {num} 값은 짝수 ')     \n",
    "else:\n",
    "    print(f' {num} 값은 홀수 ')\n",
    "    \n",
    "print('테스트 종료')\n"
   ]
  },
  {
   "cell_type": "code",
   "execution_count": 25,
   "id": "debd8afa",
   "metadata": {},
   "outputs": [],
   "source": [
    "# 퀴즈\n",
    "# 입력 나이에 따른 메세지를 출력하여라\n",
    "# ~7 : 영유아\n",
    "# 8 ~ 13 : 초등학생\n",
    "# 14 ~ 16 : 중학생\n",
    "# 17 ~ 19 : 고등학생\n",
    "# 20 ~ : 성인\n",
    "\n",
    "# 당신의 나이를 입력해주세요? ...12\n",
    "# 초등학생"
   ]
  },
  {
   "cell_type": "code",
   "execution_count": 32,
   "id": "e58417c2",
   "metadata": {},
   "outputs": [
    {
     "name": "stdout",
     "output_type": "stream",
     "text": [
      "당신의 나이를 입력해주세요? ...18\n",
      " 18 살은 고등학생\n"
     ]
    }
   ],
   "source": [
    "age = int(input('당신의 나이를 입력해주세요? ...'))\n",
    "\n",
    "if (age <= 7):\n",
    "    print(f' {age} 살은 영유아')\n",
    "elif ( age <= 13 ):\n",
    "# elif ( 8 <= age <= 13 ):\n",
    "# elif ( age > 7 ) and (age <= 13):    \n",
    "    print(f' {age} 살은 초등학생')  \n",
    "elif ( age <= 16 ):\n",
    "    print(f' {age} 살은 중학생')\n",
    "elif ( age <= 19 ):\n",
    "    print(f' {age} 살은 고등학생')    \n",
    "else:\n",
    "    print(f' {age} 살은 성인')"
   ]
  },
  {
   "cell_type": "code",
   "execution_count": 33,
   "id": "2b494364",
   "metadata": {},
   "outputs": [],
   "source": [
    "# 퀴즈 \n",
    "# 키와 체중을 입력받은 후 bmi 값에 따라 메세지를 출력하여라.\n",
    "# bmi 공식\n",
    "# k = 키(입력값) 단위 cm\n",
    "# w = 체중(입력값)\n",
    "# bmi = 체중(kg)/키(m)의제곱\n",
    "# 키의 단위는 미터(m)"
   ]
  },
  {
   "cell_type": "code",
   "execution_count": 38,
   "id": "5cae7f9b",
   "metadata": {},
   "outputs": [
    {
     "name": "stdout",
     "output_type": "stream",
     "text": [
      "키를 입력해주세요... 단위 cm ...156\n",
      "체중을 입력해주세요... 단위 kg ... 40\n",
      "\n",
      " 키 = 156 cm  몸무게 = 40 kg  bmi = 16.44\n",
      "저체중\n"
     ]
    }
   ],
   "source": [
    "k = int(input('키를 입력해주세요... 단위 cm ...'))\n",
    "w = int(input('체중을 입력해주세요... 단위 kg ... '))\n",
    "# m 단위로 변경\n",
    "k2 = k/100\n",
    "# bmi = 체중(kg)/키의제곱\n",
    "bmi = w/k2**2\n",
    "print()\n",
    "print(f' 키 = {k} cm  몸무게 = {w} kg  bmi = {bmi:.2f}')\n",
    "if (bmi >= 35 ):\n",
    "    print('고도 비만')\n",
    "elif (bmi >= 30 ):\n",
    "    print('중등도 비만')\n",
    "elif (bmi >= 25 ):\n",
    "    print('경도 비만')\n",
    "elif (bmi >= 23 ):\n",
    "    print('과체중')\n",
    "elif (bmi >= 18.5 ):\n",
    "    print('정상')    \n",
    "else:\n",
    "    print('저체중')"
   ]
  },
  {
   "cell_type": "code",
   "execution_count": 44,
   "id": "72503510",
   "metadata": {},
   "outputs": [
    {
     "name": "stdout",
     "output_type": "stream",
     "text": [
      "True\n",
      "False\n",
      "True\n",
      "False\n",
      "True\n",
      "False\n",
      "False\n",
      "False\n"
     ]
    }
   ],
   "source": [
    "# 문자열이 숫자인지 숫자가아닌문자인지 판독함수 \n",
    "# isdigit() 숫자인경우 True \n",
    "# isalpha() 알파벳이나 한글인경우 True\n",
    "txt1 = '1234'\n",
    "txt2 = 'abcd'\n",
    "txt3 = '강아지'\n",
    "txt4 = '1234abcd'\n",
    "print(txt1.isdigit()) # True\n",
    "print(txt1.isalpha()) # False\n",
    "print(txt2.isalpha()) # True\n",
    "print(txt2.isdigit()) # False\n",
    "print(txt3.isalpha()) # True\n",
    "print(txt3.isdigit()) # False\n",
    "print(txt4.isalpha()) # False\n",
    "print(txt4.isdigit()) # False"
   ]
  },
  {
   "cell_type": "code",
   "execution_count": 50,
   "id": "cd039da4",
   "metadata": {},
   "outputs": [
    {
     "name": "stdout",
     "output_type": "stream",
     "text": [
      "데이타 입력 >> 100\n",
      "입력 데이타는 숫자이다\n",
      "짝수\n"
     ]
    }
   ],
   "source": [
    "# 중첩 if \n",
    "# 입력 데이타를 이용하여 짝수인지 홀수인지 출력 \n",
    "# 입력 데이타가 숫자가 아니라면 메세지 출력 \n",
    "# 입력 데이타가 숫자라면 짝수인지 홀수인지 출력 \n",
    "data = input('데이타 입력 >> ')\n",
    "if data.isdigit():\n",
    "    print('입력 데이타는 숫자이다')\n",
    "    if (int(data)%2 == 0):\n",
    "        print('짝수')\n",
    "    else:\n",
    "        print('홀수')\n",
    "else:\n",
    "    print('입력 데이타는 숫자가 아니다')"
   ]
  },
  {
   "cell_type": "code",
   "execution_count": 52,
   "id": "024a9f24",
   "metadata": {},
   "outputs": [
    {
     "name": "stdout",
     "output_type": "stream",
     "text": [
      "True\n",
      "False\n",
      "False\n",
      "True\n",
      "True\n",
      "False\n"
     ]
    }
   ],
   "source": [
    "# in | not in 문자열|리스트|튜플 \n",
    "# True , False\n",
    "txt = 'banana'\n",
    "myList = ['부산', '인천', '서울']\n",
    "print('a' in txt )\n",
    "print('a' not in txt )\n",
    "print('x' in txt )\n",
    "print('x' not in txt )\n",
    "print('부산' in myList )\n",
    "print('부산' not in myList )"
   ]
  },
  {
   "cell_type": "code",
   "execution_count": 55,
   "id": "7ea43fcc",
   "metadata": {},
   "outputs": [
    {
     "name": "stdout",
     "output_type": "stream",
     "text": [
      "멤버 입력 >> 쯔위\n",
      "*************\n"
     ]
    }
   ],
   "source": [
    "# if 문 + in 연산자 \n",
    "memberList = ['안유진', '장원영', '리즈', '이서']\n",
    "member = input('멤버 입력 >> ')\n",
    "if member in memberList:\n",
    "    print('아이브')\n",
    "else:\n",
    "    print('*************')"
   ]
  },
  {
   "cell_type": "markdown",
   "id": "4627b3fb",
   "metadata": {},
   "source": [
    "# while 반복문"
   ]
  },
  {
   "cell_type": "code",
   "execution_count": 57,
   "id": "1d8ece03",
   "metadata": {},
   "outputs": [
    {
     "name": "stdout",
     "output_type": "stream",
     "text": [
      "1\n",
      "2\n",
      "3\n",
      "4\n",
      "5\n",
      "6\n",
      "7\n",
      "8\n",
      "9\n",
      "10\n",
      "테스트 종료\n"
     ]
    }
   ],
   "source": [
    "# while 조건식:\n",
    "#    명령문\n",
    "# 조건식이 True 인 동안 명령문 실행 \n",
    "\n",
    "# 1~10까지 출력하기 \n",
    "cnt = 1\n",
    "while (cnt <= 10):\n",
    "    print(cnt)\n",
    "    # cnt 숫자 증감 \n",
    "    # cnt = cnt + 1\n",
    "    cnt += 1\n",
    "print('테스트 종료')    "
   ]
  },
  {
   "cell_type": "code",
   "execution_count": null,
   "id": "479684d6",
   "metadata": {},
   "outputs": [],
   "source": []
  },
  {
   "cell_type": "code",
   "execution_count": null,
   "id": "fddf1db9",
   "metadata": {},
   "outputs": [],
   "source": []
  },
  {
   "cell_type": "code",
   "execution_count": null,
   "id": "2e87927d",
   "metadata": {},
   "outputs": [],
   "source": []
  }
 ],
 "metadata": {
  "kernelspec": {
   "display_name": "Python 3 (ipykernel)",
   "language": "python",
   "name": "python3"
  },
  "language_info": {
   "codemirror_mode": {
    "name": "ipython",
    "version": 3
   },
   "file_extension": ".py",
   "mimetype": "text/x-python",
   "name": "python",
   "nbconvert_exporter": "python",
   "pygments_lexer": "ipython3",
   "version": "3.9.13"
  }
 },
 "nbformat": 4,
 "nbformat_minor": 5
}
