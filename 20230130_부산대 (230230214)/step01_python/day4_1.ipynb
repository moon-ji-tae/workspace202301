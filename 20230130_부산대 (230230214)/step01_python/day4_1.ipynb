{
 "cells": [
  {
   "cell_type": "markdown",
   "id": "721aff97",
   "metadata": {},
   "source": [
    "# Review\n",
    "\n",
    "## 반복문 \n",
    "\n",
    "### while \n",
    "- 카운팅변수 + 조건식 \n",
    "- 무한루프 + break \n",
    "\n",
    "### for \n",
    "- for 변수 in range(시작, 끝, 단계)\n",
    "- for 변수 in 문자열|리스트|튜플|집합|딕셔너리 \n",
    "- 리스트내포 [ 값 for 변수 in range(시작, 끝, 단계)]\n",
    "- for 변수1, 변수2 ... in 다차원리스트|다차원튜플 \n",
    "- for 변수1, 변수2 ... in for 문 + zip()\n",
    "\n",
    "### 함수 \n",
    "- def\n",
    "- 매개변수 = 파라미터 = 아규먼트 = 인자 \n",
    "- return 반환값 "
   ]
  },
  {
   "cell_type": "code",
   "execution_count": 7,
   "id": "6434d90a",
   "metadata": {},
   "outputs": [
    {
     "name": "stdout",
     "output_type": "stream",
     "text": [
      " 1~100 까지의 합은? 5050\n",
      " 1~50 까지의 합은? 1275\n"
     ]
    }
   ],
   "source": [
    "# 파라미터 O, 반환값 O\n",
    "# 1~n 까지의 합을 구하는 함수 정의 \n",
    "def sumN(n):\n",
    "    tot = 0 # 누적합 저장 변수 \n",
    "    for i in range(1, n+1):\n",
    "        tot += i\n",
    "    return f' 1~{n} 까지의 합은? {tot}' # 반환값 전달 \n",
    "\n",
    "# 함수 호출 \n",
    "print(sumN(100))\n",
    "print(sumN(50))\n",
    "# print(sumN()) # TypeError "
   ]
  },
  {
   "cell_type": "code",
   "execution_count": 10,
   "id": "178a57eb",
   "metadata": {},
   "outputs": [
    {
     "name": "stdout",
     "output_type": "stream",
     "text": [
      "(15, 5, 50, 2.0) <class 'tuple'>\n",
      "두수의 합은? 15\n"
     ]
    }
   ],
   "source": [
    "# 파라미터 O, 반환값 O (여러개인 경우)\n",
    "# 2개의 값을 전달해서 \n",
    "# 사칙연산 결과값을 구하는 함수 정의 \n",
    "def calc(x, y):\n",
    "    # 쉼표를 이용하여 결과값을 여러개 지정\n",
    "    return x+y, x-y, x*y, x/y\n",
    "\n",
    "# 함수 호출\n",
    "# 함수 결과는 튜플 \n",
    "print(calc(10,5), type(calc(10,5)))\n",
    "print(f'두수의 합은? {calc(10,5)[0]}')"
   ]
  },
  {
   "cell_type": "code",
   "execution_count": 11,
   "id": "f5081ae6",
   "metadata": {},
   "outputs": [
    {
     "name": "stdout",
     "output_type": "stream",
     "text": [
      " 0 + 0 = 0 \n",
      " 10 + 0 = 10 \n",
      " 10 + 7 = 17 \n"
     ]
    }
   ],
   "source": [
    "# 파라미터 O, 반환값 O (초기값 지정방식)\n",
    "# 두수의 합을 구하는 함수 정의 \n",
    "# 파라미터 모두에 초기값이 있는 형태 \n",
    "def calc_add(x=0, y=0):\n",
    "    return f' {x} + {y} = {x+y} '\n",
    "\n",
    "# 함수 호출 \n",
    "print(calc_add())\n",
    "print(calc_add(10))\n",
    "print(calc_add(10, 7))"
   ]
  },
  {
   "cell_type": "code",
   "execution_count": 15,
   "id": "ea6167f7",
   "metadata": {},
   "outputs": [
    {
     "name": "stdout",
     "output_type": "stream",
     "text": [
      " 10 + 20 + 30 = 60 \n",
      " 10 + 20 + 0 = 30 \n"
     ]
    }
   ],
   "source": [
    "# 파라미터 일부에 초기값이 있는 형태 \n",
    "# 세수의 합을 구하는 함수 정의 \n",
    "def calc_add2(x, y, z=0):\n",
    "    return f' {x} + {y} + {z} = {x+y+z} '\n",
    "\n",
    "# 함수 호출 \n",
    "print(calc_add2(10, 20, 30))\n",
    "print(calc_add2(10, 20))\n",
    "# print(calc_add2(10)) # TypeError \n",
    "# print(calc_add2()) # TypeError"
   ]
  },
  {
   "cell_type": "code",
   "execution_count": 17,
   "id": "2211910f",
   "metadata": {},
   "outputs": [
    {
     "name": "stdout",
     "output_type": "stream",
     "text": [
      " 0 + 10 + 20 = 30 \n"
     ]
    }
   ],
   "source": [
    "# 일부 초기값이 있는 경우 \n",
    "# 위치 주의 \n",
    "# 초기값이 있는 파라미터는 마지막에 지정 \n",
    "# SyntaxError\n",
    "# def calc_add3(x=0, y, z):\n",
    "def calc_add3(y, z, x=0):    \n",
    "    return f' {x} + {y} + {z} = {x+y+z} '\n",
    "\n",
    "print(calc_add3(10, 20))"
   ]
  },
  {
   "cell_type": "code",
   "execution_count": 19,
   "id": "600956ef",
   "metadata": {},
   "outputs": [
    {
     "name": "stdout",
     "output_type": "stream",
     "text": [
      "\n",
      "나의 이름은 홍길동 입니다\n",
      "나이는 30살 입니다\n",
      "남자입니다.\n",
      "\n",
      "나의 이름은 김지원 입니다\n",
      "나이는 33살 입니다\n",
      "여자입니다.\n"
     ]
    }
   ],
   "source": [
    "# 슬라이드 180\n",
    "# 함수를 호출하여 메세지가 출력되도록 함수를 정의하여라\n",
    "\n",
    "# 함수 정의\n",
    "def say_myself(name, old, man=True):\n",
    "    print()\n",
    "    print(f'나의 이름은 {name} 입니다')\n",
    "    print(f'나이는 {old}살 입니다')\n",
    "    if man:\n",
    "        print('남자입니다.')\n",
    "    else:\n",
    "        print('여자입니다.')\n",
    "        \n",
    "\n",
    "# 함수 호출 \n",
    "say_myself('홍길동', 30)\n",
    "say_myself('김지원', 33, False)"
   ]
  },
  {
   "cell_type": "code",
   "execution_count": 22,
   "id": "fcb1b6b0",
   "metadata": {},
   "outputs": [
    {
     "name": "stdout",
     "output_type": "stream",
     "text": [
      "\n",
      "() 0 <class 'tuple'>\n",
      "수강생이 없습니다.\n",
      "\n",
      "('홍길동',) 1 <class 'tuple'>\n",
      "1 번째 = 홍길동\n",
      "\n",
      "('홍길동', '고길동', '박길동') 3 <class 'tuple'>\n",
      "1 번째 = 홍길동\n",
      "2 번째 = 고길동\n",
      "3 번째 = 박길동\n",
      "\n",
      "('홍길동', '고길동', '박길동', '윤길동', '최길동') 5 <class 'tuple'>\n",
      "1 번째 = 홍길동\n",
      "2 번째 = 고길동\n",
      "3 번째 = 박길동\n",
      "4 번째 = 윤길동\n",
      "5 번째 = 최길동\n"
     ]
    }
   ],
   "source": [
    "# 파라미터 갯수가 정해지지 않은 경우 \n",
    "# *args => 튜플 \n",
    "\n",
    "# 수강생 목록 출력함수 정의 \n",
    "# 함수 정의시 *변수명 \n",
    "# 함수안에서는 변수명으로만 명령어 처리 \n",
    "def printStudent(*args):\n",
    "    print()\n",
    "    print(args, len(args), type(args))\n",
    "    # 수강생이 0이 아니면\n",
    "    if len(args):\n",
    "        # 개별 학생 출력 \n",
    "        count = 1\n",
    "        for item in args:\n",
    "            print(f'{count} 번째 = {item}')\n",
    "            count += 1\n",
    "    else:\n",
    "        print('수강생이 없습니다.')\n",
    "    \n",
    "\n",
    "# 함수 호출 \n",
    "printStudent()\n",
    "printStudent('홍길동')\n",
    "printStudent('홍길동', '고길동', '박길동')\n",
    "printStudent('홍길동', '고길동', '박길동', '윤길동', '최길동')"
   ]
  },
  {
   "cell_type": "code",
   "execution_count": 23,
   "id": "d9472756",
   "metadata": {},
   "outputs": [
    {
     "name": "stdout",
     "output_type": "stream",
     "text": [
      "[] <class 'list'>\n",
      "데이타 모든합은? 0\n",
      "\n",
      "[10, 20, 60] <class 'list'>\n",
      "데이타 모든합은? 90\n",
      "\n",
      "[10, 20, 60, 88, 99] <class 'list'>\n",
      "데이타 모든합은? 277\n",
      "\n"
     ]
    }
   ],
   "source": [
    "# 전달되는 데이타를 리스트로 정의하고 \n",
    "# 모든 합을 구하는 함수 정의 \n",
    "def addList(*args):\n",
    "    temp = list(args) # 리스트로 형변환 \n",
    "    # 리스트안의 모든합 구하기 \n",
    "    total = 0 \n",
    "    for item in temp:\n",
    "        total += item\n",
    "    print(temp, type(temp))\n",
    "    print(f'데이타 모든합은? {total}')\n",
    "    print()\n",
    "\n",
    "addList()    \n",
    "addList(10, 20, 60)  \n",
    "addList(10, 20, 60, 88, 99)  "
   ]
  },
  {
   "cell_type": "code",
   "execution_count": 32,
   "id": "cd533e89",
   "metadata": {},
   "outputs": [
    {
     "name": "stdout",
     "output_type": "stream",
     "text": [
      "\n",
      "+ <class 'str'>\n",
      "() <class 'tuple'>\n",
      "계산 오류\n",
      "\n",
      "+ <class 'str'>\n",
      "(1, 2, 3) <class 'tuple'>\n",
      "모든 합은? 6\n",
      "\n",
      "* <class 'str'>\n",
      "(1, 2, 3) <class 'tuple'>\n",
      "모든 곱은? 6\n",
      "\n",
      "! <class 'str'>\n",
      "(1, 2, 3) <class 'tuple'>\n",
      "계산 오류\n"
     ]
    }
   ],
   "source": [
    "# 일반 파라미터 , 가변 파라미터 (*args) 함께 지정\n",
    "# 파라미터 뒤에 *args 정의 \n",
    "\n",
    "# 기호값에 따라 계산결과 구하기 \n",
    "# def calcTest(*args, choice): # TypeError 위치 조심 \n",
    "def calcTest(choice, *args):    \n",
    "    print()\n",
    "    print(choice, type(choice))\n",
    "    print(args, type(args))\n",
    "    if (choice == '*') and (len(args) != 0):\n",
    "        result = 1\n",
    "        for item in args:\n",
    "            result *= item\n",
    "        return print(f'모든 곱은? {result}')    \n",
    "    elif choice == '+' and (len(args) != 0):\n",
    "        result = 0\n",
    "        for item in args:\n",
    "            result += item\n",
    "        return print(f'모든 합은? {result}')        \n",
    "    else:\n",
    "        return print('계산 오류')     \n",
    "\n",
    "# 함수 호출   \n",
    "calcTest('+')\n",
    "calcTest('+', 1, 2, 3)\n",
    "calcTest('*', 1, 2, 3)\n",
    "calcTest('!', 1, 2, 3)\n",
    "# calcTest() # TypeError"
   ]
  },
  {
   "cell_type": "code",
   "execution_count": 41,
   "id": "013d5a0f",
   "metadata": {},
   "outputs": [
    {
     "name": "stdout",
     "output_type": "stream",
     "text": [
      "-1 50 55 11.0\n",
      "A y\n"
     ]
    }
   ],
   "source": [
    "# 계산함수 테스트 \n",
    "# min(문자열|튜플|리스트) 최솟값\n",
    "# max(문자열|튜플|리스트) 최댓값 \n",
    "# sum(튜플|리스트) 합 \n",
    "# sum(튜플|리스트) / len() 평균 \n",
    "num = (1, 2, 3, -1, 50)\n",
    "txt = 'axrtyfdAX'\n",
    "print(min(num), max(num), sum(num), sum(num)/len(num))\n",
    "# 문자열에 함수 적용시 대문자소문자 알파벳순 \n",
    "print(min(txt), max(txt))"
   ]
  },
  {
   "cell_type": "code",
   "execution_count": 42,
   "id": "d505baf9",
   "metadata": {},
   "outputs": [
    {
     "name": "stdout",
     "output_type": "stream",
     "text": [
      "\n",
      "최솟값은? -90\n",
      "\n",
      "최댓값은? 100\n",
      "\n",
      "오류발생\n"
     ]
    }
   ],
   "source": [
    "# 슬라이드 189\n",
    "# 첫번째 인자의 값이 'min'이면 \n",
    "# 다음 인자의 숫자 중 최대값을 출력하고\n",
    "# 첫번째 인자의 값이 'max'이면 \n",
    "# 다음 인자의 숫자 중 최소값을 출력하여라\n",
    "# 이 때 전달하는 숫자의 갯수는 가변으로 한다\n",
    "\n",
    "def min_max_number(choice, *args):    \n",
    "    print()\n",
    "    if (choice == 'min') and (len(args) != 0):\n",
    "        return print(f'최솟값은? {min(args)}')    \n",
    "    elif (choice == 'max') and (len(args) != 0):\n",
    "        return print(f'최댓값은? {max(args)}')        \n",
    "    else:\n",
    "        return print('오류발생')\n",
    "\n",
    "# 함수 호출 \n",
    "min_max_number('min', 10, 23, 4, -90, 100)\n",
    "min_max_number('max', 10, 23, 4, -90, 100)\n",
    "min_max_number('plus', 10, 23, 4, -90, 100)"
   ]
  },
  {
   "cell_type": "code",
   "execution_count": 45,
   "id": "02985e09",
   "metadata": {},
   "outputs": [
    {
     "name": "stdout",
     "output_type": "stream",
     "text": [
      "\n",
      "{'name': '홍길동', 'age': '25', 'major': '영문학과'} <class 'dict'>\n",
      " name : 홍길동\n",
      " age : 25\n",
      " major : 영문학과\n",
      "\n",
      "{'name': '박길동', 'major': '전자공학과'} <class 'dict'>\n",
      " name : 박길동\n",
      " major : 전자공학과\n",
      "\n",
      "{} <class 'dict'>\n"
     ]
    }
   ],
   "source": [
    "# 가변 딕셔너리 파라미터 (**kwargs) 지정\n",
    "# 함수 호출시 키변수=값 형태로 지정 \n",
    "# 함수명(키1=깂1, 키2=깂2 ...)\n",
    "# 함수내부에서는 kwargs를 이용하여 명령어 작성 \n",
    "\n",
    "# 학생 정보 출력하는 함수 정의 \n",
    "def student_info(**kwargs):\n",
    "    print()\n",
    "    print(kwargs, type(kwargs))\n",
    "    # 각 정보 개별 출력 \n",
    "    for key in kwargs:\n",
    "        print(f' {key} : {kwargs[key]}')\n",
    "\n",
    "# 함수 호출 \n",
    "student_info(name='홍길동', age='25', major='영문학과')\n",
    "student_info(name='박길동', major='전자공학과')\n",
    "student_info()\n",
    "# student_info('박길동') # TypeError"
   ]
  },
  {
   "cell_type": "code",
   "execution_count": 47,
   "id": "5f24e0a4",
   "metadata": {},
   "outputs": [
    {
     "name": "stdout",
     "output_type": "stream",
     "text": [
      " 2 X 30 X 5 = 300\n",
      " 2 X 30 X 5 = 300\n"
     ]
    }
   ],
   "source": [
    "# 람다함수 정의 \n",
    "# lambda = 파라미터:반환값\n",
    "\n",
    "# 세수의 곱을 구하는 함수 정의 (일반형태)\n",
    "def calcTest1(x, y, z):\n",
    "    return print(f' {x} X {y} X {z} = {x*y*z}')\n",
    "\n",
    "calcTest1(2, 30, 5)\n",
    "\n",
    "# 세수의 곱을 구하는 함수 정의 (람다형태)\n",
    "calcTest2 = lambda x, y, z:print(f' {x} X {y} X {z} = {x*y*z}')\n",
    "\n",
    "calcTest2(2, 30, 5)"
   ]
  },
  {
   "cell_type": "code",
   "execution_count": 49,
   "id": "a05221c1",
   "metadata": {},
   "outputs": [
    {
     "name": "stdout",
     "output_type": "stream",
     "text": [
      "홍**\n",
      "줄*****\n",
      "\n",
      "홍**\n",
      "줄*****\n"
     ]
    }
   ],
   "source": [
    "# 슬라이드 197\n",
    "# 첫 글자를 제외한 나머지 글자를 \n",
    "# '*'로 표시하는 람다 함수를 정의하여라. \n",
    "\n",
    "# 일반함수 형태 \n",
    "def print_info(word):\n",
    "    return print(f'{word[0]}{\"*\"*len(word[1:])}')\n",
    "\n",
    "print_info('홍길동')\n",
    "print_info('줄리아로버츠')\n",
    "\n",
    "# 람다 함수 형태 \n",
    "print()\n",
    "print_info2 = lambda word:print(f'{word[0]}{\"*\"*len(word[1:])}')\n",
    "print_info2('홍길동')\n",
    "print_info2('줄리아로버츠')"
   ]
  },
  {
   "cell_type": "code",
   "execution_count": 57,
   "id": "9e8d462f",
   "metadata": {},
   "outputs": [
    {
     "name": "stdout",
     "output_type": "stream",
     "text": [
      "국어:100 영어:55 수학:66 총점:221 평균:73.67\n"
     ]
    }
   ],
   "source": [
    "# 국어,영어,수학 3과목의 합과 평균을 \n",
    "# 구하는 람다 함수를 정의하여라\n",
    "\n",
    "grade = lambda kor,eng,math:print(f'국어:{kor} 영어:{eng} 수학:{math} 총점:{kor+eng+math} 평균:{(kor+eng+math)/3:.2f}')\n",
    "\n",
    "grade(100, 55, 66)"
   ]
  },
  {
   "cell_type": "code",
   "execution_count": 60,
   "id": "81ac8ce7",
   "metadata": {},
   "outputs": [
    {
     "name": "stdout",
     "output_type": "stream",
     "text": [
      "국어:100 영어:55 수학:66 총점:221 평균:73.67\n"
     ]
    }
   ],
   "source": [
    "grade = lambda *args : print(f'국어:{args[0]} 영어:{args[1]} 수학:{args[2]} 총점:{sum(args)} 평균:{sum(args)/3:.2f}')\n",
    "               \n",
    "grade(100, 55, 66)"
   ]
  },
  {
   "cell_type": "markdown",
   "id": "e086ed09",
   "metadata": {},
   "source": [
    "# 아스키 코드 관련 함수 \n",
    "\n",
    "- chr(num) : 숫자코드에 해당하는 문자 출력\n",
    "- ord(str) : 문자에 해당하는 숫자코드 출력 "
   ]
  },
  {
   "cell_type": "code",
   "execution_count": 63,
   "id": "e3023ddb",
   "metadata": {},
   "outputs": [],
   "source": [
    "# 함수? 레퍼런스 확인 \n",
    "chr?"
   ]
  },
  {
   "cell_type": "code",
   "execution_count": 65,
   "id": "283e08b8",
   "metadata": {},
   "outputs": [
    {
     "name": "stdout",
     "output_type": "stream",
     "text": [
      "A 90\n"
     ]
    }
   ],
   "source": [
    "print(chr(65), ord('Z'))"
   ]
  },
  {
   "cell_type": "code",
   "execution_count": 75,
   "id": "dab3149b",
   "metadata": {},
   "outputs": [
    {
     "name": "stdout",
     "output_type": "stream",
     "text": [
      "65 90\n",
      "['A', 'B', 'C', 'D', 'E', 'F', 'G', 'H', 'I', 'J', 'K', 'L', 'M', 'N', 'O', 'P', 'Q', 'R', 'S', 'T', 'U', 'V', 'W', 'X', 'Y', 'Z']\n",
      "['a', 'b', 'c', 'd', 'e', 'f', 'g', 'h', 'i', 'j', 'k', 'l', 'm', 'n', 'o', 'p', 'q', 'r', 's', 't', 'u', 'v', 'w', 'x', 'y', 'z']\n",
      "['a', 'b', 'c', 'd', 'e', 'f', 'g', 'h', 'i', 'j', 'k', 'l', 'm', 'n', 'o', 'p', 'q', 'r', 's', 't', 'u', 'v', 'w', 'x', 'y', 'z']\n"
     ]
    }
   ],
   "source": [
    "# 알파벳 리스트 생성하기 \n",
    "# 대문자 A, Z 숫자 코드값 확인 \n",
    "print(ord('A'), ord('Z'))\n",
    "\n",
    "# 빈리스트 생성 \n",
    "alpha = []\n",
    "# for 문을 이용하여 알파벳 차례대로 추가 \n",
    "for i in range(ord('A'), ord('Z')+1):\n",
    "    alpha.append(chr(i))\n",
    "print(alpha) \n",
    "\n",
    "# 소문자 리스트는\n",
    "alpha2 = []\n",
    "for i in range(ord('a'), ord('z')+1):\n",
    "    alpha2.append(chr(i))\n",
    "print(alpha2) \n",
    "\n",
    "# 리스트 내포 방식으로 변환하기 \n",
    "alpha3 = [ chr(i) for i in range(ord('a'), ord('z')+1) ]\n",
    "print(alpha3) "
   ]
  },
  {
   "cell_type": "markdown",
   "id": "0f91d9ba",
   "metadata": {},
   "source": [
    "# filter ()\n",
    "\n",
    "- 특정 조건에 만족하는 데이타만 추출시킨다./ \n",
    "- filter(함수명, 리스트|튜플) \n",
    "- filter(람다식, 리스트|튜플) "
   ]
  },
  {
   "cell_type": "code",
   "execution_count": 77,
   "id": "b7111777",
   "metadata": {},
   "outputs": [
    {
     "name": "stdout",
     "output_type": "stream",
     "text": [
      "[12, -90, 100, 40]\n"
     ]
    }
   ],
   "source": [
    "# 숫자 리스트에서 짝수만 추출하기 \n",
    "numlist = [ 12, -90, 55, 100, 23, 40, 33]\n",
    "\n",
    "def oddPrint1(datalist):\n",
    "    result = [] # 빈리스트 생성 \n",
    "    # 리스트 값이 짝수이면 결과리스트에 추가 \n",
    "    for item in datalist:\n",
    "        if item%2 == 0:\n",
    "            result.append(item)\n",
    "    # 결과 리스트 반환 \n",
    "    return result\n",
    "\n",
    "# 함수 호출    \n",
    "print(oddPrint1(numlist))"
   ]
  },
  {
   "cell_type": "code",
   "execution_count": 82,
   "id": "46d78c6b",
   "metadata": {},
   "outputs": [
    {
     "name": "stdout",
     "output_type": "stream",
     "text": [
      "True\n",
      "False\n",
      "\n",
      "[12, -90, 100, 40]\n"
     ]
    }
   ],
   "source": [
    "# filter() 함수 스타일로 변환 \n",
    "# 리스트 각 데이타에 적용할 함수 정의 \n",
    "# 짝수이면 True 반환 \n",
    "def choice_num(item):\n",
    "    return item%2 == 0\n",
    "\n",
    "print(choice_num(10))\n",
    "print(choice_num(5))\n",
    "print()\n",
    "\n",
    "# filter(함수명, 리스트) 적용해서 리스트로 변환 \n",
    "numlist = [ 12, -90, 55, 100, 23, 40, 33]\n",
    "result = list(filter(choice_num, numlist))\n",
    "print(result)"
   ]
  },
  {
   "cell_type": "code",
   "execution_count": 83,
   "id": "5abc2dbc",
   "metadata": {},
   "outputs": [
    {
     "name": "stdout",
     "output_type": "stream",
     "text": [
      "[12, -90, 100, 40]\n"
     ]
    }
   ],
   "source": [
    "# 람다스타일로 변경 \n",
    "# filter(lambda 파라미터:반환, 리스트) \n",
    "numlist = [ 12, -90, 55, 100, 23, 40, 33]\n",
    "result = list(filter(lambda item:item%2 == 0, numlist))\n",
    "print(result)"
   ]
  },
  {
   "cell_type": "code",
   "execution_count": 85,
   "id": "0e95b420",
   "metadata": {},
   "outputs": [
    {
     "name": "stdout",
     "output_type": "stream",
     "text": [
      "[55, 100, 40, 33]\n"
     ]
    }
   ],
   "source": [
    "# 숫자리스트에서 양수만 추출하여라 \n",
    "numlist = [ -12, -90, 55, 100, -23, 40, 33]\n",
    "\n",
    "# 양수만 추출하는 함수 정의 \n",
    "def positive(datalist):\n",
    "    result = [] # 빈리스트 생성 \n",
    "    # 값이 양수이면 결과리스트에 추가 \n",
    "    for item in datalist:\n",
    "        if (item > 0) :\n",
    "            result.append(item)\n",
    "    return result\n",
    "\n",
    "# 함수 호출    \n",
    "print(positive(numlist))"
   ]
  },
  {
   "cell_type": "code",
   "execution_count": 88,
   "id": "ad4d5052",
   "metadata": {},
   "outputs": [
    {
     "name": "stdout",
     "output_type": "stream",
     "text": [
      "False\n",
      "True\n",
      "[55, 100, 40, 33]\n"
     ]
    }
   ],
   "source": [
    "# filter() 함수 스타일로 변환 \n",
    "# 리스트 각 데이타에 적용할 함수 정의 \n",
    "# 데이타값이 양수이면 True 반환 \n",
    "def positive_data(item):\n",
    "    return item > 0\n",
    "\n",
    "print(positive_data(-100))\n",
    "print(positive_data(67))\n",
    "\n",
    "# filter(함수명, 리스트) 적용해서 리스트로 변환 \n",
    "numlist = [ -12, -90, 55, 100, -23, 40, 33]\n",
    "result = list(filter(positive_data, numlist))\n",
    "print(result)"
   ]
  },
  {
   "cell_type": "code",
   "execution_count": 90,
   "id": "44f4220b",
   "metadata": {},
   "outputs": [
    {
     "name": "stdout",
     "output_type": "stream",
     "text": [
      "[55, 100, 40, 33]\n"
     ]
    }
   ],
   "source": [
    "# 람다스타일로 변경 \n",
    "# filter(lambda 파라미터:반환값, 리스트) \n",
    "numlist = [ -12, -90, 55, 100, -23, 40, 33]\n",
    "result = list(filter(lambda item:item > 0, numlist))\n",
    "print(result)"
   ]
  },
  {
   "cell_type": "markdown",
   "id": "ce86c2ae",
   "metadata": {},
   "source": [
    "# map ()\n",
    "\n",
    "- 기존 리스트를 가공 해서 새로운 데이터로 변환시킨다.\n",
    "- map(함수명, 리스트|튜플) \n",
    "- map(람다식, 리스트|튜플) "
   ]
  },
  {
   "cell_type": "code",
   "execution_count": 92,
   "id": "499b2f4e",
   "metadata": {},
   "outputs": [
    {
     "name": "stdout",
     "output_type": "stream",
     "text": [
      "[4, 25, 49, 81, 10000]\n"
     ]
    }
   ],
   "source": [
    "# 제곱 리스트 만들기 \n",
    "numlist = [ 2, 5, 7, 9, 100]\n",
    "\n",
    "# 일반 함수 스타일 \n",
    "def double_list(datalist):\n",
    "    result = [] # 빈리스트 생성 \n",
    "    for item in datalist:\n",
    "        # 제곱한 데이타값을 리스트에 추가 \n",
    "        result.append(item**2) \n",
    "    return result\n",
    "\n",
    "# 함수 호출    \n",
    "print(double_list(numlist))"
   ]
  },
  {
   "cell_type": "code",
   "execution_count": 94,
   "id": "def7d6bf",
   "metadata": {},
   "outputs": [
    {
     "name": "stdout",
     "output_type": "stream",
     "text": [
      "25\n",
      "[4, 25, 49, 81, 10000]\n"
     ]
    }
   ],
   "source": [
    "# map() 함수 스타일로 변환 \n",
    "# 리스트 각 데이타에 적용할 함수 정의 \n",
    "# 제곱값으로 변경하는 함수 정의 \n",
    "def double(item):\n",
    "    return item**2\n",
    "\n",
    "print(double(5))\n",
    "\n",
    "# map(함수명, 리스트)\n",
    "numlist = [ 2, 5, 7, 9, 100]\n",
    "result = list(map(double, numlist))\n",
    "print(result)"
   ]
  },
  {
   "cell_type": "code",
   "execution_count": 95,
   "id": "216e4e68",
   "metadata": {},
   "outputs": [
    {
     "name": "stdout",
     "output_type": "stream",
     "text": [
      "[4, 25, 49, 81, 10000]\n"
     ]
    }
   ],
   "source": [
    "# 람다함수 이용\n",
    "# map(lambda 파라미터:결과명령, 리스트)\n",
    "numlist = [ 2, 5, 7, 9, 100]\n",
    "result = list(map(lambda item:item**2, numlist))\n",
    "print(result)"
   ]
  },
  {
   "cell_type": "code",
   "execution_count": 96,
   "id": "5989c040",
   "metadata": {},
   "outputs": [
    {
     "name": "stdout",
     "output_type": "stream",
     "text": [
      "[60, 42, 272, 20]\n"
     ]
    }
   ],
   "source": [
    "# 두 리스트의 곱으로 구성된 리스트 생성하기 \n",
    "list1 = [ 5, 6, 8, 10]\n",
    "list2 = [ 12, 7, 34, 2]\n",
    "\n",
    "def multyply_pair(list1, list2):\n",
    "    result = []\n",
    "    # 같은 인덱스의 데이타를 곱한 후 \n",
    "    # 결과 리스트에 추가 \n",
    "    for i in range(len(list1)):\n",
    "        result.append(list1[i]*list2[i])\n",
    "    return result\n",
    "\n",
    "print(multyply_pair(list1, list2))"
   ]
  },
  {
   "cell_type": "code",
   "execution_count": 97,
   "id": "7f5ad243",
   "metadata": {},
   "outputs": [
    {
     "name": "stdout",
     "output_type": "stream",
     "text": [
      "[60, 42, 272, 20]\n"
     ]
    }
   ],
   "source": [
    "# map() 함수 스타일로 변환 \n",
    "# 리스트 각 데이타에 적용할 함수 정의 \n",
    "def multyply(item1, item2):\n",
    "    return item1*item2\n",
    "\n",
    "list1 = [ 5, 6, 8, 10]\n",
    "list2 = [ 12, 7, 34, 2]\n",
    "result = list(map(multyply, list1, list2))\n",
    "print(result)"
   ]
  },
  {
   "cell_type": "code",
   "execution_count": 98,
   "id": "e82f7db8",
   "metadata": {},
   "outputs": [
    {
     "name": "stdout",
     "output_type": "stream",
     "text": [
      "[60, 42, 272, 20]\n"
     ]
    }
   ],
   "source": [
    "# map() + 람다 \n",
    "list1 = [ 5, 6, 8, 10]\n",
    "list2 = [ 12, 7, 34, 2]\n",
    "result = list(map(lambda item1,item2:item1*item2 , \n",
    "                  list1, list2))\n",
    "print(result)"
   ]
  },
  {
   "cell_type": "code",
   "execution_count": 100,
   "id": "7aea70c2",
   "metadata": {},
   "outputs": [
    {
     "name": "stdout",
     "output_type": "stream",
     "text": [
      "['100-길동-남-서울', '200-동미-여-대전', '300-미영-여-부산', '400-영철-남-대구']\n"
     ]
    }
   ],
   "source": [
    "# 슬라이드 214\n",
    "# 4개의 리스트 각 아이템 요소가 '-'로 연결되어 \n",
    "# 출력되도록 하여라\n",
    "# 최종 결과는 리스트로 저장되어야 하며 \n",
    "# map() 함수를 활용한다\n",
    "\n",
    "num_list = [100, 200, 300, 400]\n",
    "name_list = ['길동', '동미', '미영', '영철']\n",
    "gender_list = ['남','여','여','남']\n",
    "address_list = ['서울','대전','부산','대구']\n",
    "\n",
    "# 일반함수 스타일 \n",
    "def user_info(num_list, name_list, gender_list, address_list):\n",
    "    result = []\n",
    "    for i in range(len(num_list)):\n",
    "        result.append(f'{num_list[i]}-{name_list[i]}\n",
    "                        -{gender_list[i]}-{address_list[i]}')\n",
    "    return result\n",
    "\n",
    "print(user_info(num_list, name_list, gender_list, \n",
    "                address_list))\n"
   ]
  },
  {
   "cell_type": "code",
   "execution_count": 101,
   "id": "e6b27c46",
   "metadata": {},
   "outputs": [
    {
     "name": "stdout",
     "output_type": "stream",
     "text": [
      "['100-길동-남-서울', '200-동미-여-대전', '300-미영-여-부산', '400-영철-남-대구']\n"
     ]
    }
   ],
   "source": [
    "num_list = [100, 200, 300, 400]\n",
    "name_list = ['길동', '동미', '미영', '영철']\n",
    "gender_list = ['남','여','여','남']\n",
    "address_list = ['서울','대전','부산','대구']\n",
    "\n",
    "def user(num,name,gender,address):\n",
    "    return f'{num}-{name}-{gender}-{address}'\n",
    "\n",
    "result = list(map(user, num_list, name_list, \n",
    "                  gender_list, address_list))\n",
    "\n",
    "print(result)"
   ]
  },
  {
   "cell_type": "code",
   "execution_count": 102,
   "id": "1e16683a",
   "metadata": {},
   "outputs": [
    {
     "name": "stdout",
     "output_type": "stream",
     "text": [
      "['100-길동-남-서울', '200-동미-여-대전', '300-미영-여-부산', '400-영철-남-대구']\n"
     ]
    }
   ],
   "source": [
    "num_list = [100, 200, 300, 400]\n",
    "name_list = ['길동', '동미', '미영', '영철']\n",
    "gender_list = ['남','여','여','남']\n",
    "address_list = ['서울','대전','부산','대구']\n",
    "\n",
    "result = list(map(lambda num,name,gender,address:\n",
    "                  f'{num}-{name}-{gender}-{address}', \n",
    "                  num_list, name_list, gender_list, \n",
    "                  address_list))\n",
    "\n",
    "print(result)"
   ]
  },
  {
   "cell_type": "code",
   "execution_count": null,
   "id": "7a30a553",
   "metadata": {},
   "outputs": [],
   "source": []
  },
  {
   "cell_type": "code",
   "execution_count": null,
   "id": "eb400e23",
   "metadata": {},
   "outputs": [],
   "source": []
  },
  {
   "cell_type": "code",
   "execution_count": null,
   "id": "7cd18609",
   "metadata": {},
   "outputs": [],
   "source": []
  },
  {
   "cell_type": "code",
   "execution_count": null,
   "id": "89faa046",
   "metadata": {},
   "outputs": [],
   "source": []
  }
 ],
 "metadata": {
  "kernelspec": {
   "display_name": "Python 3 (ipykernel)",
   "language": "python",
   "name": "python3"
  },
  "language_info": {
   "codemirror_mode": {
    "name": "ipython",
    "version": 3
   },
   "file_extension": ".py",
   "mimetype": "text/x-python",
   "name": "python",
   "nbconvert_exporter": "python",
   "pygments_lexer": "ipython3",
   "version": "3.9.13"
  }
 },
 "nbformat": 4,
 "nbformat_minor": 5
}
