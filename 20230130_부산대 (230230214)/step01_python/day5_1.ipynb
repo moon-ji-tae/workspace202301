{
 "cells": [
  {
   "cell_type": "markdown",
   "id": "635a0a17",
   "metadata": {},
   "source": [
    "# Review\n",
    "\n",
    "## 함수 \n",
    "- 입력변수 = 매개변수 = 파라미터 = 인자 \n",
    "- return 반환\n",
    "```\n",
    "def 함수명(파라미터):\n",
    "    명령문 \n",
    "    return 계산식|변수|값\n",
    "```\n",
    "- 파라미터의 초기값이 있는 형태 \n",
    "```\n",
    "def 함수명(파라미터=값):\n",
    "    명령문 \n",
    "    return 계산식|변수|값\n",
    "```\n",
    "- return 반환값이 여러개인 경우 : 튜플 \n",
    "```\n",
    "def 함수명(파라미터):\n",
    "    명령문 \n",
    "    return 값1, 값2 ....\n",
    "```\n",
    "- 가변 파라미터 : 튜플 \n",
    "```\n",
    "def 함수명(*args):\n",
    "    명령문 \n",
    "    return 값1, 값2 ....\n",
    "```\n",
    "- 키워드 가변 파라미터 : 딕셔너리  \n",
    "```\n",
    "def 함수명(**kwargs):\n",
    "    명령문 \n",
    "    return 값1, 값2 ....\n",
    "\n",
    "호출시 \n",
    "함수명(키1=값1, 키2=값2 ... )\n",
    "\n",
    "```\n",
    "- 람다 함수 \n",
    "```\n",
    "lambda 파라미터:반환값\n",
    "```\n",
    "- filter(람다식|함수명, 리스트|튜플) \n",
    "- map(람다식|함수명, 리스트|튜플)\n",
    "\n",
    "## 모듈 \n",
    "\n",
    "### 모듈 종류 \n",
    "- 기본 모듈 \n",
    "- 외장 모듈 : pip 명령을 이용해서 별도 설치 필요 \n",
    "- 사용자정의 모듈 \n",
    "\n",
    "### 모듈 임포트 \n",
    "- 방식1\n",
    "```\n",
    "import 모듈 \n",
    "\n",
    "모듈.함수명(옵션)\n",
    "```\n",
    "- 방식2\n",
    "```\n",
    "import 모듈 as 별칭 \n",
    "\n",
    "별칭.함수명(옵션)\n",
    "```\n",
    "- 방식3\n",
    "```\n",
    "from 모듈 import 함수명1, 함수명2 ... \n",
    "\n",
    "함수명(옵션)\n",
    "```\n"
   ]
  },
  {
   "cell_type": "markdown",
   "id": "9bae5063",
   "metadata": {},
   "source": [
    "# random 모듈"
   ]
  },
  {
   "cell_type": "code",
   "execution_count": 1,
   "id": "5fce29db",
   "metadata": {},
   "outputs": [
    {
     "name": "stdout",
     "output_type": "stream",
     "text": [
      "['BPF', 'LOG4', 'NV_MAGICCONST', 'RECIP_BPF', 'Random', 'SG_MAGICCONST', 'SystemRandom', 'TWOPI', '_Sequence', '_Set', '__all__', '__builtins__', '__cached__', '__doc__', '__file__', '__loader__', '__name__', '__package__', '__spec__', '_accumulate', '_acos', '_bisect', '_ceil', '_cos', '_e', '_exp', '_floor', '_inst', '_log', '_os', '_pi', '_random', '_repeat', '_sha512', '_sin', '_sqrt', '_test', '_test_generator', '_urandom', '_warn', 'betavariate', 'choice', 'choices', 'expovariate', 'gammavariate', 'gauss', 'getrandbits', 'getstate', 'lognormvariate', 'normalvariate', 'paretovariate', 'randbytes', 'randint', 'random', 'randrange', 'sample', 'seed', 'setstate', 'shuffle', 'triangular', 'uniform', 'vonmisesvariate', 'weibullvariate']\n"
     ]
    }
   ],
   "source": [
    "# 모듈 임포트 \n",
    "import random \n",
    "# 모듈 임포트 확인 \n",
    "print(dir(random))"
   ]
  },
  {
   "cell_type": "code",
   "execution_count": 23,
   "id": "9d6dc785",
   "metadata": {},
   "outputs": [
    {
     "name": "stdout",
     "output_type": "stream",
     "text": [
      "2 5 5 2 4 "
     ]
    }
   ],
   "source": [
    "# 1~5 사이의 숫자중에서 무작위 추출 \n",
    "for i in range(5):\n",
    "    print(random.randrange(1,6), end=' ')"
   ]
  },
  {
   "cell_type": "code",
   "execution_count": 25,
   "id": "e0f20d28",
   "metadata": {},
   "outputs": [
    {
     "name": "stdout",
     "output_type": "stream",
     "text": [
      "[98, 48, 19, 5, 12]\n",
      "[88, 7, 31, 80, 18]\n"
     ]
    }
   ],
   "source": [
    "# 1~100 범위에서 5개를 무작위로 추출한후 \n",
    "# 리스트로 만들기 \n",
    "num_list = []\n",
    "for i in range(5):\n",
    "    num_list.append(random.randrange(1,101))\n",
    "print(num_list)    \n",
    "\n",
    "# 리스트 내포 방식 스타일 \n",
    "num_list = [random.randrange(1,101) for i in range(5)]\n",
    "print(num_list)    "
   ]
  },
  {
   "cell_type": "code",
   "execution_count": 27,
   "id": "054b1500",
   "metadata": {},
   "outputs": [
    {
     "name": "stdout",
     "output_type": "stream",
     "text": [
      "가 나 다 라 마 바 사 <class 'str'>\n",
      "['가', '나', '다', '라', '마', '바', '사'] <class 'list'>\n"
     ]
    }
   ],
   "source": [
    "# 문자열 => 리스트 \n",
    "# 문자열.split()\n",
    "# 공백을 기준으로 글자를 분리해서 리스트 생성\n",
    "txt = '가 나 다 라 마 바 사'\n",
    "txt_list = txt.split()\n",
    "print(txt, type(txt))\n",
    "print(txt_list, type(txt_list))"
   ]
  },
  {
   "cell_type": "code",
   "execution_count": 33,
   "id": "e77890c3",
   "metadata": {},
   "outputs": [
    {
     "name": "stdout",
     "output_type": "stream",
     "text": [
      "['가', '나', '다', '라', '마', '바', '사']\n",
      "[1, 2, 3, 4, 5, 6, 7, 8, 9, 10]\n",
      "['가', '나']\n",
      "[10, 2, 3]\n",
      "\n",
      "['사', '바', '나', '라', '가', '마', '다']\n",
      "[1, 5, 2, 9, 7, 3, 10, 4, 8, 6]\n"
     ]
    }
   ],
   "source": [
    "# random.sample(리스트, n) : 뽑기 \n",
    "# random.shuffle(리스트) : 섞기\n",
    "txt = '가 나 다 라 마 바 사'\n",
    "txt_list = txt.split()\n",
    "num_list = list(range(1,11))\n",
    "print(txt_list)\n",
    "print(num_list)\n",
    "print(random.sample(txt_list, 2))\n",
    "print(random.sample(num_list, 3))\n",
    "print()\n",
    "# print(random.shuffle(txt_list)) # None\n",
    "random.shuffle(txt_list)\n",
    "print(txt_list)\n",
    "random.shuffle(num_list)\n",
    "print(num_list)"
   ]
  },
  {
   "cell_type": "code",
   "execution_count": 34,
   "id": "9d971fde",
   "metadata": {},
   "outputs": [
    {
     "name": "stdout",
     "output_type": "stream",
     "text": [
      "추천 로또 번호 [1, 4, 11, 13, 24, 46]\n",
      "추천 로또 번호 [2, 4, 10, 17, 18, 35]\n",
      "추천 로또 번호 [4, 18, 31, 31, 36, 38]\n"
     ]
    }
   ],
   "source": [
    "# 로또 번호 리스트 만들기 (중복숫자 있음)\n",
    "# 1~46 숫자중에서 6개 \n",
    "def make_lotto():\n",
    "    lotto_list = []\n",
    "    for i in range(6):\n",
    "        lotto_list.append(random.randint(1,46))\n",
    "    # 숫자 정렬 \n",
    "    return print(f'추천 로또 번호 {sorted(lotto_list)}')\n",
    "\n",
    "make_lotto()\n",
    "make_lotto()\n",
    "make_lotto()"
   ]
  },
  {
   "cell_type": "code",
   "execution_count": 35,
   "id": "ca2d6223",
   "metadata": {},
   "outputs": [
    {
     "name": "stdout",
     "output_type": "stream",
     "text": [
      "추천 로또 번호 [12, 18, 22, 26, 29, 37]\n",
      "추천 로또 번호 [1, 28, 30, 37, 40, 45]\n",
      "추천 로또 번호 [9, 26, 28, 30, 33, 43]\n"
     ]
    }
   ],
   "source": [
    "# 로또 번호 리스트 만들기 (중복숫자 없음)\n",
    "# 1~46 숫자중에서 6개 \n",
    "def make_lotto2():\n",
    "    # 1~46 개로 구성된 숫자 리스트 생성 \n",
    "    num_list = list(range(1,47))\n",
    "    # 6개 뽑기 \n",
    "    lotto_list = random.sample(num_list, 6)\n",
    "    # 숫자 정렬 \n",
    "    return print(f'추천 로또 번호 {sorted(lotto_list)}')\n",
    "\n",
    "make_lotto2()\n",
    "make_lotto2()\n",
    "make_lotto2()"
   ]
  },
  {
   "cell_type": "code",
   "execution_count": 37,
   "id": "8b1606b7",
   "metadata": {},
   "outputs": [
    {
     "name": "stdout",
     "output_type": "stream",
     "text": [
      "월요일 청소당번 : 하민수 , 신은수\n",
      "화요일 청소당번 : 하민수 , 김철수\n",
      "수요일 청소당번 : 홍길동 , 김영희\n",
      "목요일 청소당번 : 하민수 , 기대주\n",
      "금요일 청소당번 : 기대주 , 홍길동\n"
     ]
    }
   ],
   "source": [
    "# 슬라이드 224\n",
    "# 학생 리스트에서 일주일(월~금) \n",
    "# 청소당번 2명을 뽑아서 출력하여라\n",
    "stList = ['김철수','홍길동','기대주',\n",
    "          '이동백','하민수','김영희',\n",
    "          '소민주','신은수']\n",
    "\n",
    "def choice_student(stList):\n",
    "    day_list = ['월','화','수', '목', '금']\n",
    "    for item in day_list:\n",
    "        # 리스트 => 문자열 : 구분자문자열.join(리스트)\n",
    "        choice = ' , '.join(random.sample(stList,2))\n",
    "        print(f'{item}요일 청소당번 : {choice}')\n",
    "    \n",
    "choice_student(stList)"
   ]
  },
  {
   "cell_type": "markdown",
   "id": "e7899380",
   "metadata": {},
   "source": [
    "# 사용자정의 모듈 \n",
    "\n",
    "- 쥬피터 노트북 작성시 새로운 노트북 파일을 생성\n",
    "- 함수 정의\n",
    "- [File]-[Download As]-[Python (.py)]로 파일명.py 생성 \n",
    "- 쥬피터노트북 파일이 있는 폴더에 파일명.py 복사 붙여넣기 \n"
   ]
  },
  {
   "cell_type": "code",
   "execution_count": null,
   "id": "14ef89ae",
   "metadata": {},
   "outputs": [],
   "source": [
    "# 쥬피터노트북 작업폴더 위치 확인 "
   ]
  },
  {
   "cell_type": "code",
   "execution_count": 42,
   "id": "f082e0b4",
   "metadata": {},
   "outputs": [
    {
     "name": "stdout",
     "output_type": "stream",
     "text": [
      " C 드라이브의 볼륨에는 이름이 없습니다.\n",
      " 볼륨 일련 번호: F2CA-487A\n",
      "\n",
      " c:\\pyclass 디렉터리\n",
      "\n",
      "2023-02-03  오전 11:12    <DIR>          .\n",
      "2023-02-03  오전 11:12    <DIR>          ..\n",
      "2023-02-03  오전 11:01    <DIR>          .ipynb_checkpoints\n",
      "2023-02-03  오전 11:04               948 custom.ipynb\n",
      "2023-02-03  오전 11:05               337 custom.py\n",
      "2023-01-30  오전 11:38             4,460 day1_1.ipynb\n",
      "2023-01-30  오후 05:40            21,863 day1_2.ipynb\n",
      "2023-01-31  오후 02:39            25,106 day2_1.ipynb\n",
      "2023-01-31  오후 05:28            12,243 day2_2.ipynb\n",
      "2023-02-01  오후 01:00            14,523 day3_1.ipynb\n",
      "2023-02-01  오후 05:29            24,631 day3_2.ipynb\n",
      "2023-02-02  오후 04:54            30,246 day4_1.ipynb\n",
      "2023-02-02  오후 05:36             6,613 day4_2.ipynb\n",
      "2023-02-03  오전 11:12            11,755 day5_1.ipynb\n",
      "              11개 파일             152,725 바이트\n",
      "               3개 디렉터리  933,400,035,328 바이트 남음\n"
     ]
    }
   ],
   "source": [
    "ls"
   ]
  },
  {
   "cell_type": "code",
   "execution_count": 41,
   "id": "11e50533",
   "metadata": {},
   "outputs": [
    {
     "name": "stdout",
     "output_type": "stream",
     "text": [
      " C 드라이브의 볼륨에는 이름이 없습니다.\n",
      " 볼륨 일련 번호: F2CA-487A\n",
      "\n",
      " c:\\pyclass 디렉터리\n",
      "\n",
      "2023-02-03  오전 11:05               337 custom.py\n",
      "               1개 파일                 337 바이트\n",
      "               0개 디렉터리  933,396,189,184 바이트 남음\n"
     ]
    }
   ],
   "source": [
    "ls c*.py"
   ]
  },
  {
   "cell_type": "code",
   "execution_count": 1,
   "id": "f63d7113",
   "metadata": {},
   "outputs": [
    {
     "name": "stdout",
     "output_type": "stream",
     "text": [
      "['__builtins__', '__cached__', '__doc__', '__file__', '__loader__', '__name__', '__package__', '__spec__', 'make_lotto3', 'random']\n"
     ]
    }
   ],
   "source": [
    "# 사용자정의 모듈 임포트하기 \n",
    "import custom, random\n",
    "\n",
    "print(dir(custom))"
   ]
  },
  {
   "cell_type": "code",
   "execution_count": 2,
   "id": "442b29ef",
   "metadata": {},
   "outputs": [
    {
     "name": "stdout",
     "output_type": "stream",
     "text": [
      "이번주 로또 당첨 번호 [4, 12, 28, 33, 39, 40]\n"
     ]
    }
   ],
   "source": [
    "# custom.py 안에 등록된 함수 실행 \n",
    "# 파일명.함수()\n",
    "custom.make_lotto3()"
   ]
  },
  {
   "cell_type": "code",
   "execution_count": null,
   "id": "07bdec7f",
   "metadata": {},
   "outputs": [],
   "source": [
    "# 파이썬 파일 목록 확인 1"
   ]
  },
  {
   "cell_type": "code",
   "execution_count": 3,
   "id": "a1d849f8",
   "metadata": {},
   "outputs": [
    {
     "name": "stdout",
     "output_type": "stream",
     "text": [
      " C 드라이브의 볼륨에는 이름이 없습니다.\n",
      " 볼륨 일련 번호: F2CA-487A\n",
      "\n",
      " c:\\pyclass 디렉터리\n",
      "\n",
      "2023-02-03  오전 11:24               400 custom.py\n",
      "2023-02-03  오전 11:36               408 gugu.py\n",
      "               2개 파일                 808 바이트\n",
      "               0개 디렉터리  933,392,183,296 바이트 남음\n"
     ]
    }
   ],
   "source": [
    "ls *.py"
   ]
  },
  {
   "cell_type": "code",
   "execution_count": 4,
   "id": "a075301e",
   "metadata": {},
   "outputs": [
    {
     "name": "stdout",
     "output_type": "stream",
     "text": [
      "['__builtins__', '__cached__', '__doc__', '__file__', '__loader__', '__name__', '__package__', '__spec__', 'gugu_print1', 'gugu_print2']\n"
     ]
    }
   ],
   "source": [
    "# gugu.py 임포트 \n",
    "import gugu\n",
    "\n",
    "print(dir(gugu))"
   ]
  },
  {
   "cell_type": "code",
   "execution_count": 5,
   "id": "05831fcb",
   "metadata": {},
   "outputs": [
    {
     "name": "stdout",
     "output_type": "stream",
     "text": [
      "출력할 단의 숫자를 입력하세요?...5\n",
      "5 X 1 = 5\n",
      "5 X 2 = 10\n",
      "5 X 3 = 15\n",
      "5 X 4 = 20\n",
      "5 X 5 = 25\n",
      "5 X 6 = 30\n",
      "5 X 7 = 35\n",
      "5 X 8 = 40\n",
      "5 X 9 = 45\n"
     ]
    }
   ],
   "source": [
    "# gugu.py 에 등록된 함수 호출 \n",
    "gugu.gugu_print1()"
   ]
  },
  {
   "cell_type": "code",
   "execution_count": 6,
   "id": "c60398f4",
   "metadata": {
    "scrolled": true
   },
   "outputs": [
    {
     "name": "stdout",
     "output_type": "stream",
     "text": [
      "2 X 1 = 2\n",
      "2 X 2 = 4\n",
      "2 X 3 = 6\n",
      "2 X 4 = 8\n",
      "2 X 5 = 10\n",
      "2 X 6 = 12\n",
      "2 X 7 = 14\n",
      "2 X 8 = 16\n",
      "2 X 9 = 18\n",
      "3 X 1 = 3\n",
      "3 X 2 = 6\n",
      "3 X 3 = 9\n",
      "3 X 4 = 12\n",
      "3 X 5 = 15\n",
      "3 X 6 = 18\n",
      "3 X 7 = 21\n",
      "3 X 8 = 24\n",
      "3 X 9 = 27\n",
      "4 X 1 = 4\n",
      "4 X 2 = 8\n",
      "4 X 3 = 12\n",
      "4 X 4 = 16\n",
      "4 X 5 = 20\n",
      "4 X 6 = 24\n",
      "4 X 7 = 28\n",
      "4 X 8 = 32\n",
      "4 X 9 = 36\n",
      "5 X 1 = 5\n",
      "5 X 2 = 10\n",
      "5 X 3 = 15\n",
      "5 X 4 = 20\n",
      "5 X 5 = 25\n",
      "5 X 6 = 30\n",
      "5 X 7 = 35\n",
      "5 X 8 = 40\n",
      "5 X 9 = 45\n",
      "6 X 1 = 6\n",
      "6 X 2 = 12\n",
      "6 X 3 = 18\n",
      "6 X 4 = 24\n",
      "6 X 5 = 30\n",
      "6 X 6 = 36\n",
      "6 X 7 = 42\n",
      "6 X 8 = 48\n",
      "6 X 9 = 54\n",
      "7 X 1 = 7\n",
      "7 X 2 = 14\n",
      "7 X 3 = 21\n",
      "7 X 4 = 28\n",
      "7 X 5 = 35\n",
      "7 X 6 = 42\n",
      "7 X 7 = 49\n",
      "7 X 8 = 56\n",
      "7 X 9 = 63\n",
      "8 X 1 = 8\n",
      "8 X 2 = 16\n",
      "8 X 3 = 24\n",
      "8 X 4 = 32\n",
      "8 X 5 = 40\n",
      "8 X 6 = 48\n",
      "8 X 7 = 56\n",
      "8 X 8 = 64\n",
      "8 X 9 = 72\n",
      "9 X 1 = 9\n",
      "9 X 2 = 18\n",
      "9 X 3 = 27\n",
      "9 X 4 = 36\n",
      "9 X 5 = 45\n",
      "9 X 6 = 54\n",
      "9 X 7 = 63\n",
      "9 X 8 = 72\n",
      "9 X 9 = 81\n"
     ]
    }
   ],
   "source": [
    "gugu.gugu_print2()"
   ]
  },
  {
   "cell_type": "markdown",
   "id": "d0ae909a",
   "metadata": {},
   "source": [
    "# 패키지 \n",
    "\n",
    "- 패키지(폴더) > 파이썬파일(모듈) > 함수 \n",
    "- import 패키지명.모듈명\n",
    "- import 패키지명.모듈명 as 별칭 \n",
    "- from 패키지명.모듈명 import 함수 "
   ]
  },
  {
   "cell_type": "markdown",
   "id": "e6743350",
   "metadata": {},
   "source": [
    "##  패키지 테스트 \n",
    "\n",
    "- 1) test_p 폴더를 쥬피터노트북 파일이 있는 작업폴더에 생성 \n",
    "- 2) 새 쥬피터노트북 파일 생성 => calc\n",
    "- 3) 함수 정의 \n",
    "- 4) [File]-[Download as]-[python ~] \n",
    "    calc.py 파일 생성 \n",
    "- 5) calc.py 파이썬 파일을 test_p 폴더안에 붙여넣기 한다 "
   ]
  },
  {
   "cell_type": "code",
   "execution_count": 13,
   "id": "e0ef556b",
   "metadata": {},
   "outputs": [
    {
     "name": "stdout",
     "output_type": "stream",
     "text": [
      "['__builtins__', '__cached__', '__doc__', '__file__', '__loader__', '__name__', '__package__', '__spec__', 'calc_print', 'info']\n",
      "\n",
      "test_p 폴더안의 calc.py 호출\n",
      "\n",
      "10 + 3 = 13\n",
      "10 - 3 = 7\n",
      "10 * 3 = 30\n",
      "10 / 3 = 3.33\n"
     ]
    }
   ],
   "source": [
    "# test_p 폴더안의 calc.py 임포트 1\n",
    "import test_p.calc\n",
    "\n",
    "print(dir(test_p.calc))\n",
    "print()\n",
    "# 함수 호출 \n",
    "# test_p.calc.함수명()\n",
    "test_p.calc.info()\n",
    "print()\n",
    "test_p.calc.calc_print(10, 3)"
   ]
  },
  {
   "cell_type": "code",
   "execution_count": 14,
   "id": "ce906959",
   "metadata": {},
   "outputs": [
    {
     "name": "stdout",
     "output_type": "stream",
     "text": [
      "['__builtins__', '__cached__', '__doc__', '__file__', '__loader__', '__name__', '__package__', '__spec__', 'calc_print', 'info']\n",
      "\n",
      "test_p 폴더안의 calc.py 호출\n",
      "\n",
      "10 + 3 = 13\n",
      "10 - 3 = 7\n",
      "10 * 3 = 30\n",
      "10 / 3 = 3.33\n"
     ]
    }
   ],
   "source": [
    "# test_p 폴더안의 calc.py 임포트 2\n",
    "# 별칭 지정 \n",
    "import test_p.calc as t\n",
    "\n",
    "print(dir(t))\n",
    "print()\n",
    "# 함수 호출 \n",
    "# t.함수명()\n",
    "t.info()\n",
    "print()\n",
    "t.calc_print(10, 3)"
   ]
  },
  {
   "cell_type": "code",
   "execution_count": 15,
   "id": "05179472",
   "metadata": {},
   "outputs": [
    {
     "name": "stdout",
     "output_type": "stream",
     "text": [
      "test_p 폴더안의 calc.py 호출\n",
      "\n",
      "10 + 3 = 13\n",
      "10 - 3 = 7\n",
      "10 * 3 = 30\n",
      "10 / 3 = 3.33\n"
     ]
    }
   ],
   "source": [
    "# test_p 폴더안의 calc.py 임포트 3\n",
    "# 함수명으로 직접 호출 \n",
    "# from test_p.calc import info, calc_print\n",
    "from test_p.calc import *\n",
    "\n",
    "# 함수 호출 \n",
    "# 함수명()\n",
    "info()\n",
    "print()\n",
    "calc_print(10, 3)"
   ]
  },
  {
   "cell_type": "code",
   "execution_count": null,
   "id": "eab5fed2",
   "metadata": {},
   "outputs": [],
   "source": []
  }
 ],
 "metadata": {
  "kernelspec": {
   "display_name": "Python 3 (ipykernel)",
   "language": "python",
   "name": "python3"
  },
  "language_info": {
   "codemirror_mode": {
    "name": "ipython",
    "version": 3
   },
   "file_extension": ".py",
   "mimetype": "text/x-python",
   "name": "python",
   "nbconvert_exporter": "python",
   "pygments_lexer": "ipython3",
   "version": "3.9.13"
  }
 },
 "nbformat": 4,
 "nbformat_minor": 5
}
