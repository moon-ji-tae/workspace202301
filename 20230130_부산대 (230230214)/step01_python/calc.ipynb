{
 "cells": [
  {
   "cell_type": "code",
   "execution_count": null,
   "id": "cf1844af",
   "metadata": {},
   "outputs": [],
   "source": [
    "# test_p 폴더안의 calc.py \n",
    "\n",
    "# 사칙연산 함수 정의 \n",
    "def calc_print(x,y):\n",
    "    print(f'{x} + {y} = {x+y}')\n",
    "    print(f'{x} - {y} = {x-y}')\n",
    "    print(f'{x} * {y} = {x*y}')\n",
    "    print(f'{x} / {y} = {(x/y):.2f}')    \n",
    "\n",
    "# 테스트 함수 정의 \n",
    "def info():\n",
    "    print('test_p 폴더안의 calc.py 호출')"
   ]
  }
 ],
 "metadata": {
  "kernelspec": {
   "display_name": "Python 3 (ipykernel)",
   "language": "python",
   "name": "python3"
  },
  "language_info": {
   "codemirror_mode": {
    "name": "ipython",
    "version": 3
   },
   "file_extension": ".py",
   "mimetype": "text/x-python",
   "name": "python",
   "nbconvert_exporter": "python",
   "pygments_lexer": "ipython3",
   "version": "3.9.13"
  }
 },
 "nbformat": 4,
 "nbformat_minor": 5
}
