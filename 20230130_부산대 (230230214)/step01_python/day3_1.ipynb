{
 "cells": [
  {
   "cell_type": "markdown",
   "id": "704acff9",
   "metadata": {},
   "source": [
    "# Review\n",
    "\n",
    "## 집합형 자료 \n",
    "- 리스트 []  / 인덱싱, 슬라이싱 / CRUD\n",
    "- 딕셔너리 {키:값, ... } / 키인덱싱  / CRUD\n",
    "- 튜플 () / 인덱싱, 슬라이싱  / CR  삭제및내용변경불가능 \n",
    "- 집합 {} / CD    내용변경불가능 \n",
    "\n",
    "## 제어문 \n",
    "\n",
    "- 비교연산자 ==, !=, >, <, >=, <= \n",
    "- 논리연산자 and, or, not \n",
    "- in, not in 연산자 \n",
    "- False 인식하는 값은?  None, 0, '', \"\", [], (), {}\n",
    "- 조건문 \n",
    "    - if \n",
    "    - if ~ else ~\n",
    "    - if ~ elif ~ else\n",
    "- 반복문 \n",
    "    - while \n",
    "    - for \n",
    "- break, continue, pass    "
   ]
  },
  {
   "cell_type": "markdown",
   "id": "c835ec2d",
   "metadata": {},
   "source": [
    "# while 반복문"
   ]
  },
  {
   "cell_type": "code",
   "execution_count": 6,
   "id": "92b4b6c4",
   "metadata": {},
   "outputs": [
    {
     "name": "stdout",
     "output_type": "stream",
     "text": [
      "2\n",
      "4\n",
      "6\n",
      "8\n",
      "10\n",
      "12\n",
      "14\n",
      "16\n",
      "18\n",
      "20\n",
      "22\n",
      "24\n",
      "26\n",
      "28\n",
      "30\n",
      "32\n",
      "34\n",
      "36\n",
      "38\n",
      "40\n",
      "42\n",
      "44\n",
      "46\n",
      "48\n",
      "50\n",
      "테스트 끝\n"
     ]
    }
   ],
   "source": [
    "# 1~ n 번 숫자중에서 짝수만 출력 \n",
    "# 초기값 지정 \n",
    "count = 2\n",
    "# 범위 끝값 지정 \n",
    "n = 50\n",
    "while (count <= n):\n",
    "    print(count)\n",
    "    # 증감 \n",
    "    count += 2\n",
    "print('테스트 끝')    "
   ]
  },
  {
   "cell_type": "code",
   "execution_count": 10,
   "id": "27afca4c",
   "metadata": {},
   "outputs": [
    {
     "name": "stdout",
     "output_type": "stream",
     "text": [
      "10 9 8 7 6 5 4 3 2 1 0 테스트 끝\n"
     ]
    }
   ],
   "source": [
    "# 숫자 감소 \n",
    "# 초기값 지정 \n",
    "count = 10\n",
    "# 범위 끝값 지정 \n",
    "n = 0\n",
    "while (count >= n):\n",
    "    # 같은 행에 출력 \n",
    "    # end = 연결문자열 \n",
    "    print(count, end=' ')\n",
    "    # 감소치\n",
    "    count -= 1\n",
    "print('테스트 끝')    "
   ]
  },
  {
   "cell_type": "code",
   "execution_count": 11,
   "id": "6b8507c5",
   "metadata": {},
   "outputs": [
    {
     "name": "stdout",
     "output_type": "stream",
     "text": [
      " 1~100 까지의 누적합은? 5050\n"
     ]
    }
   ],
   "source": [
    "# 1~100까지의 합 구하기 \n",
    "count = 1\n",
    "# 누적숫자 결과 변수 \n",
    "total = 0 \n",
    "while (count <= 100):\n",
    "    total += count\n",
    "    count += 1\n",
    "print(f' 1~100 까지의 누적합은? {total}')    "
   ]
  },
  {
   "cell_type": "code",
   "execution_count": 12,
   "id": "016a836f",
   "metadata": {},
   "outputs": [
    {
     "name": "stdout",
     "output_type": "stream",
     "text": [
      "출력할 구구단의 숫자를 입력하세요...? 5\n",
      " 5 X 1 = 5\n",
      " 5 X 2 = 10\n",
      " 5 X 3 = 15\n",
      " 5 X 4 = 20\n",
      " 5 X 5 = 25\n",
      " 5 X 6 = 30\n",
      " 5 X 7 = 35\n",
      " 5 X 8 = 40\n",
      " 5 X 9 = 45\n"
     ]
    }
   ],
   "source": [
    "# 퀴즈\n",
    "# 입력받은 숫자로 구구단 출력하기\n",
    "\n",
    "n = int(input('출력할 구구단의 숫자를 입력하세요...? '))\n",
    "count = 1\n",
    "while (count <= 9):\n",
    "    print(f' {n} X {count} = {n*count}')\n",
    "    count += 1    "
   ]
  },
  {
   "cell_type": "code",
   "execution_count": 14,
   "id": "a7cc7a35",
   "metadata": {},
   "outputs": [
    {
     "name": "stdout",
     "output_type": "stream",
     "text": [
      " 1 *\n",
      " 2 **\n",
      " 3 ***\n",
      " 4 ****\n",
      " 5 *****\n"
     ]
    }
   ],
   "source": [
    "# 퀴즈 \n",
    "count = 1\n",
    "n = 5\n",
    "while (count <= 5):\n",
    "    print(f' {count} {\"*\"*count}')\n",
    "    count += 1"
   ]
  },
  {
   "cell_type": "code",
   "execution_count": 21,
   "id": "e5c1708d",
   "metadata": {},
   "outputs": [
    {
     "name": "stdout",
     "output_type": "stream",
     "text": [
      "3 5 6 9 10 12 15 18 20 21 24 25 27 30 33 35 36 39 40 42 45 48 50 51 54 55 57 60 63 65 66 69 70 72 75 78 80 81 84 85 87 90 93 95 96 99 100 \n",
      "==============================\n",
      "3이나 5의 배수 갯수는? 47\n"
     ]
    }
   ],
   "source": [
    "# while 문 + 조건문 \n",
    "# 1~100 사이 숫자중에서 \n",
    "# 3의 배수이거나 5의 배수를 출력하고 총 갯수는?\n",
    "count = 1\n",
    "tot = 0 # 3이나 5의 배수 카운팅 변수 \n",
    "while (count <= 100):\n",
    "    if (count%3 == 0) or (count%5 == 0):\n",
    "        print(count, end= ' ')\n",
    "        tot += 1 \n",
    "    count += 1\n",
    "print()\n",
    "print('='*30)\n",
    "print(f'3이나 5의 배수 갯수는? {tot}')"
   ]
  },
  {
   "cell_type": "code",
   "execution_count": 23,
   "id": "8fe7411c",
   "metadata": {},
   "outputs": [],
   "source": [
    "# 퀴즈\n",
    "# a로 시작하는 단어만 리스트에 입력될 수 있도록 프로그래밍 하여라.\n",
    "# 이때 리스트 길이는 입력 받은 값으로 한다. "
   ]
  },
  {
   "cell_type": "code",
   "execution_count": 29,
   "id": "1dd1e489",
   "metadata": {},
   "outputs": [
    {
     "name": "stdout",
     "output_type": "stream",
     "text": [
      "리스트 길이를 입력하세요 ...3\n",
      "단어를 입력하세요 ...apply\n",
      "1  : 단어가 추가되었습니다\n",
      "\n",
      "단어를 입력하세요 ...pine\n",
      "\n",
      "단어를 입력하세요 ...apart\n",
      "2  : 단어가 추가되었습니다\n",
      "\n",
      "단어를 입력하세요 ...quit\n",
      "\n",
      "단어를 입력하세요 ...apple\n",
      "3  : 단어가 추가되었습니다\n",
      "\n",
      "\n",
      "['apply', 'apart', 'apple']\n"
     ]
    }
   ],
   "source": [
    "# 리스트 생성 \n",
    "wordlist = []\n",
    "# while 문에 사용할 카운팅 변수 \n",
    "count = 0\n",
    "# 리스트의 길이 입력받기 \n",
    "n = int(input('리스트 길이를 입력하세요 ...'))\n",
    "while ( count < n):\n",
    "    word = input('단어를 입력하세요 ...') \n",
    "    # 첫글자가 a라면 리스트에 추가하고 \n",
    "    # count  증가. 메세지 출력\n",
    "    if (word[0] == 'a'):\n",
    "        wordlist.append(word)\n",
    "        count += 1\n",
    "        print(count, ' : 단어가 추가되었습니다')\n",
    "    print()\n",
    "\n",
    "# 전체 리스트 출력 \n",
    "print()\n",
    "print(wordlist)       "
   ]
  },
  {
   "cell_type": "code",
   "execution_count": 38,
   "id": "ef7b8312",
   "metadata": {},
   "outputs": [
    {
     "name": "stdout",
     "output_type": "stream",
     "text": [
      " [100, 55, 50, 30, 25, 10, 67, 88, 45] 리스트의 평균은? 52.22 \n",
      "평균보다 큰 값은?  100 55 67 88 "
     ]
    }
   ],
   "source": [
    "# 리스트에서 평균을 구한 후 평균보다 큰 값만 출력하여라.\n",
    "# [100, 55, 50, 30, 25, 10, 67, 88, 45] 의 평균은? 52.22\n",
    "# 평균보다 큰 값은? 100 55 67 88 \n",
    "\n",
    "# 리스트의 평균구하기 \n",
    "score = [100, 55, 50, 30, 25, 10, 67, 88, 45] \n",
    "count = 0\n",
    "tot = 0 # 리스트 합 누적 \n",
    "# print(len(score))\n",
    "while (count<len(score)):\n",
    "    # print(score[count])\n",
    "    tot += score[count] \n",
    "    count += 1\n",
    "\n",
    "avg = tot/len(score)   \n",
    "print(f' {score} 리스트의 평균은? {avg:.2f} ')\n",
    "\n",
    "# 평균값보다 큰 값 출력하기 \n",
    "print('평균보다 큰 값은? ', end=' ')\n",
    "count = 0\n",
    "while (count<len(score)):\n",
    "    if (score[count] >= avg):\n",
    "        print(score[count], end=' ')\n",
    "    count += 1\n",
    "    "
   ]
  },
  {
   "cell_type": "code",
   "execution_count": 42,
   "id": "47aa57f9",
   "metadata": {},
   "outputs": [
    {
     "name": "stdout",
     "output_type": "stream",
     "text": [
      "1\n",
      "====== 1\n",
      "====== 2\n",
      "====== 3\n",
      "2\n",
      "====== 1\n",
      "====== 2\n",
      "====== 3\n",
      "3\n",
      "====== 1\n",
      "====== 2\n",
      "====== 3\n",
      "4\n",
      "====== 1\n",
      "====== 2\n",
      "====== 3\n"
     ]
    }
   ],
   "source": [
    "# 반복문 + 반복문 \n",
    "count1 = 1\n",
    "while (count1<=4):\n",
    "    print(count1)\n",
    "    \n",
    "    count2 = 1\n",
    "    while (count2<=3):\n",
    "        print(f'====== {count2}')\n",
    "        count2 += 1\n",
    "    \n",
    "    count1 += 1"
   ]
  },
  {
   "cell_type": "code",
   "execution_count": 44,
   "id": "78d4599d",
   "metadata": {},
   "outputs": [
    {
     "name": "stdout",
     "output_type": "stream",
     "text": [
      "2 단\n",
      "2 X 1 = 2\n",
      "2 X 2 = 4\n",
      "2 X 3 = 6\n",
      "2 X 4 = 8\n",
      "2 X 5 = 10\n",
      "2 X 6 = 12\n",
      "2 X 7 = 14\n",
      "2 X 8 = 16\n",
      "2 X 9 = 18\n",
      "==============================\n",
      "3 단\n",
      "3 X 1 = 3\n",
      "3 X 2 = 6\n",
      "3 X 3 = 9\n",
      "3 X 4 = 12\n",
      "3 X 5 = 15\n",
      "3 X 6 = 18\n",
      "3 X 7 = 21\n",
      "3 X 8 = 24\n",
      "3 X 9 = 27\n",
      "==============================\n",
      "4 단\n",
      "4 X 1 = 4\n",
      "4 X 2 = 8\n",
      "4 X 3 = 12\n",
      "4 X 4 = 16\n",
      "4 X 5 = 20\n",
      "4 X 6 = 24\n",
      "4 X 7 = 28\n",
      "4 X 8 = 32\n",
      "4 X 9 = 36\n",
      "==============================\n",
      "5 단\n",
      "5 X 1 = 5\n",
      "5 X 2 = 10\n",
      "5 X 3 = 15\n",
      "5 X 4 = 20\n",
      "5 X 5 = 25\n",
      "5 X 6 = 30\n",
      "5 X 7 = 35\n",
      "5 X 8 = 40\n",
      "5 X 9 = 45\n",
      "==============================\n",
      "6 단\n",
      "6 X 1 = 6\n",
      "6 X 2 = 12\n",
      "6 X 3 = 18\n",
      "6 X 4 = 24\n",
      "6 X 5 = 30\n",
      "6 X 6 = 36\n",
      "6 X 7 = 42\n",
      "6 X 8 = 48\n",
      "6 X 9 = 54\n",
      "==============================\n",
      "7 단\n",
      "7 X 1 = 7\n",
      "7 X 2 = 14\n",
      "7 X 3 = 21\n",
      "7 X 4 = 28\n",
      "7 X 5 = 35\n",
      "7 X 6 = 42\n",
      "7 X 7 = 49\n",
      "7 X 8 = 56\n",
      "7 X 9 = 63\n",
      "==============================\n",
      "8 단\n",
      "8 X 1 = 8\n",
      "8 X 2 = 16\n",
      "8 X 3 = 24\n",
      "8 X 4 = 32\n",
      "8 X 5 = 40\n",
      "8 X 6 = 48\n",
      "8 X 7 = 56\n",
      "8 X 8 = 64\n",
      "8 X 9 = 72\n",
      "==============================\n",
      "9 단\n",
      "9 X 1 = 9\n",
      "9 X 2 = 18\n",
      "9 X 3 = 27\n",
      "9 X 4 = 36\n",
      "9 X 5 = 45\n",
      "9 X 6 = 54\n",
      "9 X 7 = 63\n",
      "9 X 8 = 72\n",
      "9 X 9 = 81\n",
      "==============================\n"
     ]
    }
   ],
   "source": [
    "# 구구단 출력하기 \n",
    "count1 = 2\n",
    "while (count1 <= 9):\n",
    "    print(f'{count1} 단')\n",
    "    \n",
    "    # 실제 구구단 내용 출력 \n",
    "    count2 = 1\n",
    "    while (count2<=9):\n",
    "        print(f'{count1} X {count2} = {count1*count2}')\n",
    "        count2 += 1\n",
    "    \n",
    "    count1 += 1\n",
    "    print('='*30)"
   ]
  },
  {
   "cell_type": "code",
   "execution_count": 46,
   "id": "5dbd2efc",
   "metadata": {},
   "outputs": [
    {
     "name": "stdout",
     "output_type": "stream",
     "text": [
      "1\n",
      "2\n",
      "3\n",
      "4\n",
      "5\n",
      "6\n",
      "7\n",
      "8\n",
      "9\n",
      "10\n",
      "테스트 종료\n"
     ]
    }
   ],
   "source": [
    "# while + break\n",
    "# while True조건:\n",
    "#  if ~ :\n",
    "#     명령문 \n",
    "#     break\n",
    "\n",
    "# 1~10 사이의 숫자 출력 \n",
    "count = 1\n",
    "while True:\n",
    "    print(count)\n",
    "    if count == 10:\n",
    "        break\n",
    "    count += 1\n",
    "\n",
    "print('테스트 종료')"
   ]
  },
  {
   "cell_type": "code",
   "execution_count": 55,
   "id": "a5c2d400",
   "metadata": {},
   "outputs": [
    {
     "name": "stdout",
     "output_type": "stream",
     "text": [
      "1 2 3 4 6 7 8 9 11 12 13 14 16 17 18 19 21 22 23 24 26 27 28 29 "
     ]
    }
   ],
   "source": [
    "# continue\n",
    "# 하단 명령이 실행되지 않는다 \n",
    "\n",
    "# 0~30 사이의 숫자중에서 5의 배수만 출력하지 않는다 \n",
    "count = 0 \n",
    "while ( count<30 ):\n",
    "    count += 1\n",
    "    \n",
    "    if (count%5 == 0):\n",
    "        continue\n",
    "        \n",
    "    print(count, end = ' ')\n",
    "    "
   ]
  },
  {
   "cell_type": "code",
   "execution_count": 59,
   "id": "538ad57f",
   "metadata": {},
   "outputs": [],
   "source": [
    "# pass\n",
    "pocket = ['카드', '현금', '핸드폰']\n",
    "if ('카드'  in pocket):\n",
    "    pass\n",
    "   # print('차를 타라')\n",
    "else:    \n",
    "    print('도보!!!')"
   ]
  },
  {
   "cell_type": "code",
   "execution_count": null,
   "id": "15cbf39b",
   "metadata": {},
   "outputs": [],
   "source": []
  },
  {
   "cell_type": "code",
   "execution_count": null,
   "id": "b2a11a02",
   "metadata": {},
   "outputs": [],
   "source": []
  },
  {
   "cell_type": "code",
   "execution_count": null,
   "id": "a98e2c64",
   "metadata": {},
   "outputs": [],
   "source": []
  },
  {
   "cell_type": "code",
   "execution_count": null,
   "id": "edbaf07f",
   "metadata": {},
   "outputs": [],
   "source": []
  }
 ],
 "metadata": {
  "kernelspec": {
   "display_name": "Python 3 (ipykernel)",
   "language": "python",
   "name": "python3"
  },
  "language_info": {
   "codemirror_mode": {
    "name": "ipython",
    "version": 3
   },
   "file_extension": ".py",
   "mimetype": "text/x-python",
   "name": "python",
   "nbconvert_exporter": "python",
   "pygments_lexer": "ipython3",
   "version": "3.9.13"
  }
 },
 "nbformat": 4,
 "nbformat_minor": 5
}
