{
 "cells": [
  {
   "cell_type": "markdown",
   "id": "9e9aac98",
   "metadata": {},
   "source": [
    "# 객체지향 "
   ]
  },
  {
   "cell_type": "markdown",
   "id": "7c2f1ed6",
   "metadata": {},
   "source": [
    "# 클래스 \n",
    "\n",
    "- 클래스 선언 \n",
    "- 인스턴스 "
   ]
  },
  {
   "cell_type": "code",
   "execution_count": 3,
   "id": "8b42d335",
   "metadata": {},
   "outputs": [
    {
     "name": "stdout",
     "output_type": "stream",
     "text": [
      "<class '__main__.Square'>\n",
      "<class 'type'>\n",
      "<__main__.Square object at 0x000001B9ABDDFA60> <class '__main__.Square'>\n",
      "<__main__.Square object at 0x000001B9ADC83280> <class '__main__.Square'>\n"
     ]
    }
   ],
   "source": [
    "# class 클래스명:\n",
    "#    명령어 \n",
    "\n",
    "# 사각형 - 가로, 세로, 색상 \n",
    "# 클래스명의 첫글자는 대문자 \n",
    "class Square:\n",
    "    pass\n",
    "\n",
    "print(Square)\n",
    "print(type(Square))\n",
    "\n",
    "# 객체화 \n",
    "# 인스턴스명 = 클래스명()\n",
    "square1 = Square()\n",
    "square2 = Square()\n",
    "print(square1, type(square1))\n",
    "print(square2, type(square2))"
   ]
  },
  {
   "cell_type": "code",
   "execution_count": 4,
   "id": "c89ed47b",
   "metadata": {},
   "outputs": [
    {
     "name": "stdout",
     "output_type": "stream",
     "text": [
      "True\n",
      "False\n",
      "False\n",
      "True\n"
     ]
    }
   ],
   "source": [
    "# isinstance(인스턴스명, 클래스명)\n",
    "# 클래스에 의해서 인스턴스가 생성되었는지 확인하는 함수 \n",
    "class Car:\n",
    "    pass\n",
    "\n",
    "class Bus:\n",
    "    pass\n",
    "\n",
    "# 객체화 \n",
    "car = Car()\n",
    "bus = Bus()\n",
    "\n",
    "print(isinstance(car, Car))\n",
    "print(isinstance(car, Bus))\n",
    "print(isinstance(bus, Car))\n",
    "print(isinstance(bus, Bus))"
   ]
  },
  {
   "cell_type": "markdown",
   "id": "25353918",
   "metadata": {},
   "source": [
    "# 생성자 메서드 \n",
    "\n",
    "```\n",
    "class 클래스명:\n",
    "    def __init__ (self, 파라미터1, 파라미터2 ....):\n",
    "       self.속성1 = 파라미터1\n",
    "       self.속성2 = 파라미터2\n",
    "       \n",
    "       \n",
    "```"
   ]
  },
  {
   "cell_type": "code",
   "execution_count": 7,
   "id": "4a7bc5f8",
   "metadata": {},
   "outputs": [
    {
     "name": "stdout",
     "output_type": "stream",
     "text": [
      "<__main__.Square object at 0x000001B9ADF456D0>\n",
      "<__main__.Square object at 0x000001B9ADF456A0>\n",
      "사각형1 : red 10 20\n",
      "사각형2 : blue 30 30\n",
      "사각형1의 면적 : 200\n",
      "사각형2의 면적 : 900\n"
     ]
    }
   ],
   "source": [
    "# 사각형 클래스 정의 \n",
    "# 가로, 세로, 색상 \n",
    "class Square:\n",
    "    # 생성자 메서드 \n",
    "    def __init__(self, width, height, color):\n",
    "        self.width = width\n",
    "        self.height = height\n",
    "        self.color = color\n",
    "\n",
    "# 객체화 \n",
    "# 클래스에 의해서 값 전달 \n",
    "square1 = Square(10, 20, 'red')\n",
    "square2 = Square(30, 30, 'blue')\n",
    "\n",
    "print(square1)\n",
    "print(square2)\n",
    "\n",
    "# 객체명.속성\n",
    "print(f'사각형1 : {square1.color} {square1.width} {square1.height}')\n",
    "print(f'사각형2 : {square2.color} {square2.width} {square2.height}')\n",
    "print(f'사각형1의 면적 : {square1.width*square1.height}')\n",
    "print(f'사각형2의 면적 : {square2.width*square2.height}')"
   ]
  },
  {
   "cell_type": "code",
   "execution_count": 8,
   "id": "ce3da7a2",
   "metadata": {},
   "outputs": [
    {
     "name": "stdout",
     "output_type": "stream",
     "text": [
      "가로 : 10\n",
      "세로 : 20\n",
      "색상 : red\n",
      "제작자 : ('영희', '철수')\n",
      "면적 : 10 X 20 = 200\n",
      "\n",
      "가로 : 30\n",
      "세로 : 30\n",
      "색상 : blue\n",
      "제작자 : ('영희', '철수')\n",
      "면적 : 30 X 30 = 900\n"
     ]
    }
   ],
   "source": [
    "# 사각형 클래스 정의 - 생성자 메서드 + 일반 메서드 정의 \n",
    "# 가로, 세로, 색상, 제작자  \n",
    "class Square:\n",
    "    # 생성자 메서드 \n",
    "    def __init__(self, width, height, color):\n",
    "        self.width = width\n",
    "        self.height = height\n",
    "        self.color = color\n",
    "        self.maker = ('영희', '철수')\n",
    "        \n",
    "    # 정보 출력 메서드 \n",
    "    def print_info(self):\n",
    "        print(f'가로 : {self.width}')\n",
    "        print(f'세로 : {self.height}')\n",
    "        print(f'색상 : {self.color}')\n",
    "        print(f'제작자 : {self.maker}')\n",
    "        \n",
    "    # 면적 출력 메서드 \n",
    "    def area(self):\n",
    "        return print(f'면적 : {self.width} X {self.height} = {self.width*self.height}')\n",
    "    \n",
    "\n",
    "# 객체화 \n",
    "# 클래스에 의해서 값 전달 \n",
    "square1 = Square(10, 20, 'red')\n",
    "square2 = Square(30, 30, 'blue')\n",
    "\n",
    "# 메서드 호출 \n",
    "# 객체명.메서드명()\n",
    "square1.print_info()\n",
    "square1.area()\n",
    "print()\n",
    "square2.print_info()\n",
    "square2.area()"
   ]
  },
  {
   "cell_type": "code",
   "execution_count": 9,
   "id": "aac7c557",
   "metadata": {},
   "outputs": [],
   "source": [
    "# 계산기 Calculator 클래스 만들기\n",
    "# 2개의 숫자를 속성으로 가진 계산기\n",
    "# 4개의 메소드 (더하기 / 빼기 / 곱하기 / 나누기)\n",
    "class Calculator: \n",
    "    # 생성자 메서드 - 속성 \n",
    "    def __init__(self, x, y):\n",
    "        self.x = x\n",
    "        self.y = y\n",
    "    \n",
    "    # 속성값 출력 메서드 \n",
    "    def print_info(self):\n",
    "        print(f'첫번째 숫자 : {self.x}')\n",
    "        print(f'두번째 숫자 : {self.y}')\n",
    "\n",
    "    # 더하기 메서드 \n",
    "    def plus(self):\n",
    "        print(f'더하기 : {self.x + self.y}')\n",
    "\n",
    "    # 빼기 메서드 \n",
    "    def minus(self):\n",
    "        print(f'빼기 : {self.x - self.y}')        "
   ]
  },
  {
   "cell_type": "code",
   "execution_count": 10,
   "id": "e3715dd0",
   "metadata": {},
   "outputs": [
    {
     "name": "stdout",
     "output_type": "stream",
     "text": [
      "첫번째 숫자 : 10\n",
      "두번째 숫자 : 3\n",
      "더하기 : 13\n",
      "빼기 : 7\n"
     ]
    }
   ],
   "source": [
    "# 객체화 \n",
    "cal = Calculator(10, 3)\n",
    "cal.print_info()\n",
    "cal.plus()\n",
    "cal.minus()"
   ]
  },
  {
   "cell_type": "code",
   "execution_count": 17,
   "id": "5ee62e6b",
   "metadata": {},
   "outputs": [],
   "source": [
    "# Bread 클래스 \n",
    "# 빵이름, 가격, 칼로리\n",
    "class Bread:\n",
    "    # 생성자함수 정의 \n",
    "    def __init__(self, name, price, kcal):\n",
    "        self.name = name\n",
    "        self.price = price\n",
    "        self.kcal = kcal\n",
    "    # 빵 정보 출력 메서드 정의 \n",
    "    def info(self):\n",
    "        print('='*30)\n",
    "        print(f'종류 : {self.name}')\n",
    "        print(f'가격 : {self.price}')\n",
    "        print(f'칼로리 : {self.kcal}')\n",
    "    # 갯수에 따른 가격 출력 메서드 정의 \n",
    "    def order(self, n):\n",
    "        print(f'{self.name} \n",
    "              주문 가격 : {self.price} X {n} = {self.price*n}') "
   ]
  },
  {
   "cell_type": "code",
   "execution_count": 19,
   "id": "156f6865",
   "metadata": {},
   "outputs": [
    {
     "name": "stdout",
     "output_type": "stream",
     "text": [
      "==============================\n",
      "종류 : 바게트빵\n",
      "가격 : 5000\n",
      "칼로리 : 500\n",
      "==============================\n",
      "종류 : 쏘세지빵\n",
      "가격 : 3500\n",
      "칼로리 : 400\n",
      "\n",
      "바게트빵 주문 가격 : 5000 X 5 = 25000\n",
      "쏘세지빵 주문 가격 : 3500 X 3 = 10500\n"
     ]
    }
   ],
   "source": [
    "# 객체화 \n",
    "bread1 = Bread('바게트빵', 5000, 500)\n",
    "bread2 = Bread('쏘세지빵', 3500, 400)\n",
    "# 메서드 호출 \n",
    "bread1.info()\n",
    "bread2.info()\n",
    "print()\n",
    "bread1.order(5)\n",
    "bread2.order(3)"
   ]
  },
  {
   "cell_type": "markdown",
   "id": "3140c50c",
   "metadata": {},
   "source": [
    "# 슬라이드 257  퀴즈 \n",
    "\n",
    "```\n",
    "Cat 클래스를 만들고 객체화 한 후 메서드를 호출하여라\n",
    "속성 : kind, name, age, gender, animal_kind(고양이)\n",
    "메서드 : 속성출력(print_info), 동작 : run, sleep(어디서), eat(무엇을)\n",
    "```"
   ]
  },
  {
   "cell_type": "code",
   "execution_count": 25,
   "id": "a62f887f",
   "metadata": {},
   "outputs": [],
   "source": [
    "class Cat:\n",
    "    def __init__(self, kind, name, age, gender):\n",
    "        self.animal_kind = '고양이'# 고정값을 갖는 속성  \n",
    "        self.kind = kind\n",
    "        self.name = name\n",
    "        self.age = age\n",
    "        self.gender = gender\n",
    "\n",
    "    def print_info(self):\n",
    "        print(f'{self.animal_kind:>10} 정보 출력 ')\n",
    "        print('='*20)\n",
    "        print(f' 종류 = {self.kind}')\n",
    "        print(f' 이름 = {self.name}')\n",
    "        print(f' 나이 = {self.age}')\n",
    "        print(f' 성별 = {self.gender}')\n",
    "        print()\n",
    "\n",
    "    def run(self):\n",
    "        print(f'{self.animal_kind} {self.name} 가 달린다.')\n",
    "\n",
    "    def sleep(self, where):\n",
    "        print(f'{self.animal_kind} {self.name}가 {where}에서 잔다.')\n",
    "\n",
    "    def eat(self, food):\n",
    "        print(f'{self.animal_kind} {self.name}가 {food}을(를) 먹는다.')\n",
    "\n",
    "    # 메서드안에서 다른 메서드 명령을 이용하여 정의     \n",
    "    def action_print(self):\n",
    "        print()\n",
    "        print(f'{self.animal_kind} {self.name} 의 아침 일상')\n",
    "        self.eat('물')\n",
    "        self.eat('사료')\n",
    "        self.run()\n",
    "        self.eat('간식')\n",
    "        self.sleep('쇼파')\n",
    "        print()\n"
   ]
  },
  {
   "cell_type": "code",
   "execution_count": 24,
   "id": "71e1d9fe",
   "metadata": {},
   "outputs": [
    {
     "name": "stdout",
     "output_type": "stream",
     "text": [
      "       고양이 정보 출력 \n",
      "====================\n",
      " 종류 = 코캣\n",
      " 이름 = 덩치\n",
      " 나이 = 1\n",
      " 성별 = 남\n",
      "\n",
      "       고양이 정보 출력 \n",
      "====================\n",
      " 종류 = 러시안블루\n",
      " 이름 = 나비\n",
      " 나이 = 5\n",
      " 성별 = 여\n",
      "\n",
      "고양이 덩치 가 달린다.\n",
      "고양이 나비 가 달린다.\n",
      "고양이 덩치가 캣타워에서 잔다.\n",
      "고양이 나비가 택배 박스에서 잔다.\n",
      "고양이 덩치가 사료을(를) 먹는다.\n",
      "고양이 나비가 춥스을(를) 먹는다.\n",
      "\n",
      "고양이 덩치 의 아침 일상\n",
      "고양이 덩치가 물을(를) 먹는다.\n",
      "고양이 덩치가 사료을(를) 먹는다.\n",
      "고양이 덩치 가 달린다.\n",
      "고양이 덩치가 간식을(를) 먹는다.\n",
      "고양이 덩치가 쇼파에서 잔다.\n",
      "\n",
      "\n",
      "고양이 나비 의 아침 일상\n",
      "고양이 나비가 물을(를) 먹는다.\n",
      "고양이 나비가 사료을(를) 먹는다.\n",
      "고양이 나비 가 달린다.\n",
      "고양이 나비가 간식을(를) 먹는다.\n",
      "고양이 나비가 쇼파에서 잔다.\n",
      "\n"
     ]
    }
   ],
   "source": [
    "cat1 = Cat('코캣', '덩치', 1, '남')\n",
    "cat2 = Cat('러시안블루', '나비', 5, '여')\n",
    "\n",
    "cat1.print_info()\n",
    "cat2.print_info()\n",
    "cat1.run()\n",
    "cat2.run()\n",
    "cat1.sleep('캣타워')\n",
    "cat2.sleep('택배 박스')\n",
    "cat1.eat('사료')\n",
    "cat2.eat('춥스')\n",
    "\n",
    "cat1.action_print()\n",
    "cat2.action_print()"
   ]
  },
  {
   "cell_type": "markdown",
   "id": "04020f44",
   "metadata": {},
   "source": [
    "# 클래스 변수 "
   ]
  },
  {
   "cell_type": "code",
   "execution_count": 35,
   "id": "14b7079f",
   "metadata": {},
   "outputs": [],
   "source": [
    "class Car:\n",
    "    # 클래스변수 \n",
    "    count = 0\n",
    "    def __init__(self, brand, color):\n",
    "        self.brand = brand\n",
    "        self.color = color\n",
    "        # 클래스명.클래스변수 \n",
    "        Car.count += 1\n",
    "        \n",
    "    def info(self):\n",
    "        print()\n",
    "        print(self.brand, self.color, Car.count)"
   ]
  },
  {
   "cell_type": "code",
   "execution_count": 36,
   "id": "f9fc4ac1",
   "metadata": {},
   "outputs": [
    {
     "name": "stdout",
     "output_type": "stream",
     "text": [
      "0\n"
     ]
    }
   ],
   "source": [
    "# 클래스명.클래스변수 \n",
    "print(Car.count)"
   ]
  },
  {
   "cell_type": "code",
   "execution_count": 37,
   "id": "6949d90f",
   "metadata": {},
   "outputs": [
    {
     "name": "stdout",
     "output_type": "stream",
     "text": [
      "\n",
      "그랜저 white 1\n",
      "1 1\n",
      "1896881613104 1896881613104\n"
     ]
    }
   ],
   "source": [
    "# 첫번째 인스턴스화 \n",
    "car1 = Car('그랜저', 'white')\n",
    "car1.info()\n",
    "# 클래스명.클래스변수 \n",
    "# 인스턴스명.클래스변수 \n",
    "print(Car.count, car1.count)\n",
    "# id() 함수로 주소 확인 \n",
    "print(id(Car.count), id(car1.count))"
   ]
  },
  {
   "cell_type": "code",
   "execution_count": 38,
   "id": "70fbcfba",
   "metadata": {},
   "outputs": [
    {
     "name": "stdout",
     "output_type": "stream",
     "text": [
      "\n",
      "모닝 black 2\n"
     ]
    }
   ],
   "source": [
    "# 두번째 인스턴스 생성 \n",
    "car2 = Car('모닝', 'black')\n",
    "car2.info()"
   ]
  },
  {
   "cell_type": "code",
   "execution_count": 39,
   "id": "16411f25",
   "metadata": {},
   "outputs": [
    {
     "name": "stdout",
     "output_type": "stream",
     "text": [
      "\n",
      "아우디 red 3\n"
     ]
    }
   ],
   "source": [
    "# 3번째 인스턴스 생성 \n",
    "car3 = Car('아우디', 'red')\n",
    "car3.info()"
   ]
  },
  {
   "cell_type": "markdown",
   "id": "9690812e",
   "metadata": {},
   "source": [
    "# 상속 \n",
    "\n",
    "```\n",
    "class 클래스명(부모클래스명1, 부모클래스명2....):\n",
    "    명령어 \n",
    "```\n",
    "\n",
    "# 메소드 오버라이딩"
   ]
  },
  {
   "cell_type": "code",
   "execution_count": 49,
   "id": "6f32aa4a",
   "metadata": {},
   "outputs": [],
   "source": [
    "# 부모 클래스 정의 \n",
    "class Papa:\n",
    "    firstname1 = '김'\n",
    "    \n",
    "    def info1(self):\n",
    "        print('아파트, 차, 테슬라 주식')\n",
    "    \n",
    "    def hello(self):\n",
    "        print('Papa 클래스의 hello')\n",
    "\n",
    "class Mama:\n",
    "    firstname2 = '이'\n",
    "    def info2(self):\n",
    "        print('오피스텔, 애플 주식')\n",
    "\n",
    "# 자식클래스 정의 \n",
    "class Child(Papa, Mama):\n",
    "    def __init__(self, myName):\n",
    "        # 부모클래스 생성자 함수 호출 \n",
    "        # 부모클래스명.__init__(self)\n",
    "        Papa.__init__(self)\n",
    "        Mama.__init__(self)\n",
    "        # 자식 클래스의 속성 정의 \n",
    "        self.myName = myName\n",
    "        \n",
    "    def info3(self):\n",
    "        print('오토바이')    \n",
    "\n",
    "    # 메서드 오버라이딩 \n",
    "    def hello(self):\n",
    "        print('Child 클래스의 hello')\n",
    "    \n",
    "    # 부모클래스에서 상속받은 hello()\n",
    "    # 재정의 - super()\n",
    "    def hello_super(self):\n",
    "        # Papa 클래스의 hello() 호출\n",
    "        super().hello()"
   ]
  },
  {
   "cell_type": "code",
   "execution_count": 51,
   "id": "e6d17709",
   "metadata": {},
   "outputs": [
    {
     "name": "stdout",
     "output_type": "stream",
     "text": [
      "김\n",
      "이\n",
      "수철\n",
      "아파트, 차, 테슬라 주식\n",
      "오피스텔, 애플 주식\n",
      "오토바이\n",
      "\n",
      "Child 클래스의 hello\n",
      "\n",
      "Papa 클래스의 hello\n"
     ]
    }
   ],
   "source": [
    "# 자식클래스를 이용해서 인스턴스화 \n",
    "child1 = Child('수철')\n",
    "\n",
    "# 속성값 테스트 \n",
    "print(child1.firstname1) # Papa\n",
    "print(child1.firstname2) # Mama\n",
    "print(child1.myName) # Child\n",
    "\n",
    "# 메서드 테스트 \n",
    "child1.info1()\n",
    "child1.info2()\n",
    "child1.info3()\n",
    "print()\n",
    "\n",
    "# 메서드 오버라이딩 테스트\n",
    "child1.hello()\n",
    "\n",
    "# 부모클래스의 hello() 테스트\n",
    "print()\n",
    "child1.hello_super()"
   ]
  },
  {
   "cell_type": "code",
   "execution_count": 52,
   "id": "26ed9bfa",
   "metadata": {},
   "outputs": [],
   "source": [
    "# 호랑이 + 사자 \n",
    "# 라이거 \n",
    "class Tiger:\n",
    "    kind ='호랑이'\n",
    "    def jump(self):\n",
    "        print(f'{Tiger.kind} 처럼 점프하기')\n",
    "\n",
    "class Lion:\n",
    "    kind ='사자'\n",
    "    def bite(self):\n",
    "        print(f'{Lion.kind} 처럼 한입에 꿀꺽하기')    \n",
    "\n",
    "class Liger(Tiger, Lion):\n",
    "    kind ='라이거'\n",
    "    def __init__(self, name):\n",
    "        Tiger.__init__(self)\n",
    "        Lion.__init__(self)\n",
    "        self.name = name"
   ]
  },
  {
   "cell_type": "code",
   "execution_count": 54,
   "id": "9c7922c2",
   "metadata": {},
   "outputs": [
    {
     "name": "stdout",
     "output_type": "stream",
     "text": [
      "사자 처럼 한입에 꿀꺽하기\n",
      "호랑이 처럼 점프하기\n",
      "라이거\n"
     ]
    }
   ],
   "source": [
    "liger = Liger('덩치')\n",
    "liger.bite() # Lion\n",
    "liger.jump() # Tiger\n",
    "print(liger.kind)"
   ]
  },
  {
   "cell_type": "code",
   "execution_count": null,
   "id": "9c3b63b4",
   "metadata": {},
   "outputs": [],
   "source": []
  },
  {
   "cell_type": "code",
   "execution_count": null,
   "id": "6cc5c5b9",
   "metadata": {},
   "outputs": [],
   "source": []
  }
 ],
 "metadata": {
  "kernelspec": {
   "display_name": "Python 3 (ipykernel)",
   "language": "python",
   "name": "python3"
  },
  "language_info": {
   "codemirror_mode": {
    "name": "ipython",
    "version": 3
   },
   "file_extension": ".py",
   "mimetype": "text/x-python",
   "name": "python",
   "nbconvert_exporter": "python",
   "pygments_lexer": "ipython3",
   "version": "3.9.13"
  }
 },
 "nbformat": 4,
 "nbformat_minor": 5
}
