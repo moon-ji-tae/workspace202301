{
 "cells": [
  {
   "attachments": {},
   "cell_type": "markdown",
   "metadata": {},
   "source": [
    "class :  첫글자는 대문자\n",
    "   명령어\n",
    "사각형 - 가로 ,세로,색상 \n",
    "\n",
    "class  Squre:\n",
    "    pass"
   ]
  },
  {
   "attachments": {},
   "cell_type": "markdown",
   "metadata": {},
   "source": [
    "\n"
   ]
  },
  {
   "cell_type": "code",
   "execution_count": 2,
   "metadata": {},
   "outputs": [
    {
     "name": "stdout",
     "output_type": "stream",
     "text": [
      "<class '__main__.Squre'>\n",
      "<class 'type'>\n"
     ]
    }
   ],
   "source": [
    "class Squre:\n",
    "    pass\n",
    "\n",
    "print(Squre)\n",
    "print(type(Squre))"
   ]
  },
  {
   "cell_type": "code",
   "execution_count": 3,
   "metadata": {},
   "outputs": [
    {
     "name": "stdout",
     "output_type": "stream",
     "text": [
      "<__main__.Squre object at 0x000001FFBDE32280> <class '__main__.Squre'>\n"
     ]
    }
   ],
   "source": [
    "squre1 = Squre()\n",
    "squre2  = Squre()\n",
    "print(squre1, type(squre1))"
   ]
  },
  {
   "cell_type": "code",
   "execution_count": 4,
   "metadata": {},
   "outputs": [
    {
     "name": "stdout",
     "output_type": "stream",
     "text": [
      "True\n"
     ]
    }
   ],
   "source": [
    "class Car:\n",
    "    pass\n",
    "\n",
    "class Bus:\n",
    "    pass\n",
    "\n",
    "car = Car()\n",
    "bus = Bus()\n",
    "\n",
    "print(isinstance(car, Car))"
   ]
  },
  {
   "cell_type": "code",
   "execution_count": 5,
   "metadata": {},
   "outputs": [
    {
     "name": "stdout",
     "output_type": "stream",
     "text": [
      "square의 높이는50 입니다\n",
      "square의 넓이는 5000\n",
      "square2 의 면적은 1600\n"
     ]
    }
   ],
   "source": [
    "class Square:\n",
    "    def __init__(self, height, width) :\n",
    "        self.height = height\n",
    "        self.width = width\n",
    "\n",
    "square = Square(50,100)\n",
    "square2 = Square(20, 80)\n",
    "print('square의 높이는{} 입니다'.format(square.height))\n",
    "print('square의 넓이는 {}'.format(square.width*square.height))\n",
    "\n",
    "print(f'square2 의 면적은 {square2.height * square2.width}')"
   ]
  },
  {
   "cell_type": "code",
   "execution_count": 6,
   "metadata": {},
   "outputs": [
    {
     "name": "stdout",
     "output_type": "stream",
     "text": [
      " 넓이는  10 * 10\n",
      "가로 : 10 세로 : 10 색상 : red\n"
     ]
    }
   ],
   "source": [
    "class Square3:\n",
    "    def __init__(self, width, height, color):\n",
    "        self.width = width\n",
    "        self.height = height\n",
    "        self.color = color\n",
    "        self.maker = ('Young hee', 'Chulsu')\n",
    "    def area(self):    \n",
    "        print(f' 넓이는  {self.width} * {self.height}')\n",
    "\n",
    "    def print_info(self):\n",
    "        print(f'가로 : {self.width} 세로 : {self.height} 색상 : {self.color}')\n",
    "\n",
    "square3 = Square3(10,10,'red')\n",
    "\n",
    "square3.area()\n",
    "square3.print_info()"
   ]
  },
  {
   "cell_type": "code",
   "execution_count": 7,
   "metadata": {},
   "outputs": [
    {
     "name": "stdout",
     "output_type": "stream",
     "text": [
      "첫번째 숫자: 10\n",
      "두번째 숫자: -6\n",
      "더하기 : 10 + -6 = 4\n",
      "빼기 : 10 - -6 = 16\n"
     ]
    }
   ],
   "source": [
    "class Calculator:\n",
    "    def __init__(self, a, b):\n",
    "        self.a = a\n",
    "        self.b = b\n",
    "\n",
    "    def plus(self):\n",
    "        print(f'더하기 : {self.a} + {self.b} =' , self.a + self.b)\n",
    "    \n",
    "    def minus(self):\n",
    "        print(f'빼기 : {self.a} - {self.b} =', self.a - self.b)\n",
    "    \n",
    "    def info(self):\n",
    "        print(f'첫번째 숫자: {self.a}')\n",
    "        print(f'두번째 숫자: {self.b}')\n",
    "    \n",
    " \n",
    "calculator = Calculator(10, -6)\n",
    "\n",
    "calculator.info()\n",
    "calculator.plus()\n",
    "calculator.minus()"
   ]
  },
  {
   "cell_type": "code",
   "execution_count": 8,
   "metadata": {},
   "outputs": [
    {
     "name": "stdout",
     "output_type": "stream",
     "text": [
      "종류 => 모커빵\n",
      "==============================\n",
      "모커빵 를(을) 10 개 주문하셨습니다\n",
      "주문가격은 ? 4000 * 10 = 40000\n"
     ]
    }
   ],
   "source": [
    "class Bread:\n",
    "    def __init__(self, kind, price, kcal, src ) :\n",
    "        self.kind =kind\n",
    "        self.price =price\n",
    "        self.kcal =kcal\n",
    "        self.src =src\n",
    "        self.brand = '파리바게트'\n",
    "    def print_info(self):\n",
    "        print(f'종류 => {self.kind}')    \n",
    "    def order_info(self, n):\n",
    "        print('='* 30)\n",
    "        print(f'{self.kind} 를(을) {n} 개 주문하셨습니다' )\n",
    "        print(f'주문가격은 ? {self.price} * {n} = {self.price * n}')\n",
    "\n",
    "\n",
    "bread1 = Bread('모커빵', 4000, 660, ('밀가루','설탕','향신료','버터'))\n",
    "\n",
    "bread1.print_info()\n",
    "bread1.order_info(10)"
   ]
  },
  {
   "cell_type": "code",
   "execution_count": 16,
   "metadata": {},
   "outputs": [
    {
     "name": "stdout",
     "output_type": "stream",
     "text": [
      "종류 = 코갯\n",
      "이름 = 덩치\n",
      "나이 = 1\n",
      "성별 = 남\n",
      "고양이 덩치 가 달린다\n",
      "고양이 덩치 가 캣타워 에서 잔다\n",
      "고양이 덩치 가 사료 을(를) 먹는다\n",
      "고양이 덩치 의 아침 일상\n",
      "고양이 덩치 가 물을 먹는다\n",
      "고양이 덩치 가 콜라 을(를) 먹는다\n",
      "고양이 덩치 가 소파 에서 잔다\n",
      "고양이 좋은  사료를 먹는다\n",
      "고양이 덩치 가 달린다\n",
      "고양이 덩치 가 간식을 먹는다\n",
      "고양이 안락한  쇼파에서 잔다\n",
      "고양이 나비 의 아침 일상\n",
      "고양이 나비 가 물을 먹는다\n",
      "고양이 나비 가 콜라 을(를) 먹는다\n",
      "고양이 나비 가 소파 에서 잔다\n",
      "고양이 영양가 있는  사료를 먹는다\n",
      "고양이 나비 가 달린다\n",
      "고양이 나비 가 간식을 먹는다\n",
      "고양이 멋진  쇼파에서 잔다\n"
     ]
    }
   ],
   "source": [
    "class Cat:\n",
    "    def __init__(self, kind, name, age, gender) :\n",
    "        self.kind = kind\n",
    "        self.name = name\n",
    "        self.age = age\n",
    "        self.gender = gender\n",
    "        self.animal_kind = '고양이'\n",
    "\n",
    "    def print_info(self):\n",
    "        print(f'종류 = {self.kind}')\n",
    "        print(f'이름 = {self.name}')\n",
    "        print(f'나이 = {self.age}')\n",
    "        print(f'성별 = {self.gender}')\n",
    "\n",
    "    def run(self):\n",
    "        print(f'{self.animal_kind} {self.name} 가 달린다')\n",
    "    \n",
    "    def sleep(self,a):\n",
    "        print(f'{self.animal_kind} {self.name} 가 {a} 에서 잔다')\n",
    "    \n",
    "    def eat(self, b):\n",
    "        print(f'{self.animal_kind} {self.name} 가 {b} 을(를) 먹는다')\n",
    "\n",
    "    def action_print(self, aa, bb):\n",
    "        print(f'{self.animal_kind} {self.name} 의 아침 일상')\n",
    "        print(f'{self.animal_kind} {self.name} 가 물을 먹는다')\n",
    "        self.eat('콜라')\n",
    "        self.sleep('소파')\n",
    "        print(f'{self.animal_kind} {aa}  사료를 먹는다')\n",
    "        print(f'{self.animal_kind} {self.name} 가 달린다')\n",
    "        print(f'{self.animal_kind} {self.name} 가 간식을 먹는다')\n",
    "        print(f'{self.animal_kind} {bb}  쇼파에서 잔다')\n",
    "\n",
    "cat = Cat('코갯','덩치',1,'남')\n",
    "cat2 = Cat('러시안블루','나비',5,'여')\n",
    "\n",
    "cat.print_info()\n",
    "cat.run()\n",
    "cat.sleep('캣타워')\n",
    "cat.eat('사료')\n",
    "cat.action_print(\"좋은\", \"안락한\")\n",
    "cat2.action_print(\"영양가 있는\", \"멋진\")"
   ]
  },
  {
   "cell_type": "code",
   "execution_count": 35,
   "metadata": {},
   "outputs": [
    {
     "name": "stdout",
     "output_type": "stream",
     "text": [
      "자동차 Block의 현재 속도는 30 Km, 생산죈 자동차 총 1대 입니다\n"
     ]
    }
   ],
   "source": [
    "class Car :\n",
    "    count = 0\n",
    "\n",
    "    def __init__(self, color, speed):\n",
    "        self.color = color\n",
    "        self.speed = speed\n",
    "        Car.count += 1\n",
    "        \n",
    "    def info(self):\n",
    "        print('=' * 20)\n",
    "        print(f' {self.color} 차량은, {self.speed} 속도로 총 {Car.count} 대 생산 중')\n",
    "\n",
    "car1 = Car('Block', 30)\n",
    "print(f'자동차 {car1.color}의 현재 속도는 {car1.speed} Km, 생산죈 자동차 총 {Car.count}대 입니다')"
   ]
  },
  {
   "cell_type": "code",
   "execution_count": 43,
   "metadata": {},
   "outputs": [
    {
     "name": "stdout",
     "output_type": "stream",
     "text": [
      "====================\n",
      " Red 차량은, 60 속도로 총 16 대 생산 중\n",
      "자동차 Blue의 현재 속도는 80 Km, 생산죈 자동차 총 17대 입니다\n",
      "2197831248688 2197831248688 2197831248688\n"
     ]
    }
   ],
   "source": [
    "car2 = Car('Red', 60)\n",
    "car2.info()\n",
    "car3 = Car('Blue',80)\n",
    "\n",
    "print(f'자동차 {car3.color}의 현재 속도는 {car3.speed} Km, 생산죈 자동차 총 {car3.count}대 입니다')\n",
    "\n",
    "print(id(Car.count), id(car2.count), id(car3.count))"
   ]
  },
  {
   "cell_type": "code",
   "execution_count": 76,
   "metadata": {},
   "outputs": [],
   "source": [
    "class Carpapa():\n",
    "    def __init__(self, door):\n",
    "        self.speed = 0\n",
    "        self.door = door\n",
    "    def upSpeed(self, speed):\n",
    "        print(f'papa : {self.speed}')\n",
    "        self.speed += speed\n",
    "        print()\n",
    "        print(f'현재 속도 : {self.speed}')"
   ]
  },
  {
   "cell_type": "code",
   "execution_count": 77,
   "metadata": {},
   "outputs": [],
   "source": [
    "class Sedan(Carpapa):\n",
    "    def __init__(self, speed, door):\n",
    "        Carpapa.__init__(self,door)\n",
    "        self.speed = speed\n",
    "    def downSpeed(self, speed):\n",
    "        print(f'new {self.speed}')\n",
    "        self.speed -= speed\n",
    "        print(f'현재 자식 속도 : {self.speed}')"
   ]
  },
  {
   "cell_type": "code",
   "execution_count": 78,
   "metadata": {},
   "outputs": [
    {
     "name": "stdout",
     "output_type": "stream",
     "text": [
      "부모 속도 : 0\n",
      "부모 문수 : 4\n",
      "papa : 0\n",
      "\n",
      "현재 속도 : 50\n"
     ]
    }
   ],
   "source": [
    "car = Carpapa(4)\n",
    "print(f'부모 속도 : {car.speed}')\n",
    "print(f'부모 문수 : {car.door}')\n",
    "car.upSpeed(50)"
   ]
  },
  {
   "cell_type": "code",
   "execution_count": 79,
   "metadata": {},
   "outputs": [
    {
     "name": "stdout",
     "output_type": "stream",
     "text": [
      "자식 속도 : 100\n",
      "자식 문수 : 2\n",
      "papa : 100\n",
      "\n",
      "현재 속도 : 220\n",
      "new 220\n",
      "현재 자식 속도 : 190\n"
     ]
    }
   ],
   "source": [
    "sedan = Sedan(100, 2)\n",
    "print(f'자식 속도 : {sedan.speed}')\n",
    "print(f'자식 문수 : {sedan.door}')\n",
    "\n",
    "sedan.upSpeed(120)\n",
    "sedan.downSpeed(30)"
   ]
  },
  {
   "cell_type": "code",
   "execution_count": 80,
   "metadata": {},
   "outputs": [],
   "source": [
    "# 부모 클래스 정의 \n",
    "class Papa:\n",
    "    firstname1 = '김'\n",
    "    def info1(self):\n",
    "        print('아파트, 차, 테슬라 주식')\n",
    "\n",
    "class Mama:\n",
    "    firstname2 = '이'\n",
    "    def info2(self):\n",
    "        print('오피스텔, 애플 주식')"
   ]
  },
  {
   "cell_type": "code",
   "execution_count": 81,
   "metadata": {},
   "outputs": [
    {
     "ename": "IndentationError",
     "evalue": "expected an indented block (3469614657.py, line 10)",
     "output_type": "error",
     "traceback": [
      "\u001b[1;36m  File \u001b[1;32m\"C:\\Users\\Use 1\\AppData\\Local\\Temp\\ipykernel_19336\\3469614657.py\"\u001b[1;36m, line \u001b[1;32m10\u001b[0m\n\u001b[1;33m    def info3(self):\u001b[0m\n\u001b[1;37m                    ^\u001b[0m\n\u001b[1;31mIndentationError\u001b[0m\u001b[1;31m:\u001b[0m expected an indented block\n"
     ]
    }
   ],
   "source": [
    "# 자식클래스 정의 \n",
    "class Child(Papa, Mama):\n",
    "    def __init__(self, myName):\n",
    "        # 부모클래스 생성자 함수 호출 \n",
    "        # 부모클래스명.__init__(self)\n",
    "        Papa.__init__(self)\n",
    "        Mama.__init__(self)\n",
    "        self.myName = myName\n",
    "        \n",
    "    def info3(self):"
   ]
  },
  {
   "cell_type": "code",
   "execution_count": 82,
   "metadata": {},
   "outputs": [],
   "source": [
    "# 자식클래스 정의 \n",
    "class Child(Papa, Mama):\n",
    "    def __init__(self, myName):\n",
    "        # 부모클래스 생성자 함수 호출 \n",
    "        # 부모클래스명.__init__(self)\n",
    "        Papa.__init__(self)\n",
    "        Mama.__init__(self)\n",
    "        # 자식 클래스의 속성 정의 \n",
    "        self.myName = myName\n",
    "        \n",
    "    def info3(self):\n",
    "        print('오토바이')    "
   ]
  },
  {
   "cell_type": "code",
   "execution_count": 83,
   "metadata": {},
   "outputs": [
    {
     "name": "stdout",
     "output_type": "stream",
     "text": [
      "김\n",
      "이\n",
      "수철\n",
      "아파트, 차, 테슬라 주식\n",
      "오피스텔, 애플 주식\n",
      "오토바이\n"
     ]
    }
   ],
   "source": [
    "# 자식클래스를 이용해서 인스턴스화 \n",
    "child1 = Child('수철')\n",
    "# 속성값 테스트 \n",
    "print(child1.firstname1) # Papa\n",
    "print(child1.firstname2) # Mama\n",
    "print(child1.myName) # Child\n",
    "# 메서드 테스트 \n",
    "child1.info1()\n",
    "child1.info2()\n",
    "child1.info3()"
   ]
  },
  {
   "cell_type": "code",
   "execution_count": null,
   "metadata": {},
   "outputs": [],
   "source": [
    "# P 268 메소드 오버라이딩\n",
    "# https://charmer.tistory.com/entry/Python-6-%EB%8B%A4%EC%A4%91-%EC%83%81%EC%86%8D-%EB%B0%8F-%EC%9D%B4%EB%A6%84-%EC%B6%A9%EB%8F%8C"
   ]
  },
  {
   "cell_type": "code",
   "execution_count": 84,
   "metadata": {},
   "outputs": [
    {
     "name": "stdout",
     "output_type": "stream",
     "text": [
      "라이거 점프\n",
      "라이거 놀기\n",
      "사자꿀꺽\n"
     ]
    }
   ],
   "source": [
    "# 다중상속\n",
    "# 부모클래스 Tiger  jump() 메서드정의 출력 \"호랑이점프\"\n",
    "# 부모클래스 Lion bite() 메서드 정의 출력 \"사자꿀꺽\"\n",
    "# 자식클래스 Liger (Tiger,Lion) 다중상속\n",
    "#   play() 메서드 정의 출력 \"라이거 놀기\"\n",
    "#   jump() 메서드 오버라이딩 출력 \"라이거 점프\"\n",
    "class Tiger:\n",
    "    def jump(self):\n",
    "        print(\"호랑이점프\")\n",
    " \n",
    " \n",
    "class Lion:\n",
    "    def bite(self):\n",
    "        print(\"사자꿀꺽\")\n",
    " \n",
    " \n",
    "class Liger(Tiger, Lion):\n",
    "    def play(self):\n",
    "        print(\"라이거 놀기\")\n",
    " \n",
    "    def jump(self):\n",
    "        print(\"라이거 점프\")\n",
    " \n",
    " \n",
    "# Liger 객체생성   jump()  play()  bite()  메서드 호출\n",
    "l = Liger()\n",
    "l.jump()\n",
    "l.play()\n",
    "l.bite()"
   ]
  },
  {
   "cell_type": "code",
   "execution_count": null,
   "metadata": {},
   "outputs": [],
   "source": []
  }
 ],
 "metadata": {
  "kernelspec": {
   "display_name": "base",
   "language": "python",
   "name": "python3"
  },
  "language_info": {
   "codemirror_mode": {
    "name": "ipython",
    "version": 3
   },
   "file_extension": ".py",
   "mimetype": "text/x-python",
   "name": "python",
   "nbconvert_exporter": "python",
   "pygments_lexer": "ipython3",
   "version": "3.9.13"
  },
  "orig_nbformat": 4,
  "vscode": {
   "interpreter": {
    "hash": "ad2bdc8ecc057115af97d19610ffacc2b4e99fae6737bb82f5d7fb13d2f2c186"
   }
  }
 },
 "nbformat": 4,
 "nbformat_minor": 2
}
