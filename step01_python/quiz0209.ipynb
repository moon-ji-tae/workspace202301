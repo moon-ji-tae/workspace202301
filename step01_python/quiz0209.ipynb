{
 "cells": [
  {
   "cell_type": "code",
   "execution_count": 2,
   "metadata": {},
   "outputs": [],
   "source": [
    "import requests\n",
    "from bs4 import BeautifulSoup\n",
    "import pandas as pd"
   ]
  },
  {
   "cell_type": "code",
   "execution_count": 4,
   "metadata": {},
   "outputs": [],
   "source": [
    "\n",
    "url = 'https://comic.naver.com/index'\n",
    "res = requests.get(url)\n",
    "html_str = res.text\n",
    "soup = BeautifulSoup(html_str, 'html.parser')\n",
    "#print(soup)"
   ]
  },
  {
   "cell_type": "code",
   "execution_count": null,
   "metadata": {},
   "outputs": [],
   "source": []
  },
  {
   "cell_type": "code",
   "execution_count": 5,
   "metadata": {},
   "outputs": [
    {
     "name": "stdout",
     "output_type": "stream",
     "text": [
      "10\n",
      "<li class=\"rank10\">\n",
      "<a href=\"/webtoon/detail?titleId=794155&amp;no=41\" onclick=\"nclk_v2(event,'rnk*p.cont','794155','10')\" title=\"버려진 나의 최애를 위하여-41화\">버려진 나의 최애를 위하여-41화</a>\n",
      "<span class=\"rankBox\">\n",
      "<img alt=\"변동없음\" height=\"10\" src=\"https://ssl.pstatic.net/static/comic/images/migration/common/arrow_no.gif\" title=\"변동없음\" width=\"7\"/> 0\n",
      "\t\t\t\t\t\t\n",
      "\t\t\t\t\t\n",
      "\t\t\t\t</span>\n",
      "</li>\n"
     ]
    }
   ],
   "source": [
    "# 2) 파싱 \n",
    "# target = soup.select('.board-gallery.type2 li a')\n",
    "target_list = soup.select('#realTimeRankFavorite li')\n",
    "#target_list = soup.find_all(id = 'realTimeRankFavorite').a\n",
    "print(len(target_list))\n",
    "print(target_list[-1])"
   ]
  },
  {
   "cell_type": "code",
   "execution_count": 6,
   "metadata": {},
   "outputs": [
    {
     "name": "stdout",
     "output_type": "stream",
     "text": [
      "순위 : 1\n",
      "제목 : 연애혁명-427. 연애존망\n",
      "이미지 URL : https://comic.naver.com/webtoon/detail?titleId=570503&no=432\n"
     ]
    }
   ],
   "source": [
    "# 첫번째 태그에서 데이타 추출 \n",
    "# 제목, 설명, 이미지URL\n",
    "print('순위 :', target_list[0].a['onclick'].replace(\"'\",'').replace(\")\",'').split(',')[-1])\n",
    "print('제목 :', target_list[0].a['title'])\n",
    "#print('설명 :', target_list[0].select_one('.text').text)\n",
    "base_url = 'https://comic.naver.com'\n",
    "print('이미지 URL :', base_url + target_list[0].a['href'])\n",
    "#https://comic.naver.com/webtoon/detail?titleId=570503&no=432\n",
    "#print('-'*20)"
   ]
  },
  {
   "cell_type": "code",
   "execution_count": 7,
   "metadata": {},
   "outputs": [
    {
     "name": "stdout",
     "output_type": "stream",
     "text": [
      "[['1', '연애혁명-427. 연애존망', 'https://comic.naver.com/webtoon/detail?titleId=570503&no=432'], ['2', '앞집나리-13화 - 가만히 좀 있어봐', 'https://comic.naver.com/webtoon/detail?titleId=802293&no=13'], ['3', '나노마신-138. 제48장. 교주 취임식 (4)', 'https://comic.naver.com/webtoon/detail?titleId=747271&no=138'], ['4', '재벌집 막내아들-20화', 'https://comic.naver.com/webtoon/detail?titleId=800770&no=20'], ['5', '현실퀘스트-67화', 'https://comic.naver.com/webtoon/detail?titleId=783888&no=67'], ['6', '회귀한 천재 헌터의 슬기로운 청소생활-33화', 'https://comic.naver.com/webtoon/detail?titleId=796827&no=33'], ['7', '천마육성-70화', 'https://comic.naver.com/webtoon/detail?titleId=776255&no=70'], ['8', '남편을 죽여줘요-31화 : 프시케와 에로스', 'https://comic.naver.com/webtoon/detail?titleId=797410&no=31'], ['9', '노답소녀-93화', 'https://comic.naver.com/webtoon/detail?titleId=756137&no=93'], ['10', '버려진 나의 최애를 위하여-41화', 'https://comic.naver.com/webtoon/detail?titleId=794155&no=41']]\n"
     ]
    }
   ],
   "source": [
    "# 3) 테이블 구조 데이타 ( 2차원 리스트 )\n",
    "result_list = []\n",
    "for tag in target_list:\n",
    "    ranks = tag.a['onclick'].replace(\"'\",'').replace(\")\",'').split(',')[-1]\n",
    "    contents = tag.a['title']\n",
    "    img_url = base_url+tag.a['href'] \n",
    "    # 리스트 생성후 데이타 삽입\n",
    "    result_list.append([ranks, contents, img_url])\n",
    "\n",
    "print(result_list)"
   ]
  },
  {
   "cell_type": "code",
   "execution_count": 8,
   "metadata": {},
   "outputs": [
    {
     "name": "stdout",
     "output_type": "stream",
     "text": [
      "순위 : 1\n",
      "제목 : 연애혁명-427. 연애존망\n",
      "URL : https://comic.naver.com/webtoon/detail?titleId=570503&no=432\n",
      "==============================\n",
      "순위 : 2\n",
      "제목 : 앞집나리-13화 - 가만히 좀 있어봐\n",
      "URL : https://comic.naver.com/webtoon/detail?titleId=802293&no=13\n",
      "==============================\n",
      "순위 : 3\n",
      "제목 : 나노마신-138. 제48장. 교주 취임식 (4)\n",
      "URL : https://comic.naver.com/webtoon/detail?titleId=747271&no=138\n",
      "==============================\n",
      "순위 : 4\n",
      "제목 : 재벌집 막내아들-20화\n",
      "URL : https://comic.naver.com/webtoon/detail?titleId=800770&no=20\n",
      "==============================\n",
      "순위 : 5\n",
      "제목 : 현실퀘스트-67화\n",
      "URL : https://comic.naver.com/webtoon/detail?titleId=783888&no=67\n",
      "==============================\n",
      "순위 : 6\n",
      "제목 : 회귀한 천재 헌터의 슬기로운 청소생활-33화\n",
      "URL : https://comic.naver.com/webtoon/detail?titleId=796827&no=33\n",
      "==============================\n",
      "순위 : 7\n",
      "제목 : 천마육성-70화\n",
      "URL : https://comic.naver.com/webtoon/detail?titleId=776255&no=70\n",
      "==============================\n",
      "순위 : 8\n",
      "제목 : 남편을 죽여줘요-31화 : 프시케와 에로스\n",
      "URL : https://comic.naver.com/webtoon/detail?titleId=797410&no=31\n",
      "==============================\n",
      "순위 : 9\n",
      "제목 : 노답소녀-93화\n",
      "URL : https://comic.naver.com/webtoon/detail?titleId=756137&no=93\n",
      "==============================\n",
      "순위 : 10\n",
      "제목 : 버려진 나의 최애를 위하여-41화\n",
      "URL : https://comic.naver.com/webtoon/detail?titleId=794155&no=41\n",
      "==============================\n"
     ]
    }
   ],
   "source": [
    "for title, contents, img_url in result_list:\n",
    "    print(f'순위 : {title}')\n",
    "    print(f'제목 : {contents}')\n",
    "    print(f'URL : {img_url}')\n",
    "    print('='*30)"
   ]
  },
  {
   "cell_type": "code",
   "execution_count": 9,
   "metadata": {},
   "outputs": [],
   "source": [
    "with open('data/comicRank.txt','w', encoding='utf-8') as f:\n",
    "    for title, contents, img_url in result_list:\n",
    "        f.write(f'순위 : {title}\\n')\n",
    "        f.write(f'내용 : {contents}\\n')\n",
    "        f.write(f'URL : {img_url}\\n')\n",
    "       \n",
    "      "
   ]
  },
  {
   "cell_type": "markdown",
   "metadata": {},
   "source": [
    "퀴즈 - 슬라이드 103\n",
    "네이버 요일별 웹툰 저장하기\n",
    "https://comic.naver.com/webtoon/weekday\n",
    "요일별 전체 웹툰 영역의 웹툰 정보를 CSV 파일로 저장하여라\n",
    "요일 / 웹툰제목 / 관련 URL"
   ]
  },
  {
   "cell_type": "code",
   "execution_count": 10,
   "metadata": {},
   "outputs": [],
   "source": [
    "# 1) 웹페이지 주소 요청 => 문자열 데이타 => 숩객체 \n",
    "\n",
    "url = 'https://comic.naver.com/webtoon/weekday'\n",
    "res = requests.get(url)\n",
    "\n",
    "html_str = res.text\n",
    "\n",
    "soup = BeautifulSoup(html_str, 'html.parser')\n",
    "# print(soup)"
   ]
  },
  {
   "cell_type": "markdown",
   "metadata": {},
   "source": [
    "<div class=\"thumb\">\n",
    "   <a href=\"/webtoon/list?titleId=774863&amp;weekday=mon\" onclick=\"nclk_v2(event,'thm*m.img','','5')\">\n",
    "      <img onerror=\"this.src='https://ssl.pstatic.net/static/comic/images/migration/common/blank.gif'\" src=\"https://shared-comic.pstatic.net/thumb/webtoon/774863/thumbnail/thumbnail_IMAG21_3689684179498578529.jpg\" width=\"83\" height=\"107\" title=\"팔이피플\" alt=\"팔이피플\"><span class=\"mask\"></span>\n",
    "   </a>\n",
    "</div>"
   ]
  },
  {
   "cell_type": "code",
   "execution_count": 12,
   "metadata": {},
   "outputs": [
    {
     "name": "stdout",
     "output_type": "stream",
     "text": [
      "574\n",
      "<div class=\"thumb\">\n",
      "<a href=\"/webtoon/list?titleId=648419&amp;weekday=mon\" onclick=\"nclk_v2(event,'thm*m.img','','1')\">\n",
      "<img alt=\"뷰티풀 군바리\" height=\"107\" onerror=\"this.src='https://ssl.pstatic.net/static/comic/images/migration/common/blank.gif'\" src=\"https://shared-comic.pstatic.net/thumb/webtoon/648419/thumbnail/thumbnail_IMAG21_d9398229-cbfd-47dc-9208-0a6fb936f3a7.jpg\" title=\"뷰티풀 군바리\" width=\"83\"/><span class=\"mask\"></span>\n",
      "</a>\n",
      "</div>\n",
      "\n",
      "<div class=\"thumb\">\n",
      "<a href=\"/webtoon/list?titleId=801428&amp;weekday=sun\" onclick=\"nclk_v2(event,'thm*S.img','','85')\">\n",
      "<img alt=\"천년간 노려왔습니다\" height=\"107\" onerror=\"this.src='https://ssl.pstatic.net/static/comic/images/migration/common/blank.gif'\" src=\"https://shared-comic.pstatic.net/thumb/webtoon/801428/thumbnail/thumbnail_IMAG21_50e8a89e-b0b6-44ad-8a98-0850328943b4.jpg\" title=\"천년간 노려왔습니다\" width=\"83\"/><span class=\"mask\"></span>\n",
      "</a>\n",
      "</div>\n"
     ]
    }
   ],
   "source": [
    "# 2) 파싱 \n",
    "# target_list = soup.find_all(class_='thumb')\n",
    "target_list = soup.select('.thumb')\n",
    "print(len(target_list))\n",
    "print(target_list[0])\n",
    "print()\n",
    "print(target_list[-1])"
   ]
  },
  {
   "cell_type": "code",
   "execution_count": 13,
   "metadata": {},
   "outputs": [
    {
     "name": "stdout",
     "output_type": "stream",
     "text": [
      "요일 =>  mon\n",
      "요일 =>  mon\n"
     ]
    }
   ],
   "source": [
    "# 데이타 추출\n",
    "# 요일 / 웹툰제목 / 관련 URL\n",
    "base_url = 'https://comic.naver.com'\n",
    "week_list1 = ['mon', 'tue', 'wed', 'thu', 'fri', 'sat', 'sun']\n",
    "week_list2 = ['월요일', '화요일', '수요일', '목요일', '금요일', '토요일', '일요일']\n",
    "print('요일 => ', target_list[0].a['href'][-3:])\n",
    "# = 를 기준으로 분리 => 리스트\n",
    "# print('요일 => ', target_list[0].a['href'])\n",
    "print('요일 => ', target_list[0].a['href'].split('=')[-1])"
   ]
  },
  {
   "cell_type": "code",
   "execution_count": 14,
   "metadata": {},
   "outputs": [
    {
     "name": "stdout",
     "output_type": "stream",
     "text": [
      "요일 =>  mon\n",
      "인덱스 추출하기 =  0\n",
      "해당 요일은?  월요일\n"
     ]
    }
   ],
   "source": [
    "# 데이타 추출\n",
    "# 요일 / 웹툰제목 / 관련 URL\n",
    "base_url = 'https://comic.naver.com'\n",
    "week_list1 = ['mon', 'tue', 'wed', 'thu', 'fri', 'sat', 'sun']\n",
    "week_list2 = ['월요일', '화요일', '수요일', '목요일', '금요일', '토요일', '일요일']\n",
    "print('요일 => ', target_list[0].a['href'][-3:])\n",
    "# = 를 기준으로 분리 => 리스트\n",
    "# print('요일 => ', target_list[0].a['href'])\n",
    "# print('요일 => ', target_list[0].a['href'].split('=')[-1])\n",
    "# 리스트명.index(데이타값) => 데이타값에 해당하는 인덱스값 추출 \n",
    "idx = week_list1.index(target_list[0].a['href'][-3:])\n",
    "print('인덱스 추출하기 = ', idx)\n",
    "print('해당 요일은? ', week_list2[idx])"
   ]
  },
  {
   "cell_type": "code",
   "execution_count": 15,
   "metadata": {},
   "outputs": [
    {
     "name": "stdout",
     "output_type": "stream",
     "text": [
      "요일 =>  mon\n",
      "요일값 =  mon\n",
      "인덱스 추출하기 =  0\n",
      "해당 요일은?  월요일\n",
      "\n",
      "웹툰제목 =  뷰티풀 군바리\n",
      "URL =  https://comic.naver.com/webtoon/list?titleId=648419&weekday=mon\n"
     ]
    }
   ],
   "source": [
    "# 데이타 추출\n",
    "# 요일 / 웹툰제목 / 관련 URL\n",
    "base_url = 'https://comic.naver.com'\n",
    "week_list1 = ['mon', 'tue', 'wed', 'thu', 'fri', 'sat', 'sun']\n",
    "week_list2 = ['월요일', '화요일', '수요일', '목요일', '금요일', '토요일', '일요일']\n",
    "print('요일 => ', target_list[0].a['href'][-3:])\n",
    "# = 를 기준으로 분리 => 리스트\n",
    "# print('요일 => ', target_list[0].a['href'])\n",
    "# print('요일 => ', target_list[0].a['href'].split('=')[-1])\n",
    "# 리스트명.index(데이타값) => 데이타값에 해당하는 인덱스값 추출 \n",
    "print('요일값 = ', target_list[0].a['href'][-3:])\n",
    "idx = week_list1.index(target_list[0].a['href'][-3:])\n",
    "print('인덱스 추출하기 = ', idx)\n",
    "print('해당 요일은? ', week_list2[idx])\n",
    "print()\n",
    "print('웹툰제목 = ', target_list[0].img['alt'])\n",
    "print('URL = ', base_url+target_list[0].a['href'])"
   ]
  },
  {
   "cell_type": "code",
   "execution_count": 16,
   "metadata": {},
   "outputs": [],
   "source": [
    "# 3) 테이블 구조 데이타 ( 2차원 리스트 )\n",
    "result_list = []\n",
    "base_url = 'https://comic.naver.com'\n",
    "week_list1 = ['mon', 'tue', 'wed', 'thu', 'fri', 'sat', 'sun']\n",
    "week_list2 = ['월요일', '화요일', '수요일', '목요일', '금요일', '토요일', '일요일']\n",
    "for tag in target_list:\n",
    "    # 요일값 추출하기 \n",
    "    temp = tag.a['href'][-3:]\n",
    "    idx = week_list1.index(temp)\n",
    "    week = week_list2[idx]\n",
    "    # 웹툰제목 \n",
    "    title = tag.img['alt']\n",
    "    # url 상세 주소\n",
    "    url = base_url+tag.a['href']\n",
    "    result_list.append([week, title, url])"
   ]
  },
  {
   "cell_type": "code",
   "execution_count": 17,
   "metadata": {},
   "outputs": [
    {
     "data": {
      "text/html": [
       "<div>\n",
       "<style scoped>\n",
       "    .dataframe tbody tr th:only-of-type {\n",
       "        vertical-align: middle;\n",
       "    }\n",
       "\n",
       "    .dataframe tbody tr th {\n",
       "        vertical-align: top;\n",
       "    }\n",
       "\n",
       "    .dataframe thead th {\n",
       "        text-align: right;\n",
       "    }\n",
       "</style>\n",
       "<table border=\"1\" class=\"dataframe\">\n",
       "  <thead>\n",
       "    <tr style=\"text-align: right;\">\n",
       "      <th></th>\n",
       "      <th>요일</th>\n",
       "      <th>웹툰제목</th>\n",
       "      <th>링크</th>\n",
       "    </tr>\n",
       "  </thead>\n",
       "  <tbody>\n",
       "    <tr>\n",
       "      <th>140</th>\n",
       "      <td>화요일</td>\n",
       "      <td>열녀박씨 계약결혼뎐</td>\n",
       "      <td>https://comic.naver.com/webtoon/list?titleId=7...</td>\n",
       "    </tr>\n",
       "    <tr>\n",
       "      <th>299</th>\n",
       "      <td>목요일</td>\n",
       "      <td>아빠같은 남자</td>\n",
       "      <td>https://comic.naver.com/webtoon/list?titleId=7...</td>\n",
       "    </tr>\n",
       "    <tr>\n",
       "      <th>139</th>\n",
       "      <td>화요일</td>\n",
       "      <td>제로게임</td>\n",
       "      <td>https://comic.naver.com/webtoon/list?titleId=6...</td>\n",
       "    </tr>\n",
       "    <tr>\n",
       "      <th>18</th>\n",
       "      <td>월요일</td>\n",
       "      <td>결혼생활 그림일기</td>\n",
       "      <td>https://comic.naver.com/webtoon/list?titleId=7...</td>\n",
       "    </tr>\n",
       "    <tr>\n",
       "      <th>516</th>\n",
       "      <td>일요일</td>\n",
       "      <td>경자 전성시대</td>\n",
       "      <td>https://comic.naver.com/webtoon/list?titleId=7...</td>\n",
       "    </tr>\n",
       "  </tbody>\n",
       "</table>\n",
       "</div>"
      ],
      "text/plain": [
       "      요일        웹툰제목                                                 링크\n",
       "140  화요일  열녀박씨 계약결혼뎐  https://comic.naver.com/webtoon/list?titleId=7...\n",
       "299  목요일     아빠같은 남자  https://comic.naver.com/webtoon/list?titleId=7...\n",
       "139  화요일        제로게임  https://comic.naver.com/webtoon/list?titleId=6...\n",
       "18   월요일   결혼생활 그림일기  https://comic.naver.com/webtoon/list?titleId=7...\n",
       "516  일요일     경자 전성시대  https://comic.naver.com/webtoon/list?titleId=7..."
      ]
     },
     "execution_count": 17,
     "metadata": {},
     "output_type": "execute_result"
    }
   ],
   "source": [
    "# 4) 판다스의 데이타프레임 구조로 변경한 후 csv 파일로 저장하기 \n",
    "df = pd.DataFrame(result_list, \n",
    "         columns=['요일','웹툰제목','링크'])\n",
    "# df # 전체보기\n",
    "# 랜덤하게 샘플 뽑아서 출력\n",
    "df.sample(5)"
   ]
  },
  {
   "cell_type": "code",
   "execution_count": 18,
   "metadata": {},
   "outputs": [],
   "source": [
    "df.to_csv('data/naver_weekwebtoon.csv', index=False, encoding='cp949')"
   ]
  }
 ],
 "metadata": {
  "kernelspec": {
   "display_name": "base",
   "language": "python",
   "name": "python3"
  },
  "language_info": {
   "codemirror_mode": {
    "name": "ipython",
    "version": 3
   },
   "file_extension": ".py",
   "mimetype": "text/x-python",
   "name": "python",
   "nbconvert_exporter": "python",
   "pygments_lexer": "ipython3",
   "version": "3.9.13"
  },
  "orig_nbformat": 4,
  "vscode": {
   "interpreter": {
    "hash": "ad2bdc8ecc057115af97d19610ffacc2b4e99fae6737bb82f5d7fb13d2f2c186"
   }
  }
 },
 "nbformat": 4,
 "nbformat_minor": 2
}
