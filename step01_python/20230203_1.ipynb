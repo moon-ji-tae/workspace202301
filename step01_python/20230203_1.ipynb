{
 "cells": [
  {
   "cell_type": "code",
   "execution_count": 2,
   "id": "d0cb57b0",
   "metadata": {},
   "outputs": [],
   "source": [
    "import random"
   ]
  },
  {
   "cell_type": "code",
   "execution_count": 3,
   "id": "f3f3b5df",
   "metadata": {},
   "outputs": [
    {
     "name": "stdout",
     "output_type": "stream",
     "text": [
      "['BPF', 'LOG4', 'NV_MAGICCONST', 'RECIP_BPF', 'Random', 'SG_MAGICCONST', 'SystemRandom', 'TWOPI', '_Sequence', '_Set', '__all__', '__builtins__', '__cached__', '__doc__', '__file__', '__loader__', '__name__', '__package__', '__spec__', '_accumulate', '_acos', '_bisect', '_ceil', '_cos', '_e', '_exp', '_floor', '_inst', '_log', '_os', '_pi', '_random', '_repeat', '_sha512', '_sin', '_sqrt', '_test', '_test_generator', '_urandom', '_warn', 'betavariate', 'choice', 'choices', 'expovariate', 'gammavariate', 'gauss', 'getrandbits', 'getstate', 'lognormvariate', 'normalvariate', 'paretovariate', 'randbytes', 'randint', 'random', 'randrange', 'sample', 'seed', 'setstate', 'shuffle', 'triangular', 'uniform', 'vonmisesvariate', 'weibullvariate']\n"
     ]
    }
   ],
   "source": [
    "print(dir(random))"
   ]
  },
  {
   "cell_type": "code",
   "execution_count": 10,
   "id": "411051de",
   "metadata": {},
   "outputs": [
    {
     "name": "stdout",
     "output_type": "stream",
     "text": [
      "1 2 3 1 2 "
     ]
    }
   ],
   "source": [
    "# 1~5 사이의 수자중에서 무작위 추출\n",
    "for i in range(5):\n",
    "    print(random.randrange(1,6), end= ' ')"
   ]
  },
  {
   "cell_type": "code",
   "execution_count": 14,
   "id": "16f17313",
   "metadata": {},
   "outputs": [
    {
     "data": {
      "text/plain": [
       "[64, 76, 65, 66, 98]"
      ]
     },
     "execution_count": 14,
     "metadata": {},
     "output_type": "execute_result"
    }
   ],
   "source": [
    "# 1~100 사이의 범위에서 5개를 무작위 추출 후 리스트로 만들기\n",
    "num_list=[]\n",
    "for i in range(5):\n",
    "    num_list.append(random.randrange(1,101))\n",
    "num_list"
   ]
  },
  {
   "cell_type": "code",
   "execution_count": 16,
   "id": "a644b36c",
   "metadata": {},
   "outputs": [
    {
     "data": {
      "text/plain": [
       "[5, 27, 2, 8, 58]"
      ]
     },
     "execution_count": 16,
     "metadata": {},
     "output_type": "execute_result"
    }
   ],
   "source": [
    "num_list = [random.randrange(1,101) for i in range(5)]  \n",
    "num_list"
   ]
  },
  {
   "cell_type": "code",
   "execution_count": 18,
   "id": "d9b6a432",
   "metadata": {},
   "outputs": [
    {
     "data": {
      "text/plain": [
       "['shjb', 'vfakbh', 'fdfbvvf']"
      ]
     },
     "execution_count": 18,
     "metadata": {},
     "output_type": "execute_result"
    }
   ],
   "source": [
    " # split 문자열을 리스트로 만들기 (공백으로 분이 기준)\n",
    "txt = 'shjb vfakbh fdfbvvf'\n",
    "txt_list = txt.split()\n",
    "txt_list"
   ]
  },
  {
   "cell_type": "code",
   "execution_count": 19,
   "id": "3e1f26ea",
   "metadata": {},
   "outputs": [
    {
     "name": "stdout",
     "output_type": "stream",
     "text": [
      "['fdfbvvf', 'vfakbh']\n"
     ]
    }
   ],
   "source": [
    "print(random.sample(txt_list, 2))"
   ]
  },
  {
   "cell_type": "code",
   "execution_count": 20,
   "id": "7ba2f510",
   "metadata": {},
   "outputs": [
    {
     "name": "stdout",
     "output_type": "stream",
     "text": [
      "[10, 8, 3]\n"
     ]
    }
   ],
   "source": [
    "# 뽑기\n",
    "num_list = list(range(1,11))\n",
    "print(random.sample(num_list, 3))"
   ]
  },
  {
   "cell_type": "code",
   "execution_count": 22,
   "id": "71959d82",
   "metadata": {},
   "outputs": [
    {
     "data": {
      "text/plain": [
       "['vfakbh', 'shjb', 'fdfbvvf']"
      ]
     },
     "execution_count": 22,
     "metadata": {},
     "output_type": "execute_result"
    }
   ],
   "source": [
    "# 썩기\n",
    "random.shuffle(txt_list)\n",
    "txt_list"
   ]
  },
  {
   "cell_type": "code",
   "execution_count": 25,
   "id": "8b9ebaeb",
   "metadata": {},
   "outputs": [
    {
     "name": "stdout",
     "output_type": "stream",
     "text": [
      "[11, 14, 18, 22, 25, 28]\n"
     ]
    }
   ],
   "source": [
    "#로또 번호 뽑기 - 중복 없음\n",
    "def make_lotto2():\n",
    "    lotto_list = []\n",
    "    while True:\n",
    "        if len(lotto_list) == 6:\n",
    "            break\n",
    "        temp = random.randint(1, 46)\n",
    "        if temp not in lotto_list:\n",
    "            lotto_list.append(temp)\n",
    "    return sorted(lotto_list)\n",
    "\n",
    "print(make_lotto2())"
   ]
  },
  {
   "cell_type": "code",
   "execution_count": 26,
   "id": "129ba63a",
   "metadata": {},
   "outputs": [
    {
     "name": "stdout",
     "output_type": "stream",
     "text": [
      "[1, 2, 14, 31, 39, 43]\n"
     ]
    }
   ],
   "source": [
    "print(sorted(random.sample(range(1,46),6)))"
   ]
  },
  {
   "cell_type": "code",
   "execution_count": 3,
   "id": "dc4d1bff",
   "metadata": {},
   "outputs": [
    {
     "name": "stdout",
     "output_type": "stream",
     "text": [
      "추천 로또 번호 [6, 8, 15, 19, 42, 46]\n",
      "추천 로또 번호 [6, 13, 14, 18, 20, 36]\n",
      "추천 로또 번호 [6, 20, 29, 30, 32, 44]\n"
     ]
    }
   ],
   "source": [
    "# 중복 없는 로또\n",
    "# 로또 번호 리스트 만들기 (중복숫자 없음)\n",
    "# 1~46 숫자중에서 6개 \n",
    "def make_lotto2():\n",
    "    # 1~46 개로 구성된 숫자 리스트 생성 \n",
    "    num_list = list(range(1,47))\n",
    "    # 6개 뽑기 \n",
    "    lotto_list = random.sample(num_list, 6)\n",
    "    # 숫자 정렬 \n",
    "    return print(f'추천 로또 번호 {sorted(lotto_list)}')\n",
    "\n",
    "make_lotto2()\n",
    "make_lotto2()\n",
    "make_lotto2()\n"
   ]
  },
  {
   "cell_type": "code",
   "execution_count": 12,
   "id": "16fc9b55",
   "metadata": {},
   "outputs": [
    {
     "name": "stdout",
     "output_type": "stream",
     "text": [
      "월요일 청소당번 : 홍길동.이동백\n",
      "화요일 청소당번 : 이동백.하민수\n",
      "수요일 청소당번 : 신은수.기대주\n",
      "목요일 청소당번 : 소민주.기대주\n",
      "금요일 청소당번 : 홍길동.이동백\n"
     ]
    }
   ],
   "source": [
    "stList = \"김철수 홍길동 기대주 이동백 하민수 김영희 소민주 신은수\"\n",
    "          \n",
    "stLists = []\n",
    "stLists = stList.split()\n",
    "\n",
    "def choice_student(stLists):\n",
    "    day_list = ['월','화','수','목','금']\n",
    "    for item in day_list:\n",
    "        choice = random.sample(stLists, 2)\n",
    "        choice = '.'.join(choice)\n",
    "        print(f'{item}요일 청소당번 : {choice}' )\n",
    "        \n",
    "choice_student(stLists)"
   ]
  },
  {
   "cell_type": "code",
   "execution_count": 17,
   "id": "638cff80",
   "metadata": {},
   "outputs": [
    {
     "name": "stdout",
     "output_type": "stream",
     "text": [
      "['__builtins__', '__cached__', '__doc__', '__file__', '__loader__', '__name__', '__package__', '__spec__', 'make_lotto3']\n"
     ]
    }
   ],
   "source": [
    "#사용자 정의 모듈 IMPORT하기\n",
    "import costom\n",
    "print(dir(costom))"
   ]
  },
  {
   "cell_type": "code",
   "execution_count": 1,
   "id": "90d4c20e",
   "metadata": {},
   "outputs": [
    {
     "name": "stdout",
     "output_type": "stream",
     "text": [
      "추천 로또 번호 [6, 11, 13, 15, 16, 41]\n",
      "None\n",
      "추천 로또 번호 [6, 17, 22, 25, 28, 39]\n"
     ]
    }
   ],
   "source": [
    "import costom\n",
    "costom.make_lotto3()"
   ]
  },
  {
   "cell_type": "code",
   "execution_count": 1,
   "id": "35e5959d",
   "metadata": {},
   "outputs": [
    {
     "name": "stdout",
     "output_type": "stream",
     "text": [
      "2 X 1 = 2\n",
      "2 X 2 = 4\n",
      "2 X 3 = 6\n",
      "2 X 4 = 8\n",
      "2 X 5 = 10\n",
      "2 X 6 = 12\n",
      "2 X 7 = 14\n",
      "2 X 8 = 16\n",
      "2 X 9 = 18\n",
      "3 X 1 = 3\n",
      "3 X 2 = 6\n",
      "3 X 3 = 9\n",
      "3 X 4 = 12\n",
      "3 X 5 = 15\n",
      "3 X 6 = 18\n",
      "3 X 7 = 21\n",
      "3 X 8 = 24\n",
      "3 X 9 = 27\n",
      "4 X 1 = 4\n",
      "4 X 2 = 8\n",
      "4 X 3 = 12\n",
      "4 X 4 = 16\n",
      "4 X 5 = 20\n",
      "4 X 6 = 24\n",
      "4 X 7 = 28\n",
      "4 X 8 = 32\n",
      "4 X 9 = 36\n",
      "5 X 1 = 5\n",
      "5 X 2 = 10\n",
      "5 X 3 = 15\n",
      "5 X 4 = 20\n",
      "5 X 5 = 25\n",
      "5 X 6 = 30\n",
      "5 X 7 = 35\n",
      "5 X 8 = 40\n",
      "5 X 9 = 45\n",
      "6 X 1 = 6\n",
      "6 X 2 = 12\n",
      "6 X 3 = 18\n",
      "6 X 4 = 24\n",
      "6 X 5 = 30\n",
      "6 X 6 = 36\n",
      "6 X 7 = 42\n",
      "6 X 8 = 48\n",
      "6 X 9 = 54\n",
      "7 X 1 = 7\n",
      "7 X 2 = 14\n",
      "7 X 3 = 21\n",
      "7 X 4 = 28\n",
      "7 X 5 = 35\n",
      "7 X 6 = 42\n",
      "7 X 7 = 49\n",
      "7 X 8 = 56\n",
      "7 X 9 = 63\n",
      "8 X 1 = 8\n",
      "8 X 2 = 16\n",
      "8 X 3 = 24\n",
      "8 X 4 = 32\n",
      "8 X 5 = 40\n",
      "8 X 6 = 48\n",
      "8 X 7 = 56\n",
      "8 X 8 = 64\n",
      "8 X 9 = 72\n",
      "9 X 1 = 9\n",
      "9 X 2 = 18\n",
      "9 X 3 = 27\n",
      "9 X 4 = 36\n",
      "9 X 5 = 45\n",
      "9 X 6 = 54\n",
      "9 X 7 = 63\n",
      "9 X 8 = 72\n",
      "9 X 9 = 81\n"
     ]
    }
   ],
   "source": [
    "import gugu\n",
    "gugu.gugu_print2()"
   ]
  },
  {
   "cell_type": "code",
   "execution_count": 12,
   "id": "3a4d6ffe",
   "metadata": {},
   "outputs": [
    {
     "name": "stdout",
     "output_type": "stream",
     "text": [
      "test_p 폴도안의 calc.py 호출\n",
      "3+4=7\n"
     ]
    }
   ],
   "source": [
    "# 패키지 예제\n",
    "# 폴드를 만들면 폴더.파일.함수\n",
    "import calc\n",
    "calc.info()\n",
    "calc.calc_plus(3,4)"
   ]
  },
  {
   "cell_type": "code",
   "execution_count": 16,
   "id": "8c92b83e",
   "metadata": {},
   "outputs": [
    {
     "name": "stdout",
     "output_type": "stream",
     "text": [
      "test_p 폴도안의 calc.py 호출\n"
     ]
    }
   ],
   "source": [
    "import calc as t\n",
    "t.info()"
   ]
  },
  {
   "cell_type": "code",
   "execution_count": 18,
   "id": "378cc4f3",
   "metadata": {},
   "outputs": [
    {
     "name": "stdout",
     "output_type": "stream",
     "text": [
      "7+3=4\n"
     ]
    }
   ],
   "source": [
    "t.calc_minus(7,3)"
   ]
  },
  {
   "cell_type": "code",
   "execution_count": 1,
   "id": "32d1180b",
   "metadata": {},
   "outputs": [
    {
     "name": "stdout",
     "output_type": "stream",
     "text": [
      "test_p 폴도안의 calc.py 호출\n"
     ]
    }
   ],
   "source": [
    "from calc import *\n",
    "info()"
   ]
  },
  {
   "cell_type": "code",
   "execution_count": 2,
   "id": "068a8b60",
   "metadata": {},
   "outputs": [
    {
     "name": "stdout",
     "output_type": "stream",
     "text": [
      "7-2=5\n"
     ]
    }
   ],
   "source": [
    "calc_minus(7,2)"
   ]
  },
  {
   "cell_type": "code",
   "execution_count": 3,
   "id": "22b9d568",
   "metadata": {},
   "outputs": [
    {
     "name": "stdout",
     "output_type": "stream",
     "text": [
      "5*6=30\n"
     ]
    }
   ],
   "source": [
    "calc_multy(5,6)"
   ]
  },
  {
   "cell_type": "code",
   "execution_count": 4,
   "id": "96d6b4c6",
   "metadata": {},
   "outputs": [
    {
     "name": "stdout",
     "output_type": "stream",
     "text": [
      "8/2=4.0\n"
     ]
    }
   ],
   "source": [
    "calc_divide(8,2)"
   ]
  },
  {
   "cell_type": "code",
   "execution_count": null,
   "id": "1cea34c2",
   "metadata": {},
   "outputs": [],
   "source": []
  }
 ],
 "metadata": {
  "kernelspec": {
   "display_name": "base",
   "language": "python",
   "name": "python3"
  },
  "language_info": {
   "codemirror_mode": {
    "name": "ipython",
    "version": 3
   },
   "file_extension": ".py",
   "mimetype": "text/x-python",
   "name": "python",
   "nbconvert_exporter": "python",
   "pygments_lexer": "ipython3",
   "version": "3.9.13"
  },
  "vscode": {
   "interpreter": {
    "hash": "ad2bdc8ecc057115af97d19610ffacc2b4e99fae6737bb82f5d7fb13d2f2c186"
   }
  }
 },
 "nbformat": 4,
 "nbformat_minor": 5
}
