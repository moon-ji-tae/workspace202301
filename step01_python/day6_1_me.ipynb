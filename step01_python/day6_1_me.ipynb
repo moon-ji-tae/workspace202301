{
 "cells": [
  {
   "cell_type": "markdown",
   "metadata": {},
   "source": []
  },
  {
   "attachments": {},
   "cell_type": "markdown",
   "metadata": {},
   "source": [
    "# review \n",
    "- 함수 < 모듈(파일) < 패키지(폴드)>>\n",
    "### 클래스\n",
    "    - OOP 객체지향\n",
    "    - 속성(변수) + 매서드(함수)\n",
    "    - 설계도\n",
    "    - 인스턴스(객체)\n",
    "    - 클래스변수\n",
    "    - 상속 \n",
    "    - 메스드 오버라이딩"
   ]
  },
  {
   "attachments": {},
   "cell_type": "markdown",
   "metadata": {},
   "source": [
    "2023.02.22 강의"
   ]
  },
  {
   "cell_type": "code",
   "execution_count": 40,
   "metadata": {},
   "outputs": [
    {
     "name": "stdout",
     "output_type": "stream",
     "text": [
      "1675646638.7477813\n",
      "time.struct_time(tm_year=2023, tm_mon=2, tm_mday=6, tm_hour=10, tm_min=23, tm_sec=58, tm_wday=0, tm_yday=37, tm_isdst=0)\n"
     ]
    }
   ],
   "source": [
    "import time\n",
    "print(time.time())\n",
    "print(time.localtime(time.time()))"
   ]
  },
  {
   "cell_type": "code",
   "execution_count": 41,
   "metadata": {},
   "outputs": [
    {
     "name": "stdout",
     "output_type": "stream",
     "text": [
      "<class 'time.struct_time'>\n",
      "2023년 2월 6일 10시 23 분\n"
     ]
    }
   ],
   "source": [
    "# 년월이시분초\n",
    "#tm_wday(0~6 : 월~일)\n",
    "#tm_yday 올해 누적일수\n",
    "#.속성으로 접근\n",
    "today = time.localtime(time.time())\n",
    "print(type(today))\n",
    "print(f'{today.tm_year}년 {today.tm_mon}월 {today.tm_mday}일 {today.tm_hour}시 {today.tm_min} 분')"
   ]
  },
  {
   "cell_type": "code",
   "execution_count": 42,
   "metadata": {},
   "outputs": [
    {
     "name": "stdout",
     "output_type": "stream",
     "text": [
      "오늘은 월요일 입니다\n",
      "오늘은 37 쨰 일 입니다\n"
     ]
    }
   ],
   "source": [
    "week_day= ['월요일','화요일','수요일','목요일','금요일','토요일','일요일',]\n",
    "print(f'오늘은 {week_day[today.tm_wday]} 입니다')\n",
    "print(f'오늘은 {today.tm_yday} 쨰 일 입니다')\n"
   ]
  },
  {
   "cell_type": "code",
   "execution_count": 43,
   "metadata": {},
   "outputs": [
    {
     "name": "stdout",
     "output_type": "stream",
     "text": [
      "Mon Feb  6 10:23:58 2023\n",
      "<class 'str'>\n",
      "['Mon', 'Feb', '6', '10:23:58', '2023']\n",
      "현재시간은 10:23:58\n",
      "time.struct_time(tm_year=2023, tm_mon=2, tm_mday=6, tm_hour=1, tm_min=23, tm_sec=58, tm_wday=0, tm_yday=37, tm_isdst=0)\n",
      "2023\n"
     ]
    }
   ],
   "source": [
    "#time.sleep(30)\n",
    "print(time.ctime())\n",
    "print(type(time.ctime()))\n",
    "today = time.ctime()\n",
    "day_list = today.split()\n",
    "print(day_list)\n",
    "print(f'현재시간은 {day_list[3]}')\n",
    "print(time.gmtime())\n",
    "print(time.gmtime().tm_year)"
   ]
  },
  {
   "cell_type": "code",
   "execution_count": 44,
   "metadata": {},
   "outputs": [
    {
     "name": "stdout",
     "output_type": "stream",
     "text": [
      "0\n",
      "1\n",
      "2\n",
      "3\n",
      "4\n"
     ]
    }
   ],
   "source": [
    "# 지연시간\n",
    "for i in range(5):\n",
    "    print(i)\n",
    "    time.sleep(2)"
   ]
  },
  {
   "cell_type": "code",
   "execution_count": 47,
   "metadata": {},
   "outputs": [
    {
     "name": "stdout",
     "output_type": "stream",
     "text": [
      "02/06/23\n",
      "10:24:38\n",
      "Mon\n",
      "<class 'str'>\n",
      "Monday\n",
      "2023 2023\n",
      "AM 10 24\n"
     ]
    },
    {
     "name": "stdout",
     "output_type": "stream",
     "text": [
      "\u001b[1;31mDocstring:\u001b[0m\n",
      "strftime(format[, tuple]) -> string\n",
      "\n",
      "Convert a time tuple to a string according to a format specification.\n",
      "See the library reference manual for formatting codes. When the time tuple\n",
      "is not present, current time as returned by localtime() is used.\n",
      "\n",
      "Commonly used format codes:\n",
      "\n",
      "%Y  Year with century as a decimal number.\n",
      "%m  Month as a decimal number [01,12].\n",
      "%d  Day of the month as a decimal number [01,31].\n",
      "%H  Hour (24-hour clock) as a decimal number [00,23].\n",
      "%M  Minute as a decimal number [00,59].\n",
      "%S  Second as a decimal number [00,61].\n",
      "%z  Time zone offset from UTC.\n",
      "%a  Locale's abbreviated weekday name.\n",
      "%A  Locale's full weekday name.\n",
      "%b  Locale's abbreviated month name.\n",
      "%B  Locale's full month name.\n",
      "%c  Locale's appropriate date and time representation.\n",
      "%I  Hour (12-hour clock) as a decimal number [01,12].\n",
      "%p  Locale's equivalent of either AM or PM.\n",
      "\n",
      "Other codes may be available on your platform.  See documentation for\n",
      "the C library strftime function.\n",
      "\u001b[1;31mType:\u001b[0m      builtin_function_or_method\n"
     ]
    }
   ],
   "source": [
    "print(time.strftime('%x'))\n",
    "print(time.strftime('%X'))\n",
    "print(time.strftime('%a'))\n",
    "print(type(time.strftime('%a')))\n",
    "time.strftime?\n",
    "print(time.strftime('%A', time.localtime(time.time())))\n",
    "today = time.localtime(time.time())\n",
    "print(today.tm_year, time.strftime('%Y',today))\n",
    "print(time.strftime('%p %I %M', today))"
   ]
  },
  {
   "cell_type": "code",
   "execution_count": 54,
   "metadata": {},
   "outputs": [
    {
     "name": "stdout",
     "output_type": "stream",
     "text": [
      "['MAXYEAR', 'MINYEAR', '__all__', '__builtins__', '__cached__', '__doc__', '__file__', '__loader__', '__name__', '__package__', '__spec__', 'date', 'datetime', 'datetime_CAPI', 'sys', 'time', 'timedelta', 'timezone', 'tzinfo']\n",
      "['__add__', '__class__', '__delattr__', '__dir__', '__doc__', '__eq__', '__format__', '__ge__', '__getattribute__', '__gt__', '__hash__', '__init__', '__init_subclass__', '__le__', '__lt__', '__ne__', '__new__', '__radd__', '__reduce__', '__reduce_ex__', '__repr__', '__rsub__', '__setattr__', '__sizeof__', '__str__', '__sub__', '__subclasshook__', 'astimezone', 'combine', 'ctime', 'date', 'day', 'dst', 'fold', 'fromisocalendar', 'fromisoformat', 'fromordinal', 'fromtimestamp', 'hour', 'isocalendar', 'isoformat', 'isoweekday', 'max', 'microsecond', 'min', 'minute', 'month', 'now', 'replace', 'resolution', 'second', 'strftime', 'strptime', 'time', 'timestamp', 'timetuple', 'timetz', 'today', 'toordinal', 'tzinfo', 'tzname', 'utcfromtimestamp', 'utcnow', 'utcoffset', 'utctimetuple', 'weekday', 'year']\n",
      "2023-02-06 10:37:24.988351\n",
      "년 ; 2023\n",
      "월 ; 2\n",
      "일 ; 6\n"
     ]
    }
   ],
   "source": [
    "# datetime  모듈\n",
    "import datetime\n",
    "print(dir(datetime))\n",
    "print(dir(datetime.datetime))\n",
    "now = datetime.datetime.now()\n",
    "print(now)\n",
    "print(f'년 ; {now.year}')\n",
    "print(f'월 ; {now.month}')\n",
    "print(f'일 ; {now.day}')"
   ]
  },
  {
   "cell_type": "code",
   "execution_count": 58,
   "metadata": {},
   "outputs": [
    {
     "name": "stdout",
     "output_type": "stream",
     "text": [
      "10 37\n"
     ]
    }
   ],
   "source": [
    "print(now.hour, now.minute)"
   ]
  },
  {
   "cell_type": "code",
   "execution_count": 64,
   "metadata": {},
   "outputs": [],
   "source": [
    "def print_timeinfo():\n",
    "    today = datetime.datetime.now()\n",
    "    if today.hour < 12:\n",
    "        print(f' 오전 {today.hour} 시 {today.minute} 분')\n",
    "    else:\n",
    "        print(f' 오후 {today.hour} 시 {today.minute} 분')"
   ]
  },
  {
   "cell_type": "code",
   "execution_count": 65,
   "metadata": {},
   "outputs": [
    {
     "name": "stdout",
     "output_type": "stream",
     "text": [
      " 오전 10 시 50 분\n"
     ]
    }
   ],
   "source": [
    "print_timeinfo()"
   ]
  },
  {
   "cell_type": "code",
   "execution_count": 71,
   "metadata": {},
   "outputs": [],
   "source": [
    "def welth_info(month):\n",
    "    if month <= 2 or month == 12:\n",
    "        print('겨울')\n",
    "    elif month >= 3 and month <= 5:\n",
    "        print('봄')\n",
    "    elif month >= 6 and month <= 8:\n",
    "        print('여름')\n",
    "    else:\n",
    "        print('가을')\n",
    "    "
   ]
  },
  {
   "cell_type": "code",
   "execution_count": 86,
   "metadata": {},
   "outputs": [
    {
     "name": "stdout",
     "output_type": "stream",
     "text": [
      "2\n",
      "겨울\n",
      "==============================\n",
      "겨울\n",
      "겨울\n",
      "봄\n",
      "봄\n",
      "봄\n",
      "여름\n",
      "여름\n",
      "여름\n",
      "가을\n",
      "가을\n",
      "가을\n",
      "겨울\n"
     ]
    }
   ],
   "source": [
    "now_month = datetime.datetime.now()\n",
    "print(now_month.month)\n",
    "welth_info(now_month.month)\n",
    "print('=' * 30)\n",
    "for i in range(1,13):\n",
    "    welth_info(i)"
   ]
  },
  {
   "cell_type": "code",
   "execution_count": 84,
   "metadata": {},
   "outputs": [
    {
     "name": "stdout",
     "output_type": "stream",
     "text": [
      "2월은 겨을\n"
     ]
    }
   ],
   "source": [
    "today = datetime.datetime.now()\n",
    "\n",
    "if today.month in [3, 4, 5] :\n",
    "#     if 3 <= today.month <=5 :\n",
    "#     if (today.month >=3) and  (today.month <= 5) :\n",
    "    print(f'{today.month}월은 봄')\n",
    "elif today.month in [6, 7, 8] :\n",
    "    print(f'{today.month}월은 여름')\n",
    "elif today.month in [9, 10, 11] :\n",
    "    print(f'{today.month}월은 가을')        \n",
    "else :\n",
    "    print(f'{today.month}월은 겨을')"
   ]
  },
  {
   "cell_type": "code",
   "execution_count": 87,
   "metadata": {},
   "outputs": [
    {
     "name": "stdout",
     "output_type": "stream",
     "text": [
      "1.7142857142857142\n",
      "0으로 나누면 오류 발생 -> division by zero\n",
      "try except Test end\n"
     ]
    }
   ],
   "source": [
    "try:\n",
    "    print(12/7)\n",
    "    print(12/0)\n",
    "except ZeroDivisionError as e:\n",
    "    print(f'0으로 나누면 오류 발생 -> {e}')\n",
    "print('try except Test end')"
   ]
  },
  {
   "cell_type": "code",
   "execution_count": null,
   "metadata": {},
   "outputs": [],
   "source": []
  },
  {
   "cell_type": "code",
   "execution_count": 90,
   "metadata": {},
   "outputs": [
    {
     "name": "stdout",
     "output_type": "stream",
     "text": [
      "------------------------------\n",
      "4.0\n",
      "Error Test Finsh\n",
      "------------------------------\n",
      "0 나누 오류 -> division by zero\n",
      "Error Test Finsh\n",
      "------------------------------\n",
      " Type error -> unsupported operand type(s) for /: 'str' and 'str'\n",
      "Error Test Finsh\n"
     ]
    }
   ],
   "source": [
    "def div_except(x,y):\n",
    "    print('-' * 30)\n",
    "    try:\n",
    "        print(x/y)\n",
    "    except ZeroDivisionError as e:\n",
    "        print(f'0 나누 오류 -> {e}')\n",
    "    except TypeError as e:\n",
    "        print(f' Type error -> {e}')\n",
    "    print('Error Test Finsh')\n",
    "\n",
    "div_except(12,3)\n",
    "div_except(12,0)\n",
    "div_except('a', 'b')"
   ]
  },
  {
   "cell_type": "code",
   "execution_count": 2,
   "metadata": {},
   "outputs": [
    {
     "name": "stdout",
     "output_type": "stream",
     "text": [
      "Error gen - > unsupported operand type(s) for /: 'str' and 'str'\n",
      "Exception Test End\n",
      "------------------------------\n",
      "Error gen - > division by zero\n",
      "Exception Test End\n",
      "------------------------------\n",
      "2.0\n",
      "Exception Test End\n",
      "------------------------------\n"
     ]
    }
   ],
   "source": [
    "def exceptionTest(x,y):\n",
    "    try:\n",
    "        print(x/y)\n",
    "    except Exception as e:\n",
    "        print(f'Error gen - > {e}')\n",
    "    print('Exception Test End')\n",
    "    print('-' * 30)\n",
    "\n",
    "exceptionTest('ten', 'five')\n",
    "exceptionTest(10,0)\n",
    "exceptionTest(10,5)"
   ]
  },
  {
   "cell_type": "code",
   "execution_count": 96,
   "metadata": {},
   "outputs": [
    {
     "name": "stdout",
     "output_type": "stream",
     "text": [
      "41\n",
      "39\n",
      "66\n",
      "38\n",
      "15\n",
      "18\n",
      "63\n"
     ]
    }
   ],
   "source": [
    "# pass + try ... except 문\n",
    "numlist = [-41, '21','십오', 39, -66, '구십삼', -38, 15, 18,63]\n",
    "\n",
    "for item in numlist:\n",
    "    try:\n",
    "        print(abs(item))\n",
    "    except Exception as e:\n",
    "        pass"
   ]
  },
  {
   "cell_type": "code",
   "execution_count": 6,
   "metadata": {},
   "outputs": [
    {
     "name": "stdout",
     "output_type": "stream",
     "text": [
      "[10, 90, 100]\n",
      "[1.3, 1, 0, 99, 232.323, 0]\n"
     ]
    }
   ],
   "source": [
    "\n",
    "\n",
    "def makeABS(numlist):\n",
    "    redult_list = [] \n",
    "    for item in numlist:\n",
    "        try:\n",
    "            redult_list.append(abs(item))\n",
    "        except Exception as e:\n",
    "            pass\n",
    "    return redult_list\n",
    "\n",
    "print(makeABS([10,'일','파이썽ㄴ',-90,-100]))\n",
    "print(makeABS([-1.3, True, False, '파인선',-99,232.323,0]))\n"
   ]
  },
  {
   "cell_type": "code",
   "execution_count": 3,
   "metadata": {},
   "outputs": [
    {
     "name": "stdout",
     "output_type": "stream",
     "text": [
      "에러 발생 => division by zero\n",
      "Erro Test End\n",
      "\n",
      "에러 발생 => unsupported operand type(s) for /: 'str' and 'str'\n",
      "Erro Test End\n",
      "\n",
      "에러 발생 => unsupported operand type(s) for /: 'str' and 'int'\n",
      "Erro Test End\n",
      "\n",
      "x= 100  y = 200, 100 / 200 = 0.50\n",
      "에로가 검출되지 않았습니다\n",
      "Erro Test End\n",
      "\n"
     ]
    }
   ],
   "source": [
    "def exceptionTest2(x,y):\n",
    "    try:\n",
    "        print(f'x= {x}  y = {y}, {x} / {y} = {x/y:.2f}')\n",
    "    except Exception as e:\n",
    "        print('에러 발생 =>' , e)\n",
    "    else:\n",
    "        print('에로가 검출되지 않았습니다')\n",
    "    print('Erro Test End\\n')\n",
    "\n",
    "exceptionTest2(10,0)\n",
    "exceptionTest2('Ten','Five')\n",
    "exceptionTest2('ㅅ;ㅂ', 10)\n",
    "exceptionTest2(100,200)"
   ]
  },
  {
   "cell_type": "code",
   "execution_count": 6,
   "metadata": {},
   "outputs": [
    {
     "name": "stdout",
     "output_type": "stream",
     "text": [
      " 백은(는) 입력 데이터가 숫자가 아닙니다\n"
     ]
    }
   ],
   "source": [
    "def add_except(numList):\n",
    "    try:\n",
    "        resultnum = abs(numlist)\n",
    "    except Exception as e:\n",
    "        print(f' {numList}은(는) 입력 데이터가 숫자가 아닙니다')\n",
    "\n",
    "add_except('백')"
   ]
  },
  {
   "cell_type": "code",
   "execution_count": 16,
   "metadata": {},
   "outputs": [
    {
     "name": "stdout",
     "output_type": "stream",
     "text": [
      "10.0 + 20.0 = 30.0\n"
     ]
    }
   ],
   "source": [
    "def add_except2():\n",
    "    try:\n",
    "        defx = float(input('숫자1입력 '))\n",
    "        defy = float(input('숫자2입력 '))\n",
    "    except Exception as e:\n",
    "        print(f' 입력된 데이터는 숫자가 아닙니다')\n",
    "    else:      \n",
    "        print(f'{defx} + {defy} = {defx+defy}')\n",
    "\n",
    "\n",
    "add_except2()"
   ]
  },
  {
   "cell_type": "code",
   "execution_count": 21,
   "metadata": {},
   "outputs": [
    {
     "ename": "Exception",
     "evalue": " 입력 에러 : 0은 입력값이 될 수없습니다",
     "output_type": "error",
     "traceback": [
      "\u001b[1;31m---------------------------------------------------------------------------\u001b[0m",
      "\u001b[1;31mException\u001b[0m                                 Traceback (most recent call last)",
      "\u001b[1;32m~\\AppData\\Local\\Temp\\ipykernel_4736\\2143822806.py\u001b[0m in \u001b[0;36m<module>\u001b[1;34m\u001b[0m\n\u001b[0;32m      1\u001b[0m \u001b[0min_data\u001b[0m \u001b[1;33m=\u001b[0m \u001b[0minput\u001b[0m\u001b[1;33m(\u001b[0m\u001b[1;34m'데이터 입력 = '\u001b[0m\u001b[1;33m)\u001b[0m\u001b[1;33m\u001b[0m\u001b[1;33m\u001b[0m\u001b[0m\n\u001b[0;32m      2\u001b[0m \u001b[1;32mif\u001b[0m \u001b[0min_data\u001b[0m \u001b[1;33m==\u001b[0m \u001b[1;34m'0'\u001b[0m\u001b[1;33m:\u001b[0m\u001b[1;33m\u001b[0m\u001b[1;33m\u001b[0m\u001b[0m\n\u001b[1;32m----> 3\u001b[1;33m     \u001b[1;32mraise\u001b[0m \u001b[0mException\u001b[0m\u001b[1;33m(\u001b[0m\u001b[1;34m' 입력 에러 : 0은 입력값이 될 수없습니다'\u001b[0m\u001b[1;33m)\u001b[0m\u001b[1;33m\u001b[0m\u001b[1;33m\u001b[0m\u001b[0m\n\u001b[0m\u001b[0;32m      4\u001b[0m \u001b[1;32melse\u001b[0m\u001b[1;33m:\u001b[0m\u001b[1;33m\u001b[0m\u001b[1;33m\u001b[0m\u001b[0m\n\u001b[0;32m      5\u001b[0m     \u001b[0mprint\u001b[0m\u001b[1;33m(\u001b[0m\u001b[1;34mf'입력 값은 {in_data} 입니다'\u001b[0m\u001b[1;33m)\u001b[0m\u001b[1;33m\u001b[0m\u001b[1;33m\u001b[0m\u001b[0m\n",
      "\u001b[1;31mException\u001b[0m:  입력 에러 : 0은 입력값이 될 수없습니다"
     ]
    }
   ],
   "source": [
    "in_data = input('데이터 입력 = ')\n",
    "if in_data == '0':\n",
    "    raise Exception(' 입력 에러 : 0은 입력값이 될 수없습니다')\n",
    "else:\n",
    "    print(f'입력 값은 {in_data} 입니다')"
   ]
  },
  {
   "cell_type": "code",
   "execution_count": 41,
   "metadata": {},
   "outputs": [
    {
     "name": "stdout",
     "output_type": "stream",
     "text": [
      "에러 발생 : 해당 학년은 존재하지 않습니다\n"
     ]
    }
   ],
   "source": [
    "def class_year():\n",
    "    in_class = input('학년을 입력하세요(1~4) ...')\n",
    "    try:\n",
    "        if in_class not in ['1', '2', '3','4']:\n",
    "            raise Exception \n",
    "    except Exception:\n",
    "        print('에러 발생 : 해당 학년은 존재하지 않습니다')\n",
    "    else:\n",
    "        print(f'Welcome {in_class} 학년 !!!')\n",
    "\n",
    "class_year()"
   ]
  },
  {
   "cell_type": "code",
   "execution_count": 32,
   "metadata": {},
   "outputs": [
    {
     "name": "stdout",
     "output_type": "stream",
     "text": [
      "에러 없음\n"
     ]
    }
   ],
   "source": [
    "# try ... except 에 적용 \n",
    "# 입력값이 0이면 에러발생 \n",
    "data = input('데이타 =>')\n",
    "try:\n",
    "    # 사용자정의 에러 \n",
    "    if data == '0':\n",
    "        raise Exception\n",
    "except:\n",
    "    print('에러 발생 : 입력값은 0이 될수 없음')\n",
    "else:\n",
    "    print('에러 없음')\n"
   ]
  },
  {
   "cell_type": "markdown",
   "metadata": {},
   "source": [
    "# FILE I/O"
   ]
  },
  {
   "cell_type": "code",
   "execution_count": 42,
   "metadata": {},
   "outputs": [
    {
     "name": "stdout",
     "output_type": "stream",
     "text": [
      "['DirEntry', 'F_OK', 'GenericAlias', 'Mapping', 'MutableMapping', 'O_APPEND', 'O_BINARY', 'O_CREAT', 'O_EXCL', 'O_NOINHERIT', 'O_RANDOM', 'O_RDONLY', 'O_RDWR', 'O_SEQUENTIAL', 'O_SHORT_LIVED', 'O_TEMPORARY', 'O_TEXT', 'O_TRUNC', 'O_WRONLY', 'P_DETACH', 'P_NOWAIT', 'P_NOWAITO', 'P_OVERLAY', 'P_WAIT', 'PathLike', 'R_OK', 'SEEK_CUR', 'SEEK_END', 'SEEK_SET', 'TMP_MAX', 'W_OK', 'X_OK', '_AddedDllDirectory', '_Environ', '__all__', '__builtins__', '__cached__', '__doc__', '__file__', '__loader__', '__name__', '__package__', '__spec__', '_check_methods', '_execvpe', '_exists', '_exit', '_fspath', '_get_exports_list', '_walk', '_wrap_close', 'abc', 'abort', 'access', 'add_dll_directory', 'altsep', 'chdir', 'chmod', 'close', 'closerange', 'cpu_count', 'curdir', 'defpath', 'device_encoding', 'devnull', 'dup', 'dup2', 'environ', 'error', 'execl', 'execle', 'execlp', 'execlpe', 'execv', 'execve', 'execvp', 'execvpe', 'extsep', 'fdopen', 'fsdecode', 'fsencode', 'fspath', 'fstat', 'fsync', 'ftruncate', 'get_exec_path', 'get_handle_inheritable', 'get_inheritable', 'get_terminal_size', 'getcwd', 'getcwdb', 'getenv', 'getlogin', 'getpid', 'getppid', 'isatty', 'kill', 'linesep', 'link', 'listdir', 'lseek', 'lstat', 'makedirs', 'mkdir', 'name', 'open', 'pardir', 'path', 'pathsep', 'pipe', 'popen', 'putenv', 'read', 'readlink', 'remove', 'removedirs', 'rename', 'renames', 'replace', 'rmdir', 'scandir', 'sep', 'set_handle_inheritable', 'set_inheritable', 'spawnl', 'spawnle', 'spawnv', 'spawnve', 'st', 'startfile', 'stat', 'stat_result', 'statvfs_result', 'strerror', 'supports_bytes_environ', 'supports_dir_fd', 'supports_effective_ids', 'supports_fd', 'supports_follow_symlinks', 'symlink', 'sys', 'system', 'terminal_size', 'times', 'times_result', 'truncate', 'umask', 'uname_result', 'unlink', 'unsetenv', 'urandom', 'utime', 'waitpid', 'waitstatus_to_exitcode', 'walk', 'write']\n"
     ]
    }
   ],
   "source": [
    "import os\n",
    "# print(dir(os))"
   ]
  },
  {
   "cell_type": "code",
   "execution_count": 49,
   "metadata": {},
   "outputs": [
    {
     "name": "stdout",
     "output_type": "stream",
     "text": [
      "있다 ~!!!!!!!\n"
     ]
    }
   ],
   "source": [
    "try:\n",
    "    os.mkdir('output')\n",
    "except Exception:\n",
    "    print('있다 ~!!!!!!!')\n",
    "else:\n",
    "    print('OK !!!!!')"
   ]
  },
  {
   "cell_type": "code",
   "execution_count": 50,
   "metadata": {},
   "outputs": [
    {
     "name": "stdout",
     "output_type": "stream",
     "text": [
      " C ����̺��� �������� �̸��� �����ϴ�.\n",
      " ���� �Ϸ� ��ȣ: 44E5-00A0\n",
      "\n",
      " c:\\workspace202301\\step01_python ���͸�\n",
      "\n",
      "2023-02-06  ���� 02:23    <DIR>          .\n",
      "2023-02-03  ���� 10:24    <DIR>          ..\n",
      "2023-02-03  ���� 10:44    <DIR>          .ipynb_checkpoints\n",
      "2023-02-03  ���� 01:53    <DIR>          __pycache__\n",
      "2023-02-03  ���� 05:33            16,907 202302_2.ipynb\n",
      "2023-02-03  ���� 01:54            12,487 20230203_1.ipynb\n",
      "2023-02-03  ���� 01:53               671 calc.py\n",
      "2023-02-03  ���� 11:26               211 costom.py\n",
      "2023-02-06  ���� 02:21    <DIR>          data\n",
      "2023-02-06  ���� 01:53            19,831 day6_1_me.ipynb\n",
      "2023-02-03  ���� 11:34               367 gugu.py\n",
      "2023-02-06  ���� 02:23    <DIR>          output\n",
      "               6�� ����              50,474 ����Ʈ\n",
      "               6�� ���͸�  956,118,036,480 ����Ʈ ����\n"
     ]
    }
   ],
   "source": [
    "ls"
   ]
  },
  {
   "cell_type": "code",
   "execution_count": 85,
   "metadata": {},
   "outputs": [],
   "source": [
    "#\"f = open(\"data/test.txt\", 'w', encoding='utf-8')\n",
    "texts = ['1. 파일 Oepn, Close \\n', '2. Access mode\\n', '3. 파일 읽기 (read)\\n', '4. with로 파일 읽기\\n','5. 파일 쓰기 (write)\\n']\n",
    "#f.write(texts)\n",
    "#f.close()"
   ]
  },
  {
   "cell_type": "code",
   "execution_count": 87,
   "metadata": {},
   "outputs": [],
   "source": [
    "f = open(\"data/test.txt\", 'a', encoding='utf-8')\n",
    "\n",
    "for item in texts:\n",
    "    f.write(item)\n",
    "f.close()"
   ]
  },
  {
   "cell_type": "code",
   "execution_count": 88,
   "metadata": {},
   "outputs": [],
   "source": [
    "f = open(\"output/data.txt\" ,'w')\n",
    "for i in range(1,11):\n",
    "    data = '%d 번째 줄입니다.\\n' %i\n",
    "    f.write(data)\n",
    "f.close()"
   ]
  },
  {
   "cell_type": "code",
   "execution_count": 89,
   "metadata": {},
   "outputs": [
    {
     "name": "stdout",
     "output_type": "stream",
     "text": [
      "1 번째 줄입니다.\n",
      "2 번째 줄입니다.\n",
      "3 번째 줄입니다.\n",
      "4 번째 줄입니다.\n",
      "5 번째 줄입니다.\n",
      "6 번째 줄입니다.\n",
      "7 번째 줄입니다.\n",
      "8 번째 줄입니다.\n",
      "9 번째 줄입니다.\n",
      "10 번째 줄입니다.\n",
      "\n",
      "<class 'str'>\n"
     ]
    }
   ],
   "source": [
    "f = open(\"output/data.txt\" ,'r')\n",
    "data = f.read()\n",
    "print(data)\n",
    "print(type(data))\n",
    "f.close()"
   ]
  },
  {
   "cell_type": "code",
   "execution_count": 104,
   "metadata": {},
   "outputs": [
    {
     "name": "stdout",
     "output_type": "stream",
     "text": [
      "♥행복해지는 법 ♥\n",
      "\n",
      "1. 나 자신을 위해서 꽃을 산다.\n",
      "2. 날씨가 좋은 날엔 석양을 보러 나간다.\n",
      "3. 제일 좋아하는 향수를 집안 곳곳에 뿌려 둔다.\n",
      "4. 하루에 세번씩 사진을 찍을 때처럼 환하게 웃어본다.\n",
      "5. 하고 싶은 일을 적고 하나씩 시도해본다.\n",
      "6. 시간날때마다 몰입할수 있는 취미를 하나 만든다.\n",
      "7. 음악을 크게 틀고 내맘대로 춤을 춘다.\n",
      "8. 매일 나만을 위 한 시간을 10분이라도 확보한다.\n",
      "9. 고맙고 감사한 것을 하루 한가지씩 적어 본다.\n",
      "10. 우울할때 찾아갈수 있는 비밀장소를 만들어둔다.\n",
      "11. 나의 장점을 헤아려 본다.\n",
      "12. 멋진 여행을 계획해 본다.\n",
      "13. 내일은 오늘보다 무엇이 나아질지 생각한다.\n",
      "<class 'str'>\n"
     ]
    }
   ],
   "source": [
    "f = open(\"data/sample.txt\" ,'r' , encoding='utf-8')\n",
    "data = f.read()\n",
    "print(data)\n",
    "print(type(data))\n",
    "f.close()\n",
    "#f = open(\"data/sample.txt\" ,'w' , encoding='utf-8')\n",
    "#f.write(data)\n",
    "#f.close()"
   ]
  },
  {
   "cell_type": "code",
   "execution_count": 105,
   "metadata": {},
   "outputs": [
    {
     "name": "stdout",
     "output_type": "stream",
     "text": [
      "♥행복해지는 법 ♥\n",
      "\n",
      "<class 'str'>\n"
     ]
    }
   ],
   "source": [
    "f = open(\"data/sample.txt\" ,'r' , encoding='utf-8')\n",
    "line = f.readline()\n",
    "print(line)\n",
    "print(type(line))\n",
    "f.close()"
   ]
  },
  {
   "cell_type": "code",
   "execution_count": 106,
   "metadata": {},
   "outputs": [
    {
     "name": "stdout",
     "output_type": "stream",
     "text": [
      "♥행복해지는 법 ♥\n",
      "\n",
      "\n",
      "\n",
      "1. 나 자신을 위해서 꽃을 산다.\n",
      "\n",
      "2. 날씨가 좋은 날엔 석양을 보러 나간다.\n",
      "\n",
      "3. 제일 좋아하는 향수를 집안 곳곳에 뿌려 둔다.\n",
      "\n",
      "4. 하루에 세번씩 사진을 찍을 때처럼 환하게 웃어본다.\n",
      "\n",
      "5. 하고 싶은 일을 적고 하나씩 시도해본다.\n",
      "\n",
      "6. 시간날때마다 몰입할수 있는 취미를 하나 만든다.\n",
      "\n",
      "7. 음악을 크게 틀고 내맘대로 춤을 춘다.\n",
      "\n",
      "8. 매일 나만을 위 한 시간을 10분이라도 확보한다.\n",
      "\n",
      "9. 고맙고 감사한 것을 하루 한가지씩 적어 본다.\n",
      "\n",
      "10. 우울할때 찾아갈수 있는 비밀장소를 만들어둔다.\n",
      "\n",
      "11. 나의 장점을 헤아려 본다.\n",
      "\n",
      "12. 멋진 여행을 계획해 본다.\n",
      "\n",
      "13. 내일은 오늘보다 무엇이 나아질지 생각한다.\n"
     ]
    }
   ],
   "source": [
    "f = open(\"data/sample.txt\" ,'r' , encoding='utf-8')\n",
    "while True:\n",
    "    line = f.readline()\n",
    "    if not line:\n",
    "        break\n",
    "    print(line)\n",
    "#print(type(line))\n",
    "f.close()"
   ]
  },
  {
   "cell_type": "code",
   "execution_count": 103,
   "metadata": {},
   "outputs": [
    {
     "name": "stdout",
     "output_type": "stream",
     "text": [
      "♥행복해지는 법 ♥\n",
      "\n",
      "\n",
      "\n",
      "1. 나 자신을 위해서 꽃을 산다.\n",
      "\n",
      "2. 날씨가 좋은 날엔 석양을 보러 나간다.\n",
      "\n",
      "3. 제일 좋아하는 향수를 집안 곳곳에 뿌려 둔다.\n",
      "\n",
      "4. 하루에 세번씩 사진을 찍을 때처럼 환하게 웃어본다.\n",
      "\n",
      "5. 하고 싶은 일을 적고 하나씩 시도해본다.\n",
      "\n",
      "6. 시간날때마다 몰입할수 있는 취미를 하나 만든다.\n",
      "\n",
      "7. 음악을 크게 틀고 내맘대로 춤을 춘다.\n",
      "\n",
      "8. 매일 나만을 위 한 시간을 10분이라도 확보한다.\n",
      "\n",
      "9. 고맙고 감사한 것을 하루 한가지씩 적어 본다.\n",
      "\n",
      "10. 우울할때 찾아갈수 있는 비밀장소를 만들어둔다.\n",
      "\n",
      "11. 나의 장점을 헤아려 본다.\n",
      "\n",
      "12. 멋진 여행을 계획해 본다.\n",
      "\n",
      "13. 내일은 오늘보다 무엇이 나아질지 생각한다.\n"
     ]
    }
   ],
   "source": [
    "f = open(\"data/sample.txt\" ,'r' , encoding='utf-8')\n",
    "lines = f.readlines()\n",
    "for line in lines:\n",
    "    print(line)\n",
    "#print(type(line))\n",
    "f.close()"
   ]
  },
  {
   "cell_type": "code",
   "execution_count": 108,
   "metadata": {},
   "outputs": [
    {
     "name": "stdout",
     "output_type": "stream",
     "text": [
      "♥행복해지는 법 ♥\n",
      "\n",
      "\n",
      "\n",
      "1. 나 자신을 위해서 꽃을 산다.\n",
      "\n",
      "2. 날씨가 좋은 날엔 석양을 보러 나간다.\n",
      "\n",
      "3. 제일 좋아하는 향수를 집안 곳곳에 뿌려 둔다.\n",
      "\n",
      "4. 하루에 세번씩 사진을 찍을 때처럼 환하게 웃어본다.\n",
      "\n",
      "5. 하고 싶은 일을 적고 하나씩 시도해본다.\n",
      "\n",
      "6. 시간날때마다 몰입할수 있는 취미를 하나 만든다.\n",
      "\n",
      "7. 음악을 크게 틀고 내맘대로 춤을 춘다.\n",
      "\n",
      "8. 매일 나만을 위 한 시간을 10분이라도 확보한다.\n",
      "\n",
      "9. 고맙고 감사한 것을 하루 한가지씩 적어 본다.\n",
      "\n",
      "10. 우울할때 찾아갈수 있는 비밀장소를 만들어둔다.\n",
      "\n",
      "11. 나의 장점을 헤아려 본다.\n",
      "\n",
      "12. 멋진 여행을 계획해 본다.\n",
      "\n",
      "13. 내일은 오늘보다 무엇이 나아질지 생각한다.\n"
     ]
    }
   ],
   "source": [
    "f = open(\"data/sample2.txt\" ,'w' , encoding='utf-8')\n",
    "for line in lines:\n",
    "    print(line)\n",
    "    f.write(line)\n",
    "f.close()"
   ]
  },
  {
   "cell_type": "code",
   "execution_count": 114,
   "metadata": {},
   "outputs": [
    {
     "name": "stdout",
     "output_type": "stream",
     "text": [
      "<class 'str'>\n",
      "(1절)\n",
      "동해물과 백두산이 마르고 닳도록\n",
      "하느님이 보우하사 우리나라만세\n",
      "(후렴)무궁화 삼천리 화려강산 대한사람 대한으로 길이 보전하세\n",
      "\n",
      "(2절)\n",
      "남산위에 저 소나무 철갑을 두른듯\n",
      "바람서리 불변함은 우리기상 일세\n",
      "(후렴)무궁화 삼천리 화려강산 대한사람 대한으로 길이보전하세\n",
      "\n",
      "(3절)\n",
      "가을하늘 공활한데 높고 구름없이 \n",
      "밝은달은 우리가슴 일편단심일세\n",
      "(후렴)무궁화 삼천리 화려강산 대한사람 대한으로 길이보전하세\n",
      "\n",
      "(4절)\n",
      "이 기상과 이 맘으로 충성을 다하여\n",
      "괴로우나 즐거우나 나라사랑하세\n",
      "(후렴)무궁화 삼천리 화려강산 대한사람 대한으로 길이보전하세\n",
      "\n",
      "\n"
     ]
    }
   ],
   "source": [
    "# 애국가\n",
    "# data\\national_anthem.txt\n",
    "# 텍스트 파일 = > 파이썬 데이타 \n",
    "\n",
    "# 1) 파일 변수 생성 \n",
    "# open(파일경로, 'r', encoding='utf-8')\n",
    "f = open('data/national_anthem.txt', 'r', encoding='CP949')\n",
    "\n",
    "# 2) 데이타 읽기 \n",
    "# read() 전체내용 | readline() 첫줄 => 텍스트 \n",
    "# readlines() => 리스트\n",
    "data = f.read()\n",
    "print(type(data))\n",
    "print(data)\n",
    "# 3) 자원반납 \n",
    "f.close()\n",
    "#f = open(\"data/national_anthem.txt\" ,'w' , encoding='utf-8')\n",
    "#f.write(data)\n",
    "#f.close()"
   ]
  },
  {
   "cell_type": "code",
   "execution_count": 115,
   "metadata": {},
   "outputs": [
    {
     "name": "stdout",
     "output_type": "stream",
     "text": [
      "<class 'list'>\n",
      "1 : (1절)\n",
      "\n",
      "2 : 동해물과 백두산이 마르고 닳도록\n",
      "\n",
      "3 : 하느님이 보우하사 우리나라만세\n",
      "\n",
      "4 : (후렴)무궁화 삼천리 화려강산 대한사람 대한으로 길이 보전하세\n",
      "\n",
      "5 : \n",
      "\n",
      "6 : (2절)\n",
      "\n",
      "7 : 남산위에 저 소나무 철갑을 두른듯\n",
      "\n",
      "8 : 바람서리 불변함은 우리기상 일세\n",
      "\n",
      "9 : (후렴)무궁화 삼천리 화려강산 대한사람 대한으로 길이보전하세\n",
      "\n",
      "10 : \n",
      "\n",
      "11 : (3절)\n",
      "\n",
      "12 : 가을하늘 공활한데 높고 구름없이 \n",
      "\n",
      "13 : 밝은달은 우리가슴 일편단심일세\n",
      "\n",
      "14 : (후렴)무궁화 삼천리 화려강산 대한사람 대한으로 길이보전하세\n",
      "\n",
      "15 : \n",
      "\n",
      "16 : (4절)\n",
      "\n",
      "17 : 이 기상과 이 맘으로 충성을 다하여\n",
      "\n",
      "18 : 괴로우나 즐거우나 나라사랑하세\n",
      "\n",
      "19 : (후렴)무궁화 삼천리 화려강산 대한사람 대한으로 길이보전하세\n",
      "\n",
      "20 : \n",
      "\n"
     ]
    }
   ],
   "source": [
    "# 텍스트 파일 => 줄단위의 데이타로 구성된 리스트 \n",
    "\n",
    "# 1) 파일 변수 생성 \n",
    "# open(파일경로, 'r', encoding='utf-8')\n",
    "f = open('data/national_anthem.txt', 'r')\n",
    "# 2) 데이타 읽기 \n",
    "# readlines() => 리스트\n",
    "data_list = f.readlines()\n",
    "print(type(data_list))\n",
    "count = 1\n",
    "for line in data_list:\n",
    "    print(f'{count} : {line}')\n",
    "    count += 1\n",
    "# 3) 자원반납 \n",
    "f.close()"
   ]
  },
  {
   "cell_type": "code",
   "execution_count": 116,
   "metadata": {},
   "outputs": [
    {
     "name": "stdout",
     "output_type": "stream",
     "text": [
      "<class 'list'>\n",
      "1 : (1절)\n",
      "2 : 동해물과 백두산이 마르고 닳도록\n",
      "3 : 하느님이 보우하사 우리나라만세\n",
      "4 : (후렴)무궁화 삼천리 화려강산 대한사람 대한으로 길이 보전하세\n",
      "5 : \n",
      "6 : (2절)\n",
      "7 : 남산위에 저 소나무 철갑을 두른듯\n",
      "8 : 바람서리 불변함은 우리기상 일세\n",
      "9 : (후렴)무궁화 삼천리 화려강산 대한사람 대한으로 길이보전하세\n",
      "10 : \n",
      "11 : (3절)\n",
      "12 : 가을하늘 공활한데 높고 구름없이 \n",
      "13 : 밝은달은 우리가슴 일편단심일세\n",
      "14 : (후렴)무궁화 삼천리 화려강산 대한사람 대한으로 길이보전하세\n",
      "15 : \n",
      "16 : (4절)\n",
      "17 : 이 기상과 이 맘으로 충성을 다하여\n",
      "18 : 괴로우나 즐거우나 나라사랑하세\n",
      "19 : (후렴)무궁화 삼천리 화려강산 대한사람 대한으로 길이보전하세\n",
      "20 : \n"
     ]
    }
   ],
   "source": [
    "# 텍스트 파일 => 줄단위의 데이타로 구성된 리스트 \n",
    "\n",
    "# 1) 파일 변수 생성 \n",
    "# open(파일경로, 'r', encoding='utf-8')\n",
    "f = open('data/national_anthem.txt', 'r')\n",
    "# 2) 데이타 읽기 \n",
    "# readlines() => 리스트\n",
    "data_list = f.readlines()\n",
    "print(type(data_list))\n",
    "count = 1\n",
    "for line in data_list:\n",
    "    print(f'{count} : {line}', end='')\n",
    "    count += 1\n",
    "# 3) 자원반납 \n",
    "f.close()"
   ]
  },
  {
   "cell_type": "code",
   "execution_count": 117,
   "metadata": {},
   "outputs": [
    {
     "name": "stdout",
     "output_type": "stream",
     "text": [
      "1 : (1절)\n",
      "2 : 동해물과 백두산이 마르고 닳도록\n",
      "3 : 하느님이 보우하사 우리나라만세\n",
      "4 : (후렴)무궁화 삼천리 화려강산 대한사람 대한으로 길이 보전하세\n",
      "5 : (2절)\n",
      "6 : 남산위에 저 소나무 철갑을 두른듯\n",
      "7 : 바람서리 불변함은 우리기상 일세\n",
      "8 : (후렴)무궁화 삼천리 화려강산 대한사람 대한으로 길이보전하세\n",
      "9 : (3절)\n",
      "10 : 가을하늘 공활한데 높고 구름없이\n",
      "11 : 밝은달은 우리가슴 일편단심일세\n",
      "12 : (후렴)무궁화 삼천리 화려강산 대한사람 대한으로 길이보전하세\n",
      "13 : (4절)\n",
      "14 : 이 기상과 이 맘으로 충성을 다하여\n",
      "15 : 괴로우나 즐거우나 나라사랑하세\n",
      "16 : (후렴)무궁화 삼천리 화려강산 대한사람 대한으로 길이보전하세\n"
     ]
    }
   ],
   "source": [
    "# 텍스트 파일 => 줄단위의 데이타로 구성된 리스트 \n",
    "# \\n 데이타 삭제 가공 \n",
    "\n",
    "# 1) 파일 변수 생성 \n",
    "# open(파일경로, 'r', encoding='utf-8')\n",
    "f = open('data/national_anthem.txt', 'r')\n",
    "# 2) 데이타 읽기 \n",
    "# readlines() => 리스트\n",
    "data_list = f.readlines()\n",
    "\n",
    "# \\n 삭제 \n",
    "result_list = []\n",
    "for line in data_list:\n",
    "    # 빈공백줄형태라면 \n",
    "    if line == '\\n':\n",
    "        pass\n",
    "    else:\n",
    "        result_list.append(line.strip())\n",
    "\n",
    "count = 1\n",
    "for line in result_list:\n",
    "    print(f'{count} : {line}')\n",
    "    count += 1\n",
    "# 3) 자원반납 \n",
    "f.close()"
   ]
  },
  {
   "cell_type": "code",
   "execution_count": null,
   "metadata": {},
   "outputs": [],
   "source": [
    "##### with open(파일경로, 'w|a|r', encoding='utf-8') as 파일변수:\n",
    "#####     파일변수.write()\n",
    "#####     파일변수.read()|readlines()"
   ]
  },
  {
   "cell_type": "code",
   "execution_count": 125,
   "metadata": {},
   "outputs": [
    {
     "name": "stdout",
     "output_type": "stream",
     "text": [
      "67\n",
      "45\n",
      "95\n",
      "65\n",
      "45\n",
      "78\n",
      "87\n",
      "89\n",
      "100\n",
      "99\n",
      "98\n",
      "65\n",
      "\n",
      "['67\\n', '45\\n', '95\\n', '65\\n', '45\\n', '78\\n', '87\\n', '89\\n', '100\\n', '99\\n', '98\\n', '65\\n']\n",
      "[67, 45, 95, 65, 45, 78, 87, 89, 100, 99, 98, 65]\n",
      " 총점 : 933\n",
      " 평균 : 77.75\n"
     ]
    }
   ],
   "source": [
    "with open ('data/data_eng.txt', 'r') as f:\n",
    "    data = f.read()\n",
    "print(data)\n",
    "\n",
    "with open ('data/data_eng.txt', 'r') as f:\n",
    "    data_list = f.readlines()\n",
    "print(data_list)\n",
    "eng_list = []\n",
    "for score in data_list: \n",
    "    eng_list.append(int(score))\n",
    "print(eng_list)\n",
    "\n",
    "print(f' 총점 : {sum(eng_list)}' )\n",
    "print(f' 평균 : {sum(eng_list) /len(eng_list)}')"
   ]
  },
  {
   "cell_type": "code",
   "execution_count": 126,
   "metadata": {},
   "outputs": [],
   "source": [
    "# 4) 학생 번호 , 점수 , 전체학생의 총점과 평균\n",
    "# 파일 쓰기 \n",
    "with open('output/eng_score2.txt', 'w') as f:\n",
    "    for i in range(1, len(data_list)+1):\n",
    "        f.write(str(i)+'번 학생 = ' + data_list[i-1])        \n",
    "    f.write('='*20)\n",
    "    f.write(f'\\n총점 = {sum(eng_list)}')\n",
    "    f.write(f'\\n평균 = {sum(eng_list)/len(eng_list):.2f}')"
   ]
  }
 ],
 "metadata": {
  "kernelspec": {
   "display_name": "base",
   "language": "python",
   "name": "python3"
  },
  "language_info": {
   "codemirror_mode": {
    "name": "ipython",
    "version": 3
   },
   "file_extension": ".py",
   "mimetype": "text/x-python",
   "name": "python",
   "nbconvert_exporter": "python",
   "pygments_lexer": "ipython3",
   "version": "3.9.13"
  },
  "orig_nbformat": 4,
  "vscode": {
   "interpreter": {
    "hash": "ad2bdc8ecc057115af97d19610ffacc2b4e99fae6737bb82f5d7fb13d2f2c186"
   }
  }
 },
 "nbformat": 4,
 "nbformat_minor": 2
}
