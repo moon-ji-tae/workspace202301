{
 "cells": [
  {
   "cell_type": "code",
   "execution_count": 8,
   "metadata": {},
   "outputs": [],
   "source": [
    "import requests\n",
    "from bs4 import BeautifulSoup"
   ]
  },
  {
   "cell_type": "code",
   "execution_count": 9,
   "metadata": {},
   "outputs": [
    {
     "name": "stdout",
     "output_type": "stream",
     "text": [
      "200\n"
     ]
    }
   ],
   "source": [
    "url = 'https://www.bloter.net/'\n",
    "user_agent_info = 'Mozilla/5.0 (Windows NT 10.0; Win64; x64) AppleWebKit/537.36 (KHTML, like Gecko) Chrome/109.0.0.0 Safari/537.36'\n",
    "headers = {'User-Agent' : user_agent_info }\n",
    "res = requests.get(url, headers=headers)\n",
    "print(res.status_code)\n",
    "html_str = res.text\n",
    "soup = BeautifulSoup(html_str , 'html.parser')\n",
    "#print(soup)"
   ]
  },
  {
   "cell_type": "code",
   "execution_count": 10,
   "metadata": {},
   "outputs": [
    {
     "data": {
      "text/plain": [
       "<div class=\"box main_ranknews\">\n",
       "<div class=\"box_title\">\n",
       "<a class=\"link\" href=\"/newsList/popularArticle\"><h3 class=\"name\">실시간 랭킹</h3></a> </div>\n",
       "<ul class=\"list\">\n",
       "<li class=\"article\">\n",
       "<div class=\"text_box\">\n",
       "<a href=\"/newsList/blt_SC001000000\"><div class=\"category\">비즈니스</div></a>\n",
       "<a class=\"link\" href=\"/newsView/blt202302060016\">\n",
       "<h4 class=\"title\">SK텔레콤의 재평가 가능성 I 길고 긴 하락 멈출까? I Analyst 직격 인터뷰 </h4>\n",
       "<div class=\"sub_title\"></div>\n",
       "<div class=\"desc\"></div>\n",
       "<div class=\"info\">\n",
       "<span class=\"writer\">강예지</span> <span class=\"date\">2023-02-07 12:00:02</span>\n",
       "</div>\n",
       "</a>\n",
       "</div>\n",
       "</li>\n",
       "<li class=\"article\">\n",
       "<div class=\"text_box\">\n",
       "<a href=\"/newsList/blt_SC001000000\"><div class=\"category\">비즈니스</div></a>\n",
       "<a class=\"link\" href=\"/newsView/blt202302070001\">\n",
       "<h4 class=\"title\">구글, 대화형 AI '바드' 발표…챗GPT 경쟁 본격 시동</h4>\n",
       "<div class=\"sub_title\"></div>\n",
       "<div class=\"desc\"></div>\n",
       "<div class=\"info\">\n",
       "<span class=\"writer\">최경미</span> <span class=\"date\">2023-02-07 08:34:50</span>\n",
       "</div>\n",
       "</a>\n",
       "</div>\n",
       "</li>\n",
       "<li class=\"article\">\n",
       "<div class=\"text_box\">\n",
       "<a href=\"/newsList/blt_SC002000000\"><div class=\"category\">테크</div></a>\n",
       "<a class=\"link\" href=\"/newsView/blt202302070004\">\n",
       "<h4 class=\"title\">애플페이 국내 출시 초읽기...갤럭시 쓰는 Z세대 관심도는 '미미'</h4>\n",
       "<div class=\"sub_title\"></div>\n",
       "<div class=\"desc\"></div>\n",
       "<div class=\"info\">\n",
       "<span class=\"writer\">이건한</span> <span class=\"date\">2023-02-07 11:16:26</span>\n",
       "</div>\n",
       "</a>\n",
       "</div>\n",
       "</li>\n",
       "<li class=\"article\">\n",
       "<div class=\"text_box\">\n",
       "<a href=\"/newsList/blt_SC003000000\"><div class=\"category\">컬처</div></a>\n",
       "<a class=\"link\" href=\"/newsView/blt202302070011\">\n",
       "<h4 class=\"title\">당근마켓 \"승우아빠, 이용자 사과부터\"</h4>\n",
       "<div class=\"sub_title\"></div>\n",
       "<div class=\"desc\"></div>\n",
       "<div class=\"info\">\n",
       "<span class=\"writer\">안신혜</span> <span class=\"date\">2023-02-07 15:59:17</span>\n",
       "</div>\n",
       "</a>\n",
       "</div>\n",
       "</li>\n",
       "<li class=\"article\">\n",
       "<div class=\"text_box\">\n",
       "<a href=\"/newsList/blt_SC002000000\"><div class=\"category\">테크</div></a>\n",
       "<a class=\"link\" href=\"/newsView/blt202302070006\">\n",
       "<h4 class=\"title\">풍문이 사실로…카카오, SM엔터 지분 9% 확보해 '2대 주주'됐다</h4>\n",
       "<div class=\"sub_title\"></div>\n",
       "<div class=\"desc\"></div>\n",
       "<div class=\"info\">\n",
       "<span class=\"writer\">이건한</span> <span class=\"date\">2023-02-07 14:36:55</span>\n",
       "</div>\n",
       "</a>\n",
       "</div>\n",
       "</li>\n",
       "</ul>\n",
       "</div>"
      ]
     },
     "execution_count": 10,
     "metadata": {},
     "output_type": "execute_result"
    }
   ],
   "source": [
    "target = soup.find(class_ = 'box main_ranknews')\n",
    "target"
   ]
  },
  {
   "cell_type": "code",
   "execution_count": 11,
   "metadata": {},
   "outputs": [
    {
     "name": "stdout",
     "output_type": "stream",
     "text": [
      "SK텔레콤의 재평가 가능성 I 길고 긴 하락 멈출까? I Analyst 직격 인터뷰 \n",
      "https://www.bloter.net//newsView/blt202302060016\n",
      "구글, 대화형 AI '바드' 발표…챗GPT 경쟁 본격 시동\n",
      "https://www.bloter.net//newsView/blt202302070001\n",
      "애플페이 국내 출시 초읽기...갤럭시 쓰는 Z세대 관심도는 '미미'\n",
      "https://www.bloter.net//newsView/blt202302070004\n",
      "당근마켓 \"승우아빠, 이용자 사과부터\"\n",
      "https://www.bloter.net//newsView/blt202302070011\n",
      "풍문이 사실로…카카오, SM엔터 지분 9% 확보해 '2대 주주'됐다\n",
      "https://www.bloter.net//newsView/blt202302070006\n"
     ]
    }
   ],
   "source": [
    "#target =  soup.select('.box.main_ranknews > .list > .article > .text_box > .list')\n",
    "target_list = soup.select('.box.main_ranknews > .list > .article > .text_box > .link')\n",
    "len(target)\n",
    "base_url = 'https://www.bloter.net/'\n",
    "for a in target_list:\n",
    "    print(a.h4.text)\n",
    "    print(base_url + a['href'])"
   ]
  },
  {
   "cell_type": "code",
   "execution_count": 12,
   "metadata": {},
   "outputs": [
    {
     "name": "stdout",
     "output_type": "stream",
     "text": [
      "[\"풍문이 사실로…카카오, SM엔터 지분 9% 확보해 '2대 주주'됐다\\n\", 'https://www.bloter.net//newsView/blt202302070006\\n', \"풍문이 사실로…카카오, SM엔터 지분 9% 확보해 '2대 주주'됐다\\n\", 'https://www.bloter.net//newsView/blt202302070006\\n', \"풍문이 사실로…카카오, SM엔터 지분 9% 확보해 '2대 주주'됐다\\n\", 'https://www.bloter.net//newsView/blt202302070006\\n', \"풍문이 사실로…카카오, SM엔터 지분 9% 확보해 '2대 주주'됐다\\n\", 'https://www.bloter.net//newsView/blt202302070006\\n', \"풍문이 사실로…카카오, SM엔터 지분 9% 확보해 '2대 주주'됐다\\n\", 'https://www.bloter.net//newsView/blt202302070006\\n']\n"
     ]
    }
   ],
   "source": [
    "write_list = []\n",
    "\n",
    "for i in target_list:\n",
    "    write_list.append(a.h4.text + '\\n')\n",
    "    write_list.append(base_url + a['href'] +'\\n')\n",
    "\n",
    "print(write_list)\n",
    "\n"
   ]
  },
  {
   "cell_type": "code",
   "execution_count": 13,
   "metadata": {},
   "outputs": [],
   "source": [
    "with open( 'data/ranks.txt' , 'w', encoding='utf-8') as f:\n",
    "    for i in write_list:\n",
    "        f.write(i)\n"
   ]
  },
  {
   "cell_type": "code",
   "execution_count": 67,
   "metadata": {},
   "outputs": [
    {
     "ename": "FileNotFoundError",
     "evalue": "[Errno 2] No such file or directory: 'data/블로터실시간랭킹.txt'",
     "output_type": "error",
     "traceback": [
      "\u001b[1;31m---------------------------------------------------------------------------\u001b[0m",
      "\u001b[1;31mFileNotFoundError\u001b[0m                         Traceback (most recent call last)",
      "\u001b[1;32m~\\AppData\\Local\\Temp\\ipykernel_25112\\2718924173.py\u001b[0m in \u001b[0;36m<module>\u001b[1;34m\u001b[0m\n\u001b[0;32m      1\u001b[0m \u001b[1;31m# 5) 텍스트 파일에 저장하기\u001b[0m\u001b[1;33m\u001b[0m\u001b[1;33m\u001b[0m\u001b[0m\n\u001b[1;32m----> 2\u001b[1;33m \u001b[1;32mwith\u001b[0m \u001b[0mopen\u001b[0m\u001b[1;33m(\u001b[0m\u001b[1;34m'data/블로터실시간랭킹.txt'\u001b[0m\u001b[1;33m,\u001b[0m \u001b[1;34m'w'\u001b[0m\u001b[1;33m)\u001b[0m \u001b[1;32mas\u001b[0m \u001b[0mf\u001b[0m\u001b[1;33m:\u001b[0m\u001b[1;33m\u001b[0m\u001b[1;33m\u001b[0m\u001b[0m\n\u001b[0m\u001b[0;32m      3\u001b[0m     \u001b[0mf\u001b[0m\u001b[1;33m.\u001b[0m\u001b[0mwrite\u001b[0m\u001b[1;33m(\u001b[0m\u001b[1;34m'순위, 제목, URL'\u001b[0m\u001b[1;33m)\u001b[0m\u001b[1;33m\u001b[0m\u001b[1;33m\u001b[0m\u001b[0m\n\u001b[0;32m      4\u001b[0m     \u001b[1;32mfor\u001b[0m \u001b[0mrank\u001b[0m\u001b[1;33m,\u001b[0m \u001b[0mtitle\u001b[0m\u001b[1;33m,\u001b[0m \u001b[0murl\u001b[0m \u001b[1;32min\u001b[0m \u001b[0mresult_list\u001b[0m\u001b[1;33m:\u001b[0m\u001b[1;33m\u001b[0m\u001b[1;33m\u001b[0m\u001b[0m\n\u001b[0;32m      5\u001b[0m         \u001b[0mf\u001b[0m\u001b[1;33m.\u001b[0m\u001b[0mwrite\u001b[0m\u001b[1;33m(\u001b[0m\u001b[1;34mf'{rank} , {title}, {url}'\u001b[0m\u001b[1;33m)\u001b[0m\u001b[1;33m\u001b[0m\u001b[1;33m\u001b[0m\u001b[0m\n",
      "\u001b[1;31mFileNotFoundError\u001b[0m: [Errno 2] No such file or directory: 'data/블로터실시간랭킹.txt'"
     ]
    }
   ],
   "source": [
    "# 5) 텍스트 파일에 저장하기 \n",
    "with open('data/블로터실시간랭킹.txt', 'w') as f:\n",
    "    f.write('순위, 제목, URL')\n",
    "    for rank, title, url in result_list:\n",
    "        f.write(f'{rank} , {title}, {url}')"
   ]
  }
 ],
 "metadata": {
  "kernelspec": {
   "display_name": "base",
   "language": "python",
   "name": "python3"
  },
  "language_info": {
   "codemirror_mode": {
    "name": "ipython",
    "version": 3
   },
   "file_extension": ".py",
   "mimetype": "text/x-python",
   "name": "python",
   "nbconvert_exporter": "python",
   "pygments_lexer": "ipython3",
   "version": "3.9.13"
  },
  "orig_nbformat": 4,
  "vscode": {
   "interpreter": {
    "hash": "ad2bdc8ecc057115af97d19610ffacc2b4e99fae6737bb82f5d7fb13d2f2c186"
   }
  }
 },
 "nbformat": 4,
 "nbformat_minor": 2
}
