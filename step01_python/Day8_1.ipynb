{
 "cells": [
  {
   "attachments": {},
   "cell_type": "markdown",
   "metadata": {},
   "source": [
    "## CSS\n",
    "- markup language\n",
    "- Design 용도\n",
    "- Inline, head 방식, 외부 파일 방식 *.css\n",
    "- 선택자 {속성 : 값 ;...}\n",
    "- 선택자 종류\n",
    "    - 태그선택자 : 태그명 { 속성1:값1;속성2:값2;... }\n",
    "    - 클래스선택자 : .클래스명 { 속성1:값1;속성2:값2;... }\n",
    "    - 아이디선택자 : #아이디명 { 속성1:값1;속성2:값2;... }\n",
    "    - 자손선택자(직계) <br>\n",
    "      : 선택자1 > 선택자2 ... { 속성1:값1;속성2:값2;... }\n",
    "    - 후손선택자 <br>\n",
    "      : 선택자1 선택자2 ... { 속성1:값1;속성2:값2;... }\n",
    "    - 속성선택자 : 선택자[속성=값]{ 속성1:값1;속성2:값2;... }\n",
    "    - 구조선택자 : <br>\n",
    "        선택자:first-child { 속성1:값1;속성2:값2;... }\n",
    "        선택자:last-child { 속성1:값1;속성2:값2;......\n"
   ]
  },
  {
   "attachments": {},
   "cell_type": "markdown",
   "metadata": {},
   "source": [
    "## request\n",
    "- 웹 페이지 요청 => 문자열 데이타 => html 파일저장\n",
    "- 1) 모듈 임포트 \n",
    "- 2) 페이지 요청\n",
    "    - response 객체 : get(url)\n",
    "    - response 객체 : get(url, params=딕셔너리)\n",
    "- 3) 문자열 데이타로 변환\n",
    "    - response객체.text\n",
    "- 4) *.html 파일 형태로 저장 \n",
    "    -   with open() as 파일변수 "
   ]
  },
  {
   "attachments": {},
   "cell_type": "markdown",
   "metadata": {},
   "source": [
    "# 0) urllib.requests 모듈의 urlopen 함수만 임포트 \n",
    "from urllib.request import urlopen"
   ]
  },
  {
   "cell_type": "code",
   "execution_count": 67,
   "metadata": {},
   "outputs": [],
   "source": [
    "from urllib.request import urlopen\n"
   ]
  },
  {
   "cell_type": "code",
   "execution_count": 68,
   "metadata": {},
   "outputs": [
    {
     "name": "stdout",
     "output_type": "stream",
     "text": [
      "<http.client.HTTPResponse object at 0x00000127E9835A30>\n",
      "200 200\n"
     ]
    }
   ],
   "source": [
    "# 1) 페이지 요청 => response 객체 \n",
    "\n",
    "url = 'https://www.daum.net/'\n",
    "res = urlopen(url)\n",
    "print(res)\n",
    "# 응답코드 확인 \n",
    "print(res.status, res.code)"
   ]
  },
  {
   "cell_type": "code",
   "execution_count": 69,
   "metadata": {},
   "outputs": [
    {
     "name": "stdout",
     "output_type": "stream",
     "text": [
      "<class 'bytes'>\n"
     ]
    }
   ],
   "source": [
    "html_str = res.read()\n",
    "print(type(html_str))"
   ]
  },
  {
   "cell_type": "code",
   "execution_count": 70,
   "metadata": {},
   "outputs": [],
   "source": [
    "with open('data/daum1.html','wb')  as f:\n",
    "    f.write(html_str)"
   ]
  },
  {
   "cell_type": "code",
   "execution_count": 71,
   "metadata": {},
   "outputs": [
    {
     "name": "stdout",
     "output_type": "stream",
     "text": [
      "<class 'str'>\n"
     ]
    }
   ],
   "source": [
    "html_str = html_str.decode('utf-8')\n",
    "print(type(html_str))"
   ]
  },
  {
   "cell_type": "code",
   "execution_count": 72,
   "metadata": {},
   "outputs": [],
   "source": [
    "with open('data/daum2.html', 'w', encoding= 'utf-8') as f:\n",
    "    f.write(html_str)"
   ]
  },
  {
   "cell_type": "code",
   "execution_count": 73,
   "metadata": {},
   "outputs": [
    {
     "name": "stdout",
     "output_type": "stream",
     "text": [
      "<class 'str'>\n"
     ]
    }
   ],
   "source": [
    "with open('data/daum2.html', 'r', encoding= 'utf-8') as f:\n",
    "    data = f.read()\n",
    "print(type(data))\n"
   ]
  },
  {
   "cell_type": "code",
   "execution_count": 74,
   "metadata": {},
   "outputs": [],
   "source": [
    "# 0) urllib.requests 모듈의 urlopen, Request 함수만 임포트 \n",
    "from urllib.request import urlopen, Request"
   ]
  },
  {
   "cell_type": "code",
   "execution_count": 75,
   "metadata": {},
   "outputs": [
    {
     "name": "stdout",
     "output_type": "stream",
     "text": [
      "<urllib.request.Request object at 0x00000127E9835FA0>\n"
     ]
    }
   ],
   "source": [
    "# 1) Request 객체 생성 \n",
    "# a) 웹브라우저 headers 정보 확인 \n",
    "# https://www.useragentstring.com/\n",
    "# b) headers 딕셔너리 만들기 \n",
    "user_info = 'Mozilla/5.0 (Windows NT 10.0; Win64; x64) AppleWebKit/537.36 (KHTML, like Gecko) Chrome/109.0.0.0 Safari/537.36'\n",
    "headers_data = {'User-Agent':user_info}\n",
    "url = 'https://www.aladin.co.kr/home/welcome.aspx'\n",
    "req = Request(url, headers=headers_data)\n",
    "print(req)"
   ]
  },
  {
   "cell_type": "code",
   "execution_count": 76,
   "metadata": {},
   "outputs": [
    {
     "name": "stdout",
     "output_type": "stream",
     "text": [
      "200 200\n",
      "<class 'str'>\n"
     ]
    }
   ],
   "source": [
    "#https://www.aladin.co.kr/home/welcome.aspx\n",
    "\n",
    "res1 = urlopen(req)\n",
    "print(res1.status, res1.code)\n",
    "\n",
    "html1_str = res1.read()\n",
    "html1_str = html1_str.decode('utf-8')\n",
    "print(type(html1_str))\n",
    "#print(html1_str)\n",
    "\n",
    "with open('data/aladin1.html', 'w', encoding='utf-8') as f:\n",
    "    f.write(html1_str)"
   ]
  },
  {
   "cell_type": "code",
   "execution_count": 77,
   "metadata": {},
   "outputs": [],
   "source": [
    "# import bs4\n",
    "from bs4 import BeautifulSoup"
   ]
  },
  {
   "cell_type": "code",
   "execution_count": 78,
   "metadata": {},
   "outputs": [],
   "source": [
    "import requests\n",
    "from bs4 import BeautifulSoup\n"
   ]
  },
  {
   "cell_type": "code",
   "execution_count": 79,
   "metadata": {},
   "outputs": [
    {
     "name": "stdout",
     "output_type": "stream",
     "text": [
      "<Response [200]>\n"
     ]
    }
   ],
   "source": [
    "url = 'https://www.gogung.go.kr/gogung/main/contents.do?menuNo=800011'\n",
    "response = requests.get(url)\n",
    "html_str = response.text\n",
    "print(response)"
   ]
  },
  {
   "cell_type": "code",
   "execution_count": 80,
   "metadata": {},
   "outputs": [
    {
     "name": "stdout",
     "output_type": "stream",
     "text": [
      "<class 'bs4.BeautifulSoup'>\n"
     ]
    }
   ],
   "source": [
    "soup = BeautifulSoup(html_str , 'html.parser')\n",
    "print(type(soup))"
   ]
  },
  {
   "cell_type": "code",
   "execution_count": 81,
   "metadata": {},
   "outputs": [
    {
     "name": "stdout",
     "output_type": "stream",
     "text": [
      "<img alt=\"국립고궁박물관 National Palace Museum of Korea\" class=\"pc-logo\" src=\"/resources/gogung/images/common/main_logo.png\"/>\n",
      "\n",
      "\n",
      "\n",
      "\n",
      "\n",
      "\n",
      "<h3 class=\"subpage-title\">관람안내</h3>\n",
      "<ul>\n",
      "<li>\n",
      "<p class=\"title\">주중·주말</p>\n",
      "<p class=\"text\">\n",
      "<span>10:00 ~ 18:00</span>\n",
      "<span class=\"required\">※ 입장 마감은 1시간 전까지</span>\n",
      "</p>\n",
      "</li>\n",
      "<li>\n",
      "<p class=\"title\">휴관일</p>\n",
      "<p class=\"text\">1.1(신정), 1.22 (설날), 9.29(추석)</p>\n",
      "</li>\n",
      "</ul>\n"
     ]
    }
   ],
   "source": [
    "print(soup.h1.a.img)\n",
    "print(soup.h1.text)\n",
    "print(soup.h3)\n",
    "print(soup.ul)"
   ]
  },
  {
   "cell_type": "code",
   "execution_count": 82,
   "metadata": {},
   "outputs": [
    {
     "name": "stdout",
     "output_type": "stream",
     "text": [
      "{'class': ['title']}\n",
      "<img alt=\"국립고궁박물관 National Palace Museum of Korea\" class=\"mo-logo\" src=\"/resources/gogung/images/common/main_logo2.png\"/>\n"
     ]
    }
   ],
   "source": [
    "print(soup.p.attrs)\n",
    "print(soup.h1.a.img.next_sibling.next_sibling)"
   ]
  },
  {
   "cell_type": "code",
   "execution_count": 83,
   "metadata": {},
   "outputs": [
    {
     "name": "stdout",
     "output_type": "stream",
     "text": [
      "<p class=\"title\">관람시간</p>\n",
      "관람시간 관람시간\n",
      "{'class': ['title']}\n",
      "['title']\n",
      "['title']\n"
     ]
    }
   ],
   "source": [
    "# p 태그 찾기 \n",
    "print(soup.p)\n",
    "# p 태그안의 글내용만 출력하기 \n",
    "# text, string\n",
    "print(soup.p.text, soup.p.string)\n",
    "# 속성값 출력하기  \n",
    "# attrs 태그요소의 속성이 딕셔너리 형태로 반환\n",
    "# 태그요소[속성] , get(속성)\n",
    "print(soup.p.attrs)\n",
    "print(soup.p['class'])\n",
    "print(soup.p.get('class'))"
   ]
  },
  {
   "cell_type": "code",
   "execution_count": 84,
   "metadata": {},
   "outputs": [
    {
     "name": "stdout",
     "output_type": "stream",
     "text": [
      "<p class=\"title\">관람시간</p>\n",
      "--------------------\n",
      "<div class=\"time-wrap\">\n",
      "<p class=\"title\">관람시간</p>\n",
      "<ul>\n",
      "<li>\n",
      "<p class=\"title\">주중·주말</p>\n",
      "<p class=\"text\">\n",
      "<span>10:00 ~ 18:00</span>\n",
      "<span class=\"required\">※ 입장 마감은 1시간 전까지</span>\n",
      "</p>\n",
      "</li>\n",
      "<li>\n",
      "<p class=\"title\">휴관일</p>\n",
      "<p class=\"text\">1.1(신정), 1.22 (설날), 9.29(추석)</p>\n",
      "</li>\n",
      "</ul>\n",
      "</div>\n",
      "--------------------\n",
      "div\n"
     ]
    }
   ],
   "source": [
    "print(soup.p)\n",
    "print('-' * 20)\n",
    "print(soup.p.parent)\n",
    "print('-' * 20)\n",
    "print(soup.p.parent.name)"
   ]
  },
  {
   "cell_type": "code",
   "execution_count": 85,
   "metadata": {},
   "outputs": [
    {
     "name": "stdout",
     "output_type": "stream",
     "text": [
      "<img alt=\"국립고궁박물관 National Palace Museum of Korea\" class=\"pc-logo\" src=\"/resources/gogung/images/common/main_logo.png\"/>\n",
      "https://www.gogung.go.kr/resources/gogung/images/common/main_logo.png\n"
     ]
    }
   ],
   "source": [
    "# 로고이미지 주소 추출하기 \n",
    "print(soup.h1.a.img)\n",
    "base_url = 'https://www.gogung.go.kr'\n",
    "logo_img_url = base_url + soup.h1.a.img['src']\n",
    "print(logo_img_url)"
   ]
  },
  {
   "cell_type": "code",
   "execution_count": 88,
   "metadata": {},
   "outputs": [
    {
     "name": "stdout",
     "output_type": "stream",
     "text": [
      "<ul>\n",
      "<li>\n",
      "<p class=\"title\">주중·주말</p>\n",
      "<p class=\"text\">\n",
      "<span>10:00 ~ 18:00</span>\n",
      "<span class=\"required\">※ 입장 마감은 1시간 전까지</span>\n",
      "</p>\n",
      "</li>\n",
      "<li>\n",
      "<p class=\"title\">휴관일</p>\n",
      "<p class=\"text\">1.1(신정), 1.22 (설날), 9.29(추석)</p>\n",
      "</li>\n",
      "</ul>\n",
      "------------------------------\n",
      "<li>\n",
      "<p class=\"title\">주중·주말</p>\n",
      "<p class=\"text\">\n",
      "<span>10:00 ~ 18:00</span>\n",
      "<span class=\"required\">※ 입장 마감은 1시간 전까지</span>\n",
      "</p>\n",
      "</li>\n"
     ]
    }
   ],
   "source": [
    "print(soup.ul)\n",
    "print('-'* 30)\n",
    "print(soup.ul.li)"
   ]
  },
  {
   "cell_type": "code",
   "execution_count": 89,
   "metadata": {},
   "outputs": [
    {
     "name": "stdout",
     "output_type": "stream",
     "text": [
      "==========\n",
      "\n",
      "\n",
      "==========\n",
      "<li>\n",
      "<p class=\"title\">휴관일</p>\n",
      "<p class=\"text\">1.1(신정), 1.22 (설날), 9.29(추석)</p>\n",
      "</li>\n"
     ]
    }
   ],
   "source": [
    "print('='* 10)\n",
    "print(soup.ul.li.next_sibling)\n",
    "print('='* 10)\n",
    "print(soup.ul.li.next_sibling.next_sibling)"
   ]
  },
  {
   "cell_type": "code",
   "execution_count": 90,
   "metadata": {},
   "outputs": [],
   "source": [
    "url = 'https://www.gogung.go.kr/gogung/main/contents.do?menuNo=800011'\n",
    "response =requests.get(url)\n",
    "html_str = response.text\n",
    "soup = BeautifulSoup(html_str, \"html.parser\")"
   ]
  },
  {
   "cell_type": "code",
   "execution_count": 93,
   "metadata": {},
   "outputs": [
    {
     "name": "stdout",
     "output_type": "stream",
     "text": [
      "<h3 class=\"subpage-title\">관람안내</h3>\n",
      "관람안내\n",
      "h3\n"
     ]
    }
   ],
   "source": [
    "print(soup.find('h3'))\n",
    "print(soup.find('h3').text)\n",
    "print(soup.find('h3').name)"
   ]
  },
  {
   "cell_type": "code",
   "execution_count": 99,
   "metadata": {},
   "outputs": [
    {
     "name": "stdout",
     "output_type": "stream",
     "text": [
      "<img alt=\"국립고궁박물관 National Palace Museum of Korea\" class=\"pc-logo\" src=\"/resources/gogung/images/common/main_logo.png\"/>\n",
      "----------------------------------------\n",
      "{'src': '/resources/gogung/images/common/main_logo.png', 'class': ['pc-logo'], 'alt': '국립고궁박물관 National Palace Museum of Korea'}\n",
      "----------------------------------------\n",
      "/resources/gogung/images/common/main_logo.png\n",
      "----------------------------------------\n",
      "국립고궁박물관 National Palace Museum of Korea\n"
     ]
    }
   ],
   "source": [
    "print(soup.find('img'))\n",
    "print('-'*40)\n",
    "print(soup.find('img').attrs)\n",
    "print('-'*40)\n",
    "print(soup.find('img')['src'])\n",
    "print('-'*40)\n",
    "print(soup.find('img')['alt'])"
   ]
  },
  {
   "cell_type": "code",
   "execution_count": 102,
   "metadata": {},
   "outputs": [
    {
     "name": "stdout",
     "output_type": "stream",
     "text": [
      "[<b>관람 요금</b>, <b>관람 시간</b>, <b class=\"required\">※ 입장 마감은 1시간 전까지</b>, <b>전시실<br/>정규해설</b>, <b>관람 시 <br/>유의사항</b>]\n",
      "----------------------------------------\n",
      "관람 요금\n",
      "----------------------------------------\n",
      "b\n"
     ]
    }
   ],
   "source": [
    "print(soup.find_all('b'))\n",
    "print('-'*40)\n",
    "print(soup.find_all('b')[0].text)\n",
    "print('-'*40)\n",
    "print(soup.find_all('b')[0].name)\n"
   ]
  },
  {
   "cell_type": "code",
   "execution_count": 107,
   "metadata": {},
   "outputs": [
    {
     "name": "stdout",
     "output_type": "stream",
     "text": [
      "[<img alt=\"국립고궁박물관 National Palace Museum of Korea\" class=\"pc-logo\" src=\"/resources/gogung/images/common/main_logo.png\"/>, <img alt=\"국립고궁박물관 National Palace Museum of Korea\" class=\"mo-logo\" src=\"/resources/gogung/images/common/main_logo2.png\"/>, <img alt=\"상단으로\" src=\"/resources/gogung/images/common/topBtn.png\"/>, <img alt=\"국립고궁박물관 National Palace Museum of Korea\" class=\"pc-logo\" src=\"/resources/gogung/images/common/foot_logo2.png\"/>, <img alt=\"국립고궁박물관 National Palace Museum of Korea\" class=\"mo-logo\" src=\"/resources/gogung/images/common/foot_logo2.png\"/>]\n",
      "5\n",
      "------------------------------\n",
      "/resources/gogung/images/common/main_logo.png\n",
      "/resources/gogung/images/common/main_logo2.png\n",
      "/resources/gogung/images/common/topBtn.png\n",
      "/resources/gogung/images/common/foot_logo2.png\n",
      "/resources/gogung/images/common/foot_logo2.png\n"
     ]
    }
   ],
   "source": [
    "print(soup.find_all('img'))\n",
    "img_tag_list = soup.find_all('img')\n",
    "print(len(img_tag_list))\n",
    "print('-'*30)\n",
    "for img in img_tag_list:\n",
    "    print(img['src'])"
   ]
  },
  {
   "cell_type": "code",
   "execution_count": 111,
   "metadata": {},
   "outputs": [
    {
     "name": "stdout",
     "output_type": "stream",
     "text": [
      "------------------------------\n",
      "<ul>\n",
      "<li>\n",
      "<p class=\"title\">주중·주말</p>\n",
      "<p class=\"text\">\n",
      "<span>10:00 ~ 18:00</span>\n",
      "<span class=\"required\">※ 입장 마감은 1시간 전까지</span>\n",
      "</p>\n",
      "</li>\n",
      "<li>\n",
      "<p class=\"title\">휴관일</p>\n",
      "<p class=\"text\">1.1(신정), 1.22 (설날), 9.29(추석)</p>\n",
      "</li>\n",
      "</ul>\n"
     ]
    }
   ],
   "source": [
    "#print(soup.find(id='menu'))\n",
    "print('-'*30)\n",
    "print(soup.find(id='menu').ul)\n"
   ]
  },
  {
   "cell_type": "code",
   "execution_count": 115,
   "metadata": {},
   "outputs": [
    {
     "name": "stdout",
     "output_type": "stream",
     "text": [
      "[<li>\n",
      "<p class=\"title\">주중·주말</p>\n",
      "<p class=\"text\">\n",
      "<span>10:00 ~ 18:00</span>\n",
      "<span class=\"required\">※ 입장 마감은 1시간 전까지</span>\n",
      "</p>\n",
      "</li>, <li>\n",
      "<p class=\"title\">휴관일</p>\n",
      "<p class=\"text\">1.1(신정), 1.22 (설날), 9.29(추석)</p>\n",
      "</li>]\n",
      "\n",
      "주중·주말\n",
      "\n",
      "10:00 ~ 18:00\n",
      "※ 입장 마감은 1시간 전까지\n",
      "\n",
      "\n",
      "\n",
      "휴관일\n",
      "1.1(신정), 1.22 (설날), 9.29(추석)\n",
      "\n"
     ]
    }
   ],
   "source": [
    "print(soup.find(id='menu').ul.find_all('li'))\n",
    "li_tag_list = soup.find(id='menu').ul.find_all('li')\n",
    "for li in li_tag_list:\n",
    "    print(li.text)\n"
   ]
  },
  {
   "cell_type": "code",
   "execution_count": 116,
   "metadata": {},
   "outputs": [
    {
     "name": "stdout",
     "output_type": "stream",
     "text": [
      "img 태그 총갯수는? 5\n",
      "==========\n",
      "국립고궁박물관 National Palace Museum of Korea\n",
      "https://www.gogung.go.kr/resources/gogung/images/common/main_logo.png\n",
      "==========\n",
      "국립고궁박물관 National Palace Museum of Korea\n",
      "https://www.gogung.go.kr/resources/gogung/images/common/main_logo2.png\n",
      "==========\n",
      "상단으로\n",
      "https://www.gogung.go.kr/resources/gogung/images/common/topBtn.png\n",
      "==========\n",
      "국립고궁박물관 National Palace Museum of Korea\n",
      "https://www.gogung.go.kr/resources/gogung/images/common/foot_logo2.png\n",
      "==========\n",
      "국립고궁박물관 National Palace Museum of Korea\n",
      "https://www.gogung.go.kr/resources/gogung/images/common/foot_logo2.png\n"
     ]
    }
   ],
   "source": [
    "# img 태그 찾기 \n",
    "img_list = soup.find_all('img')\n",
    "print('img 태그 총갯수는?', len(img_list))\n",
    "# print(img_list)\n",
    "# img 태그에서 alt, src 속성값 출력하기 \n",
    "base_url = 'https://www.gogung.go.kr'\n",
    "for img in img_list:\n",
    "    print('='*10)\n",
    "    print(img['alt'])\n",
    "    print(base_url+img['src'])\n",
    "    "
   ]
  },
  {
   "cell_type": "code",
   "execution_count": 118,
   "metadata": {},
   "outputs": [
    {
     "name": "stdout",
     "output_type": "stream",
     "text": [
      "주중·주말\n",
      "==========\n",
      "10:00 ~ 18:00\n",
      "※ 입장 마감은 1시간 전까지\n",
      "==========\n",
      "휴관일\n",
      "==========\n",
      "1.1(신정), 1.22 (설날), 9.29(추석)\n",
      "==========\n"
     ]
    }
   ],
   "source": [
    "p_tag_list = soup.find(id='menu').ul.find_all('p')\n",
    "for p in p_tag_list:\n",
    "    print(p.text.strip())\n",
    "    print('='*10)"
   ]
  },
  {
   "cell_type": "code",
   "execution_count": 120,
   "metadata": {},
   "outputs": [
    {
     "name": "stdout",
     "output_type": "stream",
     "text": [
      "<p class=\"title\">관람시간</p>\n"
     ]
    }
   ],
   "source": [
    "print(soup.find(class_='title'))"
   ]
  },
  {
   "cell_type": "code",
   "execution_count": 128,
   "metadata": {},
   "outputs": [
    {
     "name": "stdout",
     "output_type": "stream",
     "text": [
      "17\n",
      "관람시간 1\n",
      "주중·주말 2\n",
      "휴관일 3\n",
      "관람 · 예약 4\n",
      "전시 5\n",
      "교육 6\n",
      "소장품 7\n",
      "소식·행사 8\n",
      "학술정보 9\n",
      "박물관소개 10\n",
      "통합예약 11\n",
      "\n",
      "관람 요금\n",
      " 12\n",
      "\n",
      "관람 시간\n",
      " 13\n",
      "주중·주말 14\n",
      "휴관일 15\n",
      "\n",
      "전시실정규해설\n",
      " 16\n",
      "\n",
      "관람 시 유의사항\n",
      " 17\n"
     ]
    }
   ],
   "source": [
    "title_list = soup.find_all(class_ = 'title')\n",
    "print(len(title_list))\n",
    "num = 0\n",
    "for t in title_list:\n",
    "    num += 1\n",
    "    print(t.text , num)"
   ]
  },
  {
   "cell_type": "code",
   "execution_count": 125,
   "metadata": {},
   "outputs": [
    {
     "name": "stdout",
     "output_type": "stream",
     "text": [
      "<span class=\"title\">\n",
      "<b>관람 시 <br/>유의사항</b>\n",
      "</span>\n",
      "\n",
      "span\n",
      "\n",
      "\n",
      "관람 시 유의사항\n",
      "\n"
     ]
    }
   ],
   "source": [
    "print(title_list[-1])\n",
    "print()\n",
    "print(title_list[-1].name)\n",
    "print()\n",
    "print(title_list[-1].text)"
   ]
  },
  {
   "cell_type": "code",
   "execution_count": 133,
   "metadata": {},
   "outputs": [
    {
     "name": "stdout",
     "output_type": "stream",
     "text": [
      "<p class=\"title\">관람시간</p>\n",
      "<p class=\"title\">주중·주말</p>\n",
      "<p class=\"title\">휴관일</p>\n",
      "<p class=\"title\">관람 · 예약</p>\n",
      "<p class=\"title\">전시</p>\n",
      "<p class=\"title\">교육</p>\n",
      "<p class=\"title\">소장품</p>\n",
      "<p class=\"title\">소식·행사</p>\n",
      "<p class=\"title\">학술정보</p>\n",
      "<p class=\"title\">박물관소개</p>\n",
      "<p class=\"title\">통합예약</p>\n",
      "<span class=\"title\">\n",
      "<b>관람 요금</b>\n",
      "</span>\n",
      "<span class=\"title\">\n",
      "<b>관람 시간</b>\n",
      "</span>\n",
      "<span class=\"title\">주중·주말</span>\n",
      "<span class=\"title\">휴관일</span>\n",
      "<span class=\"title\">\n",
      "<b>전시실<br/>정규해설</b>\n",
      "</span>\n",
      "<span class=\"title\">\n",
      "<b>관람 시 <br/>유의사항</b>\n",
      "</span>\n",
      "********************\n",
      "관람시간\n",
      "주중·주말\n",
      "휴관일\n",
      "관람 · 예약\n",
      "전시\n",
      "교육\n",
      "소장품\n",
      "소식·행사\n",
      "학술정보\n",
      "박물관소개\n",
      "통합예약\n",
      "관람 요금\n",
      "관람 시간\n",
      "주중·주말\n",
      "휴관일\n",
      "전시실정규해설\n",
      "관람 시 유의사항\n"
     ]
    }
   ],
   "source": [
    "for title in title_list:\n",
    "    print(title)\n",
    "print('*'*20)\n"
   ]
  },
  {
   "cell_type": "code",
   "execution_count": 134,
   "metadata": {},
   "outputs": [
    {
     "name": "stdout",
     "output_type": "stream",
     "text": [
      "관람시간\n",
      "주중·주말\n",
      "휴관일\n",
      "관람 · 예약\n",
      "전시\n",
      "교육\n",
      "소장품\n",
      "소식·행사\n",
      "학술정보\n",
      "박물관소개\n",
      "통합예약\n",
      "관람 요금\n",
      "관람 시간\n",
      "주중·주말\n",
      "휴관일\n",
      "전시실정규해설\n",
      "관람 시 유의사항\n"
     ]
    }
   ],
   "source": [
    "for title in title_list:\n",
    "    print(title.text.strip())"
   ]
  },
  {
   "cell_type": "code",
   "execution_count": 136,
   "metadata": {},
   "outputs": [
    {
     "name": "stdout",
     "output_type": "stream",
     "text": [
      "<a href=\"#\" title=\"관람안내 페이지 이동\">관람안내</a>\n",
      "\n",
      "[<a href=\"#\" title=\"관람안내 페이지 이동\">관람안내</a>, <a href=\"#\" title=\"관람안내 페이지 이동\">관람안내</a>, <a class=\"facebook\" href=\"#\" onclick=\"shareFacebook()\" target=\"_blank\" title=\"페이스북 새창열림\">페이스북 새창열림</a>, <a class=\"twitter\" href=\"#\" onclick=\"shareTwitter()\" target=\"_blank\" title=\"트위터 새창열림\">트위터 새창열림</a>, <a class=\"blog\" href=\"#\" onclick=\"shareNaverBlog()\" target=\"_blank\" title=\"블로그 새창열림\">블로그 새창열림</a>]\n"
     ]
    }
   ],
   "source": [
    "print(soup.find(attrs={'href':'#'}))\n",
    "print()\n",
    "print(soup.find_all(attrs={'href':'#'}))"
   ]
  },
  {
   "cell_type": "code",
   "execution_count": 137,
   "metadata": {},
   "outputs": [
    {
     "name": "stdout",
     "output_type": "stream",
     "text": [
      "관람안내, 관람안내 페이지 이동\n",
      "관람안내, 관람안내 페이지 이동\n",
      "페이스북 새창열림, 페이스북 새창열림\n",
      "트위터 새창열림, 트위터 새창열림\n",
      "블로그 새창열림, 블로그 새창열림\n"
     ]
    }
   ],
   "source": [
    "a_list = soup.find_all(attrs={'href':'#'})\n",
    "for a in a_list:\n",
    "    print(f'{a.text}, {a[\"title\"]}')"
   ]
  },
  {
   "cell_type": "code",
   "execution_count": 139,
   "metadata": {},
   "outputs": [
    {
     "name": "stdout",
     "output_type": "stream",
     "text": [
      "6\n",
      "\n",
      "1 전시실에서 플래시, 삼각대와 셀카봉 등을 이용한 사진촬영과 상업적 용도를 위한 촬영은 금지되어 있습니다.\n",
      "\n",
      "2 유물 보호를 위해 일부 진열장의 조명을 어둡게 하였으므로 이해하여 주시기 바랍니다.\n",
      "\n",
      "3 어린이가 뛰어 놀거나 큰소리를 내지 않도록 보살펴 주시기 바랍니다.\n",
      "\n",
      "4 휴대폰은 진동 모드로 전환해 주시고 주변 관람객에게 혐오감이나 불편을 주는 행위를 해서는 안 됩니다.\n",
      "\n",
      "5 쾌적한 박물관 관람환경을 위해 음식물은 갖고 들어오실 수 없습니다.\n",
      "\n",
      "6 모두가 자랑스러운 문화유산을 보살피는 마음으로 관람질서에 협조하여 주시기 바랍니다.\n"
     ]
    }
   ],
   "source": [
    "# 관람시 유의사항 텍스트 부분만 추출하기 \n",
    "target = soup.find(class_='num-list')\n",
    "# print(target)\n",
    "# num-list 클래스 값을 가진 태그요소 안에서 \n",
    "# 다시 클래스 값이 text인 요소 찾기 \n",
    "span_list = target.find_all(class_='text')\n",
    "print(len(span_list))\n",
    "# 텍스트만 출력하기 \n",
    "count = 0\n",
    "for span in span_list:\n",
    "    print()\n",
    "    count += 1\n",
    "    print(count, span.text)  \n",
    "    "
   ]
  },
  {
   "cell_type": "markdown",
   "metadata": {},
   "source": [
    "<div class=\"btns\">\n",
    "\t\t<a href=\"https://www.e-minwon.go.kr/\" target=\"_blank\" title=\"새창열림\">민원신청</a>\n",
    "\t\t<a href=\"/gogung/bbs/BMSR00009/list.do?menuNo=800030\" title=\"페이지 이동\">자주하는 질문</a>\n",
    "\t\t<a href=\"/gogung/main/contents.do?menuNo=800150\" title=\"페이지 이동\" class=\"information\">개인정보취급방침</a>\n",
    "\t\t<a href=\"/gogung/main/contents.do?menuNo=800151\" title=\"페이지 이동\">저작권정책</a>\n",
    "\t\t<a href=\"/gogung/main/contents.do?menuNo=800152\" title=\"페이지 이동\">이메일무단수집거부</a>\n",
    "\t\t<a href=\"https://www.redwhistle.org/report/report.asp?organ=7721&amp;RType=1\" target=\"_blank\" title=\"새창열림\">성폭력 신고센터</a>\n",
    "\t\t<a href=\"https://www.lost112.go.kr/\" target=\"_blank\" title=\"새창열림\">경찰청 유실물 통합포털</a>\n",
    "\t</div>"
   ]
  },
  {
   "cell_type": "code",
   "execution_count": 161,
   "metadata": {},
   "outputs": [
    {
     "name": "stdout",
     "output_type": "stream",
     "text": [
      "15\n",
      "1 민원신청 https://www.e-minwon.go.kr/\n",
      "2 자주하는 질문 http://www.gogung.go.kr/gogung/bbs/BMSR00009/list.do?menuNo=800030\n",
      "3 개인정보취급방침 http://www.gogung.go.kr/gogung/main/contents.do?menuNo=800150\n",
      "4 저작권정책 http://www.gogung.go.kr/gogung/main/contents.do?menuNo=800151\n",
      "5 이메일무단수집거부 http://www.gogung.go.kr/gogung/main/contents.do?menuNo=800152\n",
      "6 성폭력 신고센터 https://www.redwhistle.org/report/report.asp?organ=7721&RType=1\n",
      "7 경찰청 유실물 통합포털 https://www.lost112.go.kr/\n",
      "<class 'str'>\n"
     ]
    }
   ],
   "source": [
    "target = soup.find(attrs={\"class\":\"btns\"})\n",
    "print(len(target))\n",
    "target_list = target.find_all('a')\n",
    "count = 0\n",
    "base_url = 'http://www.gogung.go.kr'\n",
    "for t in target_list:\n",
    "    count += 1\n",
    "    \n",
    "    if t['href'][0] == '/':\n",
    "        print(count, t.text, base_url + t['href'])\n",
    "    else:\n",
    "        print(count, t.text, t['href'])\n",
    "\n",
    "print(type(t['href']))"
   ]
  },
  {
   "cell_type": "code",
   "execution_count": 163,
   "metadata": {},
   "outputs": [
    {
     "name": "stdout",
     "output_type": "stream",
     "text": [
      "<form class=\"score-form\" id=\"menuScoreFrm\" name=\"menuScoreFrm\">\n",
      "<input name=\"menuNo\" type=\"hidden\" value=\"800011\"/>\n",
      "<input id=\"cmmnt\" name=\"cmmnt\" placeholder=\"현재 페이지에 대한 정보 만족도를 평가해 주세요!\" title=\"현재 페이지에 대한 정보 만족도를 평가해 주세요\" type=\"text\"/>\n",
      "<input id=\"score5\" name=\"score\" title=\"5점\" type=\"radio\" value=\"5\"/>\n",
      "<label for=\"score5\">\n",
      "<span>5점</span>\n",
      "<i></i>\n",
      "</label>\n",
      "<input id=\"score4\" name=\"score\" title=\"4점\" type=\"radio\" value=\"4\"/>\n",
      "<label for=\"score4\">\n",
      "<span>4점</span>\n",
      "<i></i>\n",
      "</label>\n",
      "<input id=\"score3\" name=\"score\" title=\"3점\" type=\"radio\" value=\"3\"/>\n",
      "<label for=\"score3\">\n",
      "<span>3점</span>\n",
      "<i></i>\n",
      "</label>\n",
      "<input id=\"score2\" name=\"score\" title=\"2점\" type=\"radio\" value=\"2\"/>\n",
      "<label for=\"score2\">\n",
      "<span>2점</span>\n",
      "<i></i>\n",
      "</label>\n",
      "<input id=\"score1\" name=\"score\" title=\"1점\" type=\"radio\" value=\"1\"/>\n",
      "<label for=\"score1\">\n",
      "<span>1점</span>\n",
      "<i></i>\n",
      "</label>\n",
      "<button onclick=\"javascript:submitMenuScore();return false;\" title=\"확인\" type=\"submit\">확인</button>\n",
      "</form>\n",
      "<label for=\"score5\">\n",
      "<span>5점</span>\n",
      "<i></i>\n",
      "</label>\n"
     ]
    }
   ],
   "source": [
    "print(soup.select_one('#menuScoreFrm'))\n"
   ]
  },
  {
   "cell_type": "code",
   "execution_count": 164,
   "metadata": {},
   "outputs": [
    {
     "name": "stdout",
     "output_type": "stream",
     "text": [
      "<label for=\"score5\">\n",
      "<span>5점</span>\n",
      "<i></i>\n",
      "</label>\n"
     ]
    }
   ],
   "source": [
    "print(soup.select_one('#menuScoreFrm label'))"
   ]
  },
  {
   "cell_type": "code",
   "execution_count": 165,
   "metadata": {},
   "outputs": [
    {
     "name": "stdout",
     "output_type": "stream",
     "text": [
      "[<label for=\"score5\">\n",
      "<span>5점</span>\n",
      "<i></i>\n",
      "</label>, <label for=\"score4\">\n",
      "<span>4점</span>\n",
      "<i></i>\n",
      "</label>, <label for=\"score3\">\n",
      "<span>3점</span>\n",
      "<i></i>\n",
      "</label>, <label for=\"score2\">\n",
      "<span>2점</span>\n",
      "<i></i>\n",
      "</label>, <label for=\"score1\">\n",
      "<span>1점</span>\n",
      "<i></i>\n",
      "</label>]\n"
     ]
    }
   ],
   "source": [
    "print(soup.select('#menuScoreFrm label'))"
   ]
  },
  {
   "cell_type": "code",
   "execution_count": 166,
   "metadata": {},
   "outputs": [
    {
     "name": "stdout",
     "output_type": "stream",
     "text": [
      "5점\n",
      "4점\n",
      "3점\n",
      "2점\n",
      "1점\n"
     ]
    }
   ],
   "source": [
    "label_list = soup.select('#menuScoreFrm label')\n",
    "for label in label_list:\n",
    "    print(label.text.strip())"
   ]
  },
  {
   "cell_type": "code",
   "execution_count": 167,
   "metadata": {},
   "outputs": [
    {
     "name": "stdout",
     "output_type": "stream",
     "text": [
      "<li>\n",
      "<span class=\"num\">1</span>\n",
      "<span class=\"text\">전시실에서 플래시, 삼각대와 셀카봉 등을 이용한 사진촬영과 상업적 용도를 위한 촬영은 금지되어 있습니다.</span>\n",
      "</li>\n"
     ]
    }
   ],
   "source": [
    "print(soup.select_one('.num-list li'))"
   ]
  },
  {
   "cell_type": "code",
   "execution_count": 174,
   "metadata": {},
   "outputs": [
    {
     "name": "stdout",
     "output_type": "stream",
     "text": [
      "8\n",
      "관람안내 http://www.gogung.go.kr/gogung/main/contents.do?menuNo=800011\n",
      "전시 http://www.gogung.go.kr/gogung/main/contents.do?menuNo=800041\n",
      "교육 http://www.gogung.go.kr/gogung/main/contents.do?menuNo=800052\n",
      "소장품 http://www.gogung.go.kr/gogung/pgm/psgudMng/list.do?menuNo=800065\n",
      "소식·행사 http://www.gogung.go.kr/gogung/bbs/BMSR00022/list.do?gubunCd=B22_001&menuNo=800088\n",
      "학술정보 http://www.gogung.go.kr/gogung/bbs/BMSR00053/list.do?gubunCd=B53_001&menuNo=800107\n",
      "박물관 소개 http://www.gogung.go.kr/gogung/main/contents.do?menuNo=800074\n",
      "통합예약 http://www.gogung.go.kr/gogung/pgm/groupReserve/reserveApply.do?menuNo=800160\n"
     ]
    }
   ],
   "source": [
    "a_list = soup.select('.menu > li > a')\n",
    "print(len(a_list))\n",
    "for a in a_list:\n",
    "    print(a.text , base_url + a['href'])"
   ]
  },
  {
   "cell_type": "code",
   "execution_count": 188,
   "metadata": {},
   "outputs": [
    {
     "name": "stdout",
     "output_type": "stream",
     "text": [
      "1 전시실에서 플래시, 삼각대와 셀카봉 등을 이용한 사진촬영과 상업적 용도를 위한 촬영은 금지되어 있습니다.\n",
      "2 유물 보호를 위해 일부 진열장의 조명을 어둡게 하였으므로 이해하여 주시기 바랍니다.\n",
      "3 어린이가 뛰어 놀거나 큰소리를 내지 않도록 보살펴 주시기 바랍니다.\n",
      "4 휴대폰은 진동 모드로 전환해 주시고 주변 관람객에게 혐오감이나 불편을 주는 행위를 해서는 안 됩니다.\n",
      "5 쾌적한 박물관 관람환경을 위해 음식물은 갖고 들어오실 수 없습니다.\n",
      "6 모두가 자랑스러운 문화유산을 보살피는 마음으로 관람질서에 협조하여 주시기 바랍니다.\n"
     ]
    }
   ],
   "source": [
    "\n",
    "#for li in soup.select('.num-list li .text'):\n",
    "#    print(li.text.strip())\n",
    "num_list = soup.select('.num-list li .num')  \n",
    "text_list = soup.select('.num-list li .text')\n",
    "\n",
    "for i in range(len(num_list)):\n",
    "    print(num_list[i].text + \" \" + text_list[i].text )"
   ]
  },
  {
   "cell_type": "code",
   "execution_count": null,
   "metadata": {},
   "outputs": [],
   "source": []
  }
 ],
 "metadata": {
  "kernelspec": {
   "display_name": "base",
   "language": "python",
   "name": "python3"
  },
  "language_info": {
   "codemirror_mode": {
    "name": "ipython",
    "version": 3
   },
   "file_extension": ".py",
   "mimetype": "text/x-python",
   "name": "python",
   "nbconvert_exporter": "python",
   "pygments_lexer": "ipython3",
   "version": "3.9.13"
  },
  "orig_nbformat": 4,
  "vscode": {
   "interpreter": {
    "hash": "ad2bdc8ecc057115af97d19610ffacc2b4e99fae6737bb82f5d7fb13d2f2c186"
   }
  }
 },
 "nbformat": 4,
 "nbformat_minor": 2
}
