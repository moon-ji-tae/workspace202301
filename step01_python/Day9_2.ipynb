{
 "cells": [
  {
   "attachments": {},
   "cell_type": "markdown",
   "metadata": {},
   "source": [
    "# 네이버 댓글 데이타 수집하기 \n",
    "\n",
    "- 1 페이지 \n",
    "- n 개 페이지 \n",
    "- 전체 페이지 "
   ]
  },
  {
   "cell_type": "code",
   "execution_count": 18,
   "metadata": {},
   "outputs": [],
   "source": [
    "# 관련모듈 임포트 \n",
    "import requests\n",
    "from bs4 import BeautifulSoup\n",
    "import pandas as pd\n",
    "from tabulate import tabulate"
   ]
  },
  {
   "cell_type": "markdown",
   "metadata": {},
   "source": [
    "#https://movie.naver.com/movie/point/af/list.naver?st=mcode&sword=167697&target=after&page=1\n",
    "#https://movie.naver.com/movie/point/af/list.naver?&page=1\n",
    "12345\n",
    "abcde"
   ]
  },
  {
   "cell_type": "code",
   "execution_count": 13,
   "metadata": {},
   "outputs": [
    {
     "name": "stdout",
     "output_type": "stream",
     "text": [
      "<class 'bs4.BeautifulSoup'>\n"
     ]
    }
   ],
   "source": [
    "# 1) 웹페이지 주소 요청 => 문자열 데이타 => 숩객체 \n",
    "\n",
    "url = 'https://movie.naver.com/movie/point/af/list.naver?&page=1'\n",
    "res = requests.get(url)\n",
    "\n",
    "html_str = res.text\n",
    "\n",
    "soup = BeautifulSoup(html_str, 'html.parser')\n",
    "print(type(soup))"
   ]
  },
  {
   "cell_type": "markdown",
   "metadata": {},
   "source": [
    "<tr>\n",
    "   <td class=\"ac num\">18699331</td>\n",
    "   <td class=\"title\">\n",
    "      <a href=\"/movie/bi/mi/basic.naver?code=167697\" class=\"movie color_b\">신과함께-인과 연</a>\n",
    "         <div class=\"list_netizen_score\">\n",
    "            <span class=\"st_off\"><span class=\"st_on\" style=\"width:100%\">별점 - 총 10점 중</span></span><em>10</em>\n",
    "         </div>\n",
    "         <br>지루하지않고 재밌었다인물간 얽혀있는 이야기를 보여주는 방식이 좋았음 \n",
    "         <a href=\"#\" onclick=\"report('oliv****', 'b302SgPzvFGwOd7jHwYDNYh2oahD4BHjDPjmxmV4xzk=', '지루하지않고 재밌었다인물간 얽혀있는 이야기를 보여주는 방식이 좋았음', '18699331', 'point_after');\" class=\"report\" style=\"color:#8F8F8F\" title=\"새 창\">신고</a>\n",
    "   </td>\n",
    "   <td class=\"num\"><a href=\"javascript:find_list('nickname','18699331');\" class=\"author\">oliv****</a><br>23.01.23</td>\n",
    "</tr>"
   ]
  },
  {
   "cell_type": "code",
   "execution_count": 14,
   "metadata": {},
   "outputs": [
    {
     "name": "stdout",
     "output_type": "stream",
     "text": [
      "10\n",
      "<tr>\n",
      "<td class=\"ac num\">18736722</td>\n",
      "<td class=\"title\">\n",
      "<a class=\"movie color_b\" href=\"?st=mcode&amp;sword=187311&amp;target=after\">바빌론</a>\n",
      "<div class=\"list_netizen_score\">\n",
      "<span class=\"st_off\"><span class=\"st_on\" style=\"width:80%\">별점 - 총 10점 중</span></span><em>8</em>\n",
      "</div>\n",
      "<br/>연출 잘했다 생각하지만 호불호는 갈릴듯 \n",
      "\t\t\t\n",
      "\t\t\t\n",
      "\t\t\t\n",
      "\t\t\t\t\n",
      "\t\t\t\t\n",
      "\t\t\t\t\n",
      "\t\t\t\t<a class=\"report\" href=\"#\" onclick=\"report('esun****', 'Ih4ep0PgSNdO8o0GBJwDQEZmiQ3cdbUwKheztsOxSx8=', '연출 잘했다 생각하지만 호불호는 갈릴듯', '18736722', 'point_after');\" style=\"color:#8F8F8F\" title=\"새 창\">신고</a>\n",
      "</td>\n",
      "<td class=\"num\"><a class=\"author\" href=\"javascript:find_list('nickname','18736722');\">esun****</a><br/>23.02.09</td>\n",
      "</tr>\n"
     ]
    }
   ],
   "source": [
    "# 2) 파싱 \n",
    "# 영화제목, 평점, 댓글, 작성자, 날짜 \n",
    "target_list = soup.select('tbody > tr')\n",
    "print(len(target_list))\n",
    "print(target_list[0])"
   ]
  },
  {
   "cell_type": "code",
   "execution_count": 15,
   "metadata": {},
   "outputs": [
    {
     "name": "stdout",
     "output_type": "stream",
     "text": [
      "제목 : 바빌론\n",
      "평점 : 8\n",
      "댓글 : 연출 잘했다 생각하지만 호불호는 갈릴듯\n",
      "작성자 : esun****\n",
      "날짜 : 23.02.09\n"
     ]
    }
   ],
   "source": [
    "# 데이타 추출 \n",
    "# 영화제목, 평점, 댓글, 작성자, 날짜 \n",
    "print('제목 :', target_list[0].select_one('a').text)\n",
    "print('평점 :', target_list[0].em.text)\n",
    "# br 태그의 다음 요소로 접근\n",
    "print('댓글 :', target_list[0].select_one('br').next_sibling.strip())\n",
    "print('작성자 :', target_list[0].select_one('.author').text)\n",
    "# td 태그 3번째 에서 br 태그 다음요소 접근\n",
    "print('날짜 :', target_list[0].select('td')[2].select_one('br').next_sibling)"
   ]
  },
  {
   "cell_type": "code",
   "execution_count": 16,
   "metadata": {},
   "outputs": [],
   "source": [
    "# 3) 테이블 구조 데이타 ( 2차원 리스트 )\n",
    "result_list = []\n",
    "for tag in target_list:\n",
    "    title = tag.select_one('a').text\n",
    "    score = tag.em.text\n",
    "    contents = tag.select_one('br').next_sibling.strip()\n",
    "    writer = tag.select_one('.author').text\n",
    "    date = tag.select('td')[2].select_one('br').next_sibling\n",
    "    result_list.append([title, score, writer, date, contents])"
   ]
  },
  {
   "cell_type": "code",
   "execution_count": 17,
   "metadata": {},
   "outputs": [
    {
     "data": {
      "text/html": [
       "<div>\n",
       "<style scoped>\n",
       "    .dataframe tbody tr th:only-of-type {\n",
       "        vertical-align: middle;\n",
       "    }\n",
       "\n",
       "    .dataframe tbody tr th {\n",
       "        vertical-align: top;\n",
       "    }\n",
       "\n",
       "    .dataframe thead th {\n",
       "        text-align: right;\n",
       "    }\n",
       "</style>\n",
       "<table border=\"1\" class=\"dataframe\">\n",
       "  <thead>\n",
       "    <tr style=\"text-align: right;\">\n",
       "      <th></th>\n",
       "      <th>영화 제목</th>\n",
       "      <th>평점</th>\n",
       "      <th>작성자</th>\n",
       "      <th>날짜</th>\n",
       "      <th>댓글</th>\n",
       "    </tr>\n",
       "  </thead>\n",
       "  <tbody>\n",
       "    <tr>\n",
       "      <th>0</th>\n",
       "      <td>바빌론</td>\n",
       "      <td>8</td>\n",
       "      <td>esun****</td>\n",
       "      <td>23.02.09</td>\n",
       "      <td>연출 잘했다 생각하지만 호불호는 갈릴듯</td>\n",
       "    </tr>\n",
       "    <tr>\n",
       "      <th>1</th>\n",
       "      <td>발신제한</td>\n",
       "      <td>1</td>\n",
       "      <td>sike****</td>\n",
       "      <td>23.02.09</td>\n",
       "      <td>암 유발 영화 전부 다 답답하네</td>\n",
       "    </tr>\n",
       "    <tr>\n",
       "      <th>2</th>\n",
       "      <td>남산의 부장들</td>\n",
       "      <td>1</td>\n",
       "      <td>leej****</td>\n",
       "      <td>23.02.09</td>\n",
       "      <td>좌깜 제대로 키셨네 불편한 영화다</td>\n",
       "    </tr>\n",
       "    <tr>\n",
       "      <th>3</th>\n",
       "      <td>남산의 부장들</td>\n",
       "      <td>1</td>\n",
       "      <td>leej****</td>\n",
       "      <td>23.02.09</td>\n",
       "      <td>좌깜 제대로 키셨네 불편한 영화다</td>\n",
       "    </tr>\n",
       "    <tr>\n",
       "      <th>4</th>\n",
       "      <td>타이타닉</td>\n",
       "      <td>10</td>\n",
       "      <td>eogh****</td>\n",
       "      <td>23.02.09</td>\n",
       "      <td>이 영화는 어렸을때보다 조금 자라고나서 보니 더 감동적이예요ㅠㅠㅠ</td>\n",
       "    </tr>\n",
       "    <tr>\n",
       "      <th>5</th>\n",
       "      <td>더 퍼스트 슬램덩크</td>\n",
       "      <td>10</td>\n",
       "      <td>sum1****</td>\n",
       "      <td>23.02.09</td>\n",
       "      <td>대만아,,,,!!!</td>\n",
       "    </tr>\n",
       "    <tr>\n",
       "      <th>6</th>\n",
       "      <td>더 퍼스트 슬램덩크</td>\n",
       "      <td>10</td>\n",
       "      <td>sdds****</td>\n",
       "      <td>23.02.09</td>\n",
       "      <td>여태 본 영화중 1등이네요</td>\n",
       "    </tr>\n",
       "    <tr>\n",
       "      <th>7</th>\n",
       "      <td>헤어질 결심</td>\n",
       "      <td>8</td>\n",
       "      <td>redo****</td>\n",
       "      <td>23.02.09</td>\n",
       "      <td>재밌고 쉽게 흘러가는 시간 속에 맺은 끝맺음에서 봉착한 난해함.</td>\n",
       "    </tr>\n",
       "    <tr>\n",
       "      <th>8</th>\n",
       "      <td>교섭</td>\n",
       "      <td>3</td>\n",
       "      <td>dldm****</td>\n",
       "      <td>23.02.09</td>\n",
       "      <td>스토리도 재미 없었는데 현빈님 연기를 너무 못해서... 아쉬웠어요. 보는데 계속 공...</td>\n",
       "    </tr>\n",
       "    <tr>\n",
       "      <th>9</th>\n",
       "      <td>다음 소희</td>\n",
       "      <td>10</td>\n",
       "      <td>love****</td>\n",
       "      <td>23.02.09</td>\n",
       "      <td>픽션이 아님에 마음이 아팠던 영화, 세상에 꼭 존재해야 하는 류의 영화.</td>\n",
       "    </tr>\n",
       "  </tbody>\n",
       "</table>\n",
       "</div>"
      ],
      "text/plain": [
       "        영화 제목  평점       작성자        날짜  \\\n",
       "0         바빌론   8  esun****  23.02.09   \n",
       "1        발신제한   1  sike****  23.02.09   \n",
       "2     남산의 부장들   1  leej****  23.02.09   \n",
       "3     남산의 부장들   1  leej****  23.02.09   \n",
       "4        타이타닉  10  eogh****  23.02.09   \n",
       "5  더 퍼스트 슬램덩크  10  sum1****  23.02.09   \n",
       "6  더 퍼스트 슬램덩크  10  sdds****  23.02.09   \n",
       "7      헤어질 결심   8  redo****  23.02.09   \n",
       "8          교섭   3  dldm****  23.02.09   \n",
       "9       다음 소희  10  love****  23.02.09   \n",
       "\n",
       "                                                  댓글  \n",
       "0                              연출 잘했다 생각하지만 호불호는 갈릴듯  \n",
       "1                                  암 유발 영화 전부 다 답답하네  \n",
       "2                                 좌깜 제대로 키셨네 불편한 영화다  \n",
       "3                                 좌깜 제대로 키셨네 불편한 영화다  \n",
       "4               이 영화는 어렸을때보다 조금 자라고나서 보니 더 감동적이예요ㅠㅠㅠ  \n",
       "5                                         대만아,,,,!!!  \n",
       "6                                     여태 본 영화중 1등이네요  \n",
       "7                재밌고 쉽게 흘러가는 시간 속에 맺은 끝맺음에서 봉착한 난해함.  \n",
       "8  스토리도 재미 없었는데 현빈님 연기를 너무 못해서... 아쉬웠어요. 보는데 계속 공...  \n",
       "9           픽션이 아님에 마음이 아팠던 영화, 세상에 꼭 존재해야 하는 류의 영화.  "
      ]
     },
     "execution_count": 17,
     "metadata": {},
     "output_type": "execute_result"
    }
   ],
   "source": [
    "# 4) 판다스의 데이타프레임 구조로 변경하기 \n",
    "df = pd.DataFrame(result_list, \n",
    "                  columns=['영화 제목', '평점', '작성자','날짜', '댓글'])\n",
    "df"
   ]
  },
  {
   "cell_type": "code",
   "execution_count": 24,
   "metadata": {},
   "outputs": [
    {
     "name": "stdout",
     "output_type": "stream",
     "text": [
      "    0                     1  2         3         4\n",
      " 0  바빌론                8  esun****  23.02.09  연출 잘했다 생각하지만 호불호는 갈릴듯\n",
      " 1  발신제한              1  sike****  23.02.09  암 유발 영화 전부 다 답답하네\n",
      " 2  남산의 부장들         1  leej****  23.02.09  좌깜 제대로 키셨네 불편한 영화다\n",
      " 3  남산의 부장들         1  leej****  23.02.09  좌깜 제대로 키셨네 불편한 영화다\n",
      " 4  타이타닉             10  eogh****  23.02.09  이 영화는 어렸을때보다 조금 자라고나서 보니 더 감동적이예요ㅠㅠㅠ\n",
      " 5  더 퍼스트 슬램덩크   10  sum1****  23.02.09  대만아,,,,!!!\n",
      " 6  더 퍼스트 슬램덩크   10  sdds****  23.02.09  여태 본 영화중 1등이네요\n",
      " 7  헤어질 결심           8  redo****  23.02.09  재밌고 쉽게 흘러가는 시간 속에 맺은 끝맺음에서 봉착한 난해함.\n",
      " 8  교섭                  3  dldm****  23.02.09  스토리도 재미 없었는데 현빈님 연기를 너무 못해서... 아쉬웠어요. 보는데 계속 공조2 북한사람인줄 알았어요.\n",
      " 9  다음 소희            10  love****  23.02.09  픽션이 아님에 마음이 아팠던 영화, 세상에 꼭 존재해야 하는 류의 영화.\n"
     ]
    }
   ],
   "source": [
    "df_test = pd.DataFrame(result_list)\n",
    "print(tabulate(df_test, headers='keys', tablefmt='plain', showindex=True))"
   ]
  },
  {
   "cell_type": "code",
   "execution_count": 26,
   "metadata": {},
   "outputs": [
    {
     "data": {
      "text/html": [
       "<div>\n",
       "<style scoped>\n",
       "    .dataframe tbody tr th:only-of-type {\n",
       "        vertical-align: middle;\n",
       "    }\n",
       "\n",
       "    .dataframe tbody tr th {\n",
       "        vertical-align: top;\n",
       "    }\n",
       "\n",
       "    .dataframe thead th {\n",
       "        text-align: right;\n",
       "    }\n",
       "</style>\n",
       "<table border=\"1\" class=\"dataframe\">\n",
       "  <thead>\n",
       "    <tr style=\"text-align: right;\">\n",
       "      <th></th>\n",
       "      <th>영화 제목</th>\n",
       "      <th>평점</th>\n",
       "      <th>작성자</th>\n",
       "      <th>날짜</th>\n",
       "      <th>댓글</th>\n",
       "    </tr>\n",
       "  </thead>\n",
       "  <tbody>\n",
       "    <tr>\n",
       "      <th>0</th>\n",
       "      <td>신과함께-인과 연</td>\n",
       "      <td>10</td>\n",
       "      <td>oliv****</td>\n",
       "      <td>23.01.23</td>\n",
       "      <td>지루하지않고 재밌었다인물간 얽혀있는 이야기를 보여주는 방식이 좋았음</td>\n",
       "    </tr>\n",
       "    <tr>\n",
       "      <th>1</th>\n",
       "      <td>신과함께-인과 연</td>\n",
       "      <td>2</td>\n",
       "      <td>ckdg****</td>\n",
       "      <td>23.01.10</td>\n",
       "      <td>뇌절에 뇌절…뇌빼고만드신줄</td>\n",
       "    </tr>\n",
       "    <tr>\n",
       "      <th>2</th>\n",
       "      <td>신과함께-인과 연</td>\n",
       "      <td>7</td>\n",
       "      <td>greg****</td>\n",
       "      <td>23.01.08</td>\n",
       "      <td>음. 좋다 마른 영화 좀 별로...</td>\n",
       "    </tr>\n",
       "    <tr>\n",
       "      <th>3</th>\n",
       "      <td>신과함께-인과 연</td>\n",
       "      <td>10</td>\n",
       "      <td>kkin****</td>\n",
       "      <td>23.01.02</td>\n",
       "      <td>대박...이란말밖에</td>\n",
       "    </tr>\n",
       "    <tr>\n",
       "      <th>4</th>\n",
       "      <td>신과함께-인과 연</td>\n",
       "      <td>3</td>\n",
       "      <td>elec****</td>\n",
       "      <td>23.01.01</td>\n",
       "      <td>아무리 봐도 내 스타일의 영화는 아니다.</td>\n",
       "    </tr>\n",
       "    <tr>\n",
       "      <th>...</th>\n",
       "      <td>...</td>\n",
       "      <td>...</td>\n",
       "      <td>...</td>\n",
       "      <td>...</td>\n",
       "      <td>...</td>\n",
       "    </tr>\n",
       "    <tr>\n",
       "      <th>95</th>\n",
       "      <td>신과함께-인과 연</td>\n",
       "      <td>8</td>\n",
       "      <td>mks1****</td>\n",
       "      <td>21.11.06</td>\n",
       "      <td>재미있게 잘 봤어용.</td>\n",
       "    </tr>\n",
       "    <tr>\n",
       "      <th>96</th>\n",
       "      <td>신과함께-인과 연</td>\n",
       "      <td>10</td>\n",
       "      <td>buen****</td>\n",
       "      <td>21.11.03</td>\n",
       "      <td>1편에 비해 감동씬은 많지 않았지만 그냥 너무 잘 만든 느낌. 1편 보고 2편까지 ...</td>\n",
       "    </tr>\n",
       "    <tr>\n",
       "      <th>97</th>\n",
       "      <td>신과함께-인과 연</td>\n",
       "      <td>9</td>\n",
       "      <td>yujs****</td>\n",
       "      <td>21.10.25</td>\n",
       "      <td>18.08.04.뭔가 감당 못할 스케일이라 난잡해질 듯 하였으나, 충분히 매력적이다...</td>\n",
       "    </tr>\n",
       "    <tr>\n",
       "      <th>98</th>\n",
       "      <td>신과함께-인과 연</td>\n",
       "      <td>1</td>\n",
       "      <td>imrk****</td>\n",
       "      <td>21.10.15</td>\n",
       "      <td></td>\n",
       "    </tr>\n",
       "    <tr>\n",
       "      <th>99</th>\n",
       "      <td>신과함께-인과 연</td>\n",
       "      <td>2</td>\n",
       "      <td>yust****</td>\n",
       "      <td>21.10.10</td>\n",
       "      <td>제가 본 한국영화중 최악이네요. 이건 뭐 SF여, 액션이여. 이저저도 아닌 중간에 ...</td>\n",
       "    </tr>\n",
       "  </tbody>\n",
       "</table>\n",
       "<p>100 rows × 5 columns</p>\n",
       "</div>"
      ],
      "text/plain": [
       "        영화 제목  평점       작성자        날짜  \\\n",
       "0   신과함께-인과 연  10  oliv****  23.01.23   \n",
       "1   신과함께-인과 연   2  ckdg****  23.01.10   \n",
       "2   신과함께-인과 연   7  greg****  23.01.08   \n",
       "3   신과함께-인과 연  10  kkin****  23.01.02   \n",
       "4   신과함께-인과 연   3  elec****  23.01.01   \n",
       "..        ...  ..       ...       ...   \n",
       "95  신과함께-인과 연   8  mks1****  21.11.06   \n",
       "96  신과함께-인과 연  10  buen****  21.11.03   \n",
       "97  신과함께-인과 연   9  yujs****  21.10.25   \n",
       "98  신과함께-인과 연   1  imrk****  21.10.15   \n",
       "99  신과함께-인과 연   2  yust****  21.10.10   \n",
       "\n",
       "                                                   댓글  \n",
       "0               지루하지않고 재밌었다인물간 얽혀있는 이야기를 보여주는 방식이 좋았음  \n",
       "1                                      뇌절에 뇌절…뇌빼고만드신줄  \n",
       "2                                 음. 좋다 마른 영화 좀 별로...  \n",
       "3                                          대박...이란말밖에  \n",
       "4                              아무리 봐도 내 스타일의 영화는 아니다.  \n",
       "..                                                ...  \n",
       "95                                        재미있게 잘 봤어용.  \n",
       "96  1편에 비해 감동씬은 많지 않았지만 그냥 너무 잘 만든 느낌. 1편 보고 2편까지 ...  \n",
       "97  18.08.04.뭔가 감당 못할 스케일이라 난잡해질 듯 하였으나, 충분히 매력적이다...  \n",
       "98                                                     \n",
       "99  제가 본 한국영화중 최악이네요. 이건 뭐 SF여, 액션이여. 이저저도 아닌 중간에 ...  \n",
       "\n",
       "[100 rows x 5 columns]"
      ]
     },
     "execution_count": 26,
     "metadata": {},
     "output_type": "execute_result"
    }
   ],
   "source": [
    "base_url = 'https://movie.naver.com/movie/point/af/list.naver?st=mcode&sword=167697&target=after&page='\n",
    "# n개의 페이지 주소 \n",
    "n = 10\n",
    "result_list = []\n",
    "for i in range(1, n+1):\n",
    "    movie_url = base_url+str(i)\n",
    "    res = requests.get(movie_url)\n",
    "    html_str = res.text\n",
    "    soup = BeautifulSoup(html_str, 'html.parser')\n",
    "    target_list = soup.select('tbody > tr')    \n",
    "    for tag in target_list:\n",
    "        title = tag.select_one('a').text\n",
    "        score = tag.em.text\n",
    "        contents = tag.select_one('br').next_sibling.strip()\n",
    "        writer = tag.select_one('.author').text\n",
    "        date = tag.select('td')[2].select_one('br').next_sibling\n",
    "        result_list.append([title, score, writer, date, contents])\n",
    "df = pd.DataFrame(result_list, \n",
    "    columns=['영화 제목', '평점', '작성자','날짜', '댓글'])\n",
    "df    \n",
    "  "
   ]
  },
  {
   "cell_type": "code",
   "execution_count": 27,
   "metadata": {},
   "outputs": [],
   "source": [
    "df.to_csv('data/gadwith.csv', index=False, encoding='utf-16' )"
   ]
  },
  {
   "cell_type": "code",
   "execution_count": null,
   "metadata": {},
   "outputs": [],
   "source": [
    "- url : 키드 \n",
    "https://movie.naver.com/movie/point/af/list.naver?st=mcode&sword=13558&target=after&page=1"
   ]
  },
  {
   "cell_type": "code",
   "execution_count": 29,
   "metadata": {},
   "outputs": [
    {
     "name": "stdout",
     "output_type": "stream",
     "text": [
      "None\n"
     ]
    }
   ],
   "source": [
    "a = None\n",
    "if a is None:\n",
    "    print('None')\n",
    "else:\n",
    "    print('not none')"
   ]
  },
  {
   "cell_type": "code",
   "execution_count": 45,
   "metadata": {},
   "outputs": [
    {
     "name": "stdout",
     "output_type": "stream",
     "text": [
      "\n",
      "146\n",
      "15\n",
      "1\n",
      "2\n",
      "3\n",
      "4\n",
      "5\n",
      "6\n",
      "7\n",
      "8\n",
      "9\n",
      "10\n",
      "11\n",
      "12\n",
      "13\n",
      "14\n",
      "15\n"
     ]
    }
   ],
   "source": [
    "url = 'https://movie.naver.com/movie/point/af/list.naver?st=mcode&sword=13558&target=after&page=1'\n",
    "res = requests.get(url)\n",
    "\n",
    "html_str = res.text\n",
    "\n",
    "soup = BeautifulSoup(html_str, 'html.parser')\n",
    "print()\n",
    "\n",
    "totla_page = int(soup.select_one('.c_88.fs_11').text)\n",
    "print(totla_page)\n",
    "page_num = totla_page // 10\n",
    "if totla_page % 10 != 0:\n",
    "    page_num +=1 \n",
    "print(page_num)\n",
    "\n",
    "for i in range(1, page_num+1):\n",
    "    print(i)"
   ]
  },
  {
   "cell_type": "code",
   "execution_count": 32,
   "metadata": {},
   "outputs": [
    {
     "name": "stdout",
     "output_type": "stream",
     "text": [
      "https://movie.naver.com/movie/point/af/list.naver?st=mcode&sword=13558&target=after&page=1\n",
      "https://movie.naver.com/movie/point/af/list.naver?st=mcode&sword=13558&target=after&page=2\n",
      "https://movie.naver.com/movie/point/af/list.naver?st=mcode&sword=13558&target=after&page=3\n",
      "https://movie.naver.com/movie/point/af/list.naver?st=mcode&sword=13558&target=after&page=4\n",
      "https://movie.naver.com/movie/point/af/list.naver?st=mcode&sword=13558&target=after&page=5\n",
      "https://movie.naver.com/movie/point/af/list.naver?st=mcode&sword=13558&target=after&page=6\n",
      "https://movie.naver.com/movie/point/af/list.naver?st=mcode&sword=13558&target=after&page=7\n",
      "https://movie.naver.com/movie/point/af/list.naver?st=mcode&sword=13558&target=after&page=8\n",
      "https://movie.naver.com/movie/point/af/list.naver?st=mcode&sword=13558&target=after&page=9\n",
      "https://movie.naver.com/movie/point/af/list.naver?st=mcode&sword=13558&target=after&page=10\n",
      "https://movie.naver.com/movie/point/af/list.naver?st=mcode&sword=13558&target=after&page=11\n",
      "https://movie.naver.com/movie/point/af/list.naver?st=mcode&sword=13558&target=after&page=12\n",
      "https://movie.naver.com/movie/point/af/list.naver?st=mcode&sword=13558&target=after&page=13\n",
      "https://movie.naver.com/movie/point/af/list.naver?st=mcode&sword=13558&target=after&page=14\n",
      "https://movie.naver.com/movie/point/af/list.naver?st=mcode&sword=13558&target=after&page=15\n"
     ]
    }
   ],
   "source": [
    "# 페이지 주소 확인 \n",
    "# 키드 = 13558\n",
    "base_url = 'https://movie.naver.com/movie/point/af/list.naver?st=mcode&sword=13558&target=after&page='\n",
    "page = 1\n",
    "\n",
    "\n",
    "while True:\n",
    "    # 1) 주소 생성 \n",
    "    movie_url = base_url+str(page)\n",
    "    print(movie_url)\n",
    "    \n",
    "    # 2) 페이지 요청 후 숩 객체 생성 \n",
    "    res = requests.get(movie_url)\n",
    "    html_str = res.text\n",
    "    soup = BeautifulSoup(html_str, 'html.parser')\n",
    "    \n",
    "    # 3) 다음 버튼 파싱 \n",
    "    next_btn = soup.select_one('.pg_next')  \n",
    "    \n",
    "    # 4) 마지막 페이지인지 검사\n",
    "    if next_btn is None  :\n",
    "        break\n",
    "    else:    \n",
    "    # 페이지 번호 증가     \n",
    "        page += 1"
   ]
  }
 ],
 "metadata": {
  "kernelspec": {
   "display_name": "base",
   "language": "python",
   "name": "python3"
  },
  "language_info": {
   "codemirror_mode": {
    "name": "ipython",
    "version": 3
   },
   "file_extension": ".py",
   "mimetype": "text/x-python",
   "name": "python",
   "nbconvert_exporter": "python",
   "pygments_lexer": "ipython3",
   "version": "3.9.13"
  },
  "orig_nbformat": 4,
  "vscode": {
   "interpreter": {
    "hash": "ad2bdc8ecc057115af97d19610ffacc2b4e99fae6737bb82f5d7fb13d2f2c186"
   }
  }
 },
 "nbformat": 4,
 "nbformat_minor": 2
}
